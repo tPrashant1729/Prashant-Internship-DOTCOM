{
 "cells": [
  {
   "cell_type": "code",
   "execution_count": 2,
   "id": "768b8e77",
   "metadata": {},
   "outputs": [
    {
     "data": {
      "text/plain": [
       "2"
      ]
     },
     "execution_count": 2,
     "metadata": {},
     "output_type": "execute_result"
    }
   ],
   "source": [
    "import numpy as np\n",
    "a =3\n",
    "b = 6\n",
    "# does the bitwise operation on binary represantation of the array or variable\n",
    "c = np.bitwise_and(a,b)\n",
    "c"
   ]
  },
  {
   "cell_type": "code",
   "execution_count": 4,
   "id": "4b40f28d",
   "metadata": {},
   "outputs": [
    {
     "data": {
      "text/plain": [
       "array([0, 0, 2], dtype=int32)"
      ]
     },
     "execution_count": 4,
     "metadata": {},
     "output_type": "execute_result"
    }
   ],
   "source": [
    "a = [1,2,3]\n",
    "b= [4,5,-6]\n",
    "c = np.bitwise_and(a,b)\n",
    "c\n",
    "# saame will be or , xor , invert(takes one arg) , right_sift(arg, bit_shift)"
   ]
  },
  {
   "cell_type": "code",
   "execution_count": 6,
   "id": "872d0f37",
   "metadata": {},
   "outputs": [
    {
     "data": {
      "text/plain": [
       "'11010'"
      ]
     },
     "execution_count": 6,
     "metadata": {},
     "output_type": "execute_result"
    }
   ],
   "source": [
    "c = np.binary_repr(b[2],width=5)\n",
    "c"
   ]
  },
  {
   "cell_type": "code",
   "execution_count": 8,
   "id": "98da0af6",
   "metadata": {},
   "outputs": [
    {
     "data": {
      "text/plain": [
       "'-110'"
      ]
     },
     "execution_count": 8,
     "metadata": {},
     "output_type": "execute_result"
    }
   ],
   "source": [
    "c = np.binary_repr(b[2])\n",
    "c"
   ]
  },
  {
   "cell_type": "code",
   "execution_count": 9,
   "id": "44cad687",
   "metadata": {},
   "outputs": [
    {
     "data": {
      "text/plain": [
       "'00101'"
      ]
     },
     "execution_count": 9,
     "metadata": {},
     "output_type": "execute_result"
    }
   ],
   "source": [
    "c = np.binary_repr(b[1],width=5)\n",
    "c"
   ]
  },
  {
   "cell_type": "code",
   "execution_count": 24,
   "id": "cd190211",
   "metadata": {},
   "outputs": [
    {
     "data": {
      "text/plain": [
       "'101'"
      ]
     },
     "execution_count": 24,
     "metadata": {},
     "output_type": "execute_result"
    }
   ],
   "source": [
    "c = np.binary_repr(b[1])\n",
    "c"
   ]
  },
  {
   "cell_type": "code",
   "execution_count": 29,
   "id": "fee7ab53",
   "metadata": {},
   "outputs": [
    {
     "data": {
      "text/plain": [
       "array([[240],\n",
       "       [240],\n",
       "       [240],\n",
       "       [240]], dtype=uint8)"
      ]
     },
     "execution_count": 29,
     "metadata": {},
     "output_type": "execute_result"
    }
   ],
   "source": [
    "d = np.array([[1,2,3,4],[5,6,7,6],[2,4,6,8],[3,5,7,9]],dtype=np.uint8)\n",
    "e=np.packbits(d,axis=-1)\n",
    "e"
   ]
  },
  {
   "cell_type": "code",
   "execution_count": 32,
   "id": "38f20612",
   "metadata": {},
   "outputs": [
    {
     "data": {
      "text/plain": [
       "array([[0, 0, 0, 0, 0, 0, 1, 0],\n",
       "       [0, 0, 0, 0, 0, 1, 0, 0],\n",
       "       [0, 0, 1, 1, 1, 0, 0, 0]], dtype=uint8)"
      ]
     },
     "execution_count": 32,
     "metadata": {},
     "output_type": "execute_result"
    }
   ],
   "source": [
    "f = np.array([[2],[4],[56]],dtype = np.uint8)\n",
    "e = np.unpackbits(f,axis=1)\n",
    "e"
   ]
  },
  {
   "cell_type": "markdown",
   "id": "90d7c532",
   "metadata": {},
   "source": [
    "String operation"
   ]
  },
  {
   "cell_type": "code",
   "execution_count": 33,
   "id": "f45a3771",
   "metadata": {},
   "outputs": [
    {
     "data": {
      "text/plain": [
       "array(['prashant', 'thakur'], dtype='<U8')"
      ]
     },
     "execution_count": 33,
     "metadata": {},
     "output_type": "execute_result"
    }
   ],
   "source": [
    "b = np.array([\"PRASHANT\",'THAKUR'])\n",
    "np.char.lower(b)"
   ]
  },
  {
   "cell_type": "code",
   "execution_count": 37,
   "id": "1925d356",
   "metadata": {},
   "outputs": [
    {
     "data": {
      "text/plain": [
       "array('thakur', dtype='<U6')"
      ]
     },
     "execution_count": 37,
     "metadata": {},
     "output_type": "execute_result"
    }
   ],
   "source": [
    "np.char.lower(\"THAKUR\")"
   ]
  },
  {
   "cell_type": "code",
   "execution_count": 40,
   "id": "fdba8bca",
   "metadata": {},
   "outputs": [
    {
     "name": "stdout",
     "output_type": "stream",
     "text": [
      "[ 0 -1  0]\n",
      "[-1  0 -1]\n"
     ]
    }
   ],
   "source": [
    "# Python program explaining\n",
    "# numpy.rfind() function\n",
    " \n",
    "import numpy as np\n",
    " \n",
    "a=np.array(['geeks', 'for', 'geeks'])\n",
    " \n",
    "# counting a substring\n",
    "print(np.char.rfind(a,'gee'))\n",
    " \n",
    "# counting a substring\n",
    "print(np.char.rfind(a, 'fo'))"
   ]
  },
  {
   "cell_type": "code",
   "execution_count": null,
   "id": "df329ec6",
   "metadata": {},
   "outputs": [],
   "source": []
  }
 ],
 "metadata": {
  "kernelspec": {
   "display_name": "Python 3 (ipykernel)",
   "language": "python",
   "name": "python3"
  },
  "language_info": {
   "codemirror_mode": {
    "name": "ipython",
    "version": 3
   },
   "file_extension": ".py",
   "mimetype": "text/x-python",
   "name": "python",
   "nbconvert_exporter": "python",
   "pygments_lexer": "ipython3",
   "version": "3.8.5"
  }
 },
 "nbformat": 4,
 "nbformat_minor": 5
}
