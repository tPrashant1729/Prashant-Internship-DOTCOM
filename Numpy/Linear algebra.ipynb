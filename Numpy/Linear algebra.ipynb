{
 "cells": [
  {
   "cell_type": "code",
   "execution_count": 4,
   "id": "95acfa5e",
   "metadata": {},
   "outputs": [
    {
     "name": "stdout",
     "output_type": "stream",
     "text": [
      "3\n"
     ]
    }
   ],
   "source": [
    "import numpy as np\n",
    "a = np.array([[4,6,8],[2,4,5],[4,4,5]])\n",
    "print(np.linalg.matrix_rank(a))"
   ]
  },
  {
   "cell_type": "code",
   "execution_count": 5,
   "id": "6ca0165d",
   "metadata": {},
   "outputs": [
    {
     "data": {
      "text/plain": [
       "13"
      ]
     },
     "execution_count": 5,
     "metadata": {},
     "output_type": "execute_result"
    }
   ],
   "source": [
    "np.trace(a)"
   ]
  },
  {
   "cell_type": "code",
   "execution_count": 8,
   "id": "5bd59ad3",
   "metadata": {},
   "outputs": [
    {
     "data": {
      "text/plain": [
       "-3.999999999999999"
      ]
     },
     "execution_count": 8,
     "metadata": {},
     "output_type": "execute_result"
    }
   ],
   "source": [
    "np.linalg.det(a)"
   ]
  },
  {
   "cell_type": "code",
   "execution_count": 9,
   "id": "10130c93",
   "metadata": {},
   "outputs": [
    {
     "data": {
      "text/plain": [
       "array([[ 0. , -0.5,  0.5],\n",
       "       [-2.5,  3. ,  1. ],\n",
       "       [ 2. , -2. , -1. ]])"
      ]
     },
     "execution_count": 9,
     "metadata": {},
     "output_type": "execute_result"
    }
   ],
   "source": [
    "np.linalg.inv(a)"
   ]
  },
  {
   "cell_type": "code",
   "execution_count": 10,
   "id": "6e7e7bd5",
   "metadata": {},
   "outputs": [
    {
     "name": "stdout",
     "output_type": "stream",
     "text": [
      "(array([-0.17890835,  2.        , 11.17890835]), array([[ 4.77481651e-01,  7.07106781e-01, -5.21546999e-01],\n",
      "       [ 4.77481651e-01, -7.07106781e-01, -5.21546999e-01],\n",
      "       [-7.37578840e-01, -2.22044605e-16, -6.75261027e-01]]))\n"
     ]
    }
   ],
   "source": [
    "print(np.linalg.eigh(a))"
   ]
  },
  {
   "cell_type": "code",
   "execution_count": 11,
   "id": "2512f3b5",
   "metadata": {},
   "outputs": [
    {
     "name": "stdout",
     "output_type": "stream",
     "text": [
      "(array([13.56789831, -0.89668127,  0.32878297]), array([[-0.72235928, -0.53000001,  0.22101101],\n",
      "       [-0.43282964, -0.49013243, -0.82619501],\n",
      "       [-0.53931028,  0.69200447,  0.51822383]]))\n"
     ]
    }
   ],
   "source": [
    "print(np.linalg.eig(a))"
   ]
  },
  {
   "cell_type": "code",
   "execution_count": 12,
   "id": "3a98eae8",
   "metadata": {},
   "outputs": [
    {
     "data": {
      "text/plain": [
       "(-7+22j)"
      ]
     },
     "execution_count": 12,
     "metadata": {},
     "output_type": "execute_result"
    }
   ],
   "source": [
    "va = 2 + 3j\n",
    "vb = 4 + 5j\n",
    "np.dot(va,vb)"
   ]
  },
  {
   "cell_type": "code",
   "execution_count": 13,
   "id": "09bb4971",
   "metadata": {},
   "outputs": [
    {
     "data": {
      "text/plain": [
       "(23-2j)"
      ]
     },
     "execution_count": 13,
     "metadata": {},
     "output_type": "execute_result"
    }
   ],
   "source": [
    "np.vdot(va,vb)"
   ]
  },
  {
   "cell_type": "code",
   "execution_count": null,
   "id": "8d70da0d",
   "metadata": {},
   "outputs": [],
   "source": []
  }
 ],
 "metadata": {
  "kernelspec": {
   "display_name": "Python 3 (ipykernel)",
   "language": "python",
   "name": "python3"
  },
  "language_info": {
   "codemirror_mode": {
    "name": "ipython",
    "version": 3
   },
   "file_extension": ".py",
   "mimetype": "text/x-python",
   "name": "python",
   "nbconvert_exporter": "python",
   "pygments_lexer": "ipython3",
   "version": "3.8.5"
  }
 },
 "nbformat": 4,
 "nbformat_minor": 5
}
