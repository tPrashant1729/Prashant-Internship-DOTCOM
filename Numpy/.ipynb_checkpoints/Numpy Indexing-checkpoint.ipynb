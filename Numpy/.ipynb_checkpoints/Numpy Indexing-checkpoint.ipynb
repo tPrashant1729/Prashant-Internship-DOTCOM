{
 "cells": [
  {
   "cell_type": "markdown",
   "id": "d52c6fc6",
   "metadata": {},
   "source": [
    "# Numpy Indexing"
   ]
  },
  {
   "cell_type": "code",
   "execution_count": 2,
   "id": "c35d43f2",
   "metadata": {},
   "outputs": [
    {
     "data": {
      "text/plain": [
       "array([ 0,  1,  2,  3,  4,  5,  6,  7,  8,  9, 10, 11, 12, 13, 14, 15, 16,\n",
       "       17, 18, 19, 20, 21, 22, 23, 24, 25, 26, 27, 28, 29])"
      ]
     },
     "execution_count": 2,
     "metadata": {},
     "output_type": "execute_result"
    }
   ],
   "source": [
    "import numpy as np\n",
    "a = np.arange(30)\n",
    "a"
   ]
  },
  {
   "cell_type": "code",
   "execution_count": 18,
   "id": "70f450fd",
   "metadata": {},
   "outputs": [
    {
     "data": {
      "text/plain": [
       "array([], dtype=int32)"
      ]
     },
     "execution_count": 18,
     "metadata": {},
     "output_type": "execute_result"
    }
   ],
   "source": [
    "b=a[-8:17:1]\n",
    "b"
   ]
  },
  {
   "cell_type": "code",
   "execution_count": 39,
   "id": "1134a46a",
   "metadata": {},
   "outputs": [
    {
     "data": {
      "text/plain": [
       "array([[ 1,  0],\n",
       "       [ 7,  6],\n",
       "       [13, 12],\n",
       "       [19, 18],\n",
       "       [25, 24],\n",
       "       [31, 30]])"
      ]
     },
     "execution_count": 39,
     "metadata": {},
     "output_type": "execute_result"
    }
   ],
   "source": [
    "a = np.array([[0, 1, 2, 3, 4, 5],\n",
    "              [6, 7, 8, 9, 10, 11],\n",
    "              [12, 13, 14, 15, 16, 17],\n",
    "              [18, 19, 20, 21, 22, 23],\n",
    "              [24, 25, 26, 27, 28, 29],\n",
    "              [30, 31, 32, 33, 34, 35]])\n",
    "a.ndim\n",
    "a[:,[1,0]]"
   ]
  },
  {
   "cell_type": "code",
   "execution_count": 47,
   "id": "216bc1b8",
   "metadata": {},
   "outputs": [
    {
     "data": {
      "text/plain": [
       "3"
      ]
     },
     "execution_count": 47,
     "metadata": {},
     "output_type": "execute_result"
    }
   ],
   "source": [
    "c = np.array([[[1,2,3,4],[5,6,7,8]],\n",
    "              [[2,4,5,7],[6,8,0,7]]])\n",
    "c.ndim"
   ]
  },
  {
   "cell_type": "code",
   "execution_count": 49,
   "id": "f4152162",
   "metadata": {},
   "outputs": [
    {
     "data": {
      "text/plain": [
       "array([0, 7])"
      ]
     },
     "execution_count": 49,
     "metadata": {},
     "output_type": "execute_result"
    }
   ],
   "source": [
    "c[1,1,2:]  # arr[no. of arr,no of row,no of col]"
   ]
  },
  {
   "cell_type": "code",
   "execution_count": 50,
   "id": "8b77343a",
   "metadata": {},
   "outputs": [
    {
     "data": {
      "text/plain": [
       "array([[2, 6],\n",
       "       [4, 8]])"
      ]
     },
     "execution_count": 50,
     "metadata": {},
     "output_type": "execute_result"
    }
   ],
   "source": [
    "c[...,1]  # Equivalent to b[: ,: ,1 ]\n",
    "# returns 2D array"
   ]
  },
  {
   "cell_type": "code",
   "execution_count": 57,
   "id": "9cc257d1",
   "metadata": {},
   "outputs": [
    {
     "data": {
      "text/plain": [
       "array([5])"
      ]
     },
     "execution_count": 57,
     "metadata": {},
     "output_type": "execute_result"
    }
   ],
   "source": [
    "c[[1],[0],[2]]  #advanced indexing / slicing not allowed"
   ]
  },
  {
   "cell_type": "code",
   "execution_count": 59,
   "id": "d5acdc00",
   "metadata": {},
   "outputs": [
    {
     "data": {
      "text/plain": [
       "array([[5, 0],\n",
       "       [7, 7]])"
      ]
     },
     "execution_count": 59,
     "metadata": {},
     "output_type": "execute_result"
    }
   ],
   "source": [
    "c[1,0:,[2,3]]  # advanced indexing in basic indexing"
   ]
  },
  {
   "cell_type": "markdown",
   "id": "234ed294",
   "metadata": {},
   "source": [
    "boolean array indexing"
   ]
  },
  {
   "cell_type": "code",
   "execution_count": 61,
   "id": "6f6f01af",
   "metadata": {},
   "outputs": [
    {
     "name": "stdout",
     "output_type": "stream",
     "text": [
      "[5 6 7 8 5 7 6 8 7]\n"
     ]
    }
   ],
   "source": [
    "print(c[c>4])\n"
   ]
  },
  {
   "cell_type": "code",
   "execution_count": 62,
   "id": "cd200c48",
   "metadata": {},
   "outputs": [
    {
     "name": "stdout",
     "output_type": "stream",
     "text": [
      "[2 4 6 8 2 4 6 8 0]\n"
     ]
    }
   ],
   "source": [
    "print(c[c%2==0])"
   ]
  },
  {
   "cell_type": "code",
   "execution_count": 66,
   "id": "1d1adde3",
   "metadata": {},
   "outputs": [
    {
     "name": "stdout",
     "output_type": "stream",
     "text": [
      "[[[False  True False  True]\n",
      "  [False  True False  True]]\n",
      "\n",
      " [[ True  True False False]\n",
      "  [ True  True  True False]]]\n"
     ]
    }
   ],
   "source": [
    "d = c%2==0\n",
    "print(d)"
   ]
  },
  {
   "cell_type": "code",
   "execution_count": 77,
   "id": "af1c34d7",
   "metadata": {},
   "outputs": [
    {
     "name": "stdout",
     "output_type": "stream",
     "text": [
      "[[[1 2 1 4]\n",
      "  [1 6 1 8]]\n",
      "\n",
      " [[2 4 1 1]\n",
      "  [6 8 0 1]]]\n"
     ]
    }
   ],
   "source": [
    "print(np.where(d,c,1))"
   ]
  },
  {
   "cell_type": "code",
   "execution_count": 83,
   "id": "4db43253",
   "metadata": {},
   "outputs": [
    {
     "data": {
      "text/plain": [
       "array([[[1, 2, 3, 4],\n",
       "        [5, 6, 7, 8]],\n",
       "\n",
       "       [[2, 4, 5, 7],\n",
       "        [6, 8, 0, 7]]])"
      ]
     },
     "execution_count": 83,
     "metadata": {},
     "output_type": "execute_result"
    }
   ],
   "source": [
    "c"
   ]
  },
  {
   "cell_type": "code",
   "execution_count": 82,
   "id": "3086c61a",
   "metadata": {},
   "outputs": [
    {
     "name": "stdout",
     "output_type": "stream",
     "text": [
      "[[False False]\n",
      " [ True False]]\n"
     ]
    }
   ],
   "source": [
    "sumrow = c.sum(-1)\n",
    "print(sumrow==18)"
   ]
  },
  {
   "cell_type": "code",
   "execution_count": null,
   "id": "49d66951",
   "metadata": {},
   "outputs": [],
   "source": []
  }
 ],
 "metadata": {
  "kernelspec": {
   "display_name": "Python 3 (ipykernel)",
   "language": "python",
   "name": "python3"
  },
  "language_info": {
   "codemirror_mode": {
    "name": "ipython",
    "version": 3
   },
   "file_extension": ".py",
   "mimetype": "text/x-python",
   "name": "python",
   "nbconvert_exporter": "python",
   "pygments_lexer": "ipython3",
   "version": "3.8.5"
  }
 },
 "nbformat": 4,
 "nbformat_minor": 5
}
