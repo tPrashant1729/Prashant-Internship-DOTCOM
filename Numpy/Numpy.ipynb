{
 "cells": [
  {
   "cell_type": "markdown",
   "id": "882ddca4",
   "metadata": {},
   "source": [
    "# Numpy"
   ]
  },
  {
   "cell_type": "code",
   "execution_count": 1,
   "id": "2350681a",
   "metadata": {},
   "outputs": [
    {
     "name": "stdout",
     "output_type": "stream",
     "text": [
      "[1 2 3]\n"
     ]
    }
   ],
   "source": [
    "import numpy as np\n",
    "# rank 1 array\n",
    "arr = np.array([1,2,3])\n",
    "print(arr)"
   ]
  },
  {
   "cell_type": "code",
   "execution_count": 2,
   "id": "302b5cd1",
   "metadata": {},
   "outputs": [
    {
     "name": "stdout",
     "output_type": "stream",
     "text": [
      "[[ 1.   2.   3.   4. ]\n",
      " [ 5.   6.   7.   8. ]\n",
      " [ 1.2  3.2  4.   0. ]\n",
      " [10.  11.  23.  56. ]\n",
      " [23.   4.5 23.  12. ]]\n"
     ]
    }
   ],
   "source": [
    "# it is 2D array\n",
    "arr1 = np.array([[1,2,3,4],\n",
    "                [5,6,7,8],\n",
    "                [1.2,3.2,4,0],\n",
    "                [10,11,23,56],\n",
    "                [23,4.5,23,12]])\n",
    "print(arr1)"
   ]
  },
  {
   "cell_type": "code",
   "execution_count": 3,
   "id": "1fa21b8a",
   "metadata": {},
   "outputs": [
    {
     "name": "stdout",
     "output_type": "stream",
     "text": [
      "[1 2 3]\n"
     ]
    }
   ],
   "source": [
    "#making array with tuple\n",
    "arr2 = np.array((1,2,3))\n",
    "print(arr2)"
   ]
  },
  {
   "cell_type": "code",
   "execution_count": 4,
   "id": "2c3c8812",
   "metadata": {},
   "outputs": [
    {
     "name": "stdout",
     "output_type": "stream",
     "text": [
      "[[ 1.   3. ]\n",
      " [ 1.2  4. ]\n",
      " [23.  23. ]]\n"
     ]
    }
   ],
   "source": [
    "# slicing of array : arr[row,col]\n",
    "sl_arr1 = arr1[::2,::2]\n",
    "print(sl_arr1)"
   ]
  },
  {
   "cell_type": "code",
   "execution_count": 5,
   "id": "06ff207f",
   "metadata": {},
   "outputs": [
    {
     "data": {
      "text/plain": [
       "array([0., 0.])"
      ]
     },
     "execution_count": 5,
     "metadata": {},
     "output_type": "execute_result"
    }
   ],
   "source": [
    "#it will create arr of zeros\n",
    "np.zeros(2)"
   ]
  },
  {
   "cell_type": "code",
   "execution_count": 6,
   "id": "c5bf25d8",
   "metadata": {},
   "outputs": [
    {
     "data": {
      "text/plain": [
       "array([1., 1., 1.])"
      ]
     },
     "execution_count": 6,
     "metadata": {},
     "output_type": "execute_result"
    }
   ],
   "source": [
    "#it will create arr of ones\n",
    "np.ones(3)"
   ]
  },
  {
   "cell_type": "code",
   "execution_count": 7,
   "id": "982d0eb2",
   "metadata": {},
   "outputs": [
    {
     "data": {
      "text/plain": [
       "array([ 1. ,  3. ,  1.2,  4. , 23. , 23. ])"
      ]
     },
     "execution_count": 7,
     "metadata": {},
     "output_type": "execute_result"
    }
   ],
   "source": [
    "#it will create an empty arr with random values\n",
    "np.empty(6)"
   ]
  },
  {
   "cell_type": "code",
   "execution_count": 8,
   "id": "94f398bb",
   "metadata": {},
   "outputs": [
    {
     "data": {
      "text/plain": [
       "array([0, 1, 2, 3, 4, 5, 6, 7, 8])"
      ]
     },
     "execution_count": 8,
     "metadata": {},
     "output_type": "execute_result"
    }
   ],
   "source": [
    "# it will create array within range\n",
    "np.arange(9)"
   ]
  },
  {
   "cell_type": "code",
   "execution_count": 9,
   "id": "a29798c2",
   "metadata": {},
   "outputs": [
    {
     "data": {
      "text/plain": [
       "array([4, 5, 6, 7, 8, 9])"
      ]
     },
     "execution_count": 9,
     "metadata": {},
     "output_type": "execute_result"
    }
   ],
   "source": [
    "# it will create array within range\n",
    "np.arange(4,10)"
   ]
  },
  {
   "cell_type": "code",
   "execution_count": 10,
   "id": "1395e451",
   "metadata": {},
   "outputs": [
    {
     "data": {
      "text/plain": [
       "array([4, 6, 8])"
      ]
     },
     "execution_count": 10,
     "metadata": {},
     "output_type": "execute_result"
    }
   ],
   "source": [
    "# it will create array within range with specified step\n",
    "np.arange(4,10,2)"
   ]
  },
  {
   "cell_type": "code",
   "execution_count": 11,
   "id": "b9ec794d",
   "metadata": {},
   "outputs": [
    {
     "data": {
      "text/plain": [
       "array([ 2.,  8., 14., 20.])"
      ]
     },
     "execution_count": 11,
     "metadata": {},
     "output_type": "execute_result"
    }
   ],
   "source": [
    "# it will create array within range with specified number of element\n",
    "np.linspace(2,20,num=4)"
   ]
  },
  {
   "cell_type": "code",
   "execution_count": 12,
   "id": "733b28be",
   "metadata": {},
   "outputs": [
    {
     "name": "stdout",
     "output_type": "stream",
     "text": [
      "[1 1 1]\n"
     ]
    },
    {
     "data": {
      "text/plain": [
       "array([1., 1., 1.])"
      ]
     },
     "execution_count": 12,
     "metadata": {},
     "output_type": "execute_result"
    }
   ],
   "source": [
    "x=np.ones(3,dtype = np.int64)\n",
    "print(x)\n",
    "y = np.ones(3)\n",
    "y  # by default dtype is float"
   ]
  },
  {
   "cell_type": "code",
   "execution_count": 13,
   "id": "b139e06a",
   "metadata": {},
   "outputs": [
    {
     "data": {
      "text/plain": [
       "array([ 0.00000000e+00,  6.42787610e-01,  9.84807753e-01,  8.66025404e-01,\n",
       "        3.42020143e-01, -3.42020143e-01, -8.66025404e-01, -9.84807753e-01,\n",
       "       -6.42787610e-01, -2.44929360e-16])"
      ]
     },
     "execution_count": 13,
     "metadata": {},
     "output_type": "execute_result"
    }
   ],
   "source": [
    "from numpy import pi\n",
    "x = np.linspace(0, 2 * pi, 10)        # useful to evaluate function at lots of points\n",
    "f = np.sin(x)\n",
    "f"
   ]
  },
  {
   "cell_type": "code",
   "execution_count": 14,
   "id": "9099960b",
   "metadata": {
    "scrolled": true
   },
   "outputs": [
    {
     "name": "stdout",
     "output_type": "stream",
     "text": [
      "[ 0  2  4  6  8 10]\n",
      "[ 1  3  5  7  9 11]\n"
     ]
    }
   ],
   "source": [
    "a= np.linspace(0,10,6,dtype = int)\n",
    "print(a)\n",
    "#adds number to every element\n",
    "print(a+1)"
   ]
  },
  {
   "cell_type": "code",
   "execution_count": 15,
   "id": "71057895",
   "metadata": {},
   "outputs": [
    {
     "name": "stdout",
     "output_type": "stream",
     "text": [
      "[[5 6]\n",
      " [7 8]]\n"
     ]
    },
    {
     "data": {
      "text/plain": [
       "array([[ True,  True],\n",
       "       [ True,  True]])"
      ]
     },
     "execution_count": 15,
     "metadata": {},
     "output_type": "execute_result"
    }
   ],
   "source": [
    "ar = np.array([[1,2],[3,4]])\n",
    "br = np.array([[5,6],[7,8]])\n",
    "s = ar+4\n",
    "print(s)\n",
    "s == br"
   ]
  },
  {
   "cell_type": "code",
   "execution_count": 16,
   "id": "0a7943d8",
   "metadata": {},
   "outputs": [
    {
     "data": {
      "text/plain": [
       "26"
      ]
     },
     "execution_count": 16,
     "metadata": {},
     "output_type": "execute_result"
    }
   ],
   "source": [
    "br.sum() #sum of every element"
   ]
  },
  {
   "cell_type": "code",
   "execution_count": 17,
   "id": "06d88863",
   "metadata": {},
   "outputs": [
    {
     "name": "stdout",
     "output_type": "stream",
     "text": [
      "[[ 6  8]\n",
      " [10 12]]\n"
     ]
    }
   ],
   "source": [
    "ar = np.array([[1,2],[3,4]],np.int64)\n",
    "br = np.array([[5,6],[7,8]])\n",
    "print(ar+br)"
   ]
  },
  {
   "cell_type": "code",
   "execution_count": 18,
   "id": "c96fa9d9",
   "metadata": {},
   "outputs": [
    {
     "name": "stdout",
     "output_type": "stream",
     "text": [
      "int64\n"
     ]
    }
   ],
   "source": [
    "print(ar.dtype)"
   ]
  },
  {
   "cell_type": "code",
   "execution_count": 19,
   "id": "0517909d",
   "metadata": {},
   "outputs": [
    {
     "name": "stdout",
     "output_type": "stream",
     "text": [
      "[[1 3]\n",
      " [2 4]]\n"
     ]
    }
   ],
   "source": [
    "print(ar.T) #transpose of array "
   ]
  },
  {
   "cell_type": "code",
   "execution_count": 20,
   "id": "14f94ee3",
   "metadata": {},
   "outputs": [
    {
     "name": "stdout",
     "output_type": "stream",
     "text": [
      "[[1 2]\n",
      " [3 4]]\n",
      "[[1.         1.41421356]\n",
      " [1.73205081 2.        ]]\n"
     ]
    }
   ],
   "source": [
    "print(ar)\n",
    "print(np.sqrt(ar))"
   ]
  },
  {
   "cell_type": "code",
   "execution_count": 21,
   "id": "479a5e86",
   "metadata": {},
   "outputs": [
    {
     "name": "stdout",
     "output_type": "stream",
     "text": [
      "7\n"
     ]
    },
    {
     "data": {
      "text/plain": [
       "array([[ 5,  6],\n",
       "       [10,  8]])"
      ]
     },
     "execution_count": 21,
     "metadata": {},
     "output_type": "execute_result"
    }
   ],
   "source": [
    "br = np.array([[5,6],[7,8]])\n",
    "print(br[1,0])  # accesssing value\n",
    "br[1,0] = 10 #changing the value\n",
    "br"
   ]
  },
  {
   "cell_type": "code",
   "execution_count": 22,
   "id": "ae8d0f8f",
   "metadata": {},
   "outputs": [
    {
     "name": "stdout",
     "output_type": "stream",
     "text": [
      "[[5 6]\n",
      " [7 8]]\n"
     ]
    }
   ],
   "source": [
    "empty_like = np.empty_like(br)\n",
    "print(empty_like)"
   ]
  },
  {
   "cell_type": "code",
   "execution_count": 23,
   "id": "181b8f54",
   "metadata": {},
   "outputs": [
    {
     "data": {
      "text/plain": [
       "array([ 1,  2,  3,  4,  5,  6,  7,  8,  9, 10, 11, 12, 13, 14, 15, 16, 17,\n",
       "       18, 19, 20, 21, 22, 23, 24, 25, 26, 27, 28, 29, 30])"
      ]
     },
     "execution_count": 23,
     "metadata": {},
     "output_type": "execute_result"
    }
   ],
   "source": [
    "cr=np.arange(1,31)\n",
    "cr"
   ]
  },
  {
   "cell_type": "code",
   "execution_count": 24,
   "id": "9c535fc5",
   "metadata": {},
   "outputs": [
    {
     "data": {
      "text/plain": [
       "(30,)"
      ]
     },
     "execution_count": 24,
     "metadata": {},
     "output_type": "execute_result"
    }
   ],
   "source": [
    "np.shape(cr)"
   ]
  },
  {
   "cell_type": "code",
   "execution_count": 25,
   "id": "ceb93563",
   "metadata": {},
   "outputs": [
    {
     "data": {
      "text/plain": [
       "array([[ 1,  2,  3,  4,  5,  6,  7,  8,  9, 10],\n",
       "       [11, 12, 13, 14, 15, 16, 17, 18, 19, 20],\n",
       "       [21, 22, 23, 24, 25, 26, 27, 28, 29, 30]])"
      ]
     },
     "execution_count": 25,
     "metadata": {},
     "output_type": "execute_result"
    }
   ],
   "source": [
    "cr=cr.reshape(3,10)\n",
    "cr"
   ]
  },
  {
   "cell_type": "code",
   "execution_count": 26,
   "id": "2e021404",
   "metadata": {},
   "outputs": [
    {
     "data": {
      "text/plain": [
       "(3, 10)"
      ]
     },
     "execution_count": 26,
     "metadata": {},
     "output_type": "execute_result"
    }
   ],
   "source": [
    "np.shape(cr) #Shape: The number of elements along with each axis. It is in form of tuple."
   ]
  },
  {
   "cell_type": "code",
   "execution_count": 27,
   "id": "1b4a8de6",
   "metadata": {},
   "outputs": [],
   "source": [
    "cr = cr.ravel()  #it converts arr in 1D form"
   ]
  },
  {
   "cell_type": "code",
   "execution_count": 28,
   "id": "179dc1bb",
   "metadata": {},
   "outputs": [
    {
     "data": {
      "text/plain": [
       "(30,)"
      ]
     },
     "execution_count": 28,
     "metadata": {},
     "output_type": "execute_result"
    }
   ],
   "source": [
    "cr.shape "
   ]
  },
  {
   "cell_type": "code",
   "execution_count": 29,
   "id": "d856f447",
   "metadata": {},
   "outputs": [
    {
     "data": {
      "text/plain": [
       "120"
      ]
     },
     "execution_count": 29,
     "metadata": {},
     "output_type": "execute_result"
    }
   ],
   "source": [
    "cr.nbytes #shows the total memory captured by an array"
   ]
  },
  {
   "cell_type": "code",
   "execution_count": 30,
   "id": "6bdfc84c",
   "metadata": {},
   "outputs": [
    {
     "name": "stdout",
     "output_type": "stream",
     "text": [
      "[1, 2, 3, 4, 5, 6, 7, 8, 9, 10, 11, 12, 13, 14, 15, 16, 17, 18, 19, 20, 21, 22, 23, 24, 25, 26, 27, 28, 29, 30]\n",
      "336\n"
     ]
    }
   ],
   "source": [
    "import sys\n",
    "cr1 = [i for i in range (1,31)]\n",
    "print(cr1)\n",
    "print(sys.getsizeof(cr1))"
   ]
  },
  {
   "cell_type": "code",
   "execution_count": 31,
   "id": "e71be923",
   "metadata": {},
   "outputs": [
    {
     "data": {
      "text/plain": [
       "array([[ 1,  2,  3,  4,  5,  6,  7,  8,  9, 10],\n",
       "       [11, 12, 13, 14, 15, 16, 17, 18, 19, 20],\n",
       "       [21, 22, 23, 24, 25, 26, 27, 28, 29, 30]])"
      ]
     },
     "execution_count": 31,
     "metadata": {},
     "output_type": "execute_result"
    }
   ],
   "source": [
    "cr=cr.reshape(3,10)\n",
    "cr"
   ]
  },
  {
   "cell_type": "code",
   "execution_count": 32,
   "id": "35fbb7c2",
   "metadata": {},
   "outputs": [
    {
     "data": {
      "text/plain": [
       "array([33, 36, 39, 42, 45, 48, 51, 54, 57, 60])"
      ]
     },
     "execution_count": 32,
     "metadata": {},
     "output_type": "execute_result"
    }
   ],
   "source": [
    "cr.sum(axis = 0)"
   ]
  },
  {
   "cell_type": "code",
   "execution_count": 33,
   "id": "4d2dcde5",
   "metadata": {},
   "outputs": [
    {
     "data": {
      "text/plain": [
       "array([ 55, 155, 255])"
      ]
     },
     "execution_count": 33,
     "metadata": {},
     "output_type": "execute_result"
    }
   ],
   "source": [
    "cr.sum(axis = 1)"
   ]
  },
  {
   "cell_type": "code",
   "execution_count": 34,
   "id": "507e2640",
   "metadata": {},
   "outputs": [
    {
     "data": {
      "text/plain": [
       "30"
      ]
     },
     "execution_count": 34,
     "metadata": {},
     "output_type": "execute_result"
    }
   ],
   "source": [
    "cr.size # total number of element"
   ]
  },
  {
   "cell_type": "code",
   "execution_count": 35,
   "id": "49399657",
   "metadata": {},
   "outputs": [
    {
     "data": {
      "text/plain": [
       "2"
      ]
     },
     "execution_count": 35,
     "metadata": {},
     "output_type": "execute_result"
    }
   ],
   "source": [
    "cr.ndim # number of dimention"
   ]
  },
  {
   "cell_type": "code",
   "execution_count": 36,
   "id": "23914612",
   "metadata": {},
   "outputs": [
    {
     "data": {
      "text/plain": [
       "29"
      ]
     },
     "execution_count": 36,
     "metadata": {},
     "output_type": "execute_result"
    }
   ],
   "source": [
    "cr.argmax() #index having max value"
   ]
  },
  {
   "cell_type": "code",
   "execution_count": 37,
   "id": "eb0c1213",
   "metadata": {},
   "outputs": [
    {
     "data": {
      "text/plain": [
       "30"
      ]
     },
     "execution_count": 37,
     "metadata": {},
     "output_type": "execute_result"
    }
   ],
   "source": [
    "cr.max() #max value in arr"
   ]
  },
  {
   "cell_type": "code",
   "execution_count": 38,
   "id": "fb981a86",
   "metadata": {},
   "outputs": [
    {
     "data": {
      "text/plain": [
       "array([21, 22, 23, 24, 25, 26, 27, 28, 29, 30])"
      ]
     },
     "execution_count": 38,
     "metadata": {},
     "output_type": "execute_result"
    }
   ],
   "source": [
    "cr[2]"
   ]
  },
  {
   "cell_type": "code",
   "execution_count": 39,
   "id": "c6d57469",
   "metadata": {},
   "outputs": [
    {
     "data": {
      "text/plain": [
       "26"
      ]
     },
     "execution_count": 39,
     "metadata": {},
     "output_type": "execute_result"
    }
   ],
   "source": [
    "cr[2,5]"
   ]
  },
  {
   "cell_type": "code",
   "execution_count": 40,
   "id": "4846845b",
   "metadata": {},
   "outputs": [
    {
     "data": {
      "text/plain": [
       "array([4, 9, 6])"
      ]
     },
     "execution_count": 40,
     "metadata": {},
     "output_type": "execute_result"
    }
   ],
   "source": [
    "newarr = cr[[0],[3,8,5]]\n",
    "newarr"
   ]
  },
  {
   "cell_type": "code",
   "execution_count": 41,
   "id": "3b212913",
   "metadata": {},
   "outputs": [
    {
     "data": {
      "text/plain": [
       "120"
      ]
     },
     "execution_count": 41,
     "metadata": {},
     "output_type": "execute_result"
    }
   ],
   "source": [
    "cr.nbytes"
   ]
  },
  {
   "cell_type": "code",
   "execution_count": 42,
   "id": "8f9048c5",
   "metadata": {},
   "outputs": [
    {
     "data": {
      "text/plain": [
       "0"
      ]
     },
     "execution_count": 42,
     "metadata": {},
     "output_type": "execute_result"
    }
   ],
   "source": [
    "cr.argmin() #indax having minimum value"
   ]
  },
  {
   "cell_type": "code",
   "execution_count": 43,
   "id": "7c551d38",
   "metadata": {},
   "outputs": [],
   "source": [
    "dr = np.array([[1,2,9],\n",
    "               [3,4,10],\n",
    "               [7,8,0]])"
   ]
  },
  {
   "cell_type": "code",
   "execution_count": 44,
   "id": "19a70f12",
   "metadata": {},
   "outputs": [
    {
     "data": {
      "text/plain": [
       "array([11, 14, 19])"
      ]
     },
     "execution_count": 44,
     "metadata": {},
     "output_type": "execute_result"
    }
   ],
   "source": [
    "dr.sum(axis=0)"
   ]
  },
  {
   "cell_type": "code",
   "execution_count": 45,
   "id": "014becc4",
   "metadata": {},
   "outputs": [
    {
     "data": {
      "text/plain": [
       "array([12, 17, 15])"
      ]
     },
     "execution_count": 45,
     "metadata": {},
     "output_type": "execute_result"
    }
   ],
   "source": [
    "dr.sum(axis=1)"
   ]
  },
  {
   "cell_type": "code",
   "execution_count": 46,
   "id": "90ad3a98",
   "metadata": {},
   "outputs": [
    {
     "data": {
      "text/plain": [
       "array([[0, 1, 2],\n",
       "       [0, 1, 2],\n",
       "       [2, 0, 1]], dtype=int64)"
      ]
     },
     "execution_count": 46,
     "metadata": {},
     "output_type": "execute_result"
    }
   ],
   "source": [
    "dr.argsort()"
   ]
  },
  {
   "cell_type": "code",
   "execution_count": 47,
   "id": "80ba1a3a",
   "metadata": {},
   "outputs": [
    {
     "data": {
      "text/plain": [
       "array([[0, 0, 2],\n",
       "       [1, 1, 0],\n",
       "       [2, 2, 1]], dtype=int64)"
      ]
     },
     "execution_count": 47,
     "metadata": {},
     "output_type": "execute_result"
    }
   ],
   "source": [
    "dr.argsort(axis=0)"
   ]
  },
  {
   "cell_type": "code",
   "execution_count": 48,
   "id": "bf874213",
   "metadata": {},
   "outputs": [
    {
     "data": {
      "text/plain": [
       "array([[0, 1, 2],\n",
       "       [0, 1, 2],\n",
       "       [2, 0, 1]], dtype=int64)"
      ]
     },
     "execution_count": 48,
     "metadata": {},
     "output_type": "execute_result"
    }
   ],
   "source": [
    "dr.argsort(axis=1)"
   ]
  },
  {
   "cell_type": "code",
   "execution_count": 49,
   "id": "e684e62f",
   "metadata": {},
   "outputs": [
    {
     "name": "stdout",
     "output_type": "stream",
     "text": [
      "[1 2 3 4]\n",
      "[5 6 7 8]\n"
     ]
    }
   ],
   "source": [
    "li = [1,2,3,4]\n",
    "tup = 5,6,7,8\n",
    "np_li = np.array(li)\n",
    "np_tup = np.array(tup)\n",
    "print(np_li)\n",
    "print(np_tup)"
   ]
  },
  {
   "cell_type": "code",
   "execution_count": 50,
   "id": "891c6513",
   "metadata": {},
   "outputs": [
    {
     "data": {
      "text/plain": [
       "2"
      ]
     },
     "execution_count": 50,
     "metadata": {},
     "output_type": "execute_result"
    }
   ],
   "source": [
    "er = np.array([[1,2,3,4]])\n",
    "er.ndim"
   ]
  },
  {
   "cell_type": "code",
   "execution_count": 51,
   "id": "deae7f4e",
   "metadata": {},
   "outputs": [
    {
     "data": {
      "text/plain": [
       "array([ 3,  6, 10])"
      ]
     },
     "execution_count": 51,
     "metadata": {},
     "output_type": "execute_result"
    }
   ],
   "source": [
    "np.linspace(3.5, 10, 3,dtype = np.int32)\n"
   ]
  },
  {
   "cell_type": "code",
   "execution_count": 52,
   "id": "2cfefe04",
   "metadata": {},
   "outputs": [
    {
     "name": "stdout",
     "output_type": "stream",
     "text": [
      "fromiter() array : [ 0.  1.  4.  9. 16. 25. 36. 49.]\n"
     ]
    }
   ],
   "source": [
    "# way to create arr by fromiter\n",
    "iterable = (a*a for a in range(8))\n",
    " \n",
    "arr = np.fromiter(iterable, float)\n",
    " \n",
    "print(\"fromiter() array :\",arr)"
   ]
  },
  {
   "cell_type": "code",
   "execution_count": 53,
   "id": "5e45cd52",
   "metadata": {},
   "outputs": [
    {
     "name": "stdout",
     "output_type": "stream",
     "text": [
      "fromiter() array : ['p' 'r' 'a' 's' 'h' 'a' 'n' 't' ' ' 't' 'h' 'a' 'k' 'u' 'r']\n"
     ]
    }
   ],
   "source": [
    "var = \"prashant thakur\"\n",
    " \n",
    "arr = np.fromiter(var, dtype = 'U2')\n",
    " \n",
    "print(\"fromiter() array :\",arr)"
   ]
  },
  {
   "cell_type": "code",
   "execution_count": 54,
   "id": "e7f7af53",
   "metadata": {},
   "outputs": [
    {
     "data": {
      "text/plain": [
       "array([[8.+0.j, 8.+0.j, 8.+0.j, 8.+0.j],\n",
       "       [8.+0.j, 8.+0.j, 8.+0.j, 8.+0.j],\n",
       "       [8.+0.j, 8.+0.j, 8.+0.j, 8.+0.j]])"
      ]
     },
     "execution_count": 54,
     "metadata": {},
     "output_type": "execute_result"
    }
   ],
   "source": [
    "#creating full arr with specific number\n",
    "np.full((3,4),8,dtype = 'complex')"
   ]
  },
  {
   "cell_type": "code",
   "execution_count": 55,
   "id": "99c778a5",
   "metadata": {},
   "outputs": [
    {
     "data": {
      "text/plain": [
       "array([[1, 2, 3, 4],\n",
       "       [1, 3, 5, 7]])"
      ]
     },
     "execution_count": 55,
     "metadata": {},
     "output_type": "execute_result"
    }
   ],
   "source": [
    "er = np.array([[1,2,3,4],\n",
    "               [5,6,7,8],\n",
    "               [9,0,1,2],\n",
    "               [1,3,5,7]])\n",
    "temp = er[[0,3]] # arr[[row],[col]] or a[i,j]\n",
    "temp"
   ]
  },
  {
   "cell_type": "code",
   "execution_count": 56,
   "id": "2c5ffd33",
   "metadata": {},
   "outputs": [
    {
     "data": {
      "text/plain": [
       "array([1, 6, 1, 7])"
      ]
     },
     "execution_count": 56,
     "metadata": {},
     "output_type": "execute_result"
    }
   ],
   "source": [
    "temp = er[[0,1,2,3],[0,1,2,3]]\n",
    "temp"
   ]
  },
  {
   "cell_type": "code",
   "execution_count": 57,
   "id": "8ae8587e",
   "metadata": {},
   "outputs": [
    {
     "data": {
      "text/plain": [
       "array([[ 1,  3,  6, 10],\n",
       "       [ 5, 11, 18, 26],\n",
       "       [ 9,  9, 10, 12],\n",
       "       [ 1,  4,  9, 16]], dtype=int32)"
      ]
     },
     "execution_count": 57,
     "metadata": {},
     "output_type": "execute_result"
    }
   ],
   "source": [
    "er.cumsum(axis=1)"
   ]
  },
  {
   "cell_type": "code",
   "execution_count": 58,
   "id": "747570ad",
   "metadata": {},
   "outputs": [
    {
     "data": {
      "text/plain": [
       "array([[ 1,  2,  3,  4],\n",
       "       [ 6,  8, 10, 12],\n",
       "       [15,  8, 11, 14],\n",
       "       [16, 11, 16, 21]], dtype=int32)"
      ]
     },
     "execution_count": 58,
     "metadata": {},
     "output_type": "execute_result"
    }
   ],
   "source": [
    "er.cumsum(axis=0) #cumulative sum"
   ]
  },
  {
   "cell_type": "code",
   "execution_count": 59,
   "id": "0a9f4c29",
   "metadata": {},
   "outputs": [
    {
     "name": "stdout",
     "output_type": "stream",
     "text": [
      "1\n",
      "2\n",
      "3\n",
      "4\n",
      "5\n",
      "6\n"
     ]
    }
   ],
   "source": [
    "fr = np.array([1,2,3,4,5,6])\n",
    "for i in fr:\n",
    "    print(i)"
   ]
  },
  {
   "cell_type": "code",
   "execution_count": 60,
   "id": "b1e0f979",
   "metadata": {},
   "outputs": [
    {
     "name": "stdout",
     "output_type": "stream",
     "text": [
      "[1, 2, 3, 4, 5, 6, 7, 8, 9, 0, 1, 2, 1, 3, 5, 7]"
     ]
    }
   ],
   "source": [
    "# array to list converter\n",
    "list=[]\n",
    "for i in np.nditer(er):\n",
    "    p = i.tolist()\n",
    "    list.append(p)\n",
    "    \n",
    "print(list,end=\"\")"
   ]
  },
  {
   "cell_type": "code",
   "execution_count": 61,
   "id": "71deff85",
   "metadata": {},
   "outputs": [],
   "source": [
    "# multiplication by element\n"
   ]
  },
  {
   "cell_type": "code",
   "execution_count": 62,
   "id": "fadfdf13",
   "metadata": {},
   "outputs": [
    {
     "data": {
      "text/plain": [
       "array([[ 5, 12],\n",
       "       [21, 32]])"
      ]
     },
     "execution_count": 62,
     "metadata": {},
     "output_type": "execute_result"
    }
   ],
   "source": [
    "ar = np.array([[1,2],[3,4]])\n",
    "br = np.array([[5,6],[7,8]])\n",
    "ar*br"
   ]
  },
  {
   "cell_type": "code",
   "execution_count": 63,
   "id": "72a404a4",
   "metadata": {},
   "outputs": [
    {
     "data": {
      "text/plain": [
       "array([[19, 22],\n",
       "       [43, 50]])"
      ]
     },
     "execution_count": 63,
     "metadata": {},
     "output_type": "execute_result"
    }
   ],
   "source": [
    "#matrix multiplication\n",
    "ar.dot(br)"
   ]
  },
  {
   "cell_type": "code",
   "execution_count": 64,
   "id": "72dc751c",
   "metadata": {},
   "outputs": [
    {
     "name": "stdout",
     "output_type": "stream",
     "text": [
      "[1, 2, 3, 4, 5, 6, 7, 8]\n"
     ]
    }
   ],
   "source": [
    "l1 = [1,2,3,4]\n",
    "l2 = [5,6,7,8]\n",
    "print(l1+l2)"
   ]
  },
  {
   "cell_type": "code",
   "execution_count": 65,
   "id": "7f01915c",
   "metadata": {},
   "outputs": [
    {
     "name": "stdout",
     "output_type": "stream",
     "text": [
      "[ 5 12 21 32]\n",
      "[ 6  8 10 12]\n"
     ]
    }
   ],
   "source": [
    "b=np.array(l1)\n",
    "a=np.array(l2)\n",
    "print(a*b)\n",
    "print(a+b)"
   ]
  },
  {
   "cell_type": "code",
   "execution_count": 66,
   "id": "380b1643",
   "metadata": {},
   "outputs": [
    {
     "data": {
      "text/plain": [
       "array.array"
      ]
     },
     "execution_count": 66,
     "metadata": {},
     "output_type": "execute_result"
    }
   ],
   "source": [
    "import array\n",
    "hr = array.array('i',[1,2,3,4,5,6,7])\n",
    "type(hr)"
   ]
  },
  {
   "cell_type": "code",
   "execution_count": 67,
   "id": "f70cc3de",
   "metadata": {},
   "outputs": [
    {
     "data": {
      "text/plain": [
       "array([[ 0.,  2.,  4.],\n",
       "       [ 6.,  8., 10.]])"
      ]
     },
     "execution_count": 67,
     "metadata": {},
     "output_type": "execute_result"
    }
   ],
   "source": [
    "ir = np.empty(2)\n",
    "ir = np.empty([2,3])\n",
    "ir"
   ]
  },
  {
   "cell_type": "code",
   "execution_count": 68,
   "id": "bcdc41fd",
   "metadata": {},
   "outputs": [
    {
     "name": "stdout",
     "output_type": "stream",
     "text": [
      "1 D\n"
     ]
    },
    {
     "data": {
      "text/plain": [
       "array([0, 1, 2, 3, 4, 5, 6, 7])"
      ]
     },
     "execution_count": 68,
     "metadata": {},
     "output_type": "execute_result"
    }
   ],
   "source": [
    "jr = np.arange(8)\n",
    "print(jr.ndim,\"D\")\n",
    "jr"
   ]
  },
  {
   "cell_type": "code",
   "execution_count": 69,
   "id": "78c9b9d5",
   "metadata": {},
   "outputs": [
    {
     "name": "stdout",
     "output_type": "stream",
     "text": [
      "2\n"
     ]
    },
    {
     "data": {
      "text/plain": [
       "array([[0, 1, 2, 3],\n",
       "       [4, 5, 6, 7]])"
      ]
     },
     "execution_count": 69,
     "metadata": {},
     "output_type": "execute_result"
    }
   ],
   "source": [
    "jr = np.arange(8).reshape(2,4)\n",
    "print(jr.ndim)\n",
    "jr"
   ]
  },
  {
   "cell_type": "code",
   "execution_count": 70,
   "id": "04771405",
   "metadata": {},
   "outputs": [
    {
     "name": "stdout",
     "output_type": "stream",
     "text": [
      "2 D\n"
     ]
    },
    {
     "data": {
      "text/plain": [
       "array([[0, 1],\n",
       "       [2, 3],\n",
       "       [4, 5],\n",
       "       [6, 7]])"
      ]
     },
     "execution_count": 70,
     "metadata": {},
     "output_type": "execute_result"
    }
   ],
   "source": [
    "jr = np.arange(8).reshape(4,2)\n",
    "print(jr.ndim,\"D\")\n",
    "jr"
   ]
  },
  {
   "cell_type": "code",
   "execution_count": 71,
   "id": "063bcedf",
   "metadata": {},
   "outputs": [
    {
     "name": "stdout",
     "output_type": "stream",
     "text": [
      "3 D\n"
     ]
    },
    {
     "data": {
      "text/plain": [
       "array([[[0, 1],\n",
       "        [2, 3]],\n",
       "\n",
       "       [[4, 5],\n",
       "        [6, 7]]])"
      ]
     },
     "execution_count": 71,
     "metadata": {},
     "output_type": "execute_result"
    }
   ],
   "source": [
    "jr = np.arange(8).reshape(2,2,2)\n",
    "print(jr.ndim,\"D\")\n",
    "jr"
   ]
  },
  {
   "cell_type": "code",
   "execution_count": 4,
   "id": "befd5aba",
   "metadata": {},
   "outputs": [
    {
     "data": {
      "text/plain": [
       "array([[0, 3, 2, 3],\n",
       "       [3, 3, 0, 1],\n",
       "       [1, 2, 3, 2],\n",
       "       [2, 1, 0, 2]])"
      ]
     },
     "execution_count": 4,
     "metadata": {},
     "output_type": "execute_result"
    }
   ],
   "source": [
    "import numpy as np\n",
    "np.random.randint(low=4,size=(4,4))"
   ]
  },
  {
   "cell_type": "code",
   "execution_count": 5,
   "id": "10e0bc56",
   "metadata": {},
   "outputs": [
    {
     "data": {
      "text/plain": [
       "array([[[9, 8, 3, 8],\n",
       "        [8, 3, 7, 7],\n",
       "        [8, 3, 8, 4]],\n",
       "\n",
       "       [[5, 7, 7, 8],\n",
       "        [9, 7, 7, 8],\n",
       "        [7, 4, 5, 5]]])"
      ]
     },
     "execution_count": 5,
     "metadata": {},
     "output_type": "execute_result"
    }
   ],
   "source": [
    "np.random.randint(2, 10, (2, 3, 4))"
   ]
  },
  {
   "cell_type": "code",
   "execution_count": null,
   "id": "95f33603",
   "metadata": {},
   "outputs": [],
   "source": []
  }
 ],
 "metadata": {
  "kernelspec": {
   "display_name": "Python 3 (ipykernel)",
   "language": "python",
   "name": "python3"
  },
  "language_info": {
   "codemirror_mode": {
    "name": "ipython",
    "version": 3
   },
   "file_extension": ".py",
   "mimetype": "text/x-python",
   "name": "python",
   "nbconvert_exporter": "python",
   "pygments_lexer": "ipython3",
   "version": "3.8.5"
  }
 },
 "nbformat": 4,
 "nbformat_minor": 5
}
