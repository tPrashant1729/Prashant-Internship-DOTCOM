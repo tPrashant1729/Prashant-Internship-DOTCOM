{
 "cells": [
  {
   "cell_type": "markdown",
   "id": "843245f0",
   "metadata": {},
   "source": [
    "Extract insights from your data."
   ]
  },
  {
   "cell_type": "code",
   "execution_count": 1,
   "id": "320aae15",
   "metadata": {},
   "outputs": [],
   "source": [
    "import pandas as pd"
   ]
  },
  {
   "cell_type": "code",
   "execution_count": 2,
   "id": "c6731bf0",
   "metadata": {},
   "outputs": [],
   "source": [
    "df = pd.read_csv(\"imdb-top-1000.csv\")"
   ]
  },
  {
   "cell_type": "markdown",
   "id": "41c7062c",
   "metadata": {},
   "source": [
    "# Summary functions"
   ]
  },
  {
   "cell_type": "code",
   "execution_count": 3,
   "id": "9f5b7ed3",
   "metadata": {},
   "outputs": [
    {
     "data": {
      "text/html": [
       "<div>\n",
       "<style scoped>\n",
       "    .dataframe tbody tr th:only-of-type {\n",
       "        vertical-align: middle;\n",
       "    }\n",
       "\n",
       "    .dataframe tbody tr th {\n",
       "        vertical-align: top;\n",
       "    }\n",
       "\n",
       "    .dataframe thead th {\n",
       "        text-align: right;\n",
       "    }\n",
       "</style>\n",
       "<table border=\"1\" class=\"dataframe\">\n",
       "  <thead>\n",
       "    <tr style=\"text-align: right;\">\n",
       "      <th></th>\n",
       "      <th>Runtime</th>\n",
       "      <th>IMDB_Rating</th>\n",
       "      <th>No_of_Votes</th>\n",
       "      <th>Gross</th>\n",
       "      <th>Metascore</th>\n",
       "    </tr>\n",
       "  </thead>\n",
       "  <tbody>\n",
       "    <tr>\n",
       "      <th>count</th>\n",
       "      <td>1000.000000</td>\n",
       "      <td>1000.000000</td>\n",
       "      <td>1.000000e+03</td>\n",
       "      <td>1.000000e+03</td>\n",
       "      <td>843.000000</td>\n",
       "    </tr>\n",
       "    <tr>\n",
       "      <th>mean</th>\n",
       "      <td>122.891000</td>\n",
       "      <td>7.949300</td>\n",
       "      <td>2.736929e+05</td>\n",
       "      <td>1.282781e+08</td>\n",
       "      <td>77.971530</td>\n",
       "    </tr>\n",
       "    <tr>\n",
       "      <th>std</th>\n",
       "      <td>28.093671</td>\n",
       "      <td>0.275491</td>\n",
       "      <td>3.273727e+05</td>\n",
       "      <td>2.011110e+08</td>\n",
       "      <td>12.376099</td>\n",
       "    </tr>\n",
       "    <tr>\n",
       "      <th>min</th>\n",
       "      <td>45.000000</td>\n",
       "      <td>7.600000</td>\n",
       "      <td>2.508800e+04</td>\n",
       "      <td>1.305000e+03</td>\n",
       "      <td>28.000000</td>\n",
       "    </tr>\n",
       "    <tr>\n",
       "      <th>25%</th>\n",
       "      <td>103.000000</td>\n",
       "      <td>7.700000</td>\n",
       "      <td>5.552625e+04</td>\n",
       "      <td>5.012919e+06</td>\n",
       "      <td>70.000000</td>\n",
       "    </tr>\n",
       "    <tr>\n",
       "      <th>50%</th>\n",
       "      <td>119.000000</td>\n",
       "      <td>7.900000</td>\n",
       "      <td>1.385485e+05</td>\n",
       "      <td>3.953432e+07</td>\n",
       "      <td>79.000000</td>\n",
       "    </tr>\n",
       "    <tr>\n",
       "      <th>75%</th>\n",
       "      <td>137.000000</td>\n",
       "      <td>8.100000</td>\n",
       "      <td>3.741612e+05</td>\n",
       "      <td>1.615997e+08</td>\n",
       "      <td>87.000000</td>\n",
       "    </tr>\n",
       "    <tr>\n",
       "      <th>max</th>\n",
       "      <td>321.000000</td>\n",
       "      <td>9.300000</td>\n",
       "      <td>2.343110e+06</td>\n",
       "      <td>9.366622e+08</td>\n",
       "      <td>100.000000</td>\n",
       "    </tr>\n",
       "  </tbody>\n",
       "</table>\n",
       "</div>"
      ],
      "text/plain": [
       "           Runtime  IMDB_Rating   No_of_Votes         Gross   Metascore\n",
       "count  1000.000000  1000.000000  1.000000e+03  1.000000e+03  843.000000\n",
       "mean    122.891000     7.949300  2.736929e+05  1.282781e+08   77.971530\n",
       "std      28.093671     0.275491  3.273727e+05  2.011110e+08   12.376099\n",
       "min      45.000000     7.600000  2.508800e+04  1.305000e+03   28.000000\n",
       "25%     103.000000     7.700000  5.552625e+04  5.012919e+06   70.000000\n",
       "50%     119.000000     7.900000  1.385485e+05  3.953432e+07   79.000000\n",
       "75%     137.000000     8.100000  3.741612e+05  1.615997e+08   87.000000\n",
       "max     321.000000     9.300000  2.343110e+06  9.366622e+08  100.000000"
      ]
     },
     "execution_count": 3,
     "metadata": {},
     "output_type": "execute_result"
    }
   ],
   "source": [
    "df.describe()"
   ]
  },
  {
   "cell_type": "code",
   "execution_count": 4,
   "id": "819c88c3",
   "metadata": {},
   "outputs": [
    {
     "data": {
      "text/html": [
       "<div>\n",
       "<style scoped>\n",
       "    .dataframe tbody tr th:only-of-type {\n",
       "        vertical-align: middle;\n",
       "    }\n",
       "\n",
       "    .dataframe tbody tr th {\n",
       "        vertical-align: top;\n",
       "    }\n",
       "\n",
       "    .dataframe thead th {\n",
       "        text-align: right;\n",
       "    }\n",
       "</style>\n",
       "<table border=\"1\" class=\"dataframe\">\n",
       "  <thead>\n",
       "    <tr style=\"text-align: right;\">\n",
       "      <th></th>\n",
       "      <th>Series_Title</th>\n",
       "      <th>Released_Year</th>\n",
       "      <th>Runtime</th>\n",
       "      <th>Genre</th>\n",
       "      <th>IMDB_Rating</th>\n",
       "      <th>Director</th>\n",
       "      <th>Star1</th>\n",
       "      <th>No_of_Votes</th>\n",
       "      <th>Gross</th>\n",
       "      <th>Metascore</th>\n",
       "    </tr>\n",
       "  </thead>\n",
       "  <tbody>\n",
       "    <tr>\n",
       "      <th>0</th>\n",
       "      <td>The Shawshank Redemption</td>\n",
       "      <td>1994</td>\n",
       "      <td>142</td>\n",
       "      <td>Drama</td>\n",
       "      <td>9.3</td>\n",
       "      <td>Frank Darabont</td>\n",
       "      <td>Tim Robbins</td>\n",
       "      <td>2343110</td>\n",
       "      <td>28341469.0</td>\n",
       "      <td>80.0</td>\n",
       "    </tr>\n",
       "    <tr>\n",
       "      <th>1</th>\n",
       "      <td>The Godfather</td>\n",
       "      <td>1972</td>\n",
       "      <td>175</td>\n",
       "      <td>Crime</td>\n",
       "      <td>9.2</td>\n",
       "      <td>Francis Ford Coppola</td>\n",
       "      <td>Marlon Brando</td>\n",
       "      <td>1620367</td>\n",
       "      <td>134966411.0</td>\n",
       "      <td>100.0</td>\n",
       "    </tr>\n",
       "    <tr>\n",
       "      <th>2</th>\n",
       "      <td>The Dark Knight</td>\n",
       "      <td>2008</td>\n",
       "      <td>152</td>\n",
       "      <td>Action</td>\n",
       "      <td>9.0</td>\n",
       "      <td>Christopher Nolan</td>\n",
       "      <td>Christian Bale</td>\n",
       "      <td>2303232</td>\n",
       "      <td>534858444.0</td>\n",
       "      <td>84.0</td>\n",
       "    </tr>\n",
       "    <tr>\n",
       "      <th>3</th>\n",
       "      <td>The Godfather: Part II</td>\n",
       "      <td>1974</td>\n",
       "      <td>202</td>\n",
       "      <td>Crime</td>\n",
       "      <td>9.0</td>\n",
       "      <td>Francis Ford Coppola</td>\n",
       "      <td>Al Pacino</td>\n",
       "      <td>1129952</td>\n",
       "      <td>57300000.0</td>\n",
       "      <td>90.0</td>\n",
       "    </tr>\n",
       "    <tr>\n",
       "      <th>4</th>\n",
       "      <td>12 Angry Men</td>\n",
       "      <td>1957</td>\n",
       "      <td>96</td>\n",
       "      <td>Crime</td>\n",
       "      <td>9.0</td>\n",
       "      <td>Sidney Lumet</td>\n",
       "      <td>Henry Fonda</td>\n",
       "      <td>689845</td>\n",
       "      <td>4360000.0</td>\n",
       "      <td>96.0</td>\n",
       "    </tr>\n",
       "  </tbody>\n",
       "</table>\n",
       "</div>"
      ],
      "text/plain": [
       "               Series_Title Released_Year  Runtime   Genre  IMDB_Rating  \\\n",
       "0  The Shawshank Redemption          1994      142   Drama          9.3   \n",
       "1             The Godfather          1972      175   Crime          9.2   \n",
       "2           The Dark Knight          2008      152  Action          9.0   \n",
       "3    The Godfather: Part II          1974      202   Crime          9.0   \n",
       "4              12 Angry Men          1957       96   Crime          9.0   \n",
       "\n",
       "               Director           Star1  No_of_Votes        Gross  Metascore  \n",
       "0        Frank Darabont     Tim Robbins      2343110   28341469.0       80.0  \n",
       "1  Francis Ford Coppola   Marlon Brando      1620367  134966411.0      100.0  \n",
       "2     Christopher Nolan  Christian Bale      2303232  534858444.0       84.0  \n",
       "3  Francis Ford Coppola       Al Pacino      1129952   57300000.0       90.0  \n",
       "4          Sidney Lumet     Henry Fonda       689845    4360000.0       96.0  "
      ]
     },
     "execution_count": 4,
     "metadata": {},
     "output_type": "execute_result"
    }
   ],
   "source": [
    "df.head()"
   ]
  },
  {
   "cell_type": "code",
   "execution_count": 5,
   "id": "fb7600d8",
   "metadata": {},
   "outputs": [
    {
     "data": {
      "text/plain": [
       "count    1000.000000\n",
       "mean      122.891000\n",
       "std        28.093671\n",
       "min        45.000000\n",
       "25%       103.000000\n",
       "50%       119.000000\n",
       "75%       137.000000\n",
       "max       321.000000\n",
       "Name: Runtime, dtype: float64"
      ]
     },
     "execution_count": 5,
     "metadata": {},
     "output_type": "execute_result"
    }
   ],
   "source": [
    "df.Runtime.describe()"
   ]
  },
  {
   "cell_type": "code",
   "execution_count": 6,
   "id": "0069ad84",
   "metadata": {},
   "outputs": [
    {
     "data": {
      "text/plain": [
       "count         1000\n",
       "unique         999\n",
       "top       Drishyam\n",
       "freq             2\n",
       "Name: Series_Title, dtype: object"
      ]
     },
     "execution_count": 6,
     "metadata": {},
     "output_type": "execute_result"
    }
   ],
   "source": [
    "df.Series_Title.describe()"
   ]
  },
  {
   "cell_type": "code",
   "execution_count": 7,
   "id": "c6b0419f",
   "metadata": {},
   "outputs": [
    {
     "data": {
      "text/plain": [
       "count                 1000\n",
       "unique                 548\n",
       "top       Alfred Hitchcock\n",
       "freq                    14\n",
       "Name: Director, dtype: object"
      ]
     },
     "execution_count": 7,
     "metadata": {},
     "output_type": "execute_result"
    }
   ],
   "source": [
    "df.Director.describe()"
   ]
  },
  {
   "cell_type": "code",
   "execution_count": 8,
   "id": "93c20294",
   "metadata": {},
   "outputs": [
    {
     "data": {
      "text/plain": [
       "128278074.841"
      ]
     },
     "execution_count": 8,
     "metadata": {},
     "output_type": "execute_result"
    }
   ],
   "source": [
    "df.Gross.mean()"
   ]
  },
  {
   "cell_type": "code",
   "execution_count": 9,
   "id": "7e5aff7a",
   "metadata": {},
   "outputs": [
    {
     "data": {
      "text/plain": [
       "0    4360000.0\n",
       "dtype: float64"
      ]
     },
     "execution_count": 9,
     "metadata": {},
     "output_type": "execute_result"
    }
   ],
   "source": [
    "df.Gross.mode()"
   ]
  },
  {
   "cell_type": "code",
   "execution_count": 10,
   "id": "770c9304",
   "metadata": {},
   "outputs": [
    {
     "data": {
      "text/plain": [
       "39534321.0"
      ]
     },
     "execution_count": 10,
     "metadata": {},
     "output_type": "execute_result"
    }
   ],
   "source": [
    "df.Gross.median()"
   ]
  },
  {
   "cell_type": "code",
   "execution_count": 11,
   "id": "c8405d80",
   "metadata": {},
   "outputs": [
    {
     "data": {
      "text/plain": [
       "array([9.3, 9.2, 9. , 8.9, 8.8, 8.7, 8.6, 8.5, 8.4, 8.3, 8.2, 8.1, 8. ,\n",
       "       7.9, 7.8, 7.7, 7.6])"
      ]
     },
     "execution_count": 11,
     "metadata": {},
     "output_type": "execute_result"
    }
   ],
   "source": [
    "df.IMDB_Rating.unique()"
   ]
  },
  {
   "cell_type": "code",
   "execution_count": 12,
   "id": "e3a0516b",
   "metadata": {},
   "outputs": [
    {
     "data": {
      "text/plain": [
       "Alfred Hitchcock    14\n",
       "Steven Spielberg    13\n",
       "Hayao Miyazaki      11\n",
       "Akira Kurosawa      10\n",
       "Martin Scorsese     10\n",
       "                    ..\n",
       "Merian C. Cooper     1\n",
       "Vishal Bhardwaj      1\n",
       "Lewis Milestone      1\n",
       "Michael Cimino       1\n",
       "Hirokazu Koreeda     1\n",
       "Name: Director, Length: 548, dtype: int64"
      ]
     },
     "execution_count": 12,
     "metadata": {},
     "output_type": "execute_result"
    }
   ],
   "source": [
    "# To see a list of unique values and how often they occur in the dataset, \n",
    "# we can use the value_counts() method\n",
    "df.Director.value_counts()"
   ]
  },
  {
   "cell_type": "markdown",
   "id": "06b34e65",
   "metadata": {},
   "source": [
    "# Map"
   ]
  },
  {
   "cell_type": "code",
   "execution_count": 13,
   "id": "794e4b19",
   "metadata": {},
   "outputs": [
    {
     "data": {
      "text/html": [
       "<div>\n",
       "<style scoped>\n",
       "    .dataframe tbody tr th:only-of-type {\n",
       "        vertical-align: middle;\n",
       "    }\n",
       "\n",
       "    .dataframe tbody tr th {\n",
       "        vertical-align: top;\n",
       "    }\n",
       "\n",
       "    .dataframe thead th {\n",
       "        text-align: right;\n",
       "    }\n",
       "</style>\n",
       "<table border=\"1\" class=\"dataframe\">\n",
       "  <thead>\n",
       "    <tr style=\"text-align: right;\">\n",
       "      <th></th>\n",
       "      <th>Series_Title</th>\n",
       "      <th>Released_Year</th>\n",
       "      <th>Runtime</th>\n",
       "      <th>Genre</th>\n",
       "      <th>IMDB_Rating</th>\n",
       "      <th>Director</th>\n",
       "      <th>Star1</th>\n",
       "      <th>No_of_Votes</th>\n",
       "      <th>Gross</th>\n",
       "      <th>Metascore</th>\n",
       "    </tr>\n",
       "  </thead>\n",
       "  <tbody>\n",
       "    <tr>\n",
       "      <th>0</th>\n",
       "      <td>The Shawshank Redemption</td>\n",
       "      <td>1994</td>\n",
       "      <td>142</td>\n",
       "      <td>Drama</td>\n",
       "      <td>9.3</td>\n",
       "      <td>Frank Darabont</td>\n",
       "      <td>Tim Robbins</td>\n",
       "      <td>2343110</td>\n",
       "      <td>28341469.0</td>\n",
       "      <td>80.0</td>\n",
       "    </tr>\n",
       "    <tr>\n",
       "      <th>1</th>\n",
       "      <td>The Godfather</td>\n",
       "      <td>1972</td>\n",
       "      <td>175</td>\n",
       "      <td>Crime</td>\n",
       "      <td>9.2</td>\n",
       "      <td>Francis Ford Coppola</td>\n",
       "      <td>Marlon Brando</td>\n",
       "      <td>1620367</td>\n",
       "      <td>134966411.0</td>\n",
       "      <td>100.0</td>\n",
       "    </tr>\n",
       "    <tr>\n",
       "      <th>2</th>\n",
       "      <td>The Dark Knight</td>\n",
       "      <td>2008</td>\n",
       "      <td>152</td>\n",
       "      <td>Action</td>\n",
       "      <td>9.0</td>\n",
       "      <td>Christopher Nolan</td>\n",
       "      <td>Christian Bale</td>\n",
       "      <td>2303232</td>\n",
       "      <td>534858444.0</td>\n",
       "      <td>84.0</td>\n",
       "    </tr>\n",
       "    <tr>\n",
       "      <th>3</th>\n",
       "      <td>The Godfather: Part II</td>\n",
       "      <td>1974</td>\n",
       "      <td>202</td>\n",
       "      <td>Crime</td>\n",
       "      <td>9.0</td>\n",
       "      <td>Francis Ford Coppola</td>\n",
       "      <td>Al Pacino</td>\n",
       "      <td>1129952</td>\n",
       "      <td>57300000.0</td>\n",
       "      <td>90.0</td>\n",
       "    </tr>\n",
       "    <tr>\n",
       "      <th>4</th>\n",
       "      <td>12 Angry Men</td>\n",
       "      <td>1957</td>\n",
       "      <td>96</td>\n",
       "      <td>Crime</td>\n",
       "      <td>9.0</td>\n",
       "      <td>Sidney Lumet</td>\n",
       "      <td>Henry Fonda</td>\n",
       "      <td>689845</td>\n",
       "      <td>4360000.0</td>\n",
       "      <td>96.0</td>\n",
       "    </tr>\n",
       "  </tbody>\n",
       "</table>\n",
       "</div>"
      ],
      "text/plain": [
       "               Series_Title Released_Year  Runtime   Genre  IMDB_Rating  \\\n",
       "0  The Shawshank Redemption          1994      142   Drama          9.3   \n",
       "1             The Godfather          1972      175   Crime          9.2   \n",
       "2           The Dark Knight          2008      152  Action          9.0   \n",
       "3    The Godfather: Part II          1974      202   Crime          9.0   \n",
       "4              12 Angry Men          1957       96   Crime          9.0   \n",
       "\n",
       "               Director           Star1  No_of_Votes        Gross  Metascore  \n",
       "0        Frank Darabont     Tim Robbins      2343110   28341469.0       80.0  \n",
       "1  Francis Ford Coppola   Marlon Brando      1620367  134966411.0      100.0  \n",
       "2     Christopher Nolan  Christian Bale      2303232  534858444.0       84.0  \n",
       "3  Francis Ford Coppola       Al Pacino      1129952   57300000.0       90.0  \n",
       "4          Sidney Lumet     Henry Fonda       689845    4360000.0       96.0  "
      ]
     },
     "execution_count": 13,
     "metadata": {},
     "output_type": "execute_result"
    }
   ],
   "source": [
    "df.head()"
   ]
  },
  {
   "cell_type": "code",
   "execution_count": 14,
   "id": "c7c731c2",
   "metadata": {},
   "outputs": [
    {
     "name": "stdout",
     "output_type": "stream",
     "text": [
      "122.891\n"
     ]
    },
    {
     "data": {
      "text/plain": [
       "0      19.109\n",
       "1      52.109\n",
       "2      29.109\n",
       "3      79.109\n",
       "4     -26.891\n",
       "        ...  \n",
       "995    -7.891\n",
       "996    78.109\n",
       "997    -4.891\n",
       "998   -25.891\n",
       "999   -36.891\n",
       "Name: Runtime, Length: 1000, dtype: float64"
      ]
     },
     "execution_count": 14,
     "metadata": {},
     "output_type": "execute_result"
    }
   ],
   "source": [
    "print(df.Runtime.mean())\n",
    "runtime_map=df.Runtime.mean()\n",
    "df.Runtime.map(lambda r:r-runtime_map)"
   ]
  },
  {
   "cell_type": "code",
   "execution_count": 15,
   "id": "d4697d08",
   "metadata": {},
   "outputs": [
    {
     "name": "stdout",
     "output_type": "stream",
     "text": [
      "Ôkami kodomo no Ame to Yuki\n"
     ]
    }
   ],
   "source": [
    "print(df.Series_Title.max())"
   ]
  },
  {
   "cell_type": "code",
   "execution_count": 16,
   "id": "56f6833f",
   "metadata": {},
   "outputs": [
    {
     "data": {
      "text/plain": [
       "0      The Shawshank RedemptionÔkami kodomo no Ame to...\n",
       "1               The GodfatherÔkami kodomo no Ame to Yuki\n",
       "2             The Dark KnightÔkami kodomo no Ame to Yuki\n",
       "3      The Godfather: Part IIÔkami kodomo no Ame to Yuki\n",
       "4                12 Angry MenÔkami kodomo no Ame to Yuki\n",
       "                             ...                        \n",
       "995    Breakfast at Tiffany'sÔkami kodomo no Ame to Yuki\n",
       "996                     GiantÔkami kodomo no Ame to Yuki\n",
       "997     From Here to EternityÔkami kodomo no Ame to Yuki\n",
       "998                  LifeboatÔkami kodomo no Ame to Yuki\n",
       "999              The 39 StepsÔkami kodomo no Ame to Yuki\n",
       "Name: Series_Title, Length: 1000, dtype: object"
      ]
     },
     "execution_count": 16,
     "metadata": {},
     "output_type": "execute_result"
    }
   ],
   "source": [
    "Series_Title_map=df.Series_Title.max()\n",
    "df.Series_Title.map(lambda s:s + Series_Title_map)"
   ]
  },
  {
   "cell_type": "code",
   "execution_count": 17,
   "id": "b3eca2c8",
   "metadata": {},
   "outputs": [
    {
     "data": {
      "text/plain": [
       "0       NaN\n",
       "1    thakur\n",
       "2       NaN\n",
       "3       NaN\n",
       "dtype: object"
      ]
     },
     "execution_count": 17,
     "metadata": {},
     "output_type": "execute_result"
    }
   ],
   "source": [
    "# to change in data frame in col\n",
    "sa = pd.Series(['a',123,'abc',678])\n",
    "# sa.map({123:'thakur'})\n",
    "#will return for not found key,to avoid this\n",
    "sa.map({123:'thakur'})\n"
   ]
  },
  {
   "cell_type": "code",
   "execution_count": 18,
   "id": "2335bea2",
   "metadata": {},
   "outputs": [
    {
     "data": {
      "text/plain": [
       "0            Dircted by Frank Darabont\n",
       "1      Dircted by Francis Ford Coppola\n",
       "2         Dircted by Christopher Nolan\n",
       "3      Dircted by Francis Ford Coppola\n",
       "4              Dircted by Sidney Lumet\n",
       "                    ...               \n",
       "995           Dircted by Blake Edwards\n",
       "996          Dircted by George Stevens\n",
       "997          Dircted by Fred Zinnemann\n",
       "998        Dircted by Alfred Hitchcock\n",
       "999        Dircted by Alfred Hitchcock\n",
       "Name: Director, Length: 1000, dtype: object"
      ]
     },
     "execution_count": 18,
     "metadata": {},
     "output_type": "execute_result"
    }
   ],
   "source": [
    "df.Director.map(\"Dircted by {}\".format)"
   ]
  },
  {
   "cell_type": "code",
   "execution_count": 19,
   "id": "7b9023f4",
   "metadata": {},
   "outputs": [],
   "source": [
    "# Note that map() and apply() return new, transformed Series.\n",
    "# They don't modify the original data they're called on"
   ]
  },
  {
   "cell_type": "code",
   "execution_count": null,
   "id": "c11353dd",
   "metadata": {},
   "outputs": [],
   "source": []
  },
  {
   "cell_type": "code",
   "execution_count": null,
   "id": "21a5debf",
   "metadata": {},
   "outputs": [],
   "source": []
  },
  {
   "cell_type": "markdown",
   "id": "e1f59611",
   "metadata": {},
   "source": [
    "## Apply "
   ]
  },
  {
   "cell_type": "code",
   "execution_count": 20,
   "id": "cebd19af",
   "metadata": {},
   "outputs": [
    {
     "data": {
      "text/plain": [
       "0      THE SHAWSHANK REDEMPTION\n",
       "1                 THE GODFATHER\n",
       "2               THE DARK KNIGHT\n",
       "3        THE GODFATHER: PART II\n",
       "4                  12 ANGRY MEN\n",
       "                 ...           \n",
       "995      BREAKFAST AT TIFFANY'S\n",
       "996                       GIANT\n",
       "997       FROM HERE TO ETERNITY\n",
       "998                    LIFEBOAT\n",
       "999                THE 39 STEPS\n",
       "Name: Series_Title, Length: 1000, dtype: object"
      ]
     },
     "execution_count": 20,
     "metadata": {},
     "output_type": "execute_result"
    }
   ],
   "source": [
    "# it works on one col or row\n",
    "def Upper(text):\n",
    "    return text.upper()\n",
    "\n",
    "df.Series_Title.apply(Upper) #or\n",
    "# df[\"Series_Title\"].apply(Upper)\n"
   ]
  },
  {
   "cell_type": "code",
   "execution_count": 67,
   "id": "ae413e11",
   "metadata": {},
   "outputs": [
    {
     "data": {
      "text/html": [
       "<div>\n",
       "<style scoped>\n",
       "    .dataframe tbody tr th:only-of-type {\n",
       "        vertical-align: middle;\n",
       "    }\n",
       "\n",
       "    .dataframe tbody tr th {\n",
       "        vertical-align: top;\n",
       "    }\n",
       "\n",
       "    .dataframe thead th {\n",
       "        text-align: right;\n",
       "    }\n",
       "</style>\n",
       "<table border=\"1\" class=\"dataframe\">\n",
       "  <thead>\n",
       "    <tr style=\"text-align: right;\">\n",
       "      <th></th>\n",
       "      <th>Series_Title</th>\n",
       "      <th>Released_Year</th>\n",
       "      <th>Runtime</th>\n",
       "      <th>Genre</th>\n",
       "      <th>IMDB_Rating</th>\n",
       "      <th>Director</th>\n",
       "      <th>Star1</th>\n",
       "      <th>No_of_Votes</th>\n",
       "      <th>Gross</th>\n",
       "      <th>Metascore</th>\n",
       "      <th>point</th>\n",
       "    </tr>\n",
       "  </thead>\n",
       "  <tbody>\n",
       "    <tr>\n",
       "      <th>0</th>\n",
       "      <td>The Shawshank Redemption_2023</td>\n",
       "      <td>1994_2023</td>\n",
       "      <td>142_2023</td>\n",
       "      <td>Drama_2023</td>\n",
       "      <td>9.3_2023</td>\n",
       "      <td>Frank Darabont_2023</td>\n",
       "      <td>Tim Robbins_2023</td>\n",
       "      <td>2343110_2023</td>\n",
       "      <td>28341469.0_2023</td>\n",
       "      <td>80.0_2023</td>\n",
       "      <td>21086052936.0_2023</td>\n",
       "    </tr>\n",
       "    <tr>\n",
       "      <th>1</th>\n",
       "      <td>The Godfather_2023</td>\n",
       "      <td>1972_2023</td>\n",
       "      <td>175_2023</td>\n",
       "      <td>Crime_2023</td>\n",
       "      <td>9.2_2023</td>\n",
       "      <td>Francis Ford Coppola_2023</td>\n",
       "      <td>Marlon Brando_2023</td>\n",
       "      <td>1620367_2023</td>\n",
       "      <td>134966411.0_2023</td>\n",
       "      <td>100.0_2023</td>\n",
       "      <td>124169098119.99998_2023</td>\n",
       "    </tr>\n",
       "  </tbody>\n",
       "</table>\n",
       "</div>"
      ],
      "text/plain": [
       "                    Series_Title Released_Year   Runtime       Genre  \\\n",
       "0  The Shawshank Redemption_2023     1994_2023  142_2023  Drama_2023   \n",
       "1             The Godfather_2023     1972_2023  175_2023  Crime_2023   \n",
       "\n",
       "  IMDB_Rating                   Director               Star1   No_of_Votes  \\\n",
       "0    9.3_2023        Frank Darabont_2023    Tim Robbins_2023  2343110_2023   \n",
       "1    9.2_2023  Francis Ford Coppola_2023  Marlon Brando_2023  1620367_2023   \n",
       "\n",
       "              Gross   Metascore                    point  \n",
       "0   28341469.0_2023   80.0_2023       21086052936.0_2023  \n",
       "1  134966411.0_2023  100.0_2023  124169098119.99998_2023  "
      ]
     },
     "execution_count": 67,
     "metadata": {},
     "output_type": "execute_result"
    }
   ],
   "source": [
    "# apply map works on each row and col also in specified region\n",
    "def Upper(text):\n",
    "    return str(text) + \"_2023\"\n",
    "\n",
    "df[:2].applymap(Upper)\n",
    "# df.applymap(Upper)"
   ]
  },
  {
   "cell_type": "code",
   "execution_count": 22,
   "id": "522bf886",
   "metadata": {},
   "outputs": [
    {
     "data": {
      "text/plain": [
       "0      1.3507\n",
       "1      1.2507\n",
       "2      1.0507\n",
       "3      1.0507\n",
       "4      1.0507\n",
       "        ...  \n",
       "995   -0.3493\n",
       "996   -0.3493\n",
       "997   -0.3493\n",
       "998   -0.3493\n",
       "999   -0.3493\n",
       "Name: IMDB_Rating, Length: 1000, dtype: float64"
      ]
     },
     "execution_count": 22,
     "metadata": {},
     "output_type": "execute_result"
    }
   ],
   "source": [
    "# Pandas provides many common mapping operations as built-ins. \n",
    "# For example, here's a faster way of remeaning our points column:\n",
    "\n",
    "df.IMDB_Rating - df.IMDB_Rating.mean()\n"
   ]
  },
  {
   "cell_type": "code",
   "execution_count": 23,
   "id": "38ac97a5",
   "metadata": {},
   "outputs": [
    {
     "data": {
      "text/html": [
       "<div>\n",
       "<style scoped>\n",
       "    .dataframe tbody tr th:only-of-type {\n",
       "        vertical-align: middle;\n",
       "    }\n",
       "\n",
       "    .dataframe tbody tr th {\n",
       "        vertical-align: top;\n",
       "    }\n",
       "\n",
       "    .dataframe thead th {\n",
       "        text-align: right;\n",
       "    }\n",
       "</style>\n",
       "<table border=\"1\" class=\"dataframe\">\n",
       "  <thead>\n",
       "    <tr style=\"text-align: right;\">\n",
       "      <th></th>\n",
       "      <th>0</th>\n",
       "    </tr>\n",
       "  </thead>\n",
       "  <tbody>\n",
       "    <tr>\n",
       "      <th>0</th>\n",
       "      <td>The Shawshank Redemption-Tim Robbins</td>\n",
       "    </tr>\n",
       "    <tr>\n",
       "      <th>1</th>\n",
       "      <td>The Godfather-Marlon Brando</td>\n",
       "    </tr>\n",
       "    <tr>\n",
       "      <th>2</th>\n",
       "      <td>The Dark Knight-Christian Bale</td>\n",
       "    </tr>\n",
       "    <tr>\n",
       "      <th>3</th>\n",
       "      <td>The Godfather: Part II-Al Pacino</td>\n",
       "    </tr>\n",
       "    <tr>\n",
       "      <th>4</th>\n",
       "      <td>12 Angry Men-Henry Fonda</td>\n",
       "    </tr>\n",
       "    <tr>\n",
       "      <th>...</th>\n",
       "      <td>...</td>\n",
       "    </tr>\n",
       "    <tr>\n",
       "      <th>995</th>\n",
       "      <td>Breakfast at Tiffany's-Audrey Hepburn</td>\n",
       "    </tr>\n",
       "    <tr>\n",
       "      <th>996</th>\n",
       "      <td>Giant-Elizabeth Taylor</td>\n",
       "    </tr>\n",
       "    <tr>\n",
       "      <th>997</th>\n",
       "      <td>From Here to Eternity-Burt Lancaster</td>\n",
       "    </tr>\n",
       "    <tr>\n",
       "      <th>998</th>\n",
       "      <td>Lifeboat-Tallulah Bankhead</td>\n",
       "    </tr>\n",
       "    <tr>\n",
       "      <th>999</th>\n",
       "      <td>The 39 Steps-Robert Donat</td>\n",
       "    </tr>\n",
       "  </tbody>\n",
       "</table>\n",
       "<p>1000 rows × 1 columns</p>\n",
       "</div>"
      ],
      "text/plain": [
       "                                         0\n",
       "0     The Shawshank Redemption-Tim Robbins\n",
       "1              The Godfather-Marlon Brando\n",
       "2           The Dark Knight-Christian Bale\n",
       "3         The Godfather: Part II-Al Pacino\n",
       "4                 12 Angry Men-Henry Fonda\n",
       "..                                     ...\n",
       "995  Breakfast at Tiffany's-Audrey Hepburn\n",
       "996                 Giant-Elizabeth Taylor\n",
       "997   From Here to Eternity-Burt Lancaster\n",
       "998             Lifeboat-Tallulah Bankhead\n",
       "999              The 39 Steps-Robert Donat\n",
       "\n",
       "[1000 rows x 1 columns]"
      ]
     },
     "execution_count": 23,
     "metadata": {},
     "output_type": "execute_result"
    }
   ],
   "source": [
    "# an easy way of combining country and \n",
    "# region information in the dataset would be to do the following:\n",
    "(df.Series_Title+\"-\"+df.Star1).to_frame()\n",
    "\n",
    "# to.frame() to conver series into dataframe"
   ]
  },
  {
   "cell_type": "code",
   "execution_count": 24,
   "id": "98bbc651",
   "metadata": {},
   "outputs": [
    {
     "data": {
      "text/html": [
       "<div>\n",
       "<style scoped>\n",
       "    .dataframe tbody tr th:only-of-type {\n",
       "        vertical-align: middle;\n",
       "    }\n",
       "\n",
       "    .dataframe tbody tr th {\n",
       "        vertical-align: top;\n",
       "    }\n",
       "\n",
       "    .dataframe thead th {\n",
       "        text-align: right;\n",
       "    }\n",
       "</style>\n",
       "<table border=\"1\" class=\"dataframe\">\n",
       "  <thead>\n",
       "    <tr style=\"text-align: right;\">\n",
       "      <th></th>\n",
       "      <th>Series_Title</th>\n",
       "      <th>Released_Year</th>\n",
       "      <th>Runtime</th>\n",
       "      <th>Genre</th>\n",
       "      <th>IMDB_Rating</th>\n",
       "      <th>Director</th>\n",
       "      <th>Star1</th>\n",
       "      <th>No_of_Votes</th>\n",
       "      <th>Gross</th>\n",
       "      <th>Metascore</th>\n",
       "    </tr>\n",
       "  </thead>\n",
       "  <tbody>\n",
       "    <tr>\n",
       "      <th>0</th>\n",
       "      <td>The Shawshank Redemption</td>\n",
       "      <td>1994</td>\n",
       "      <td>142</td>\n",
       "      <td>Drama</td>\n",
       "      <td>9.3</td>\n",
       "      <td>Frank Darabont</td>\n",
       "      <td>Tim Robbins</td>\n",
       "      <td>2343110</td>\n",
       "      <td>28341469.0</td>\n",
       "      <td>80.0</td>\n",
       "    </tr>\n",
       "    <tr>\n",
       "      <th>1</th>\n",
       "      <td>The Godfather</td>\n",
       "      <td>1972</td>\n",
       "      <td>175</td>\n",
       "      <td>Crime</td>\n",
       "      <td>9.2</td>\n",
       "      <td>Francis Ford Coppola</td>\n",
       "      <td>Marlon Brando</td>\n",
       "      <td>1620367</td>\n",
       "      <td>134966411.0</td>\n",
       "      <td>100.0</td>\n",
       "    </tr>\n",
       "  </tbody>\n",
       "</table>\n",
       "</div>"
      ],
      "text/plain": [
       "               Series_Title Released_Year  Runtime  Genre  IMDB_Rating  \\\n",
       "0  The Shawshank Redemption          1994      142  Drama          9.3   \n",
       "1             The Godfather          1972      175  Crime          9.2   \n",
       "\n",
       "               Director          Star1  No_of_Votes        Gross  Metascore  \n",
       "0        Frank Darabont    Tim Robbins      2343110   28341469.0       80.0  \n",
       "1  Francis Ford Coppola  Marlon Brando      1620367  134966411.0      100.0  "
      ]
     },
     "execution_count": 24,
     "metadata": {},
     "output_type": "execute_result"
    }
   ],
   "source": [
    "# What countries are represented in the dataset?\n",
    "# (Your answer should not include any duplicates.)\n",
    "df.head(2)"
   ]
  },
  {
   "cell_type": "code",
   "execution_count": 25,
   "id": "7ee9d9e0",
   "metadata": {},
   "outputs": [
    {
     "data": {
      "text/plain": [
       "count      1000\n",
       "unique       14\n",
       "top       Drama\n",
       "freq        289\n",
       "Name: Genre, dtype: object"
      ]
     },
     "execution_count": 25,
     "metadata": {},
     "output_type": "execute_result"
    }
   ],
   "source": [
    "df.Genre.describe()"
   ]
  },
  {
   "cell_type": "code",
   "execution_count": 51,
   "id": "5b2fcd7f",
   "metadata": {},
   "outputs": [
    {
     "data": {
      "text/html": [
       "<div>\n",
       "<style scoped>\n",
       "    .dataframe tbody tr th:only-of-type {\n",
       "        vertical-align: middle;\n",
       "    }\n",
       "\n",
       "    .dataframe tbody tr th {\n",
       "        vertical-align: top;\n",
       "    }\n",
       "\n",
       "    .dataframe thead th {\n",
       "        text-align: right;\n",
       "    }\n",
       "</style>\n",
       "<table border=\"1\" class=\"dataframe\">\n",
       "  <thead>\n",
       "    <tr style=\"text-align: right;\">\n",
       "      <th></th>\n",
       "      <th>Series_Title</th>\n",
       "      <th>Released_Year</th>\n",
       "      <th>Runtime</th>\n",
       "      <th>Genre</th>\n",
       "      <th>IMDB_Rating</th>\n",
       "      <th>Director</th>\n",
       "      <th>Star1</th>\n",
       "      <th>No_of_Votes</th>\n",
       "      <th>Gross</th>\n",
       "      <th>Metascore</th>\n",
       "    </tr>\n",
       "    <tr>\n",
       "      <th>point</th>\n",
       "      <th></th>\n",
       "      <th></th>\n",
       "      <th></th>\n",
       "      <th></th>\n",
       "      <th></th>\n",
       "      <th></th>\n",
       "      <th></th>\n",
       "      <th></th>\n",
       "      <th></th>\n",
       "      <th></th>\n",
       "    </tr>\n",
       "  </thead>\n",
       "  <tbody>\n",
       "    <tr>\n",
       "      <th>6.200879e+11</th>\n",
       "      <td>Jules et Jim</td>\n",
       "      <td>1962</td>\n",
       "      <td>105</td>\n",
       "      <td>Drama</td>\n",
       "      <td>7.8</td>\n",
       "      <td>François Truffaut</td>\n",
       "      <td>Jeanne Moreau</td>\n",
       "      <td>37605</td>\n",
       "      <td>819571597.0</td>\n",
       "      <td>97.0</td>\n",
       "    </tr>\n",
       "    <tr>\n",
       "      <th>6.103195e+11</th>\n",
       "      <td>Bonnie and Clyde</td>\n",
       "      <td>1967</td>\n",
       "      <td>111</td>\n",
       "      <td>Action</td>\n",
       "      <td>7.8</td>\n",
       "      <td>Arthur Penn</td>\n",
       "      <td>Warren Beatty</td>\n",
       "      <td>102415</td>\n",
       "      <td>909838190.0</td>\n",
       "      <td>86.0</td>\n",
       "    </tr>\n",
       "    <tr>\n",
       "      <th>5.919705e+11</th>\n",
       "      <td>Star Wars: Episode VII - The Force Awakens</td>\n",
       "      <td>2015</td>\n",
       "      <td>138</td>\n",
       "      <td>Action</td>\n",
       "      <td>7.9</td>\n",
       "      <td>J.J. Abrams</td>\n",
       "      <td>Daisy Ridley</td>\n",
       "      <td>860823</td>\n",
       "      <td>936662225.0</td>\n",
       "      <td>80.0</td>\n",
       "    </tr>\n",
       "    <tr>\n",
       "      <th>5.814235e+11</th>\n",
       "      <td>Det sjunde inseglet</td>\n",
       "      <td>1957</td>\n",
       "      <td>96</td>\n",
       "      <td>Drama</td>\n",
       "      <td>8.2</td>\n",
       "      <td>Ingmar Bergman</td>\n",
       "      <td>Max von Sydow</td>\n",
       "      <td>164939</td>\n",
       "      <td>805742063.0</td>\n",
       "      <td>88.0</td>\n",
       "    </tr>\n",
       "    <tr>\n",
       "      <th>5.624060e+11</th>\n",
       "      <td>Avengers: Endgame</td>\n",
       "      <td>2019</td>\n",
       "      <td>181</td>\n",
       "      <td>Action</td>\n",
       "      <td>8.4</td>\n",
       "      <td>Anthony Russo</td>\n",
       "      <td>Joe Russo</td>\n",
       "      <td>809955</td>\n",
       "      <td>858373000.0</td>\n",
       "      <td>78.0</td>\n",
       "    </tr>\n",
       "    <tr>\n",
       "      <th>5.570043e+11</th>\n",
       "      <td>Kurenai no buta</td>\n",
       "      <td>1992</td>\n",
       "      <td>94</td>\n",
       "      <td>Animation</td>\n",
       "      <td>7.7</td>\n",
       "      <td>Hayao Miyazaki</td>\n",
       "      <td>Shûichirô Moriyama</td>\n",
       "      <td>77798</td>\n",
       "      <td>871544815.0</td>\n",
       "      <td>83.0</td>\n",
       "    </tr>\n",
       "    <tr>\n",
       "      <th>5.246456e+11</th>\n",
       "      <td>Stalag 17</td>\n",
       "      <td>1953</td>\n",
       "      <td>120</td>\n",
       "      <td>Comedy</td>\n",
       "      <td>8.0</td>\n",
       "      <td>Billy Wilder</td>\n",
       "      <td>William Holden</td>\n",
       "      <td>51046</td>\n",
       "      <td>780722628.0</td>\n",
       "      <td>84.0</td>\n",
       "    </tr>\n",
       "    <tr>\n",
       "      <th>5.123661e+11</th>\n",
       "      <td>The Trial of the Chicago 7</td>\n",
       "      <td>2020</td>\n",
       "      <td>129</td>\n",
       "      <td>Drama</td>\n",
       "      <td>7.8</td>\n",
       "      <td>Aaron Sorkin</td>\n",
       "      <td>Eddie Redmayne</td>\n",
       "      <td>89896</td>\n",
       "      <td>853090410.0</td>\n",
       "      <td>77.0</td>\n",
       "    </tr>\n",
       "    <tr>\n",
       "      <th>5.106673e+11</th>\n",
       "      <td>Love and Death</td>\n",
       "      <td>1975</td>\n",
       "      <td>85</td>\n",
       "      <td>Comedy</td>\n",
       "      <td>7.7</td>\n",
       "      <td>Woody Allen</td>\n",
       "      <td>Woody Allen</td>\n",
       "      <td>36037</td>\n",
       "      <td>745173387.0</td>\n",
       "      <td>89.0</td>\n",
       "    </tr>\n",
       "    <tr>\n",
       "      <th>5.052570e+11</th>\n",
       "      <td>Cape Fear</td>\n",
       "      <td>1962</td>\n",
       "      <td>106</td>\n",
       "      <td>Drama</td>\n",
       "      <td>7.7</td>\n",
       "      <td>J. Lee Thompson</td>\n",
       "      <td>Gregory Peck</td>\n",
       "      <td>26457</td>\n",
       "      <td>863391987.0</td>\n",
       "      <td>76.0</td>\n",
       "    </tr>\n",
       "    <tr>\n",
       "      <th>5.051502e+11</th>\n",
       "      <td>Lifeboat</td>\n",
       "      <td>1944</td>\n",
       "      <td>97</td>\n",
       "      <td>Drama</td>\n",
       "      <td>7.6</td>\n",
       "      <td>Alfred Hitchcock</td>\n",
       "      <td>Tallulah Bankhead</td>\n",
       "      <td>26471</td>\n",
       "      <td>852142728.0</td>\n",
       "      <td>78.0</td>\n",
       "    </tr>\n",
       "    <tr>\n",
       "      <th>5.034358e+11</th>\n",
       "      <td>Who's Afraid of Virginia Woolf?</td>\n",
       "      <td>1966</td>\n",
       "      <td>131</td>\n",
       "      <td>Drama</td>\n",
       "      <td>8.0</td>\n",
       "      <td>Mike Nichols</td>\n",
       "      <td>Elizabeth Taylor</td>\n",
       "      <td>68926</td>\n",
       "      <td>839059631.0</td>\n",
       "      <td>75.0</td>\n",
       "    </tr>\n",
       "    <tr>\n",
       "      <th>4.923526e+11</th>\n",
       "      <td>Avatar</td>\n",
       "      <td>2009</td>\n",
       "      <td>162</td>\n",
       "      <td>Action</td>\n",
       "      <td>7.8</td>\n",
       "      <td>James Cameron</td>\n",
       "      <td>Sam Worthington</td>\n",
       "      <td>1118998</td>\n",
       "      <td>760507625.0</td>\n",
       "      <td>83.0</td>\n",
       "    </tr>\n",
       "    <tr>\n",
       "      <th>4.825648e+11</th>\n",
       "      <td>Togo</td>\n",
       "      <td>2019</td>\n",
       "      <td>113</td>\n",
       "      <td>Adventure</td>\n",
       "      <td>8.0</td>\n",
       "      <td>Ericson Core</td>\n",
       "      <td>Willem Dafoe</td>\n",
       "      <td>37556</td>\n",
       "      <td>874211619.0</td>\n",
       "      <td>69.0</td>\n",
       "    </tr>\n",
       "    <tr>\n",
       "      <th>4.761151e+11</th>\n",
       "      <td>The Elephant Man</td>\n",
       "      <td>1980</td>\n",
       "      <td>124</td>\n",
       "      <td>Biography</td>\n",
       "      <td>8.1</td>\n",
       "      <td>David Lynch</td>\n",
       "      <td>Anthony Hopkins</td>\n",
       "      <td>220078</td>\n",
       "      <td>753585104.0</td>\n",
       "      <td>78.0</td>\n",
       "    </tr>\n",
       "    <tr>\n",
       "      <th>4.685253e+11</th>\n",
       "      <td>Zulu</td>\n",
       "      <td>1964</td>\n",
       "      <td>138</td>\n",
       "      <td>Drama</td>\n",
       "      <td>7.7</td>\n",
       "      <td>Cy Endfield</td>\n",
       "      <td>Stanley Baker</td>\n",
       "      <td>35999</td>\n",
       "      <td>790226546.0</td>\n",
       "      <td>77.0</td>\n",
       "    </tr>\n",
       "    <tr>\n",
       "      <th>4.594551e+11</th>\n",
       "      <td>Network</td>\n",
       "      <td>1976</td>\n",
       "      <td>121</td>\n",
       "      <td>Drama</td>\n",
       "      <td>8.1</td>\n",
       "      <td>Sidney Lumet</td>\n",
       "      <td>Faye Dunaway</td>\n",
       "      <td>144911</td>\n",
       "      <td>683407829.0</td>\n",
       "      <td>83.0</td>\n",
       "    </tr>\n",
       "    <tr>\n",
       "      <th>4.467343e+11</th>\n",
       "      <td>Tenkû no shiro Rapyuta</td>\n",
       "      <td>1986</td>\n",
       "      <td>125</td>\n",
       "      <td>Animation</td>\n",
       "      <td>8.0</td>\n",
       "      <td>Hayao Miyazaki</td>\n",
       "      <td>Mayumi Tanaka</td>\n",
       "      <td>150140</td>\n",
       "      <td>715920290.0</td>\n",
       "      <td>78.0</td>\n",
       "    </tr>\n",
       "    <tr>\n",
       "      <th>4.268542e+11</th>\n",
       "      <td>Judgment at Nuremberg</td>\n",
       "      <td>1961</td>\n",
       "      <td>179</td>\n",
       "      <td>Drama</td>\n",
       "      <td>8.2</td>\n",
       "      <td>Stanley Kramer</td>\n",
       "      <td>Spencer Tracy</td>\n",
       "      <td>69458</td>\n",
       "      <td>867589901.0</td>\n",
       "      <td>60.0</td>\n",
       "    </tr>\n",
       "    <tr>\n",
       "      <th>4.202303e+11</th>\n",
       "      <td>Victoria</td>\n",
       "      <td>2015</td>\n",
       "      <td>138</td>\n",
       "      <td>Crime</td>\n",
       "      <td>7.6</td>\n",
       "      <td>Sebastian Schipper</td>\n",
       "      <td>Laia Costa</td>\n",
       "      <td>52903</td>\n",
       "      <td>718096942.0</td>\n",
       "      <td>77.0</td>\n",
       "    </tr>\n",
       "  </tbody>\n",
       "</table>\n",
       "</div>"
      ],
      "text/plain": [
       "                                            Series_Title Released_Year  \\\n",
       "point                                                                    \n",
       "6.200879e+11                                Jules et Jim          1962   \n",
       "6.103195e+11                            Bonnie and Clyde          1967   \n",
       "5.919705e+11  Star Wars: Episode VII - The Force Awakens          2015   \n",
       "5.814235e+11                         Det sjunde inseglet          1957   \n",
       "5.624060e+11                           Avengers: Endgame          2019   \n",
       "5.570043e+11                             Kurenai no buta          1992   \n",
       "5.246456e+11                                   Stalag 17          1953   \n",
       "5.123661e+11                  The Trial of the Chicago 7          2020   \n",
       "5.106673e+11                              Love and Death          1975   \n",
       "5.052570e+11                                   Cape Fear          1962   \n",
       "5.051502e+11                                    Lifeboat          1944   \n",
       "5.034358e+11             Who's Afraid of Virginia Woolf?          1966   \n",
       "4.923526e+11                                      Avatar          2009   \n",
       "4.825648e+11                                        Togo          2019   \n",
       "4.761151e+11                            The Elephant Man          1980   \n",
       "4.685253e+11                                        Zulu          1964   \n",
       "4.594551e+11                                     Network          1976   \n",
       "4.467343e+11                      Tenkû no shiro Rapyuta          1986   \n",
       "4.268542e+11                       Judgment at Nuremberg          1961   \n",
       "4.202303e+11                                    Victoria          2015   \n",
       "\n",
       "              Runtime      Genre  IMDB_Rating            Director  \\\n",
       "point                                                               \n",
       "6.200879e+11      105      Drama          7.8   François Truffaut   \n",
       "6.103195e+11      111     Action          7.8         Arthur Penn   \n",
       "5.919705e+11      138     Action          7.9         J.J. Abrams   \n",
       "5.814235e+11       96      Drama          8.2      Ingmar Bergman   \n",
       "5.624060e+11      181     Action          8.4       Anthony Russo   \n",
       "5.570043e+11       94  Animation          7.7      Hayao Miyazaki   \n",
       "5.246456e+11      120     Comedy          8.0        Billy Wilder   \n",
       "5.123661e+11      129      Drama          7.8        Aaron Sorkin   \n",
       "5.106673e+11       85     Comedy          7.7         Woody Allen   \n",
       "5.052570e+11      106      Drama          7.7     J. Lee Thompson   \n",
       "5.051502e+11       97      Drama          7.6    Alfred Hitchcock   \n",
       "5.034358e+11      131      Drama          8.0        Mike Nichols   \n",
       "4.923526e+11      162     Action          7.8       James Cameron   \n",
       "4.825648e+11      113  Adventure          8.0        Ericson Core   \n",
       "4.761151e+11      124  Biography          8.1         David Lynch   \n",
       "4.685253e+11      138      Drama          7.7         Cy Endfield   \n",
       "4.594551e+11      121      Drama          8.1        Sidney Lumet   \n",
       "4.467343e+11      125  Animation          8.0      Hayao Miyazaki   \n",
       "4.268542e+11      179      Drama          8.2      Stanley Kramer   \n",
       "4.202303e+11      138      Crime          7.6  Sebastian Schipper   \n",
       "\n",
       "                           Star1  No_of_Votes        Gross  Metascore  \n",
       "point                                                                  \n",
       "6.200879e+11       Jeanne Moreau        37605  819571597.0       97.0  \n",
       "6.103195e+11       Warren Beatty       102415  909838190.0       86.0  \n",
       "5.919705e+11        Daisy Ridley       860823  936662225.0       80.0  \n",
       "5.814235e+11       Max von Sydow       164939  805742063.0       88.0  \n",
       "5.624060e+11           Joe Russo       809955  858373000.0       78.0  \n",
       "5.570043e+11  Shûichirô Moriyama        77798  871544815.0       83.0  \n",
       "5.246456e+11      William Holden        51046  780722628.0       84.0  \n",
       "5.123661e+11      Eddie Redmayne        89896  853090410.0       77.0  \n",
       "5.106673e+11         Woody Allen        36037  745173387.0       89.0  \n",
       "5.052570e+11        Gregory Peck        26457  863391987.0       76.0  \n",
       "5.051502e+11   Tallulah Bankhead        26471  852142728.0       78.0  \n",
       "5.034358e+11    Elizabeth Taylor        68926  839059631.0       75.0  \n",
       "4.923526e+11     Sam Worthington      1118998  760507625.0       83.0  \n",
       "4.825648e+11        Willem Dafoe        37556  874211619.0       69.0  \n",
       "4.761151e+11     Anthony Hopkins       220078  753585104.0       78.0  \n",
       "4.685253e+11       Stanley Baker        35999  790226546.0       77.0  \n",
       "4.594551e+11        Faye Dunaway       144911  683407829.0       83.0  \n",
       "4.467343e+11       Mayumi Tanaka       150140  715920290.0       78.0  \n",
       "4.268542e+11       Spencer Tracy        69458  867589901.0       60.0  \n",
       "4.202303e+11          Laia Costa        52903  718096942.0       77.0  "
      ]
     },
     "execution_count": 51,
     "metadata": {},
     "output_type": "execute_result"
    }
   ],
   "source": [
    "# list of movies with highest point by imdb rating*gross*metascore\n",
    "\n",
    "point = df.IMDB_Rating*df.Gross*df.Metascore\n",
    "df[\"point\"] = point\n",
    "df.set_index(\"point\").sort_values(by=[\"point\"],ascending=False).head(20)"
   ]
  },
  {
   "cell_type": "code",
   "execution_count": 61,
   "id": "84d22a22",
   "metadata": {},
   "outputs": [
    {
     "data": {
      "text/plain": [
       "48      Western\n",
       "115     Western\n",
       "691     Western\n",
       "12      Western\n",
       "700    Thriller\n",
       "420     Mystery\n",
       "220     Mystery\n",
       "119     Mystery\n",
       "961     Mystery\n",
       "959     Mystery\n",
       "69      Mystery\n",
       "829     Mystery\n",
       "393     Mystery\n",
       "899     Mystery\n",
       "714     Mystery\n",
       "145     Mystery\n",
       "81      Mystery\n",
       "876      Horror\n",
       "844      Horror\n",
       "75       Horror\n",
       "Name: Genre, dtype: object"
      ]
     },
     "execution_count": 61,
     "metadata": {},
     "output_type": "execute_result"
    }
   ],
   "source": [
    "df.Genre.sort_values(ascending=False).head(20)"
   ]
  },
  {
   "cell_type": "code",
   "execution_count": null,
   "id": "1579a66a",
   "metadata": {},
   "outputs": [],
   "source": []
  }
 ],
 "metadata": {
  "kernelspec": {
   "display_name": "Python 3 (ipykernel)",
   "language": "python",
   "name": "python3"
  },
  "language_info": {
   "codemirror_mode": {
    "name": "ipython",
    "version": 3
   },
   "file_extension": ".py",
   "mimetype": "text/x-python",
   "name": "python",
   "nbconvert_exporter": "python",
   "pygments_lexer": "ipython3",
   "version": "3.7.0"
  }
 },
 "nbformat": 4,
 "nbformat_minor": 5
}
