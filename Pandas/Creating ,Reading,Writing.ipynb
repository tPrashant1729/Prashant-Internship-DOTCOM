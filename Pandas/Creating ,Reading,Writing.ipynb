{
 "cells": [
  {
   "cell_type": "code",
   "execution_count": 1,
   "id": "b736128f",
   "metadata": {
    "scrolled": true
   },
   "outputs": [],
   "source": [
    "import pandas as pd"
   ]
  },
  {
   "cell_type": "code",
   "execution_count": null,
   "id": "9d3f6a5d",
   "metadata": {},
   "outputs": [],
   "source": [
    "# Create"
   ]
  },
  {
   "cell_type": "code",
   "execution_count": 2,
   "id": "f1c6f7e0",
   "metadata": {},
   "outputs": [
    {
     "data": {
      "text/html": [
       "<div>\n",
       "<style scoped>\n",
       "    .dataframe tbody tr th:only-of-type {\n",
       "        vertical-align: middle;\n",
       "    }\n",
       "\n",
       "    .dataframe tbody tr th {\n",
       "        vertical-align: top;\n",
       "    }\n",
       "\n",
       "    .dataframe thead th {\n",
       "        text-align: right;\n",
       "    }\n",
       "</style>\n",
       "<table border=\"1\" class=\"dataframe\">\n",
       "  <thead>\n",
       "    <tr style=\"text-align: right;\">\n",
       "      <th></th>\n",
       "      <th>yes</th>\n",
       "      <th>no</th>\n",
       "    </tr>\n",
       "  </thead>\n",
       "  <tbody>\n",
       "    <tr>\n",
       "      <th>0</th>\n",
       "      <td>23</td>\n",
       "      <td>1</td>\n",
       "    </tr>\n",
       "    <tr>\n",
       "      <th>1</th>\n",
       "      <td>56</td>\n",
       "      <td>89</td>\n",
       "    </tr>\n",
       "  </tbody>\n",
       "</table>\n",
       "</div>"
      ],
      "text/plain": [
       "   yes  no\n",
       "0   23   1\n",
       "1   56  89"
      ]
     },
     "execution_count": 2,
     "metadata": {},
     "output_type": "execute_result"
    }
   ],
   "source": [
    "# A DataFrame is a table.\n",
    "\n",
    "pd.DataFrame({\"yes\":[23,56],\"no\":[1,89]})"
   ]
  },
  {
   "cell_type": "code",
   "execution_count": 6,
   "id": "9bc817ea",
   "metadata": {},
   "outputs": [
    {
     "data": {
      "text/html": [
       "<div>\n",
       "<style scoped>\n",
       "    .dataframe tbody tr th:only-of-type {\n",
       "        vertical-align: middle;\n",
       "    }\n",
       "\n",
       "    .dataframe tbody tr th {\n",
       "        vertical-align: top;\n",
       "    }\n",
       "\n",
       "    .dataframe thead th {\n",
       "        text-align: right;\n",
       "    }\n",
       "</style>\n",
       "<table border=\"1\" class=\"dataframe\">\n",
       "  <thead>\n",
       "    <tr style=\"text-align: right;\">\n",
       "      <th></th>\n",
       "      <th>Bob</th>\n",
       "      <th>Sue</th>\n",
       "    </tr>\n",
       "  </thead>\n",
       "  <tbody>\n",
       "    <tr>\n",
       "      <th>0</th>\n",
       "      <td>I liked it.</td>\n",
       "      <td>Pretty good.</td>\n",
       "    </tr>\n",
       "    <tr>\n",
       "      <th>1</th>\n",
       "      <td>It was awful.</td>\n",
       "      <td>Bland.</td>\n",
       "    </tr>\n",
       "  </tbody>\n",
       "</table>\n",
       "</div>"
      ],
      "text/plain": [
       "             Bob           Sue\n",
       "0    I liked it.  Pretty good.\n",
       "1  It was awful.        Bland."
      ]
     },
     "execution_count": 6,
     "metadata": {},
     "output_type": "execute_result"
    }
   ],
   "source": [
    "# The dictionary-list constructor assigns values to the column labels, but just uses \n",
    "# an ascending count from 0 (0, 1, 2, 3, ...) for the row labels.\n",
    "\n",
    "pd.DataFrame({'Bob': ['I liked it.', 'It was awful.'], 'Sue': ['Pretty good.', 'Bland.']})"
   ]
  },
  {
   "cell_type": "code",
   "execution_count": 7,
   "id": "b25319d4",
   "metadata": {},
   "outputs": [
    {
     "data": {
      "text/html": [
       "<div>\n",
       "<style scoped>\n",
       "    .dataframe tbody tr th:only-of-type {\n",
       "        vertical-align: middle;\n",
       "    }\n",
       "\n",
       "    .dataframe tbody tr th {\n",
       "        vertical-align: top;\n",
       "    }\n",
       "\n",
       "    .dataframe thead th {\n",
       "        text-align: right;\n",
       "    }\n",
       "</style>\n",
       "<table border=\"1\" class=\"dataframe\">\n",
       "  <thead>\n",
       "    <tr style=\"text-align: right;\">\n",
       "      <th></th>\n",
       "      <th>Bob</th>\n",
       "      <th>Sue</th>\n",
       "    </tr>\n",
       "  </thead>\n",
       "  <tbody>\n",
       "    <tr>\n",
       "      <th>+ve feedback</th>\n",
       "      <td>I liked it.</td>\n",
       "      <td>Pretty good.</td>\n",
       "    </tr>\n",
       "    <tr>\n",
       "      <th>-ve feedback</th>\n",
       "      <td>It was awful.</td>\n",
       "      <td>Bland.</td>\n",
       "    </tr>\n",
       "  </tbody>\n",
       "</table>\n",
       "</div>"
      ],
      "text/plain": [
       "                        Bob           Sue\n",
       "+ve feedback    I liked it.  Pretty good.\n",
       "-ve feedback  It was awful.        Bland."
      ]
     },
     "execution_count": 7,
     "metadata": {},
     "output_type": "execute_result"
    }
   ],
   "source": [
    "pd.DataFrame({'Bob': ['I liked it.', 'It was awful.'], 'Sue': ['Pretty good.', 'Bland.']},\n",
    "            index=['+ve feedback','-ve feedback'])"
   ]
  },
  {
   "cell_type": "markdown",
   "id": "e73ba197",
   "metadata": {},
   "source": [
    "Series"
   ]
  },
  {
   "cell_type": "code",
   "execution_count": 8,
   "id": "24cb6a84",
   "metadata": {},
   "outputs": [
    {
     "data": {
      "text/plain": [
       "0     4\n",
       "1     5\n",
       "2     7\n",
       "3    89\n",
       "4     0\n",
       "dtype: int64"
      ]
     },
     "execution_count": 8,
     "metadata": {},
     "output_type": "execute_result"
    }
   ],
   "source": [
    "# A Series, by contrast, is a sequence of data values. If a DataFrame is a table, a Series is a list.\n",
    "# And in fact you can create one with nothing more than a list:\n",
    "\n",
    "pd.Series([4,5,7,89,0])"
   ]
  },
  {
   "cell_type": "code",
   "execution_count": 9,
   "id": "1f0dbc01",
   "metadata": {},
   "outputs": [
    {
     "data": {
      "text/plain": [
       "2015 Sales    30\n",
       "2016 Sales    35\n",
       "2017 Sales    40\n",
       "Name: Product A, dtype: int64"
      ]
     },
     "execution_count": 9,
     "metadata": {},
     "output_type": "execute_result"
    }
   ],
   "source": [
    "pd.Series([30, 35, 40], index=['2015 Sales', '2016 Sales', '2017 Sales'], name='Product A')"
   ]
  },
  {
   "cell_type": "code",
   "execution_count": 15,
   "id": "f1951655",
   "metadata": {},
   "outputs": [
    {
     "data": {
      "text/plain": [
       "Series([], Name: prashant, dtype: string)"
      ]
     },
     "execution_count": 15,
     "metadata": {},
     "output_type": "execute_result"
    }
   ],
   "source": [
    "pd.Series(name = \"prashant\",dtype = \"string\")"
   ]
  },
  {
   "cell_type": "code",
   "execution_count": null,
   "id": "06e1761c",
   "metadata": {},
   "outputs": [],
   "source": [
    "# Read"
   ]
  },
  {
   "cell_type": "code",
   "execution_count": 16,
   "id": "0fcf05f1",
   "metadata": {},
   "outputs": [],
   "source": [
    "movies = pd.read_csv(\"imdb-top-1000.csv\")"
   ]
  },
  {
   "cell_type": "code",
   "execution_count": 17,
   "id": "f71c1a84",
   "metadata": {},
   "outputs": [
    {
     "data": {
      "text/plain": [
       "(1000, 10)"
      ]
     },
     "execution_count": 17,
     "metadata": {},
     "output_type": "execute_result"
    }
   ],
   "source": [
    "movies.shape"
   ]
  },
  {
   "cell_type": "code",
   "execution_count": 18,
   "id": "8ec5cd79",
   "metadata": {},
   "outputs": [
    {
     "data": {
      "text/html": [
       "<div>\n",
       "<style scoped>\n",
       "    .dataframe tbody tr th:only-of-type {\n",
       "        vertical-align: middle;\n",
       "    }\n",
       "\n",
       "    .dataframe tbody tr th {\n",
       "        vertical-align: top;\n",
       "    }\n",
       "\n",
       "    .dataframe thead th {\n",
       "        text-align: right;\n",
       "    }\n",
       "</style>\n",
       "<table border=\"1\" class=\"dataframe\">\n",
       "  <thead>\n",
       "    <tr style=\"text-align: right;\">\n",
       "      <th></th>\n",
       "      <th>Series_Title</th>\n",
       "      <th>Released_Year</th>\n",
       "      <th>Runtime</th>\n",
       "      <th>Genre</th>\n",
       "      <th>IMDB_Rating</th>\n",
       "      <th>Director</th>\n",
       "      <th>Star1</th>\n",
       "      <th>No_of_Votes</th>\n",
       "      <th>Gross</th>\n",
       "      <th>Metascore</th>\n",
       "    </tr>\n",
       "  </thead>\n",
       "  <tbody>\n",
       "    <tr>\n",
       "      <th>0</th>\n",
       "      <td>The Shawshank Redemption</td>\n",
       "      <td>1994</td>\n",
       "      <td>142</td>\n",
       "      <td>Drama</td>\n",
       "      <td>9.3</td>\n",
       "      <td>Frank Darabont</td>\n",
       "      <td>Tim Robbins</td>\n",
       "      <td>2343110</td>\n",
       "      <td>28341469.0</td>\n",
       "      <td>80.0</td>\n",
       "    </tr>\n",
       "    <tr>\n",
       "      <th>1</th>\n",
       "      <td>The Godfather</td>\n",
       "      <td>1972</td>\n",
       "      <td>175</td>\n",
       "      <td>Crime</td>\n",
       "      <td>9.2</td>\n",
       "      <td>Francis Ford Coppola</td>\n",
       "      <td>Marlon Brando</td>\n",
       "      <td>1620367</td>\n",
       "      <td>134966411.0</td>\n",
       "      <td>100.0</td>\n",
       "    </tr>\n",
       "    <tr>\n",
       "      <th>2</th>\n",
       "      <td>The Dark Knight</td>\n",
       "      <td>2008</td>\n",
       "      <td>152</td>\n",
       "      <td>Action</td>\n",
       "      <td>9.0</td>\n",
       "      <td>Christopher Nolan</td>\n",
       "      <td>Christian Bale</td>\n",
       "      <td>2303232</td>\n",
       "      <td>534858444.0</td>\n",
       "      <td>84.0</td>\n",
       "    </tr>\n",
       "    <tr>\n",
       "      <th>3</th>\n",
       "      <td>The Godfather: Part II</td>\n",
       "      <td>1974</td>\n",
       "      <td>202</td>\n",
       "      <td>Crime</td>\n",
       "      <td>9.0</td>\n",
       "      <td>Francis Ford Coppola</td>\n",
       "      <td>Al Pacino</td>\n",
       "      <td>1129952</td>\n",
       "      <td>57300000.0</td>\n",
       "      <td>90.0</td>\n",
       "    </tr>\n",
       "    <tr>\n",
       "      <th>4</th>\n",
       "      <td>12 Angry Men</td>\n",
       "      <td>1957</td>\n",
       "      <td>96</td>\n",
       "      <td>Crime</td>\n",
       "      <td>9.0</td>\n",
       "      <td>Sidney Lumet</td>\n",
       "      <td>Henry Fonda</td>\n",
       "      <td>689845</td>\n",
       "      <td>4360000.0</td>\n",
       "      <td>96.0</td>\n",
       "    </tr>\n",
       "  </tbody>\n",
       "</table>\n",
       "</div>"
      ],
      "text/plain": [
       "               Series_Title Released_Year  Runtime   Genre  IMDB_Rating  \\\n",
       "0  The Shawshank Redemption          1994      142   Drama          9.3   \n",
       "1             The Godfather          1972      175   Crime          9.2   \n",
       "2           The Dark Knight          2008      152  Action          9.0   \n",
       "3    The Godfather: Part II          1974      202   Crime          9.0   \n",
       "4              12 Angry Men          1957       96   Crime          9.0   \n",
       "\n",
       "               Director           Star1  No_of_Votes        Gross  Metascore  \n",
       "0        Frank Darabont     Tim Robbins      2343110   28341469.0       80.0  \n",
       "1  Francis Ford Coppola   Marlon Brando      1620367  134966411.0      100.0  \n",
       "2     Christopher Nolan  Christian Bale      2303232  534858444.0       84.0  \n",
       "3  Francis Ford Coppola       Al Pacino      1129952   57300000.0       90.0  \n",
       "4          Sidney Lumet     Henry Fonda       689845    4360000.0       96.0  "
      ]
     },
     "execution_count": 18,
     "metadata": {},
     "output_type": "execute_result"
    }
   ],
   "source": [
    "movies.head()\n",
    "# Here new col index will be created automatically"
   ]
  },
  {
   "cell_type": "code",
   "execution_count": null,
   "id": "aa717575",
   "metadata": {},
   "outputs": [],
   "source": []
  },
  {
   "cell_type": "code",
   "execution_count": 37,
   "id": "e6060d7a",
   "metadata": {},
   "outputs": [
    {
     "data": {
      "text/html": [
       "<div>\n",
       "<style scoped>\n",
       "    .dataframe tbody tr th:only-of-type {\n",
       "        vertical-align: middle;\n",
       "    }\n",
       "\n",
       "    .dataframe tbody tr th {\n",
       "        vertical-align: top;\n",
       "    }\n",
       "\n",
       "    .dataframe thead th {\n",
       "        text-align: right;\n",
       "    }\n",
       "</style>\n",
       "<table border=\"1\" class=\"dataframe\">\n",
       "  <thead>\n",
       "    <tr style=\"text-align: right;\">\n",
       "      <th></th>\n",
       "      <th>Released_Year</th>\n",
       "      <th>Runtime</th>\n",
       "      <th>Genre</th>\n",
       "      <th>IMDB_Rating</th>\n",
       "      <th>Director</th>\n",
       "      <th>Star1</th>\n",
       "      <th>No_of_Votes</th>\n",
       "      <th>Gross</th>\n",
       "      <th>Metascore</th>\n",
       "    </tr>\n",
       "    <tr>\n",
       "      <th>Series_Title</th>\n",
       "      <th></th>\n",
       "      <th></th>\n",
       "      <th></th>\n",
       "      <th></th>\n",
       "      <th></th>\n",
       "      <th></th>\n",
       "      <th></th>\n",
       "      <th></th>\n",
       "      <th></th>\n",
       "    </tr>\n",
       "  </thead>\n",
       "  <tbody>\n",
       "    <tr>\n",
       "      <th>The Shawshank Redemption</th>\n",
       "      <td>1994</td>\n",
       "      <td>142</td>\n",
       "      <td>Drama</td>\n",
       "      <td>9.3</td>\n",
       "      <td>Frank Darabont</td>\n",
       "      <td>Tim Robbins</td>\n",
       "      <td>2343110</td>\n",
       "      <td>28341469.0</td>\n",
       "      <td>80.0</td>\n",
       "    </tr>\n",
       "    <tr>\n",
       "      <th>The Godfather</th>\n",
       "      <td>1972</td>\n",
       "      <td>175</td>\n",
       "      <td>Crime</td>\n",
       "      <td>9.2</td>\n",
       "      <td>Francis Ford Coppola</td>\n",
       "      <td>Marlon Brando</td>\n",
       "      <td>1620367</td>\n",
       "      <td>134966411.0</td>\n",
       "      <td>100.0</td>\n",
       "    </tr>\n",
       "    <tr>\n",
       "      <th>The Dark Knight</th>\n",
       "      <td>2008</td>\n",
       "      <td>152</td>\n",
       "      <td>Action</td>\n",
       "      <td>9.0</td>\n",
       "      <td>Christopher Nolan</td>\n",
       "      <td>Christian Bale</td>\n",
       "      <td>2303232</td>\n",
       "      <td>534858444.0</td>\n",
       "      <td>84.0</td>\n",
       "    </tr>\n",
       "    <tr>\n",
       "      <th>The Godfather: Part II</th>\n",
       "      <td>1974</td>\n",
       "      <td>202</td>\n",
       "      <td>Crime</td>\n",
       "      <td>9.0</td>\n",
       "      <td>Francis Ford Coppola</td>\n",
       "      <td>Al Pacino</td>\n",
       "      <td>1129952</td>\n",
       "      <td>57300000.0</td>\n",
       "      <td>90.0</td>\n",
       "    </tr>\n",
       "    <tr>\n",
       "      <th>12 Angry Men</th>\n",
       "      <td>1957</td>\n",
       "      <td>96</td>\n",
       "      <td>Crime</td>\n",
       "      <td>9.0</td>\n",
       "      <td>Sidney Lumet</td>\n",
       "      <td>Henry Fonda</td>\n",
       "      <td>689845</td>\n",
       "      <td>4360000.0</td>\n",
       "      <td>96.0</td>\n",
       "    </tr>\n",
       "  </tbody>\n",
       "</table>\n",
       "</div>"
      ],
      "text/plain": [
       "                         Released_Year  Runtime   Genre  IMDB_Rating  \\\n",
       "Series_Title                                                           \n",
       "The Shawshank Redemption          1994      142   Drama          9.3   \n",
       "The Godfather                     1972      175   Crime          9.2   \n",
       "The Dark Knight                   2008      152  Action          9.0   \n",
       "The Godfather: Part II            1974      202   Crime          9.0   \n",
       "12 Angry Men                      1957       96   Crime          9.0   \n",
       "\n",
       "                                      Director           Star1  No_of_Votes  \\\n",
       "Series_Title                                                                  \n",
       "The Shawshank Redemption        Frank Darabont     Tim Robbins      2343110   \n",
       "The Godfather             Francis Ford Coppola   Marlon Brando      1620367   \n",
       "The Dark Knight              Christopher Nolan  Christian Bale      2303232   \n",
       "The Godfather: Part II    Francis Ford Coppola       Al Pacino      1129952   \n",
       "12 Angry Men                      Sidney Lumet     Henry Fonda       689845   \n",
       "\n",
       "                                Gross  Metascore  \n",
       "Series_Title                                      \n",
       "The Shawshank Redemption   28341469.0       80.0  \n",
       "The Godfather             134966411.0      100.0  \n",
       "The Dark Knight           534858444.0       84.0  \n",
       "The Godfather: Part II     57300000.0       90.0  \n",
       "12 Angry Men                4360000.0       96.0  "
      ]
     },
     "execution_count": 37,
     "metadata": {},
     "output_type": "execute_result"
    }
   ],
   "source": [
    "# Here new col index will not be created automatically,because of index_col=0\n",
    "mov = pd.read_csv(\"imdb-top-1000.csv\",index_col=0)\n",
    "# index_col is used to specify index_col by perticular col\n",
    "# mov = pd.read_csv(\"imdb-top-1000.csv\",index_col=4)\n",
    "\n",
    "mov.head()"
   ]
  },
  {
   "cell_type": "code",
   "execution_count": 23,
   "id": "9c3aba58",
   "metadata": {},
   "outputs": [],
   "source": [
    "# Exercise"
   ]
  },
  {
   "cell_type": "code",
   "execution_count": 26,
   "id": "e7d0402f",
   "metadata": {},
   "outputs": [],
   "source": [
    "fruit_sales = pd.DataFrame({'apple':[35,41],'bananas':[21,34]},index=[\"2017 Sales\",\"2018 sales\"])"
   ]
  },
  {
   "cell_type": "code",
   "execution_count": 27,
   "id": "10fb3baa",
   "metadata": {},
   "outputs": [
    {
     "data": {
      "text/html": [
       "<div>\n",
       "<style scoped>\n",
       "    .dataframe tbody tr th:only-of-type {\n",
       "        vertical-align: middle;\n",
       "    }\n",
       "\n",
       "    .dataframe tbody tr th {\n",
       "        vertical-align: top;\n",
       "    }\n",
       "\n",
       "    .dataframe thead th {\n",
       "        text-align: right;\n",
       "    }\n",
       "</style>\n",
       "<table border=\"1\" class=\"dataframe\">\n",
       "  <thead>\n",
       "    <tr style=\"text-align: right;\">\n",
       "      <th></th>\n",
       "      <th>apple</th>\n",
       "      <th>bananas</th>\n",
       "    </tr>\n",
       "  </thead>\n",
       "  <tbody>\n",
       "    <tr>\n",
       "      <th>2017 Sales</th>\n",
       "      <td>35</td>\n",
       "      <td>21</td>\n",
       "    </tr>\n",
       "    <tr>\n",
       "      <th>2018 sales</th>\n",
       "      <td>41</td>\n",
       "      <td>34</td>\n",
       "    </tr>\n",
       "  </tbody>\n",
       "</table>\n",
       "</div>"
      ],
      "text/plain": [
       "            apple  bananas\n",
       "2017 Sales     35       21\n",
       "2018 sales     41       34"
      ]
     },
     "execution_count": 27,
     "metadata": {},
     "output_type": "execute_result"
    }
   ],
   "source": [
    "fruit_sales"
   ]
  },
  {
   "cell_type": "code",
   "execution_count": 32,
   "id": "fcaf656e",
   "metadata": {},
   "outputs": [
    {
     "data": {
      "text/plain": [
       "flour    4 cup\n",
       "milk     1 cup\n",
       "egg      2 cup\n",
       "spam     1 cup\n",
       "Name: Dinner, dtype: object"
      ]
     },
     "execution_count": 32,
     "metadata": {},
     "output_type": "execute_result"
    }
   ],
   "source": [
    "ingrediants=pd.Series([\"4 cup\",\"1 cup\",\"2 cup\",\"1 cup\"],index=[\"flour\",\"milk\",\"egg\",\"spam\"],name=\"Dinner\")\n",
    "ingrediants"
   ]
  },
  {
   "cell_type": "code",
   "execution_count": null,
   "id": "3cc450d0",
   "metadata": {},
   "outputs": [],
   "source": []
  }
 ],
 "metadata": {
  "kernelspec": {
   "display_name": "Python 3 (ipykernel)",
   "language": "python",
   "name": "python3"
  },
  "language_info": {
   "codemirror_mode": {
    "name": "ipython",
    "version": 3
   },
   "file_extension": ".py",
   "mimetype": "text/x-python",
   "name": "python",
   "nbconvert_exporter": "python",
   "pygments_lexer": "ipython3",
   "version": "3.7.0"
  }
 },
 "nbformat": 4,
 "nbformat_minor": 5
}
