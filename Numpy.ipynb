{
 "cells": [
  {
   "cell_type": "markdown",
   "id": "28b8b88e",
   "metadata": {},
   "source": [
    "# Numpy"
   ]
  },
  {
   "cell_type": "code",
   "execution_count": 1,
   "id": "713b2170",
   "metadata": {},
   "outputs": [
    {
     "name": "stdout",
     "output_type": "stream",
     "text": [
      "[1 2 3]\n"
     ]
    }
   ],
   "source": [
    "import numpy as np\n",
    "# rank 1 array\n",
    "arr = np.array([1,2,3])\n",
    "print(arr)"
   ]
  },
  {
   "cell_type": "code",
   "execution_count": 2,
   "id": "50c0ba02",
   "metadata": {},
   "outputs": [
    {
     "name": "stdout",
     "output_type": "stream",
     "text": [
      "[[ 1.   2.   3.   4. ]\n",
      " [ 5.   6.   7.   8. ]\n",
      " [ 1.2  3.2  4.   0. ]\n",
      " [10.  11.  23.  56. ]\n",
      " [23.   4.5 23.  12. ]]\n"
     ]
    }
   ],
   "source": [
    "# it is 2D array\n",
    "arr1 = np.array([[1,2,3,4],\n",
    "                [5,6,7,8],\n",
    "                [1.2,3.2,4,0],\n",
    "                [10,11,23,56],\n",
    "                [23,4.5,23,12]])\n",
    "print(arr1)"
   ]
  },
  {
   "cell_type": "code",
   "execution_count": 3,
   "id": "5c73ef3e",
   "metadata": {},
   "outputs": [
    {
     "name": "stdout",
     "output_type": "stream",
     "text": [
      "[1 2 3]\n"
     ]
    }
   ],
   "source": [
    "#making array with tuple\n",
    "arr2 = np.array((1,2,3))\n",
    "print(arr2)"
   ]
  },
  {
   "cell_type": "code",
   "execution_count": 4,
   "id": "1be212f9",
   "metadata": {},
   "outputs": [
    {
     "name": "stdout",
     "output_type": "stream",
     "text": [
      "[[ 1.   3. ]\n",
      " [ 1.2  4. ]\n",
      " [23.  23. ]]\n"
     ]
    }
   ],
   "source": [
    "# slicing of array : arr[row,col]\n",
    "sl_arr1 = arr1[::2,::2]\n",
    "print(sl_arr1)"
   ]
  },
  {
   "cell_type": "code",
   "execution_count": 5,
   "id": "37eb3333",
   "metadata": {},
   "outputs": [
    {
     "data": {
      "text/plain": [
       "array([0., 0.])"
      ]
     },
     "execution_count": 5,
     "metadata": {},
     "output_type": "execute_result"
    }
   ],
   "source": [
    "#it will create arr of zeros\n",
    "np.zeros(2)"
   ]
  },
  {
   "cell_type": "code",
   "execution_count": 6,
   "id": "22cba791",
   "metadata": {},
   "outputs": [
    {
     "data": {
      "text/plain": [
       "array([1., 1., 1.])"
      ]
     },
     "execution_count": 6,
     "metadata": {},
     "output_type": "execute_result"
    }
   ],
   "source": [
    "#it will create arr of ones\n",
    "np.ones(3)"
   ]
  },
  {
   "cell_type": "code",
   "execution_count": 7,
   "id": "09822a82",
   "metadata": {},
   "outputs": [
    {
     "data": {
      "text/plain": [
       "array([ 1. ,  3. ,  1.2,  4. , 23. , 23. ])"
      ]
     },
     "execution_count": 7,
     "metadata": {},
     "output_type": "execute_result"
    }
   ],
   "source": [
    "#it will create an empty arr with random values\n",
    "np.empty(6)"
   ]
  },
  {
   "cell_type": "code",
   "execution_count": 8,
   "id": "cc508f80",
   "metadata": {},
   "outputs": [
    {
     "data": {
      "text/plain": [
       "array([0, 1, 2, 3, 4, 5, 6, 7, 8])"
      ]
     },
     "execution_count": 8,
     "metadata": {},
     "output_type": "execute_result"
    }
   ],
   "source": [
    "# it will create array within range\n",
    "np.arange(9)"
   ]
  },
  {
   "cell_type": "code",
   "execution_count": 9,
   "id": "8ae4c6ab",
   "metadata": {},
   "outputs": [
    {
     "data": {
      "text/plain": [
       "array([4, 5, 6, 7, 8, 9])"
      ]
     },
     "execution_count": 9,
     "metadata": {},
     "output_type": "execute_result"
    }
   ],
   "source": [
    "# it will create array within range\n",
    "np.arange(4,10)"
   ]
  },
  {
   "cell_type": "code",
   "execution_count": 10,
   "id": "3489642a",
   "metadata": {},
   "outputs": [
    {
     "data": {
      "text/plain": [
       "array([4, 6, 8])"
      ]
     },
     "execution_count": 10,
     "metadata": {},
     "output_type": "execute_result"
    }
   ],
   "source": [
    "# it will create array within range with specified step\n",
    "np.arange(4,10,2)"
   ]
  },
  {
   "cell_type": "code",
   "execution_count": 11,
   "id": "ee0479ce",
   "metadata": {},
   "outputs": [
    {
     "data": {
      "text/plain": [
       "array([ 2.,  8., 14., 20.])"
      ]
     },
     "execution_count": 11,
     "metadata": {},
     "output_type": "execute_result"
    }
   ],
   "source": [
    "# it will create array within range with specified number of element\n",
    "np.linspace(2,20,num=4)"
   ]
  },
  {
   "cell_type": "code",
   "execution_count": 12,
   "id": "b09e5c24",
   "metadata": {},
   "outputs": [
    {
     "name": "stdout",
     "output_type": "stream",
     "text": [
      "[1 1 1]\n"
     ]
    },
    {
     "data": {
      "text/plain": [
       "array([1., 1., 1.])"
      ]
     },
     "execution_count": 12,
     "metadata": {},
     "output_type": "execute_result"
    }
   ],
   "source": [
    "x=np.ones(3,dtype = np.int64)\n",
    "print(x)\n",
    "y = np.ones(3)\n",
    "y  # by default dtype is float"
   ]
  },
  {
   "cell_type": "code",
   "execution_count": 13,
   "id": "1bcc66ef",
   "metadata": {},
   "outputs": [
    {
     "data": {
      "text/plain": [
       "array([ 0.00000000e+00,  6.42787610e-01,  9.84807753e-01,  8.66025404e-01,\n",
       "        3.42020143e-01, -3.42020143e-01, -8.66025404e-01, -9.84807753e-01,\n",
       "       -6.42787610e-01, -2.44929360e-16])"
      ]
     },
     "execution_count": 13,
     "metadata": {},
     "output_type": "execute_result"
    }
   ],
   "source": [
    "from numpy import pi\n",
    "x = np.linspace(0, 2 * pi, 10)        # useful to evaluate function at lots of points\n",
    "f = np.sin(x)\n",
    "f"
   ]
  },
  {
   "cell_type": "code",
   "execution_count": 14,
   "id": "5c123c99",
   "metadata": {
    "scrolled": true
   },
   "outputs": [
    {
     "name": "stdout",
     "output_type": "stream",
     "text": [
      "[ 0  2  4  6  8 10]\n",
      "[ 1  3  5  7  9 11]\n"
     ]
    }
   ],
   "source": [
    "a= np.linspace(0,10,6,dtype = int)\n",
    "print(a)\n",
    "#adds number to every element\n",
    "print(a+1)"
   ]
  },
  {
   "cell_type": "code",
   "execution_count": 15,
   "id": "dda643fb",
   "metadata": {},
   "outputs": [
    {
     "name": "stdout",
     "output_type": "stream",
     "text": [
      "[[5 6]\n",
      " [7 8]]\n"
     ]
    },
    {
     "data": {
      "text/plain": [
       "array([[ True,  True],\n",
       "       [ True,  True]])"
      ]
     },
     "execution_count": 15,
     "metadata": {},
     "output_type": "execute_result"
    }
   ],
   "source": [
    "ar = np.array([[1,2],[3,4]])\n",
    "br = np.array([[5,6],[7,8]])\n",
    "s = ar+4\n",
    "print(s)\n",
    "s == br"
   ]
  },
  {
   "cell_type": "code",
   "execution_count": 16,
   "id": "fc2350f6",
   "metadata": {},
   "outputs": [
    {
     "data": {
      "text/plain": [
       "26"
      ]
     },
     "execution_count": 16,
     "metadata": {},
     "output_type": "execute_result"
    }
   ],
   "source": [
    "br.sum() #sum of every element"
   ]
  },
  {
   "cell_type": "code",
   "execution_count": 17,
   "id": "489ae928",
   "metadata": {},
   "outputs": [
    {
     "name": "stdout",
     "output_type": "stream",
     "text": [
      "[[ 6  8]\n",
      " [10 12]]\n"
     ]
    }
   ],
   "source": [
    "ar = np.array([[1,2],[3,4]],np.int64)\n",
    "br = np.array([[5,6],[7,8]])\n",
    "print(ar+br)"
   ]
  },
  {
   "cell_type": "code",
   "execution_count": 18,
   "id": "85ac6640",
   "metadata": {},
   "outputs": [
    {
     "name": "stdout",
     "output_type": "stream",
     "text": [
      "int64\n"
     ]
    }
   ],
   "source": [
    "print(ar.dtype)"
   ]
  },
  {
   "cell_type": "code",
   "execution_count": 19,
   "id": "bf7335a3",
   "metadata": {},
   "outputs": [
    {
     "name": "stdout",
     "output_type": "stream",
     "text": [
      "[[1 3]\n",
      " [2 4]]\n"
     ]
    }
   ],
   "source": [
    "print(ar.T) #transpose of array "
   ]
  },
  {
   "cell_type": "code",
   "execution_count": 20,
   "id": "611d53ba",
   "metadata": {},
   "outputs": [
    {
     "name": "stdout",
     "output_type": "stream",
     "text": [
      "[[1 2]\n",
      " [3 4]]\n",
      "[[1.         1.41421356]\n",
      " [1.73205081 2.        ]]\n"
     ]
    }
   ],
   "source": [
    "print(ar)\n",
    "print(np.sqrt(ar))"
   ]
  },
  {
   "cell_type": "code",
   "execution_count": 22,
   "id": "1a5fc68a",
   "metadata": {},
   "outputs": [
    {
     "name": "stdout",
     "output_type": "stream",
     "text": [
      "7\n"
     ]
    },
    {
     "data": {
      "text/plain": [
       "array([[ 5,  6],\n",
       "       [10,  8]])"
      ]
     },
     "execution_count": 22,
     "metadata": {},
     "output_type": "execute_result"
    }
   ],
   "source": [
    "br = np.array([[5,6],[7,8]])\n",
    "print(br[1,0])\n",
    "br[1,0] = 10 #changing the value\n",
    "br"
   ]
  },
  {
   "cell_type": "code",
   "execution_count": 27,
   "id": "5e5f416c",
   "metadata": {},
   "outputs": [
    {
     "name": "stdout",
     "output_type": "stream",
     "text": [
      "[[5 6]\n",
      " [7 8]]\n"
     ]
    }
   ],
   "source": [
    "empty_like = np.empty_like(br)\n",
    "print(empty_like)"
   ]
  },
  {
   "cell_type": "code",
   "execution_count": 59,
   "id": "8cd21749",
   "metadata": {},
   "outputs": [
    {
     "data": {
      "text/plain": [
       "array([ 1,  2,  3,  4,  5,  6,  7,  8,  9, 10, 11, 12, 13, 14, 15, 16, 17,\n",
       "       18, 19, 20, 21, 22, 23, 24, 25, 26, 27, 28, 29, 30])"
      ]
     },
     "execution_count": 59,
     "metadata": {},
     "output_type": "execute_result"
    }
   ],
   "source": [
    "cr=np.arange(1,31)\n",
    "cr"
   ]
  },
  {
   "cell_type": "code",
   "execution_count": 60,
   "id": "ad23a7a4",
   "metadata": {},
   "outputs": [
    {
     "data": {
      "text/plain": [
       "(30,)"
      ]
     },
     "execution_count": 60,
     "metadata": {},
     "output_type": "execute_result"
    }
   ],
   "source": [
    "np.shape(cr)"
   ]
  },
  {
   "cell_type": "code",
   "execution_count": 61,
   "id": "fd19747a",
   "metadata": {},
   "outputs": [
    {
     "data": {
      "text/plain": [
       "array([[ 1,  2,  3,  4,  5,  6,  7,  8,  9, 10],\n",
       "       [11, 12, 13, 14, 15, 16, 17, 18, 19, 20],\n",
       "       [21, 22, 23, 24, 25, 26, 27, 28, 29, 30]])"
      ]
     },
     "execution_count": 61,
     "metadata": {},
     "output_type": "execute_result"
    }
   ],
   "source": [
    "cr=cr.reshape(3,10)\n",
    "cr"
   ]
  },
  {
   "cell_type": "code",
   "execution_count": 62,
   "id": "8e125e80",
   "metadata": {},
   "outputs": [
    {
     "data": {
      "text/plain": [
       "(3, 10)"
      ]
     },
     "execution_count": 62,
     "metadata": {},
     "output_type": "execute_result"
    }
   ],
   "source": [
    "np.shape(cr) #Shape: The number of elements along with each axis. It is in form of tuple."
   ]
  },
  {
   "cell_type": "code",
   "execution_count": 66,
   "id": "afdcc3ef",
   "metadata": {},
   "outputs": [],
   "source": [
    "cr = cr.ravel()  #it converts arr in 1D form"
   ]
  },
  {
   "cell_type": "code",
   "execution_count": 70,
   "id": "1a820c19",
   "metadata": {},
   "outputs": [
    {
     "data": {
      "text/plain": [
       "(30,)"
      ]
     },
     "execution_count": 70,
     "metadata": {},
     "output_type": "execute_result"
    }
   ],
   "source": [
    "cr.shape "
   ]
  },
  {
   "cell_type": "code",
   "execution_count": 71,
   "id": "87a08c94",
   "metadata": {},
   "outputs": [
    {
     "data": {
      "text/plain": [
       "120"
      ]
     },
     "execution_count": 71,
     "metadata": {},
     "output_type": "execute_result"
    }
   ],
   "source": [
    "cr.nbytes #shows the total memory captured by an array"
   ]
  },
  {
   "cell_type": "code",
   "execution_count": 75,
   "id": "917afded",
   "metadata": {},
   "outputs": [
    {
     "name": "stdout",
     "output_type": "stream",
     "text": [
      "[1, 2, 3, 4, 5, 6, 7, 8, 9, 10, 11, 12, 13, 14, 15, 16, 17, 18, 19, 20, 21, 22, 23, 24, 25, 26, 27, 28, 29, 30]\n",
      "336\n"
     ]
    }
   ],
   "source": [
    "import sys\n",
    "cr1 = [i for i in range (1,31)]\n",
    "print(cr1)\n",
    "print(sys.getsizeof(cr1))"
   ]
  },
  {
   "cell_type": "code",
   "execution_count": 80,
   "id": "e5efa897",
   "metadata": {},
   "outputs": [
    {
     "data": {
      "text/plain": [
       "array([[ 1,  2,  3,  4,  5,  6,  7,  8,  9, 10],\n",
       "       [11, 12, 13, 14, 15, 16, 17, 18, 19, 20],\n",
       "       [21, 22, 23, 24, 25, 26, 27, 28, 29, 30]])"
      ]
     },
     "execution_count": 80,
     "metadata": {},
     "output_type": "execute_result"
    }
   ],
   "source": [
    "cr=cr.reshape(3,10)\n",
    "cr"
   ]
  },
  {
   "cell_type": "code",
   "execution_count": 78,
   "id": "1412866c",
   "metadata": {},
   "outputs": [
    {
     "data": {
      "text/plain": [
       "array([33, 36, 39, 42, 45, 48, 51, 54, 57, 60])"
      ]
     },
     "execution_count": 78,
     "metadata": {},
     "output_type": "execute_result"
    }
   ],
   "source": [
    "cr.sum(axis = 0)"
   ]
  },
  {
   "cell_type": "code",
   "execution_count": 79,
   "id": "262718ff",
   "metadata": {},
   "outputs": [
    {
     "data": {
      "text/plain": [
       "array([ 55, 155, 255])"
      ]
     },
     "execution_count": 79,
     "metadata": {},
     "output_type": "execute_result"
    }
   ],
   "source": [
    "cr.sum(axis = 1)"
   ]
  },
  {
   "cell_type": "code",
   "execution_count": 81,
   "id": "53cb0e3d",
   "metadata": {},
   "outputs": [
    {
     "data": {
      "text/plain": [
       "30"
      ]
     },
     "execution_count": 81,
     "metadata": {},
     "output_type": "execute_result"
    }
   ],
   "source": [
    "cr.size # total number of element"
   ]
  },
  {
   "cell_type": "code",
   "execution_count": 82,
   "id": "65e00d69",
   "metadata": {},
   "outputs": [
    {
     "data": {
      "text/plain": [
       "2"
      ]
     },
     "execution_count": 82,
     "metadata": {},
     "output_type": "execute_result"
    }
   ],
   "source": [
    "cr.ndim # number of dimention"
   ]
  },
  {
   "cell_type": "code",
   "execution_count": 83,
   "id": "a204d7cc",
   "metadata": {},
   "outputs": [
    {
     "data": {
      "text/plain": [
       "29"
      ]
     },
     "execution_count": 83,
     "metadata": {},
     "output_type": "execute_result"
    }
   ],
   "source": [
    "cr.argmax() #index having max value"
   ]
  },
  {
   "cell_type": "code",
   "execution_count": 100,
   "id": "4f96627d",
   "metadata": {},
   "outputs": [
    {
     "data": {
      "text/plain": [
       "30"
      ]
     },
     "execution_count": 100,
     "metadata": {},
     "output_type": "execute_result"
    }
   ],
   "source": [
    "cr.max() #max value in arr"
   ]
  },
  {
   "cell_type": "code",
   "execution_count": 88,
   "id": "3f36ff2c",
   "metadata": {},
   "outputs": [
    {
     "data": {
      "text/plain": [
       "array([21, 22, 23, 24, 25, 26, 27, 28, 29, 30])"
      ]
     },
     "execution_count": 88,
     "metadata": {},
     "output_type": "execute_result"
    }
   ],
   "source": [
    "cr[2]"
   ]
  },
  {
   "cell_type": "code",
   "execution_count": 89,
   "id": "31a3880a",
   "metadata": {},
   "outputs": [
    {
     "data": {
      "text/plain": [
       "26"
      ]
     },
     "execution_count": 89,
     "metadata": {},
     "output_type": "execute_result"
    }
   ],
   "source": [
    "cr[2,5]"
   ]
  },
  {
   "cell_type": "code",
   "execution_count": 90,
   "id": "939349d8",
   "metadata": {},
   "outputs": [
    {
     "data": {
      "text/plain": [
       "120"
      ]
     },
     "execution_count": 90,
     "metadata": {},
     "output_type": "execute_result"
    }
   ],
   "source": [
    "cr.nbytes"
   ]
  },
  {
   "cell_type": "code",
   "execution_count": 91,
   "id": "c632a7c9",
   "metadata": {},
   "outputs": [
    {
     "data": {
      "text/plain": [
       "0"
      ]
     },
     "execution_count": 91,
     "metadata": {},
     "output_type": "execute_result"
    }
   ],
   "source": [
    "cr.argmin() #indax having minimum value"
   ]
  },
  {
   "cell_type": "code",
   "execution_count": 92,
   "id": "9f0db4ee",
   "metadata": {},
   "outputs": [],
   "source": [
    "dr = np.array([[1,2,9],\n",
    "               [3,4,10],\n",
    "               [7,8,0]])"
   ]
  },
  {
   "cell_type": "code",
   "execution_count": 95,
   "id": "0ae7ca64",
   "metadata": {},
   "outputs": [
    {
     "data": {
      "text/plain": [
       "array([11, 14, 19])"
      ]
     },
     "execution_count": 95,
     "metadata": {},
     "output_type": "execute_result"
    }
   ],
   "source": [
    "dr.sum(axis=0)"
   ]
  },
  {
   "cell_type": "code",
   "execution_count": 96,
   "id": "846759ba",
   "metadata": {},
   "outputs": [
    {
     "data": {
      "text/plain": [
       "array([12, 17, 15])"
      ]
     },
     "execution_count": 96,
     "metadata": {},
     "output_type": "execute_result"
    }
   ],
   "source": [
    "dr.sum(axis=1)"
   ]
  },
  {
   "cell_type": "code",
   "execution_count": 97,
   "id": "77be27e0",
   "metadata": {},
   "outputs": [
    {
     "data": {
      "text/plain": [
       "array([[0, 1, 2],\n",
       "       [0, 1, 2],\n",
       "       [2, 0, 1]], dtype=int64)"
      ]
     },
     "execution_count": 97,
     "metadata": {},
     "output_type": "execute_result"
    }
   ],
   "source": [
    "dr.argsort()"
   ]
  },
  {
   "cell_type": "code",
   "execution_count": 98,
   "id": "5a1e4084",
   "metadata": {},
   "outputs": [
    {
     "data": {
      "text/plain": [
       "array([[0, 0, 2],\n",
       "       [1, 1, 0],\n",
       "       [2, 2, 1]], dtype=int64)"
      ]
     },
     "execution_count": 98,
     "metadata": {},
     "output_type": "execute_result"
    }
   ],
   "source": [
    "dr.argsort(axis=0)"
   ]
  },
  {
   "cell_type": "code",
   "execution_count": 99,
   "id": "1e5a7b55",
   "metadata": {},
   "outputs": [
    {
     "data": {
      "text/plain": [
       "array([[0, 1, 2],\n",
       "       [0, 1, 2],\n",
       "       [2, 0, 1]], dtype=int64)"
      ]
     },
     "execution_count": 99,
     "metadata": {},
     "output_type": "execute_result"
    }
   ],
   "source": [
    "dr.argsort(axis=1)"
   ]
  },
  {
   "cell_type": "code",
   "execution_count": 102,
   "id": "0738f621",
   "metadata": {},
   "outputs": [
    {
     "name": "stdout",
     "output_type": "stream",
     "text": [
      "[1 2 3 4]\n",
      "[5 6 7 8]\n"
     ]
    }
   ],
   "source": [
    "li = [1,2,3,4]\n",
    "tup = 5,6,7,8\n",
    "np_li = np.array(li)\n",
    "np_tup = np.array(tup)\n",
    "print(np_li)\n",
    "print(np_tup)"
   ]
  },
  {
   "cell_type": "code",
   "execution_count": 105,
   "id": "2d6124ce",
   "metadata": {},
   "outputs": [
    {
     "data": {
      "text/plain": [
       "2"
      ]
     },
     "execution_count": 105,
     "metadata": {},
     "output_type": "execute_result"
    }
   ],
   "source": [
    "er = np.array([[1,2,3,4]])\n",
    "er.ndim"
   ]
  },
  {
   "cell_type": "code",
   "execution_count": 106,
   "id": "91fa53f9",
   "metadata": {},
   "outputs": [
    {
     "data": {
      "text/plain": [
       "array([ 3,  6, 10])"
      ]
     },
     "execution_count": 106,
     "metadata": {},
     "output_type": "execute_result"
    }
   ],
   "source": [
    "np.linspace(3.5, 10, 3,dtype = np.int32)\n"
   ]
  },
  {
   "cell_type": "code",
   "execution_count": 107,
   "id": "d6cfd8ef",
   "metadata": {},
   "outputs": [
    {
     "name": "stdout",
     "output_type": "stream",
     "text": [
      "fromiter() array : [ 0.  1.  4.  9. 16. 25. 36. 49.]\n"
     ]
    }
   ],
   "source": [
    "# way to create arr by fromiter\n",
    "iterable = (a*a for a in range(8))\n",
    " \n",
    "arr = np.fromiter(iterable, float)\n",
    " \n",
    "print(\"fromiter() array :\",arr)"
   ]
  },
  {
   "cell_type": "code",
   "execution_count": 108,
   "id": "e3aca25f",
   "metadata": {},
   "outputs": [
    {
     "name": "stdout",
     "output_type": "stream",
     "text": [
      "fromiter() array : ['p' 'r' 'a' 's' 'h' 'a' 'n' 't' ' ' 't' 'h' 'a' 'k' 'u' 'r']\n"
     ]
    }
   ],
   "source": [
    "var = \"prashant thakur\"\n",
    " \n",
    "arr = np.fromiter(var, dtype = 'U2')\n",
    " \n",
    "print(\"fromiter() array :\",arr)"
   ]
  },
  {
   "cell_type": "code",
   "execution_count": 109,
   "id": "a9210667",
   "metadata": {},
   "outputs": [
    {
     "data": {
      "text/plain": [
       "array([[8.+0.j, 8.+0.j, 8.+0.j, 8.+0.j],\n",
       "       [8.+0.j, 8.+0.j, 8.+0.j, 8.+0.j],\n",
       "       [8.+0.j, 8.+0.j, 8.+0.j, 8.+0.j]])"
      ]
     },
     "execution_count": 109,
     "metadata": {},
     "output_type": "execute_result"
    }
   ],
   "source": [
    "#creating full arr with specific number\n",
    "np.full((3,4),8,dtype = 'complex')"
   ]
  },
  {
   "cell_type": "code",
   "execution_count": 114,
   "id": "36c3786f",
   "metadata": {},
   "outputs": [
    {
     "data": {
      "text/plain": [
       "array([[1, 2, 3, 4],\n",
       "       [1, 3, 5, 7]])"
      ]
     },
     "execution_count": 114,
     "metadata": {},
     "output_type": "execute_result"
    }
   ],
   "source": [
    "er = np.array([[1,2,3,4],\n",
    "               [5,6,7,8],\n",
    "               [9,0,1,2],\n",
    "               [1,3,5,7]])\n",
    "temp = er[[0,3]] # arr[[row],[col]] or a[i,j]\n",
    "temp"
   ]
  },
  {
   "cell_type": "code",
   "execution_count": 115,
   "id": "cbdbb73e",
   "metadata": {},
   "outputs": [
    {
     "data": {
      "text/plain": [
       "array([1, 6, 1, 7])"
      ]
     },
     "execution_count": 115,
     "metadata": {},
     "output_type": "execute_result"
    }
   ],
   "source": [
    "temp = er[[0,1,2,3],[0,1,2,3]]\n",
    "temp"
   ]
  },
  {
   "cell_type": "code",
   "execution_count": 120,
   "id": "cfaea9f3",
   "metadata": {},
   "outputs": [
    {
     "data": {
      "text/plain": [
       "array([[ 1,  3,  6, 10],\n",
       "       [ 5, 11, 18, 26],\n",
       "       [ 9,  9, 10, 12],\n",
       "       [ 1,  4,  9, 16]], dtype=int32)"
      ]
     },
     "execution_count": 120,
     "metadata": {},
     "output_type": "execute_result"
    }
   ],
   "source": [
    "er.cumsum(axis=1)"
   ]
  },
  {
   "cell_type": "code",
   "execution_count": 121,
   "id": "7625eed3",
   "metadata": {},
   "outputs": [
    {
     "data": {
      "text/plain": [
       "array([[ 1,  2,  3,  4],\n",
       "       [ 6,  8, 10, 12],\n",
       "       [15,  8, 11, 14],\n",
       "       [16, 11, 16, 21]], dtype=int32)"
      ]
     },
     "execution_count": 121,
     "metadata": {},
     "output_type": "execute_result"
    }
   ],
   "source": [
    "er.cumsum(axis=0) #cumulative sum"
   ]
  },
  {
   "cell_type": "code",
   "execution_count": 122,
   "id": "790a25e6",
   "metadata": {},
   "outputs": [
    {
     "name": "stdout",
     "output_type": "stream",
     "text": [
      "1\n",
      "2\n",
      "3\n",
      "4\n",
      "5\n",
      "6\n"
     ]
    }
   ],
   "source": [
    "fr = np.array([1,2,3,4,5,6])\n",
    "for i in fr:\n",
    "    print(i)"
   ]
  },
  {
   "cell_type": "code",
   "execution_count": 133,
   "id": "46559777",
   "metadata": {},
   "outputs": [
    {
     "name": "stdout",
     "output_type": "stream",
     "text": [
      "[1, 2, 3, 4, 5, 6, 7, 8, 9, 0, 1, 2, 1, 3, 5, 7]"
     ]
    }
   ],
   "source": [
    "# array to list converter\n",
    "list=[]\n",
    "for i in np.nditer(er):\n",
    "    p = i.tolist()\n",
    "    list.append(p)\n",
    "    \n",
    "print(list,end=\"\")"
   ]
  },
  {
   "cell_type": "code",
   "execution_count": null,
   "id": "fa3b7347",
   "metadata": {},
   "outputs": [],
   "source": [
    "# multiplication by element\n"
   ]
  },
  {
   "cell_type": "code",
   "execution_count": 134,
   "id": "1700f6d3",
   "metadata": {},
   "outputs": [
    {
     "data": {
      "text/plain": [
       "array([[ 5, 12],\n",
       "       [21, 32]])"
      ]
     },
     "execution_count": 134,
     "metadata": {},
     "output_type": "execute_result"
    }
   ],
   "source": [
    "ar = np.array([[1,2],[3,4]])\n",
    "br = np.array([[5,6],[7,8]])\n",
    "ar*br"
   ]
  },
  {
   "cell_type": "code",
   "execution_count": 135,
   "id": "01e82d39",
   "metadata": {},
   "outputs": [
    {
     "data": {
      "text/plain": [
       "array([[19, 22],\n",
       "       [43, 50]])"
      ]
     },
     "execution_count": 135,
     "metadata": {},
     "output_type": "execute_result"
    }
   ],
   "source": [
    "#matrix multiplication\n",
    "ar.dot(br)"
   ]
  },
  {
   "cell_type": "code",
   "execution_count": 141,
   "id": "416f0ede",
   "metadata": {},
   "outputs": [
    {
     "name": "stdout",
     "output_type": "stream",
     "text": [
      "[1, 2, 3, 4, 5, 6, 7, 8]\n"
     ]
    }
   ],
   "source": [
    "l1 = [1,2,3,4]\n",
    "l2 = [5,6,7,8]\n",
    "print(l1+l2)"
   ]
  },
  {
   "cell_type": "code",
   "execution_count": 143,
   "id": "241d2bcb",
   "metadata": {},
   "outputs": [
    {
     "name": "stdout",
     "output_type": "stream",
     "text": [
      "[ 5 12 21 32]\n",
      "[ 6  8 10 12]\n"
     ]
    }
   ],
   "source": [
    "b=np.array(l1)\n",
    "a=np.array(l2)\n",
    "print(a*b)\n",
    "print(a+b)"
   ]
  },
  {
   "cell_type": "code",
   "execution_count": 147,
   "id": "87d6ac1d",
   "metadata": {},
   "outputs": [
    {
     "data": {
      "text/plain": [
       "array.array"
      ]
     },
     "execution_count": 147,
     "metadata": {},
     "output_type": "execute_result"
    }
   ],
   "source": [
    "import array\n",
    "hr = array.array('i',[1,2,3,4,5,6,7])\n",
    "type(hr)"
   ]
  },
  {
   "cell_type": "code",
   "execution_count": 153,
   "id": "faee62d6",
   "metadata": {},
   "outputs": [
    {
     "data": {
      "text/plain": [
       "array([[ 0.,  2.,  4.],\n",
       "       [ 6.,  8., 10.]])"
      ]
     },
     "execution_count": 153,
     "metadata": {},
     "output_type": "execute_result"
    }
   ],
   "source": [
    "ir = np.empty(2)\n",
    "ir = np.empty([2,3])\n",
    "ir"
   ]
  },
  {
   "cell_type": "code",
   "execution_count": 166,
   "id": "80e87471",
   "metadata": {},
   "outputs": [
    {
     "name": "stdout",
     "output_type": "stream",
     "text": [
      "1 D\n"
     ]
    },
    {
     "data": {
      "text/plain": [
       "array([0, 1, 2, 3, 4, 5, 6, 7])"
      ]
     },
     "execution_count": 166,
     "metadata": {},
     "output_type": "execute_result"
    }
   ],
   "source": [
    "jr = np.arange(8)\n",
    "print(jr.ndim,\"D\")\n",
    "jr"
   ]
  },
  {
   "cell_type": "code",
   "execution_count": 159,
   "id": "e6e9c6fc",
   "metadata": {},
   "outputs": [
    {
     "name": "stdout",
     "output_type": "stream",
     "text": [
      "2\n"
     ]
    },
    {
     "data": {
      "text/plain": [
       "array([[0, 1, 2, 3],\n",
       "       [4, 5, 6, 7]])"
      ]
     },
     "execution_count": 159,
     "metadata": {},
     "output_type": "execute_result"
    }
   ],
   "source": [
    "jr = np.arange(8).reshape(2,4)\n",
    "print(jr.ndim)\n",
    "jr"
   ]
  },
  {
   "cell_type": "code",
   "execution_count": 163,
   "id": "2f665c9a",
   "metadata": {},
   "outputs": [
    {
     "name": "stdout",
     "output_type": "stream",
     "text": [
      "2 D\n"
     ]
    },
    {
     "data": {
      "text/plain": [
       "array([[0, 1],\n",
       "       [2, 3],\n",
       "       [4, 5],\n",
       "       [6, 7]])"
      ]
     },
     "execution_count": 163,
     "metadata": {},
     "output_type": "execute_result"
    }
   ],
   "source": [
    "jr = np.arange(8).reshape(4,2)\n",
    "print(jr.ndim,\"D\")\n",
    "jr"
   ]
  },
  {
   "cell_type": "code",
   "execution_count": 162,
   "id": "6a04d5d1",
   "metadata": {},
   "outputs": [
    {
     "name": "stdout",
     "output_type": "stream",
     "text": [
      "3 D\n"
     ]
    },
    {
     "data": {
      "text/plain": [
       "array([[[0, 1],\n",
       "        [2, 3]],\n",
       "\n",
       "       [[4, 5],\n",
       "        [6, 7]]])"
      ]
     },
     "execution_count": 162,
     "metadata": {},
     "output_type": "execute_result"
    }
   ],
   "source": [
    "jr = np.arange(8).reshape(2,2,2)\n",
    "print(jr.ndim,\"D\")\n",
    "jr"
   ]
  },
  {
   "cell_type": "code",
   "execution_count": null,
   "id": "b42091d5",
   "metadata": {},
   "outputs": [],
   "source": []
  },
  {
   "cell_type": "code",
   "execution_count": null,
   "id": "e0537c5a",
   "metadata": {},
   "outputs": [],
   "source": []
  }
 ],
 "metadata": {
  "kernelspec": {
   "display_name": "Python 3 (ipykernel)",
   "language": "python",
   "name": "python3"
  },
  "language_info": {
   "codemirror_mode": {
    "name": "ipython",
    "version": 3
   },
   "file_extension": ".py",
   "mimetype": "text/x-python",
   "name": "python",
   "nbconvert_exporter": "python",
   "pygments_lexer": "ipython3",
   "version": "3.8.5"
  }
 },
 "nbformat": 4,
 "nbformat_minor": 5
}
