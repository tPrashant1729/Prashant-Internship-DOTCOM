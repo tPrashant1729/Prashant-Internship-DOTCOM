{
 "cells": [
  {
   "cell_type": "markdown",
   "id": "58390a22",
   "metadata": {},
   "source": [
    "# Numpy"
   ]
  },
  {
   "cell_type": "code",
   "execution_count": 1,
   "id": "4181228e",
   "metadata": {},
   "outputs": [
    {
     "name": "stdout",
     "output_type": "stream",
     "text": [
      "[1 2 3]\n"
     ]
    }
   ],
   "source": [
    "import numpy as np\n",
    "# rank 1 array\n",
    "arr = np.array([1,2,3])\n",
    "print(arr)"
   ]
  },
  {
   "cell_type": "code",
   "execution_count": 2,
   "id": "39869e02",
   "metadata": {},
   "outputs": [
    {
     "name": "stdout",
     "output_type": "stream",
     "text": [
      "[[ 1.   2.   3.   4. ]\n",
      " [ 5.   6.   7.   8. ]\n",
      " [ 1.2  3.2  4.   0. ]\n",
      " [10.  11.  23.  56. ]\n",
      " [23.   4.5 23.  12. ]]\n"
     ]
    }
   ],
   "source": [
    "# it is 2D array\n",
    "arr1 = np.array([[1,2,3,4],\n",
    "                [5,6,7,8],\n",
    "                [1.2,3.2,4,0],\n",
    "                [10,11,23,56],\n",
    "                [23,4.5,23,12]])\n",
    "print(arr1)"
   ]
  },
  {
   "cell_type": "code",
   "execution_count": 3,
   "id": "ad0850b5",
   "metadata": {},
   "outputs": [
    {
     "name": "stdout",
     "output_type": "stream",
     "text": [
      "[1 2 3]\n"
     ]
    }
   ],
   "source": [
    "#making array with tuple\n",
    "arr2 = np.array((1,2,3))\n",
    "print(arr2)"
   ]
  },
  {
   "cell_type": "code",
   "execution_count": 4,
   "id": "c551ad9c",
   "metadata": {},
   "outputs": [
    {
     "name": "stdout",
     "output_type": "stream",
     "text": [
      "[[ 1.   3. ]\n",
      " [ 1.2  4. ]\n",
      " [23.  23. ]]\n"
     ]
    }
   ],
   "source": [
    "# slicing of array : arr[row,col]\n",
    "sl_arr1 = arr1[::2,::2]\n",
    "print(sl_arr1)"
   ]
  },
  {
   "cell_type": "code",
   "execution_count": 5,
   "id": "d31426f6",
   "metadata": {},
   "outputs": [
    {
     "data": {
      "text/plain": [
       "array([0., 0.])"
      ]
     },
     "execution_count": 5,
     "metadata": {},
     "output_type": "execute_result"
    }
   ],
   "source": [
    "#it will create arr of zeros\n",
    "np.zeros(2)"
   ]
  },
  {
   "cell_type": "code",
   "execution_count": 6,
   "id": "0e54b03b",
   "metadata": {},
   "outputs": [
    {
     "data": {
      "text/plain": [
       "array([1., 1., 1.])"
      ]
     },
     "execution_count": 6,
     "metadata": {},
     "output_type": "execute_result"
    }
   ],
   "source": [
    "#it will create arr of ones\n",
    "np.ones(3)"
   ]
  },
  {
   "cell_type": "code",
   "execution_count": 7,
   "id": "443dac1e",
   "metadata": {},
   "outputs": [
    {
     "data": {
      "text/plain": [
       "array([ 1. ,  3. ,  1.2,  4. , 23. , 23. ])"
      ]
     },
     "execution_count": 7,
     "metadata": {},
     "output_type": "execute_result"
    }
   ],
   "source": [
    "#it will create an empty arr with random values\n",
    "np.empty(6)"
   ]
  },
  {
   "cell_type": "code",
   "execution_count": 8,
   "id": "8bfb38ba",
   "metadata": {},
   "outputs": [
    {
     "data": {
      "text/plain": [
       "array([0, 1, 2, 3, 4, 5, 6, 7, 8])"
      ]
     },
     "execution_count": 8,
     "metadata": {},
     "output_type": "execute_result"
    }
   ],
   "source": [
    "# it will create array within range\n",
    "np.arange(9)"
   ]
  },
  {
   "cell_type": "code",
   "execution_count": 9,
   "id": "19a85de3",
   "metadata": {},
   "outputs": [
    {
     "data": {
      "text/plain": [
       "array([4, 5, 6, 7, 8, 9])"
      ]
     },
     "execution_count": 9,
     "metadata": {},
     "output_type": "execute_result"
    }
   ],
   "source": [
    "# it will create array within range\n",
    "np.arange(4,10)"
   ]
  },
  {
   "cell_type": "code",
   "execution_count": 10,
   "id": "9c94772f",
   "metadata": {},
   "outputs": [
    {
     "data": {
      "text/plain": [
       "array([4, 6, 8])"
      ]
     },
     "execution_count": 10,
     "metadata": {},
     "output_type": "execute_result"
    }
   ],
   "source": [
    "# it will create array within range with specified step\n",
    "np.arange(4,10,2)"
   ]
  },
  {
   "cell_type": "code",
   "execution_count": 11,
   "id": "159ec59f",
   "metadata": {},
   "outputs": [
    {
     "data": {
      "text/plain": [
       "array([ 2.,  8., 14., 20.])"
      ]
     },
     "execution_count": 11,
     "metadata": {},
     "output_type": "execute_result"
    }
   ],
   "source": [
    "# it will create array within range with specified number of element\n",
    "np.linspace(2,20,num=4)"
   ]
  },
  {
   "cell_type": "code",
   "execution_count": 12,
   "id": "65f6e67f",
   "metadata": {},
   "outputs": [
    {
     "name": "stdout",
     "output_type": "stream",
     "text": [
      "[1 1 1]\n"
     ]
    },
    {
     "data": {
      "text/plain": [
       "array([1., 1., 1.])"
      ]
     },
     "execution_count": 12,
     "metadata": {},
     "output_type": "execute_result"
    }
   ],
   "source": [
    "x=np.ones(3,dtype = np.int64)\n",
    "print(x)\n",
    "y = np.ones(3)\n",
    "y  # by default dtype is float"
   ]
  },
  {
   "cell_type": "code",
   "execution_count": 13,
   "id": "1bf0bd11",
   "metadata": {},
   "outputs": [
    {
     "data": {
      "text/plain": [
       "array([ 0.00000000e+00,  6.42787610e-01,  9.84807753e-01,  8.66025404e-01,\n",
       "        3.42020143e-01, -3.42020143e-01, -8.66025404e-01, -9.84807753e-01,\n",
       "       -6.42787610e-01, -2.44929360e-16])"
      ]
     },
     "execution_count": 13,
     "metadata": {},
     "output_type": "execute_result"
    }
   ],
   "source": [
    "from numpy import pi\n",
    "x = np.linspace(0, 2 * pi, 10)        # useful to evaluate function at lots of points\n",
    "f = np.sin(x)\n",
    "f"
   ]
  },
  {
   "cell_type": "code",
   "execution_count": 14,
   "id": "49a7f262",
   "metadata": {
    "scrolled": true
   },
   "outputs": [
    {
     "name": "stdout",
     "output_type": "stream",
     "text": [
      "[ 0  2  4  6  8 10]\n",
      "[ 1  3  5  7  9 11]\n"
     ]
    }
   ],
   "source": [
    "a= np.linspace(0,10,6,dtype = int)\n",
    "print(a)\n",
    "#adds number to every element\n",
    "print(a+1)"
   ]
  },
  {
   "cell_type": "code",
   "execution_count": 15,
   "id": "aeace939",
   "metadata": {},
   "outputs": [
    {
     "name": "stdout",
     "output_type": "stream",
     "text": [
      "[[5 6]\n",
      " [7 8]]\n"
     ]
    },
    {
     "data": {
      "text/plain": [
       "array([[ True,  True],\n",
       "       [ True,  True]])"
      ]
     },
     "execution_count": 15,
     "metadata": {},
     "output_type": "execute_result"
    }
   ],
   "source": [
    "ar = np.array([[1,2],[3,4]])\n",
    "br = np.array([[5,6],[7,8]])\n",
    "s = ar+4\n",
    "print(s)\n",
    "s == br"
   ]
  },
  {
   "cell_type": "code",
   "execution_count": 16,
   "id": "30363c8a",
   "metadata": {},
   "outputs": [
    {
     "data": {
      "text/plain": [
       "26"
      ]
     },
     "execution_count": 16,
     "metadata": {},
     "output_type": "execute_result"
    }
   ],
   "source": [
    "br.sum() #sum of every element"
   ]
  },
  {
   "cell_type": "code",
   "execution_count": 17,
   "id": "0321d5f3",
   "metadata": {},
   "outputs": [
    {
     "name": "stdout",
     "output_type": "stream",
     "text": [
      "[[ 6  8]\n",
      " [10 12]]\n"
     ]
    }
   ],
   "source": [
    "ar = np.array([[1,2],[3,4]],np.int64)\n",
    "br = np.array([[5,6],[7,8]])\n",
    "print(ar+br)"
   ]
  },
  {
   "cell_type": "code",
   "execution_count": 18,
   "id": "661df2f5",
   "metadata": {},
   "outputs": [
    {
     "name": "stdout",
     "output_type": "stream",
     "text": [
      "int64\n"
     ]
    }
   ],
   "source": [
    "print(ar.dtype)"
   ]
  },
  {
   "cell_type": "code",
   "execution_count": 19,
   "id": "ea6592d9",
   "metadata": {},
   "outputs": [
    {
     "name": "stdout",
     "output_type": "stream",
     "text": [
      "[[1 3]\n",
      " [2 4]]\n"
     ]
    }
   ],
   "source": [
    "print(ar.T) #transpose of array "
   ]
  },
  {
   "cell_type": "code",
   "execution_count": 20,
   "id": "59eb337c",
   "metadata": {},
   "outputs": [
    {
     "name": "stdout",
     "output_type": "stream",
     "text": [
      "[[1 2]\n",
      " [3 4]]\n",
      "[[1.         1.41421356]\n",
      " [1.73205081 2.        ]]\n"
     ]
    }
   ],
   "source": [
    "print(ar)\n",
    "print(np.sqrt(ar))"
   ]
  },
  {
   "cell_type": "code",
   "execution_count": 21,
   "id": "e33e84a3",
   "metadata": {},
   "outputs": [
    {
     "name": "stdout",
     "output_type": "stream",
     "text": [
      "7\n"
     ]
    },
    {
     "data": {
      "text/plain": [
       "array([[ 5,  6],\n",
       "       [10,  8]])"
      ]
     },
     "execution_count": 21,
     "metadata": {},
     "output_type": "execute_result"
    }
   ],
   "source": [
    "br = np.array([[5,6],[7,8]])\n",
    "print(br[1,0])  # accesssing value\n",
    "br[1,0] = 10 #changing the value\n",
    "br"
   ]
  },
  {
   "cell_type": "code",
   "execution_count": 22,
   "id": "934bb752",
   "metadata": {},
   "outputs": [
    {
     "name": "stdout",
     "output_type": "stream",
     "text": [
      "[[5 6]\n",
      " [7 8]]\n"
     ]
    }
   ],
   "source": [
    "empty_like = np.empty_like(br)\n",
    "print(empty_like)"
   ]
  },
  {
   "cell_type": "code",
   "execution_count": 23,
   "id": "f8eddee5",
   "metadata": {},
   "outputs": [
    {
     "data": {
      "text/plain": [
       "array([ 1,  2,  3,  4,  5,  6,  7,  8,  9, 10, 11, 12, 13, 14, 15, 16, 17,\n",
       "       18, 19, 20, 21, 22, 23, 24, 25, 26, 27, 28, 29, 30])"
      ]
     },
     "execution_count": 23,
     "metadata": {},
     "output_type": "execute_result"
    }
   ],
   "source": [
    "cr=np.arange(1,31)\n",
    "cr"
   ]
  },
  {
   "cell_type": "code",
   "execution_count": 24,
   "id": "74045c48",
   "metadata": {},
   "outputs": [
    {
     "data": {
      "text/plain": [
       "(30,)"
      ]
     },
     "execution_count": 24,
     "metadata": {},
     "output_type": "execute_result"
    }
   ],
   "source": [
    "np.shape(cr)"
   ]
  },
  {
   "cell_type": "code",
   "execution_count": 25,
   "id": "53370100",
   "metadata": {},
   "outputs": [
    {
     "data": {
      "text/plain": [
       "array([[ 1,  2,  3,  4,  5,  6,  7,  8,  9, 10],\n",
       "       [11, 12, 13, 14, 15, 16, 17, 18, 19, 20],\n",
       "       [21, 22, 23, 24, 25, 26, 27, 28, 29, 30]])"
      ]
     },
     "execution_count": 25,
     "metadata": {},
     "output_type": "execute_result"
    }
   ],
   "source": [
    "cr=cr.reshape(3,10)\n",
    "cr"
   ]
  },
  {
   "cell_type": "code",
   "execution_count": 26,
   "id": "9e396089",
   "metadata": {},
   "outputs": [
    {
     "data": {
      "text/plain": [
       "(3, 10)"
      ]
     },
     "execution_count": 26,
     "metadata": {},
     "output_type": "execute_result"
    }
   ],
   "source": [
    "np.shape(cr) #Shape: The number of elements along with each axis. It is in form of tuple."
   ]
  },
  {
   "cell_type": "code",
   "execution_count": 27,
   "id": "e2a95fd0",
   "metadata": {},
   "outputs": [],
   "source": [
    "cr = cr.ravel()  #it converts arr in 1D form"
   ]
  },
  {
   "cell_type": "code",
   "execution_count": 28,
   "id": "8df1b789",
   "metadata": {},
   "outputs": [
    {
     "data": {
      "text/plain": [
       "(30,)"
      ]
     },
     "execution_count": 28,
     "metadata": {},
     "output_type": "execute_result"
    }
   ],
   "source": [
    "cr.shape "
   ]
  },
  {
   "cell_type": "code",
   "execution_count": 29,
   "id": "ef8ef4a2",
   "metadata": {},
   "outputs": [
    {
     "data": {
      "text/plain": [
       "120"
      ]
     },
     "execution_count": 29,
     "metadata": {},
     "output_type": "execute_result"
    }
   ],
   "source": [
    "cr.nbytes #shows the total memory captured by an array"
   ]
  },
  {
   "cell_type": "code",
   "execution_count": 30,
   "id": "d050abe9",
   "metadata": {},
   "outputs": [
    {
     "name": "stdout",
     "output_type": "stream",
     "text": [
      "[1, 2, 3, 4, 5, 6, 7, 8, 9, 10, 11, 12, 13, 14, 15, 16, 17, 18, 19, 20, 21, 22, 23, 24, 25, 26, 27, 28, 29, 30]\n",
      "336\n"
     ]
    }
   ],
   "source": [
    "import sys\n",
    "cr1 = [i for i in range (1,31)]\n",
    "print(cr1)\n",
    "print(sys.getsizeof(cr1))"
   ]
  },
  {
   "cell_type": "code",
   "execution_count": 31,
   "id": "1ab0ca52",
   "metadata": {},
   "outputs": [
    {
     "data": {
      "text/plain": [
       "array([[ 1,  2,  3,  4,  5,  6,  7,  8,  9, 10],\n",
       "       [11, 12, 13, 14, 15, 16, 17, 18, 19, 20],\n",
       "       [21, 22, 23, 24, 25, 26, 27, 28, 29, 30]])"
      ]
     },
     "execution_count": 31,
     "metadata": {},
     "output_type": "execute_result"
    }
   ],
   "source": [
    "cr=cr.reshape(3,10)\n",
    "cr"
   ]
  },
  {
   "cell_type": "code",
   "execution_count": 32,
   "id": "cc3f95bb",
   "metadata": {},
   "outputs": [
    {
     "data": {
      "text/plain": [
       "array([33, 36, 39, 42, 45, 48, 51, 54, 57, 60])"
      ]
     },
     "execution_count": 32,
     "metadata": {},
     "output_type": "execute_result"
    }
   ],
   "source": [
    "cr.sum(axis = 0)"
   ]
  },
  {
   "cell_type": "code",
   "execution_count": 33,
   "id": "698627d7",
   "metadata": {},
   "outputs": [
    {
     "data": {
      "text/plain": [
       "array([ 55, 155, 255])"
      ]
     },
     "execution_count": 33,
     "metadata": {},
     "output_type": "execute_result"
    }
   ],
   "source": [
    "cr.sum(axis = 1)"
   ]
  },
  {
   "cell_type": "code",
   "execution_count": 34,
   "id": "0a547f9b",
   "metadata": {},
   "outputs": [
    {
     "data": {
      "text/plain": [
       "30"
      ]
     },
     "execution_count": 34,
     "metadata": {},
     "output_type": "execute_result"
    }
   ],
   "source": [
    "cr.size # total number of element"
   ]
  },
  {
   "cell_type": "code",
   "execution_count": 35,
   "id": "de5d8667",
   "metadata": {},
   "outputs": [
    {
     "data": {
      "text/plain": [
       "2"
      ]
     },
     "execution_count": 35,
     "metadata": {},
     "output_type": "execute_result"
    }
   ],
   "source": [
    "cr.ndim # number of dimention"
   ]
  },
  {
   "cell_type": "code",
   "execution_count": 36,
   "id": "b2df2f7b",
   "metadata": {},
   "outputs": [
    {
     "data": {
      "text/plain": [
       "29"
      ]
     },
     "execution_count": 36,
     "metadata": {},
     "output_type": "execute_result"
    }
   ],
   "source": [
    "cr.argmax() #index having max value"
   ]
  },
  {
   "cell_type": "code",
   "execution_count": 37,
   "id": "cf95becf",
   "metadata": {},
   "outputs": [
    {
     "data": {
      "text/plain": [
       "30"
      ]
     },
     "execution_count": 37,
     "metadata": {},
     "output_type": "execute_result"
    }
   ],
   "source": [
    "cr.max() #max value in arr"
   ]
  },
  {
   "cell_type": "code",
   "execution_count": 38,
   "id": "b15352d8",
   "metadata": {},
   "outputs": [
    {
     "data": {
      "text/plain": [
       "array([21, 22, 23, 24, 25, 26, 27, 28, 29, 30])"
      ]
     },
     "execution_count": 38,
     "metadata": {},
     "output_type": "execute_result"
    }
   ],
   "source": [
    "cr[2]"
   ]
  },
  {
   "cell_type": "code",
   "execution_count": 39,
   "id": "88e86619",
   "metadata": {},
   "outputs": [
    {
     "data": {
      "text/plain": [
       "26"
      ]
     },
     "execution_count": 39,
     "metadata": {},
     "output_type": "execute_result"
    }
   ],
   "source": [
    "cr[2,5]"
   ]
  },
  {
   "cell_type": "code",
   "execution_count": 40,
   "id": "780bffa3",
   "metadata": {},
   "outputs": [
    {
     "data": {
      "text/plain": [
       "array([4, 9, 6])"
      ]
     },
     "execution_count": 40,
     "metadata": {},
     "output_type": "execute_result"
    }
   ],
   "source": [
    "newarr = cr[[0],[3,8,5]]\n",
    "newarr"
   ]
  },
  {
   "cell_type": "code",
   "execution_count": 41,
   "id": "673e78b3",
   "metadata": {},
   "outputs": [
    {
     "data": {
      "text/plain": [
       "120"
      ]
     },
     "execution_count": 41,
     "metadata": {},
     "output_type": "execute_result"
    }
   ],
   "source": [
    "cr.nbytes"
   ]
  },
  {
   "cell_type": "code",
   "execution_count": 42,
   "id": "668fa6cc",
   "metadata": {},
   "outputs": [
    {
     "data": {
      "text/plain": [
       "0"
      ]
     },
     "execution_count": 42,
     "metadata": {},
     "output_type": "execute_result"
    }
   ],
   "source": [
    "cr.argmin() #indax having minimum value"
   ]
  },
  {
   "cell_type": "code",
   "execution_count": 43,
   "id": "99aa8a2a",
   "metadata": {},
   "outputs": [],
   "source": [
    "dr = np.array([[1,2,9],\n",
    "               [3,4,10],\n",
    "               [7,8,0]])"
   ]
  },
  {
   "cell_type": "code",
   "execution_count": 44,
   "id": "2db9ac0d",
   "metadata": {},
   "outputs": [
    {
     "data": {
      "text/plain": [
       "array([11, 14, 19])"
      ]
     },
     "execution_count": 44,
     "metadata": {},
     "output_type": "execute_result"
    }
   ],
   "source": [
    "dr.sum(axis=0)"
   ]
  },
  {
   "cell_type": "code",
   "execution_count": 45,
   "id": "a96f524a",
   "metadata": {},
   "outputs": [
    {
     "data": {
      "text/plain": [
       "array([12, 17, 15])"
      ]
     },
     "execution_count": 45,
     "metadata": {},
     "output_type": "execute_result"
    }
   ],
   "source": [
    "dr.sum(axis=1)"
   ]
  },
  {
   "cell_type": "code",
   "execution_count": 46,
   "id": "b1ae071a",
   "metadata": {},
   "outputs": [
    {
     "data": {
      "text/plain": [
       "array([[0, 1, 2],\n",
       "       [0, 1, 2],\n",
       "       [2, 0, 1]], dtype=int64)"
      ]
     },
     "execution_count": 46,
     "metadata": {},
     "output_type": "execute_result"
    }
   ],
   "source": [
    "dr.argsort()"
   ]
  },
  {
   "cell_type": "code",
   "execution_count": 47,
   "id": "3d62b120",
   "metadata": {},
   "outputs": [
    {
     "data": {
      "text/plain": [
       "array([[0, 0, 2],\n",
       "       [1, 1, 0],\n",
       "       [2, 2, 1]], dtype=int64)"
      ]
     },
     "execution_count": 47,
     "metadata": {},
     "output_type": "execute_result"
    }
   ],
   "source": [
    "dr.argsort(axis=0)"
   ]
  },
  {
   "cell_type": "code",
   "execution_count": 48,
   "id": "ab35f511",
   "metadata": {},
   "outputs": [
    {
     "data": {
      "text/plain": [
       "array([[0, 1, 2],\n",
       "       [0, 1, 2],\n",
       "       [2, 0, 1]], dtype=int64)"
      ]
     },
     "execution_count": 48,
     "metadata": {},
     "output_type": "execute_result"
    }
   ],
   "source": [
    "dr.argsort(axis=1)"
   ]
  },
  {
   "cell_type": "code",
   "execution_count": 49,
   "id": "c2d90a38",
   "metadata": {},
   "outputs": [
    {
     "name": "stdout",
     "output_type": "stream",
     "text": [
      "[1 2 3 4]\n",
      "[5 6 7 8]\n"
     ]
    }
   ],
   "source": [
    "li = [1,2,3,4]\n",
    "tup = 5,6,7,8\n",
    "np_li = np.array(li)\n",
    "np_tup = np.array(tup)\n",
    "print(np_li)\n",
    "print(np_tup)"
   ]
  },
  {
   "cell_type": "code",
   "execution_count": 50,
   "id": "d3386252",
   "metadata": {},
   "outputs": [
    {
     "data": {
      "text/plain": [
       "2"
      ]
     },
     "execution_count": 50,
     "metadata": {},
     "output_type": "execute_result"
    }
   ],
   "source": [
    "er = np.array([[1,2,3,4]])\n",
    "er.ndim"
   ]
  },
  {
   "cell_type": "code",
   "execution_count": 51,
   "id": "fe51c4b1",
   "metadata": {},
   "outputs": [
    {
     "data": {
      "text/plain": [
       "array([ 3,  6, 10])"
      ]
     },
     "execution_count": 51,
     "metadata": {},
     "output_type": "execute_result"
    }
   ],
   "source": [
    "np.linspace(3.5, 10, 3,dtype = np.int32)\n"
   ]
  },
  {
   "cell_type": "code",
   "execution_count": 52,
   "id": "28e74f15",
   "metadata": {},
   "outputs": [
    {
     "name": "stdout",
     "output_type": "stream",
     "text": [
      "fromiter() array : [ 0.  1.  4.  9. 16. 25. 36. 49.]\n"
     ]
    }
   ],
   "source": [
    "# way to create arr by fromiter\n",
    "iterable = (a*a for a in range(8))\n",
    " \n",
    "arr = np.fromiter(iterable, float)\n",
    " \n",
    "print(\"fromiter() array :\",arr)"
   ]
  },
  {
   "cell_type": "code",
   "execution_count": 53,
   "id": "b69b544c",
   "metadata": {},
   "outputs": [
    {
     "name": "stdout",
     "output_type": "stream",
     "text": [
      "fromiter() array : ['p' 'r' 'a' 's' 'h' 'a' 'n' 't' ' ' 't' 'h' 'a' 'k' 'u' 'r']\n"
     ]
    }
   ],
   "source": [
    "var = \"prashant thakur\"\n",
    " \n",
    "arr = np.fromiter(var, dtype = 'U2')\n",
    " \n",
    "print(\"fromiter() array :\",arr)"
   ]
  },
  {
   "cell_type": "code",
   "execution_count": 54,
   "id": "52822836",
   "metadata": {},
   "outputs": [
    {
     "data": {
      "text/plain": [
       "array([[8.+0.j, 8.+0.j, 8.+0.j, 8.+0.j],\n",
       "       [8.+0.j, 8.+0.j, 8.+0.j, 8.+0.j],\n",
       "       [8.+0.j, 8.+0.j, 8.+0.j, 8.+0.j]])"
      ]
     },
     "execution_count": 54,
     "metadata": {},
     "output_type": "execute_result"
    }
   ],
   "source": [
    "#creating full arr with specific number\n",
    "np.full((3,4),8,dtype = 'complex')"
   ]
  },
  {
   "cell_type": "code",
   "execution_count": 55,
   "id": "f7a4eb0b",
   "metadata": {},
   "outputs": [
    {
     "data": {
      "text/plain": [
       "array([[1, 2, 3, 4],\n",
       "       [1, 3, 5, 7]])"
      ]
     },
     "execution_count": 55,
     "metadata": {},
     "output_type": "execute_result"
    }
   ],
   "source": [
    "er = np.array([[1,2,3,4],\n",
    "               [5,6,7,8],\n",
    "               [9,0,1,2],\n",
    "               [1,3,5,7]])\n",
    "temp = er[[0,3]] # arr[[row],[col]] or a[i,j]\n",
    "temp"
   ]
  },
  {
   "cell_type": "code",
   "execution_count": 56,
   "id": "83b0fb39",
   "metadata": {},
   "outputs": [
    {
     "data": {
      "text/plain": [
       "array([1, 6, 1, 7])"
      ]
     },
     "execution_count": 56,
     "metadata": {},
     "output_type": "execute_result"
    }
   ],
   "source": [
    "temp = er[[0,1,2,3],[0,1,2,3]]\n",
    "temp"
   ]
  },
  {
   "cell_type": "code",
   "execution_count": 57,
   "id": "19500515",
   "metadata": {},
   "outputs": [
    {
     "data": {
      "text/plain": [
       "array([[ 1,  3,  6, 10],\n",
       "       [ 5, 11, 18, 26],\n",
       "       [ 9,  9, 10, 12],\n",
       "       [ 1,  4,  9, 16]], dtype=int32)"
      ]
     },
     "execution_count": 57,
     "metadata": {},
     "output_type": "execute_result"
    }
   ],
   "source": [
    "er.cumsum(axis=1)"
   ]
  },
  {
   "cell_type": "code",
   "execution_count": 58,
   "id": "5bfaceaf",
   "metadata": {},
   "outputs": [
    {
     "data": {
      "text/plain": [
       "array([[ 1,  2,  3,  4],\n",
       "       [ 6,  8, 10, 12],\n",
       "       [15,  8, 11, 14],\n",
       "       [16, 11, 16, 21]], dtype=int32)"
      ]
     },
     "execution_count": 58,
     "metadata": {},
     "output_type": "execute_result"
    }
   ],
   "source": [
    "er.cumsum(axis=0) #cumulative sum"
   ]
  },
  {
   "cell_type": "code",
   "execution_count": 59,
   "id": "bb9fbbf5",
   "metadata": {},
   "outputs": [
    {
     "name": "stdout",
     "output_type": "stream",
     "text": [
      "1\n",
      "2\n",
      "3\n",
      "4\n",
      "5\n",
      "6\n"
     ]
    }
   ],
   "source": [
    "fr = np.array([1,2,3,4,5,6])\n",
    "for i in fr:\n",
    "    print(i)"
   ]
  },
  {
   "cell_type": "code",
   "execution_count": 60,
   "id": "7c62e14f",
   "metadata": {},
   "outputs": [
    {
     "name": "stdout",
     "output_type": "stream",
     "text": [
      "[1, 2, 3, 4, 5, 6, 7, 8, 9, 0, 1, 2, 1, 3, 5, 7]"
     ]
    }
   ],
   "source": [
    "# array to list converter\n",
    "list=[]\n",
    "for i in np.nditer(er):\n",
    "    p = i.tolist()\n",
    "    list.append(p)\n",
    "    \n",
    "print(list,end=\"\")"
   ]
  },
  {
   "cell_type": "code",
   "execution_count": 61,
   "id": "3cb79b9e",
   "metadata": {},
   "outputs": [],
   "source": [
    "# multiplication by element\n"
   ]
  },
  {
   "cell_type": "code",
   "execution_count": 62,
   "id": "11683952",
   "metadata": {},
   "outputs": [
    {
     "data": {
      "text/plain": [
       "array([[ 5, 12],\n",
       "       [21, 32]])"
      ]
     },
     "execution_count": 62,
     "metadata": {},
     "output_type": "execute_result"
    }
   ],
   "source": [
    "ar = np.array([[1,2],[3,4]])\n",
    "br = np.array([[5,6],[7,8]])\n",
    "ar*br"
   ]
  },
  {
   "cell_type": "code",
   "execution_count": 63,
   "id": "a0e46fe7",
   "metadata": {},
   "outputs": [
    {
     "data": {
      "text/plain": [
       "array([[19, 22],\n",
       "       [43, 50]])"
      ]
     },
     "execution_count": 63,
     "metadata": {},
     "output_type": "execute_result"
    }
   ],
   "source": [
    "#matrix multiplication\n",
    "ar.dot(br)"
   ]
  },
  {
   "cell_type": "code",
   "execution_count": 64,
   "id": "961a81a9",
   "metadata": {},
   "outputs": [
    {
     "name": "stdout",
     "output_type": "stream",
     "text": [
      "[1, 2, 3, 4, 5, 6, 7, 8]\n"
     ]
    }
   ],
   "source": [
    "l1 = [1,2,3,4]\n",
    "l2 = [5,6,7,8]\n",
    "print(l1+l2)"
   ]
  },
  {
   "cell_type": "code",
   "execution_count": 65,
   "id": "2e4c452c",
   "metadata": {},
   "outputs": [
    {
     "name": "stdout",
     "output_type": "stream",
     "text": [
      "[ 5 12 21 32]\n",
      "[ 6  8 10 12]\n"
     ]
    }
   ],
   "source": [
    "b=np.array(l1)\n",
    "a=np.array(l2)\n",
    "print(a*b)\n",
    "print(a+b)"
   ]
  },
  {
   "cell_type": "code",
   "execution_count": 66,
   "id": "4d954e83",
   "metadata": {},
   "outputs": [
    {
     "data": {
      "text/plain": [
       "array.array"
      ]
     },
     "execution_count": 66,
     "metadata": {},
     "output_type": "execute_result"
    }
   ],
   "source": [
    "import array\n",
    "hr = array.array('i',[1,2,3,4,5,6,7])\n",
    "type(hr)"
   ]
  },
  {
   "cell_type": "code",
   "execution_count": 67,
   "id": "b140571d",
   "metadata": {},
   "outputs": [
    {
     "data": {
      "text/plain": [
       "array([[ 0.,  2.,  4.],\n",
       "       [ 6.,  8., 10.]])"
      ]
     },
     "execution_count": 67,
     "metadata": {},
     "output_type": "execute_result"
    }
   ],
   "source": [
    "ir = np.empty(2)\n",
    "ir = np.empty([2,3])\n",
    "ir"
   ]
  },
  {
   "cell_type": "code",
   "execution_count": 68,
   "id": "6f4b9981",
   "metadata": {},
   "outputs": [
    {
     "name": "stdout",
     "output_type": "stream",
     "text": [
      "1 D\n"
     ]
    },
    {
     "data": {
      "text/plain": [
       "array([0, 1, 2, 3, 4, 5, 6, 7])"
      ]
     },
     "execution_count": 68,
     "metadata": {},
     "output_type": "execute_result"
    }
   ],
   "source": [
    "jr = np.arange(8)\n",
    "print(jr.ndim,\"D\")\n",
    "jr"
   ]
  },
  {
   "cell_type": "code",
   "execution_count": 69,
   "id": "aea66588",
   "metadata": {},
   "outputs": [
    {
     "name": "stdout",
     "output_type": "stream",
     "text": [
      "2\n"
     ]
    },
    {
     "data": {
      "text/plain": [
       "array([[0, 1, 2, 3],\n",
       "       [4, 5, 6, 7]])"
      ]
     },
     "execution_count": 69,
     "metadata": {},
     "output_type": "execute_result"
    }
   ],
   "source": [
    "jr = np.arange(8).reshape(2,4)\n",
    "print(jr.ndim)\n",
    "jr"
   ]
  },
  {
   "cell_type": "code",
   "execution_count": 70,
   "id": "3a117656",
   "metadata": {},
   "outputs": [
    {
     "name": "stdout",
     "output_type": "stream",
     "text": [
      "2 D\n"
     ]
    },
    {
     "data": {
      "text/plain": [
       "array([[0, 1],\n",
       "       [2, 3],\n",
       "       [4, 5],\n",
       "       [6, 7]])"
      ]
     },
     "execution_count": 70,
     "metadata": {},
     "output_type": "execute_result"
    }
   ],
   "source": [
    "jr = np.arange(8).reshape(4,2)\n",
    "print(jr.ndim,\"D\")\n",
    "jr"
   ]
  },
  {
   "cell_type": "code",
   "execution_count": 71,
   "id": "722a0128",
   "metadata": {},
   "outputs": [
    {
     "name": "stdout",
     "output_type": "stream",
     "text": [
      "3 D\n"
     ]
    },
    {
     "data": {
      "text/plain": [
       "array([[[0, 1],\n",
       "        [2, 3]],\n",
       "\n",
       "       [[4, 5],\n",
       "        [6, 7]]])"
      ]
     },
     "execution_count": 71,
     "metadata": {},
     "output_type": "execute_result"
    }
   ],
   "source": [
    "jr = np.arange(8).reshape(2,2,2)\n",
    "print(jr.ndim,\"D\")\n",
    "jr"
   ]
  },
  {
   "cell_type": "code",
   "execution_count": null,
   "id": "fdbdf2c8",
   "metadata": {},
   "outputs": [],
   "source": []
  },
  {
   "cell_type": "code",
   "execution_count": null,
   "id": "dcd927e6",
   "metadata": {},
   "outputs": [],
   "source": []
  }
 ],
 "metadata": {
  "kernelspec": {
   "display_name": "Python 3 (ipykernel)",
   "language": "python",
   "name": "python3"
  },
  "language_info": {
   "codemirror_mode": {
    "name": "ipython",
    "version": 3
   },
   "file_extension": ".py",
   "mimetype": "text/x-python",
   "name": "python",
   "nbconvert_exporter": "python",
   "pygments_lexer": "ipython3",
   "version": "3.8.5"
  }
 },
 "nbformat": 4,
 "nbformat_minor": 5
}
