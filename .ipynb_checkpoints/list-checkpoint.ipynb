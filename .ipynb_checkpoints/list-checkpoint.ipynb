{
 "cells": [
  {
   "cell_type": "code",
   "execution_count": 1,
   "id": "bff5e048",
   "metadata": {},
   "outputs": [
    {
     "name": "stdout",
     "output_type": "stream",
     "text": [
      "[]\n"
     ]
    }
   ],
   "source": [
    "emptylist = []\n",
    "print(emptylist)"
   ]
  },
  {
   "cell_type": "code",
   "execution_count": 2,
   "id": "ee12b8fa",
   "metadata": {},
   "outputs": [
    {
     "name": "stdout",
     "output_type": "stream",
     "text": [
      "4\n",
      "<class 'list'>\n"
     ]
    }
   ],
   "source": [
    "list = [\"apple\", \"banana\", \"kivi\", \"mango\"]\n",
    "print(len(list))\n",
    "print(type(list))"
   ]
  },
  {
   "cell_type": "code",
   "execution_count": 18,
   "id": "e711e91b",
   "metadata": {},
   "outputs": [
    {
     "name": "stdout",
     "output_type": "stream",
     "text": [
      "banana\n",
      "mango\n"
     ]
    }
   ],
   "source": [
    "thislist = [\"apple\", \"banana\", \"cherry\", \"orange\", \"kiwi\", \"melon\", \"mango\"]\n",
    "print(thislist[1])     # positive indexing starts from zero\n",
    "print(thislist[-1])    # negative indexing starts from minus one"
   ]
  },
  {
   "cell_type": "code",
   "execution_count": 19,
   "id": "e1bb06a9",
   "metadata": {},
   "outputs": [
    {
     "name": "stdout",
     "output_type": "stream",
     "text": [
      "['cherry', 'orange', 'kiwi']\n"
     ]
    }
   ],
   "source": [
    "print(thislist[2:5])"
   ]
  },
  {
   "cell_type": "code",
   "execution_count": 20,
   "id": "e41ca5d0",
   "metadata": {},
   "outputs": [
    {
     "name": "stdout",
     "output_type": "stream",
     "text": [
      "['apple', 'banana', 'cherry', 'orange']\n"
     ]
    }
   ],
   "source": [
    "print(thislist[:4])"
   ]
  },
  {
   "cell_type": "code",
   "execution_count": 21,
   "id": "72c41e75",
   "metadata": {},
   "outputs": [
    {
     "name": "stdout",
     "output_type": "stream",
     "text": [
      "['cherry', 'orange', 'kiwi', 'melon', 'mango']\n"
     ]
    }
   ],
   "source": [
    "print(thislist[2:])"
   ]
  },
  {
   "cell_type": "code",
   "execution_count": 22,
   "id": "08f3a958",
   "metadata": {},
   "outputs": [
    {
     "name": "stdout",
     "output_type": "stream",
     "text": [
      "['orange', 'kiwi', 'melon']\n"
     ]
    }
   ],
   "source": [
    "print(thislist[-4:-1])"
   ]
  },
  {
   "cell_type": "code",
   "execution_count": 25,
   "id": "eaa088c7",
   "metadata": {},
   "outputs": [
    {
     "name": "stdout",
     "output_type": "stream",
     "text": [
      "['apple', 'banana', 'cherry', 'orange', 'grapes', 'melon', 'mango']\n"
     ]
    }
   ],
   "source": [
    "thislist[4]='grapes'\n",
    "print(thislist)"
   ]
  },
  {
   "cell_type": "code",
   "execution_count": 27,
   "id": "cf3cd0b3",
   "metadata": {},
   "outputs": [
    {
     "name": "stdout",
     "output_type": "stream",
     "text": [
      "['apple', 'blackcurrant', 'watermelon', 'orange', 'grapes', 'melon', 'mango']\n"
     ]
    }
   ],
   "source": [
    "thislist[1:3] = [\"blackcurrant\", \"watermelon\"]\n",
    "print(thislist)\n",
    "# to change in a range"
   ]
  },
  {
   "cell_type": "code",
   "execution_count": 30,
   "id": "79074c17",
   "metadata": {},
   "outputs": [],
   "source": [
    "thislist.append(\"cherry\")\n",
    "# TO ADD ITEM FROM LAST"
   ]
  },
  {
   "cell_type": "code",
   "execution_count": 29,
   "id": "c568062a",
   "metadata": {},
   "outputs": [
    {
     "name": "stdout",
     "output_type": "stream",
     "text": [
      "['apple', 'blackcurrant', 'avocado', 'watermelon', 'watermelon', 'orange', 'grapes', 'melon', 'mango']\n"
     ]
    }
   ],
   "source": [
    "thislist.insert(2, \"avocado\")\n",
    "print(thislist)\n",
    "# insert method will not replace any ietm but will add new one to that place"
   ]
  },
  {
   "cell_type": "code",
   "execution_count": 33,
   "id": "e8ec091e",
   "metadata": {},
   "outputs": [
    {
     "name": "stdout",
     "output_type": "stream",
     "text": [
      "['apple', 'blackcurrant', 'avocado', 'watermelon', 'watermelon', 'orange', 'grapes', 'melon', 'mango', 'cherry']\n"
     ]
    }
   ],
   "source": [
    "print(thislist)"
   ]
  },
  {
   "cell_type": "code",
   "execution_count": 36,
   "id": "b00b107a",
   "metadata": {},
   "outputs": [
    {
     "data": {
      "text/plain": [
       "[50, 51, 52, 53, 54, 66, 67, 68]"
      ]
     },
     "execution_count": 36,
     "metadata": {},
     "output_type": "execute_result"
    }
   ],
   "source": [
    "l1 = [i for i in range (50,55)]\n",
    "l2 = [i for i in range (66,69)]\n",
    "l1.extend(l2)   # to add item from another list\n",
    "l1\n",
    "# extend can also append tuple set dict"
   ]
  },
  {
   "cell_type": "code",
   "execution_count": 51,
   "id": "2f933dec",
   "metadata": {},
   "outputs": [
    {
     "name": "stdout",
     "output_type": "stream",
     "text": [
      "[50, 52, 53, 54, 66, 67, 68]\n",
      "51\n"
     ]
    }
   ],
   "source": [
    "l1 = [50, 51, 52, 53, 54, 66, 67, 68]\n",
    "r= l1.pop(1)\n",
    "print(l1)\n",
    "print(r)\n",
    "# pop returns value , remove does not"
   ]
  },
  {
   "cell_type": "code",
   "execution_count": 38,
   "id": "94270961",
   "metadata": {},
   "outputs": [
    {
     "data": {
      "text/plain": [
       "[50, 52, 53, 66, 67, 68]"
      ]
     },
     "execution_count": 38,
     "metadata": {},
     "output_type": "execute_result"
    }
   ],
   "source": [
    "l1.remove(54)\n",
    "l1"
   ]
  },
  {
   "cell_type": "code",
   "execution_count": 48,
   "id": "ac13f43f",
   "metadata": {},
   "outputs": [
    {
     "name": "stdout",
     "output_type": "stream",
     "text": [
      "[45, 89, 12, 23]\n"
     ]
    },
    {
     "data": {
      "text/plain": [
       "[45, 89, 12]"
      ]
     },
     "execution_count": 48,
     "metadata": {},
     "output_type": "execute_result"
    }
   ],
   "source": [
    "lst = [45,78,56,89,12,23]\n",
    "del lst[1:3]\n",
    "print(lst)\n",
    "del lst[3]\n",
    "lst"
   ]
  },
  {
   "cell_type": "code",
   "execution_count": 52,
   "id": "4f42b042",
   "metadata": {},
   "outputs": [
    {
     "data": {
      "text/plain": [
       "[]"
      ]
     },
     "execution_count": 52,
     "metadata": {},
     "output_type": "execute_result"
    }
   ],
   "source": [
    "lst.clear()\n",
    "lst\n",
    "# clear method remove all element but list remains"
   ]
  },
  {
   "cell_type": "code",
   "execution_count": 56,
   "id": "ad4fa581",
   "metadata": {},
   "outputs": [
    {
     "data": {
      "text/plain": [
       "[10, 11, 12, 13, 14, 15, 16, 17, 18, 19]"
      ]
     },
     "execution_count": 56,
     "metadata": {},
     "output_type": "execute_result"
    }
   ],
   "source": [
    "lsa = [i for i in range (10,20)]\n",
    "lsa"
   ]
  },
  {
   "cell_type": "code",
   "execution_count": 63,
   "id": "cff548f4",
   "metadata": {},
   "outputs": [
    {
     "name": "stdout",
     "output_type": "stream",
     "text": [
      "10\n",
      "11\n",
      "12\n",
      "13\n",
      "14\n",
      "15\n",
      "16\n",
      "17\n",
      "18\n",
      "19\n"
     ]
    }
   ],
   "source": [
    "lsa = [i for i in range (10,20)]\n",
    "for i in lsa:\n",
    "    print(i)\n",
    "# printing all item using for loop"
   ]
  },
  {
   "cell_type": "code",
   "execution_count": 64,
   "id": "398649f4",
   "metadata": {},
   "outputs": [
    {
     "name": "stdout",
     "output_type": "stream",
     "text": [
      "10\n",
      "11\n",
      "12\n",
      "13\n",
      "14\n",
      "15\n",
      "16\n",
      "17\n",
      "18\n",
      "19\n"
     ]
    }
   ],
   "source": [
    "lsa = [i for i in range (10,20)]\n",
    "x =  0\n",
    "while x< len(lsa):\n",
    "    print(lsa[x])\n",
    "    x= x+1\n",
    "    "
   ]
  },
  {
   "cell_type": "markdown",
   "id": "0691fdcb",
   "metadata": {},
   "source": [
    "newlist = [expression for item in iterable if condition == True]"
   ]
  },
  {
   "cell_type": "code",
   "execution_count": 66,
   "id": "d16427ff",
   "metadata": {},
   "outputs": [],
   "source": [
    "# List comprehension offers a shorter syntax when you want to create a new list \n",
    "# based on the values of an existing list."
   ]
  },
  {
   "cell_type": "code",
   "execution_count": 67,
   "id": "e4eb5466",
   "metadata": {},
   "outputs": [],
   "source": [
    "jk= [i for i in range(10,50) if i%2==0]"
   ]
  },
  {
   "cell_type": "code",
   "execution_count": 69,
   "id": "51651025",
   "metadata": {},
   "outputs": [
    {
     "name": "stdout",
     "output_type": "stream",
     "text": [
      "[10, 12, 14, 16, 18, 20, 22, 24, 26, 28, 30, 32, 34, 36, 38, 40, 42, 44, 46, 48]\n"
     ]
    }
   ],
   "source": [
    "print(jk)"
   ]
  },
  {
   "cell_type": "code",
   "execution_count": 70,
   "id": "ac327c23",
   "metadata": {},
   "outputs": [
    {
     "name": "stdout",
     "output_type": "stream",
     "text": [
      "['APPLE', 'BANANA', 'CHERRY', 'KIWI', 'MANGO']\n"
     ]
    }
   ],
   "source": [
    "fruits = [\"apple\", \"banana\", \"cherry\", \"kiwi\", \"mango\"]\n",
    "\n",
    "newlist = [x.upper() for x in fruits]\n",
    "\n",
    "print(newlist)"
   ]
  },
  {
   "cell_type": "code",
   "execution_count": 71,
   "id": "9453ea99",
   "metadata": {},
   "outputs": [
    {
     "name": "stdout",
     "output_type": "stream",
     "text": [
      "['apple', 'orange', 'cherry', 'kiwi', 'mango']\n"
     ]
    }
   ],
   "source": [
    "fruits = [\"apple\", \"banana\", \"cherry\", \"kiwi\", \"mango\"]\n",
    "\n",
    "newlist = [x if x != \"banana\" else \"orange\" for x in fruits]\n",
    "\n",
    "print(newlist)\n",
    "# \"Return the item if it is not banana, if it is banana return orange\"."
   ]
  },
  {
   "cell_type": "code",
   "execution_count": 77,
   "id": "cbfea67e",
   "metadata": {},
   "outputs": [
    {
     "name": "stdout",
     "output_type": "stream",
     "text": [
      "[0, 6, 7, 23, 32, 45, 100]\n"
     ]
    }
   ],
   "source": [
    "l3= [23,45,6,7,32,0,100]\n",
    "l3.sort()\n",
    "print(l3)\n",
    "# to sort in ascending"
   ]
  },
  {
   "cell_type": "code",
   "execution_count": 78,
   "id": "f260458a",
   "metadata": {},
   "outputs": [
    {
     "name": "stdout",
     "output_type": "stream",
     "text": [
      "[100, 45, 32, 23, 7, 6, 0]\n"
     ]
    }
   ],
   "source": [
    "l3= [23,45,6,7,32,0,100]\n",
    "l3.sort(reverse = True)\n",
    "print(l3)\n",
    "# to sort in descending"
   ]
  },
  {
   "cell_type": "code",
   "execution_count": 80,
   "id": "0079e051",
   "metadata": {},
   "outputs": [
    {
     "name": "stdout",
     "output_type": "stream",
     "text": [
      "['Mango', 'apple', 'banana', 'cherry', 'kiwi']\n"
     ]
    }
   ],
   "source": [
    "fruits = [\"apple\", \"banana\", \"cherry\", \"kiwi\", \"Mango\"]\n",
    "fruits.sort()\n",
    "print(fruits)\n",
    "# capitalized word has more priority"
   ]
  },
  {
   "cell_type": "code",
   "execution_count": 81,
   "id": "5febe6b5",
   "metadata": {},
   "outputs": [
    {
     "name": "stdout",
     "output_type": "stream",
     "text": [
      "[50, 65, 23, 82, 100]\n"
     ]
    }
   ],
   "source": [
    "def myfunc(n):\n",
    "  return abs(n - 50)\n",
    "\n",
    "thislist = [100, 50, 65, 82, 23]\n",
    "\n",
    "thislist.sort(key = myfunc)\n",
    "\n",
    "print(thislist)\n"
   ]
  },
  {
   "cell_type": "code",
   "execution_count": 84,
   "id": "6526059e",
   "metadata": {},
   "outputs": [
    {
     "name": "stdout",
     "output_type": "stream",
     "text": [
      "['apple', 'banana', 'cherry', 'kiwi', 'Mango']\n"
     ]
    }
   ],
   "source": [
    "fruits = [\"apple\", \"banana\", \"cherry\", \"kiwi\", \"Mango\"]\n",
    "animals = fruits.copy()\n",
    "print(animals)\n",
    "# to copy list"
   ]
  },
  {
   "cell_type": "code",
   "execution_count": 85,
   "id": "b731d8ce",
   "metadata": {},
   "outputs": [],
   "source": [
    "# we can join list by + operator"
   ]
  }
 ],
 "metadata": {
  "kernelspec": {
   "display_name": "Python 3 (ipykernel)",
   "language": "python",
   "name": "python3"
  },
  "language_info": {
   "codemirror_mode": {
    "name": "ipython",
    "version": 3
   },
   "file_extension": ".py",
   "mimetype": "text/x-python",
   "name": "python",
   "nbconvert_exporter": "python",
   "pygments_lexer": "ipython3",
   "version": "3.8.5"
  }
 },
 "nbformat": 4,
 "nbformat_minor": 5
}
