{
 "cells": [
  {
   "cell_type": "code",
   "execution_count": 1,
   "id": "df81f29b",
   "metadata": {},
   "outputs": [
    {
     "name": "stdout",
     "output_type": "stream",
     "text": [
      "Lorem ipsum dolor sit amet,\n",
      "consectetur adipiscing elit,\n",
      "sed do eiusmod tempor incididunt\n",
      "ut labore et dolore magna aliqua.\n"
     ]
    }
   ],
   "source": [
    "a = \"\"\"Lorem ipsum dolor sit amet,\n",
    "consectetur adipiscing elit,\n",
    "sed do eiusmod tempor incididunt\n",
    "ut labore et dolore magna aliqua.\"\"\"\n",
    "print(a)\n",
    "# three quote is used to print same as in the code"
   ]
  },
  {
   "cell_type": "code",
   "execution_count": 3,
   "id": "aed75c3d",
   "metadata": {},
   "outputs": [
    {
     "name": "stdout",
     "output_type": "stream",
     "text": [
      "m\n"
     ]
    }
   ],
   "source": [
    "print(a[10])\n",
    "# stings are like array so we can access its element liike this"
   ]
  },
  {
   "cell_type": "code",
   "execution_count": 4,
   "id": "4fbf569c",
   "metadata": {},
   "outputs": [
    {
     "name": "stdout",
     "output_type": "stream",
     "text": [
      "b\n",
      "a\n",
      "n\n",
      "a\n",
      "n\n",
      "a\n"
     ]
    }
   ],
   "source": [
    "for x in \"banana\":\n",
    "  print(x)\n",
    "# we can go through each element"
   ]
  },
  {
   "cell_type": "code",
   "execution_count": 6,
   "id": "8e926665",
   "metadata": {},
   "outputs": [
    {
     "name": "stdout",
     "output_type": "stream",
     "text": [
      "123\n"
     ]
    }
   ],
   "source": [
    "print(len(a))\n",
    "# to know length of a variable"
   ]
  },
  {
   "cell_type": "code",
   "execution_count": 8,
   "id": "81da4fa5",
   "metadata": {},
   "outputs": [
    {
     "name": "stdout",
     "output_type": "stream",
     "text": [
      "True\n",
      "False\n"
     ]
    }
   ],
   "source": [
    "txt = \"The best things in life are free!\"\n",
    "print(\"free\" in txt)\n",
    "print(\"free\" not in txt)\n",
    "# to check specific word is there or not"
   ]
  },
  {
   "cell_type": "code",
   "execution_count": 11,
   "id": "9eb47817",
   "metadata": {},
   "outputs": [
    {
     "name": "stdout",
     "output_type": "stream",
     "text": [
      "lo, W\n",
      "3\n"
     ]
    }
   ],
   "source": [
    "b = \"Hello, World!\"\n",
    "print(b[3:8])        #string slicing\n",
    "print(len((b[2:5])))"
   ]
  },
  {
   "cell_type": "code",
   "execution_count": 14,
   "id": "33010b11",
   "metadata": {},
   "outputs": [
    {
     "name": "stdout",
     "output_type": "stream",
     "text": [
      "Hello\n",
      "llo, World!\n"
     ]
    }
   ],
   "source": [
    "b = \"Hello, World!\"\n",
    "print(b[:5])\n",
    "# starting position is always 0 without mantioned\n",
    "print(b[2:])\n",
    "# ending position is always last one of string without mantioned\n"
   ]
  },
  {
   "cell_type": "code",
   "execution_count": 18,
   "id": "7a41f73b",
   "metadata": {},
   "outputs": [
    {
     "name": "stdout",
     "output_type": "stream",
     "text": [
      "HELLO, WORLD!   \n",
      "hello, world!   \n",
      "Hello, World!\n",
      "Jello, World!   \n",
      "['Hell', ', W', 'rld!   ']\n"
     ]
    }
   ],
   "source": [
    "a = \"Hello, World!   \"\n",
    "print(a.upper())\n",
    "print(a.lower())\n",
    "print(a.strip()) # it removes any whitespace from the beginning or the end:\n",
    "print(a.replace(\"H\", \"J\"))\n",
    "print(a.split(\"o\"))"
   ]
  },
  {
   "cell_type": "code",
   "execution_count": 20,
   "id": "eacbfd50",
   "metadata": {},
   "outputs": [
    {
     "name": "stdout",
     "output_type": "stream",
     "text": [
      "Hello     World\n"
     ]
    }
   ],
   "source": [
    "a = \"Hello\"\n",
    "b = \"World\"\n",
    "c = a + \"     \" + b\n",
    "print(c)\n",
    "# concatenation of string"
   ]
  },
  {
   "cell_type": "code",
   "execution_count": 21,
   "id": "105f4fed",
   "metadata": {},
   "outputs": [
    {
     "name": "stdout",
     "output_type": "stream",
     "text": [
      "I want 3 pieces of item 567 for 49.95 dollars.\n"
     ]
    }
   ],
   "source": [
    "quantity = 3\n",
    "itemno = 567\n",
    "price = 49.95\n",
    "myorder = \"I want {} pieces of item {} for {} dollars.\"\n",
    "print(myorder.format(quantity, itemno, price))\n",
    "# to concatinate numbers and strings without typecast"
   ]
  },
  {
   "cell_type": "code",
   "execution_count": 22,
   "id": "684600d3",
   "metadata": {},
   "outputs": [
    {
     "name": "stdout",
     "output_type": "stream",
     "text": [
      "False\n"
     ]
    }
   ],
   "source": [
    "x = 200\n",
    "print(isinstance(x, float))\n",
    "# to check datatype in boolean as assumed"
   ]
  },
  {
   "cell_type": "code",
   "execution_count": null,
   "id": "3375ee25",
   "metadata": {},
   "outputs": [],
   "source": []
  }
 ],
 "metadata": {
  "kernelspec": {
   "display_name": "Python 3 (ipykernel)",
   "language": "python",
   "name": "python3"
  },
  "language_info": {
   "codemirror_mode": {
    "name": "ipython",
    "version": 3
   },
   "file_extension": ".py",
   "mimetype": "text/x-python",
   "name": "python",
   "nbconvert_exporter": "python",
   "pygments_lexer": "ipython3",
   "version": "3.8.5"
  }
 },
 "nbformat": 4,
 "nbformat_minor": 5
}
