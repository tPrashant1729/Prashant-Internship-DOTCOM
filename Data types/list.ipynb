{
 "cells": [
  {
   "cell_type": "code",
   "execution_count": 2,
   "id": "021a4501",
   "metadata": {},
   "outputs": [
    {
     "name": "stdout",
     "output_type": "stream",
     "text": [
      "[]\n"
     ]
    }
   ],
   "source": [
    "emptylist = []\n",
    "print(emptylist)"
   ]
  },
  {
   "cell_type": "code",
   "execution_count": 3,
   "id": "32a01fb6",
   "metadata": {},
   "outputs": [
    {
     "name": "stdout",
     "output_type": "stream",
     "text": [
      "4\n",
      "<class 'list'>\n"
     ]
    }
   ],
   "source": [
    "list = [\"apple\", \"banana\", \"kivi\", \"mango\"]\n",
    "print(len(list))\n",
    "print(type(list))"
   ]
  },
  {
   "cell_type": "code",
   "execution_count": 4,
   "id": "209dcb9c",
   "metadata": {},
   "outputs": [
    {
     "name": "stdout",
     "output_type": "stream",
     "text": [
      "banana\n",
      "mango\n"
     ]
    }
   ],
   "source": [
    "thislist = [\"apple\", \"banana\", \"cherry\", \"orange\", \"kiwi\", \"melon\", \"mango\"]\n",
    "print(thislist[1])     # positive indexing starts from zero\n",
    "print(thislist[-1])    # negative indexing starts from minus one"
   ]
  },
  {
   "cell_type": "code",
   "execution_count": 5,
   "id": "da30d56c",
   "metadata": {},
   "outputs": [
    {
     "name": "stdout",
     "output_type": "stream",
     "text": [
      "['cherry', 'orange', 'kiwi']\n"
     ]
    }
   ],
   "source": [
    "print(thislist[2:5])"
   ]
  },
  {
   "cell_type": "code",
   "execution_count": 6,
   "id": "dfc34b7d",
   "metadata": {},
   "outputs": [
    {
     "name": "stdout",
     "output_type": "stream",
     "text": [
      "['apple', 'banana', 'cherry', 'orange']\n"
     ]
    }
   ],
   "source": [
    "print(thislist[:4])"
   ]
  },
  {
   "cell_type": "code",
   "execution_count": 7,
   "id": "ea888aee",
   "metadata": {},
   "outputs": [
    {
     "name": "stdout",
     "output_type": "stream",
     "text": [
      "['cherry', 'orange', 'kiwi', 'melon', 'mango']\n"
     ]
    }
   ],
   "source": [
    "print(thislist[2:])"
   ]
  },
  {
   "cell_type": "code",
   "execution_count": 8,
   "id": "52ba1e4b",
   "metadata": {},
   "outputs": [
    {
     "name": "stdout",
     "output_type": "stream",
     "text": [
      "['orange', 'kiwi', 'melon']\n"
     ]
    }
   ],
   "source": [
    "print(thislist[-4:-1])"
   ]
  },
  {
   "cell_type": "code",
   "execution_count": 9,
   "id": "d52206b0",
   "metadata": {},
   "outputs": [
    {
     "name": "stdout",
     "output_type": "stream",
     "text": [
      "['apple', 'banana', 'cherry', 'orange', 'grapes', 'melon', 'mango']\n"
     ]
    }
   ],
   "source": [
    "thislist[4]='grapes'\n",
    "print(thislist)"
   ]
  },
  {
   "cell_type": "code",
   "execution_count": 10,
   "id": "8d17dd8d",
   "metadata": {},
   "outputs": [
    {
     "name": "stdout",
     "output_type": "stream",
     "text": [
      "['apple', 'blackcurrant', 'watermelon', 'orange', 'grapes', 'melon', 'mango']\n"
     ]
    }
   ],
   "source": [
    "thislist[1:3] = [\"blackcurrant\", \"watermelon\"]\n",
    "print(thislist)\n",
    "# to change in a range"
   ]
  },
  {
   "cell_type": "code",
   "execution_count": 33,
   "id": "67f2f92d",
   "metadata": {},
   "outputs": [
    {
     "name": "stdout",
     "output_type": "stream",
     "text": [
      "[50, 65, 23, 82, 100, 'cherry']\n"
     ]
    }
   ],
   "source": [
    "thislist.append(\"cherry\")\n",
    "print(thislist)\n",
    "# TO ADD ITEM FROM LAST"
   ]
  },
  {
   "cell_type": "code",
   "execution_count": 12,
   "id": "7139fc20",
   "metadata": {},
   "outputs": [
    {
     "name": "stdout",
     "output_type": "stream",
     "text": [
      "['apple', 'blackcurrant', 'avocado', 'watermelon', 'orange', 'grapes', 'melon', 'mango', 'cherry']\n"
     ]
    }
   ],
   "source": [
    "thislist.insert(2, \"avocado\")\n",
    "print(thislist)\n",
    "# insert method will not replace any ietm but will add new one to that place"
   ]
  },
  {
   "cell_type": "code",
   "execution_count": 13,
   "id": "572a72ea",
   "metadata": {},
   "outputs": [
    {
     "name": "stdout",
     "output_type": "stream",
     "text": [
      "['apple', 'blackcurrant', 'avocado', 'watermelon', 'orange', 'grapes', 'melon', 'mango', 'cherry']\n"
     ]
    }
   ],
   "source": [
    "print(thislist)"
   ]
  },
  {
   "cell_type": "code",
   "execution_count": 14,
   "id": "0c12750d",
   "metadata": {},
   "outputs": [
    {
     "data": {
      "text/plain": [
       "[50, 51, 52, 53, 54, 66, 67, 68]"
      ]
     },
     "execution_count": 14,
     "metadata": {},
     "output_type": "execute_result"
    }
   ],
   "source": [
    "l1 = [i for i in range (50,55)]\n",
    "l2 = [i for i in range (66,69)]\n",
    "l1.extend(l2)   # to add item from another list\n",
    "l1\n",
    "# extend can also append tuple set dict"
   ]
  },
  {
   "cell_type": "code",
   "execution_count": 15,
   "id": "321f6bd7",
   "metadata": {},
   "outputs": [
    {
     "name": "stdout",
     "output_type": "stream",
     "text": [
      "[50, 52, 53, 54, 66, 67, 68]\n",
      "51\n"
     ]
    }
   ],
   "source": [
    "l1 = [50, 51, 52, 53, 54, 66, 67, 68]\n",
    "r= l1.pop(1)\n",
    "print(l1)\n",
    "print(r)\n",
    "# pop returns value , remove does not"
   ]
  },
  {
   "cell_type": "code",
   "execution_count": 16,
   "id": "812ed321",
   "metadata": {},
   "outputs": [
    {
     "data": {
      "text/plain": [
       "[50, 52, 53, 66, 67, 68]"
      ]
     },
     "execution_count": 16,
     "metadata": {},
     "output_type": "execute_result"
    }
   ],
   "source": [
    "l1.remove(54)\n",
    "l1"
   ]
  },
  {
   "cell_type": "code",
   "execution_count": 17,
   "id": "7b511308",
   "metadata": {},
   "outputs": [
    {
     "name": "stdout",
     "output_type": "stream",
     "text": [
      "[45, 89, 12, 23]\n"
     ]
    },
    {
     "data": {
      "text/plain": [
       "[45, 89, 12]"
      ]
     },
     "execution_count": 17,
     "metadata": {},
     "output_type": "execute_result"
    }
   ],
   "source": [
    "lst = [45,78,56,89,12,23]\n",
    "del lst[1:3]\n",
    "print(lst)\n",
    "del lst[3]\n",
    "lst"
   ]
  },
  {
   "cell_type": "code",
   "execution_count": 18,
   "id": "349b5c5f",
   "metadata": {},
   "outputs": [
    {
     "data": {
      "text/plain": [
       "[]"
      ]
     },
     "execution_count": 18,
     "metadata": {},
     "output_type": "execute_result"
    }
   ],
   "source": [
    "lst.clear()\n",
    "lst\n",
    "# clear method remove all element but list remains\n",
    "# clear method work same for also set  tuple and dict"
   ]
  },
  {
   "cell_type": "code",
   "execution_count": 19,
   "id": "684a9d48",
   "metadata": {},
   "outputs": [
    {
     "data": {
      "text/plain": [
       "[10, 11, 12, 13, 14, 15, 16, 17, 18, 19]"
      ]
     },
     "execution_count": 19,
     "metadata": {},
     "output_type": "execute_result"
    }
   ],
   "source": [
    "lsa = [i for i in range (10,20)]\n",
    "lsa"
   ]
  },
  {
   "cell_type": "code",
   "execution_count": 20,
   "id": "65fe0c42",
   "metadata": {},
   "outputs": [
    {
     "name": "stdout",
     "output_type": "stream",
     "text": [
      "10\n",
      "11\n",
      "12\n",
      "13\n",
      "14\n",
      "15\n",
      "16\n",
      "17\n",
      "18\n",
      "19\n"
     ]
    }
   ],
   "source": [
    "lsa = [i for i in range (10,20)]\n",
    "for i in lsa:\n",
    "    print(i)\n",
    "# printing all item using for loop"
   ]
  },
  {
   "cell_type": "code",
   "execution_count": 21,
   "id": "c1a33069",
   "metadata": {},
   "outputs": [
    {
     "name": "stdout",
     "output_type": "stream",
     "text": [
      "10\n",
      "11\n",
      "12\n",
      "13\n",
      "14\n",
      "15\n",
      "16\n",
      "17\n",
      "18\n",
      "19\n"
     ]
    }
   ],
   "source": [
    "lsa = [i for i in range (10,20)]\n",
    "x =  0\n",
    "while x< len(lsa):\n",
    "    print(lsa[x])\n",
    "    x= x+1\n",
    "    "
   ]
  },
  {
   "cell_type": "markdown",
   "id": "6c3bd296",
   "metadata": {},
   "source": [
    "newlist = [expression for item in iterable if condition == True]"
   ]
  },
  {
   "cell_type": "code",
   "execution_count": 22,
   "id": "c683ecd7",
   "metadata": {},
   "outputs": [],
   "source": [
    "# List comprehension offers a shorter syntax when you want to create a new list \n",
    "# based on the values of an existing list."
   ]
  },
  {
   "cell_type": "code",
   "execution_count": 23,
   "id": "e407e4b8",
   "metadata": {},
   "outputs": [],
   "source": [
    "jk= [i for i in range(10,50) if i%2==0]"
   ]
  },
  {
   "cell_type": "code",
   "execution_count": 24,
   "id": "b2e87a9a",
   "metadata": {},
   "outputs": [
    {
     "name": "stdout",
     "output_type": "stream",
     "text": [
      "[10, 12, 14, 16, 18, 20, 22, 24, 26, 28, 30, 32, 34, 36, 38, 40, 42, 44, 46, 48]\n"
     ]
    }
   ],
   "source": [
    "print(jk)"
   ]
  },
  {
   "cell_type": "code",
   "execution_count": 35,
   "id": "244aeb4c",
   "metadata": {},
   "outputs": [
    {
     "name": "stdout",
     "output_type": "stream",
     "text": [
      "['APPLE', 'BANANA', 'CHERRY', 'KIWI', 'MANGO']\n"
     ]
    }
   ],
   "source": [
    "fruits = [\"apple\", \"banana\", \"cherry\", \"kiwi\", \"mango\"]\n",
    "\n",
    "newlist = [x.upper() for x in fruits]\n",
    "\n",
    "print(newlist)"
   ]
  },
  {
   "cell_type": "code",
   "execution_count": 26,
   "id": "405e6e83",
   "metadata": {},
   "outputs": [
    {
     "name": "stdout",
     "output_type": "stream",
     "text": [
      "['apple', 'orange', 'cherry', 'kiwi', 'mango']\n"
     ]
    }
   ],
   "source": [
    "fruits = [\"apple\", \"banana\", \"cherry\", \"kiwi\", \"mango\"]\n",
    "\n",
    "newlist = [x if x != \"banana\" else \"orange\" for x in fruits]\n",
    "\n",
    "print(newlist)\n",
    "# \"Return the item if it is not banana, if it is banana return orange\"."
   ]
  },
  {
   "cell_type": "code",
   "execution_count": 27,
   "id": "89bfe1cb",
   "metadata": {},
   "outputs": [
    {
     "name": "stdout",
     "output_type": "stream",
     "text": [
      "[0, 6, 7, 23, 32, 45, 100]\n"
     ]
    }
   ],
   "source": [
    "l3= [23,45,6,7,32,0,100]\n",
    "l3.sort()\n",
    "print(l3)\n",
    "# to sort in ascending"
   ]
  },
  {
   "cell_type": "code",
   "execution_count": 28,
   "id": "1bba5b5d",
   "metadata": {},
   "outputs": [
    {
     "name": "stdout",
     "output_type": "stream",
     "text": [
      "[100, 45, 32, 23, 7, 6, 0]\n"
     ]
    }
   ],
   "source": [
    "l3= [23,45,6,7,32,0,100]\n",
    "l3.sort(reverse = True)\n",
    "print(l3)\n",
    "# to sort in descending"
   ]
  },
  {
   "cell_type": "code",
   "execution_count": 29,
   "id": "8955a63c",
   "metadata": {},
   "outputs": [
    {
     "name": "stdout",
     "output_type": "stream",
     "text": [
      "['Mango', 'apple', 'banana', 'cherry', 'kiwi']\n"
     ]
    }
   ],
   "source": [
    "fruits = [\"apple\", \"banana\", \"cherry\", \"kiwi\", \"Mango\"]\n",
    "fruits.sort()\n",
    "print(fruits)\n",
    "# capitalized word has more priority"
   ]
  },
  {
   "cell_type": "code",
   "execution_count": 30,
   "id": "59f80d02",
   "metadata": {},
   "outputs": [
    {
     "name": "stdout",
     "output_type": "stream",
     "text": [
      "[50, 65, 23, 82, 100]\n"
     ]
    }
   ],
   "source": [
    "def myfunc(n):\n",
    "  return abs(n - 50)\n",
    "\n",
    "thislist = [100, 50, 65, 82, 23]\n",
    "\n",
    "thislist.sort(key = myfunc)\n",
    "\n",
    "print(thislist)\n"
   ]
  },
  {
   "cell_type": "code",
   "execution_count": 36,
   "id": "689b2920",
   "metadata": {},
   "outputs": [
    {
     "name": "stdout",
     "output_type": "stream",
     "text": [
      "['apple', 'banana', 'cherry', 'kiwi', 'Mango']\n"
     ]
    }
   ],
   "source": [
    "fruits = [\"apple\", \"banana\", \"cherry\", \"kiwi\", \"Mango\"]\n",
    "animals = fruits.copy()\n",
    "print(animals)\n",
    "# to copy list"
   ]
  },
  {
   "cell_type": "code",
   "execution_count": 37,
   "id": "d79d9779",
   "metadata": {},
   "outputs": [],
   "source": [
    "# we can join list by + operator"
   ]
  },
  {
   "cell_type": "code",
   "execution_count": 38,
   "id": "5a0072ee",
   "metadata": {},
   "outputs": [
    {
     "name": "stdout",
     "output_type": "stream",
     "text": [
      "['apple', 'banana', 'cherry', 'kiwi', 'Mango', 'apple', 'banana', 'cherry', 'kiwi', 'Mango']\n"
     ]
    }
   ],
   "source": [
    "print(animals*2)\n",
    "# multiplying list"
   ]
  },
  {
   "cell_type": "code",
   "execution_count": null,
   "id": "0ea1a0fe",
   "metadata": {},
   "outputs": [],
   "source": []
  }
 ],
 "metadata": {
  "kernelspec": {
   "display_name": "Python 3 (ipykernel)",
   "language": "python",
   "name": "python3"
  },
  "language_info": {
   "codemirror_mode": {
    "name": "ipython",
    "version": 3
   },
   "file_extension": ".py",
   "mimetype": "text/x-python",
   "name": "python",
   "nbconvert_exporter": "python",
   "pygments_lexer": "ipython3",
   "version": "3.8.5"
  }
 },
 "nbformat": 4,
 "nbformat_minor": 5
}
