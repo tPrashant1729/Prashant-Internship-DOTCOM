{
 "cells": [
  {
   "cell_type": "markdown",
   "id": "cf0aef33",
   "metadata": {},
   "source": [
    "# Array"
   ]
  },
  {
   "cell_type": "code",
   "execution_count": 2,
   "id": "1e9b965c",
   "metadata": {},
   "outputs": [
    {
     "name": "stdout",
     "output_type": "stream",
     "text": [
      "The new created array is :  1 2 3 5 6 7 1 \n",
      "The new created array is :  2.5 3.2 3.3 "
     ]
    }
   ],
   "source": [
    "# Python program to demonstrate\n",
    "# Creation of Array\n",
    "\n",
    "# importing \"array\" for array creations\n",
    "import array as arr\n",
    "\n",
    "# creating an array with integer type\n",
    "a = arr.array('i', [1, 2, 3,5,6,7,1])\n",
    "\n",
    "# printing original array\n",
    "print (\"The new created array is : \", end =\" \")\n",
    "for i in range (0, 7):\n",
    "    print (a[i], end =\" \")\n",
    "print() #to go new line\n",
    "\n",
    "# creating an array with double type\n",
    "b = arr.array('d', [2.5, 3.2, 3.3])\n",
    "\n",
    "# printing original array\n",
    "print (\"The new created array is : \", end =\" \")\n",
    "for i in range (0, 3):\n",
    "    print (b[i], end =\" \")"
   ]
  },
  {
   "cell_type": "code",
   "execution_count": 3,
   "id": "1b74252e",
   "metadata": {},
   "outputs": [
    {
     "name": "stdout",
     "output_type": "stream",
     "text": [
      "array('i', [1, 3, 5, 6, 7, 1])\n"
     ]
    }
   ],
   "source": [
    "a.pop(1) # pop needs position not value\n",
    "print(a)"
   ]
  },
  {
   "cell_type": "code",
   "execution_count": 4,
   "id": "bd194a11",
   "metadata": {},
   "outputs": [
    {
     "data": {
      "text/plain": [
       "array('i', [1, 3, 5, 7, 1])"
      ]
     },
     "execution_count": 4,
     "metadata": {},
     "output_type": "execute_result"
    }
   ],
   "source": [
    "a.remove(6) # remove needs value not podition\n",
    "a"
   ]
  },
  {
   "cell_type": "code",
   "execution_count": 5,
   "id": "559124ea",
   "metadata": {},
   "outputs": [
    {
     "data": {
      "text/plain": [
       "array('i', [1, 3, 6, 7, 1])"
      ]
     },
     "execution_count": 5,
     "metadata": {},
     "output_type": "execute_result"
    }
   ],
   "source": [
    "a[2]=6 #updating value\n",
    "a"
   ]
  },
  {
   "cell_type": "code",
   "execution_count": 6,
   "id": "dc9553b3",
   "metadata": {},
   "outputs": [
    {
     "data": {
      "text/plain": [
       "3"
      ]
     },
     "execution_count": 6,
     "metadata": {},
     "output_type": "execute_result"
    }
   ],
   "source": [
    "a.index(7)  #index of that value"
   ]
  },
  {
   "cell_type": "code",
   "execution_count": null,
   "id": "01975ec9",
   "metadata": {},
   "outputs": [],
   "source": []
  }
 ],
 "metadata": {
  "kernelspec": {
   "display_name": "Python 3 (ipykernel)",
   "language": "python",
   "name": "python3"
  },
  "language_info": {
   "codemirror_mode": {
    "name": "ipython",
    "version": 3
   },
   "file_extension": ".py",
   "mimetype": "text/x-python",
   "name": "python",
   "nbconvert_exporter": "python",
   "pygments_lexer": "ipython3",
   "version": "3.8.5"
  }
 },
 "nbformat": 4,
 "nbformat_minor": 5
}
