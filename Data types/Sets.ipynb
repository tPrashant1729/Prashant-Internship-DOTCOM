{
 "cells": [
  {
   "cell_type": "code",
   "execution_count": 2,
   "id": "e5df4d74",
   "metadata": {},
   "outputs": [
    {
     "name": "stdout",
     "output_type": "stream",
     "text": [
      "{False, 1, 2, 3, 4, 5, 6, 7}\n"
     ]
    }
   ],
   "source": [
    "s1= {3,4,5,5,4,3,2,6,7,1,True,False,0}\n",
    "print(s1)\n",
    "# because 0 and false, 1 and true are same for set\n",
    "#set does not allow duplicate"
   ]
  },
  {
   "cell_type": "code",
   "execution_count": 4,
   "id": "f332ab77",
   "metadata": {},
   "outputs": [
    {
     "name": "stdout",
     "output_type": "stream",
     "text": [
      "{False, 1, 'wewrsf'}\n"
     ]
    }
   ],
   "source": [
    "s1 = set((\"wewrsf\",1,False))\n",
    "print(s1)\n",
    "# making set using set word"
   ]
  },
  {
   "cell_type": "code",
   "execution_count": 5,
   "id": "a7c0d1b6",
   "metadata": {},
   "outputs": [
    {
     "name": "stdout",
     "output_type": "stream",
     "text": [
      "cherry\n",
      "banana\n",
      "apple\n"
     ]
    }
   ],
   "source": [
    "thisset = {\"apple\", \"banana\", \"cherry\"}\n",
    "\n",
    "for x in thisset:\n",
    "  print(x)\n",
    "# common structure for list, tuple,set and dict"
   ]
  },
  {
   "cell_type": "code",
   "execution_count": 3,
   "id": "7bf863c4",
   "metadata": {},
   "outputs": [
    {
     "name": "stdout",
     "output_type": "stream",
     "text": [
      "{'banana', 'apple', 'kiwi', 'cherry', 'orange'}\n"
     ]
    }
   ],
   "source": [
    "thisset = {\"apple\", \"banana\", \"cherry\"}\n",
    "mylist = [\"kiwi\", \"orange\"]\n",
    "\n",
    "thisset.update(mylist)\n",
    "\n",
    "print(thisset)\n",
    "# .add to add new item\n",
    "# we can update any item like list tuple set and dict"
   ]
  },
  {
   "cell_type": "code",
   "execution_count": 12,
   "id": "1f3dd601",
   "metadata": {},
   "outputs": [
    {
     "name": "stdout",
     "output_type": "stream",
     "text": [
      "{'orange', 'kiwi', 'cherry'}\n",
      "{'orange', 'kiwi', 'cherry'}\n"
     ]
    }
   ],
   "source": [
    "thisset.remove(\"banana\")\n",
    "print(thisset)\n",
    "# remove accurs error if item not present in set\n",
    "thisset.discard(\"mango\")\n",
    "print(thisset)\n",
    "# discard does not accurs error if item not present in set"
   ]
  },
  {
   "cell_type": "code",
   "execution_count": 15,
   "id": "0953c3c7",
   "metadata": {},
   "outputs": [
    {
     "name": "stdout",
     "output_type": "stream",
     "text": [
      "{1, 2.3, 4, 5, 6, 7, 8, 9}\n",
      "{1, 4, 5}\n"
     ]
    }
   ],
   "source": [
    "s1={1,2.3,4,5,6}\n",
    "s2 = {1,4,5,7,8,9}\n",
    "s3 = s1.union(s2)\n",
    "s31 = s1.intersection(s2)\n",
    "print(s3)\n",
    "print(s31)\n",
    "#this union method is just like math set union"
   ]
  },
  {
   "cell_type": "code",
   "execution_count": 14,
   "id": "25c04a51",
   "metadata": {},
   "outputs": [
    {
     "name": "stdout",
     "output_type": "stream",
     "text": [
      "{1, 546, 2.3, 4, 5, 6, 7, 8, 9, 23123, 435, 75676}\n"
     ]
    }
   ],
   "source": [
    "s4={23123,435,546,75676}\n",
    "s4.update(s3)\n",
    "print(s4)\n",
    "# it is for update set"
   ]
  }
 ],
 "metadata": {
  "kernelspec": {
   "display_name": "Python 3 (ipykernel)",
   "language": "python",
   "name": "python3"
  },
  "language_info": {
   "codemirror_mode": {
    "name": "ipython",
    "version": 3
   },
   "file_extension": ".py",
   "mimetype": "text/x-python",
   "name": "python",
   "nbconvert_exporter": "python",
   "pygments_lexer": "ipython3",
   "version": "3.8.5"
  }
 },
 "nbformat": 4,
 "nbformat_minor": 5
}
