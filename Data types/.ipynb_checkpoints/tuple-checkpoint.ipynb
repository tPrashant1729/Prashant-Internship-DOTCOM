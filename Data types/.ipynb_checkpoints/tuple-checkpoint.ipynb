{
 "cells": [
  {
   "cell_type": "code",
   "execution_count": 1,
   "id": "0600855a",
   "metadata": {},
   "outputs": [],
   "source": [
    "# A tuple is a collection which is ordered and unchangeable.\n",
    "# Tuples are written with round brackets."
   ]
  },
  {
   "cell_type": "code",
   "execution_count": 5,
   "id": "14b1bc37",
   "metadata": {},
   "outputs": [
    {
     "name": "stdout",
     "output_type": "stream",
     "text": [
      "<class 'tuple'>\n"
     ]
    }
   ],
   "source": [
    "t1= ()\n",
    "print(type(t1))\n",
    "# empty tuple"
   ]
  },
  {
   "cell_type": "code",
   "execution_count": 6,
   "id": "26b94131",
   "metadata": {},
   "outputs": [
    {
     "name": "stdout",
     "output_type": "stream",
     "text": [
      "<class 'tuple'>\n"
     ]
    }
   ],
   "source": [
    "t1= (10,)\n",
    "print(type(t1))\n",
    "# one item tuple"
   ]
  },
  {
   "cell_type": "code",
   "execution_count": 7,
   "id": "79acc617",
   "metadata": {},
   "outputs": [],
   "source": [
    "#  tuple can contain different data types:"
   ]
  },
  {
   "cell_type": "code",
   "execution_count": 8,
   "id": "fd3ae37f",
   "metadata": {},
   "outputs": [
    {
     "name": "stdout",
     "output_type": "stream",
     "text": [
      "('apple', 'banana', 'cherry')\n"
     ]
    }
   ],
   "source": [
    "thistuple = tuple((\"apple\", \"banana\", \"cherry\")) # note the double round-brackets\n",
    "print(thistuple)"
   ]
  },
  {
   "cell_type": "code",
   "execution_count": 9,
   "id": "8fc62ba4",
   "metadata": {},
   "outputs": [],
   "source": [
    "# accessing tupple item is same as in list"
   ]
  },
  {
   "cell_type": "code",
   "execution_count": 11,
   "id": "7c19a310",
   "metadata": {},
   "outputs": [
    {
     "name": "stdout",
     "output_type": "stream",
     "text": [
      "['apple', 'banana', 'cherry']\n",
      "('apple', 'banana', 'cherry', 'orange')\n"
     ]
    }
   ],
   "source": [
    "thistuple = (\"apple\", \"banana\", \"cherry\")\n",
    "y = list(thistuple)   #changing tuple into list\n",
    "print(y)\n",
    "y.append(\"orange\")\n",
    "thistuple = tuple(y)  # changing list into tuple\n",
    "print(thistuple)"
   ]
  },
  {
   "cell_type": "code",
   "execution_count": 12,
   "id": "00e5ee74",
   "metadata": {},
   "outputs": [
    {
     "name": "stdout",
     "output_type": "stream",
     "text": [
      "('apple', 'banana', 'cherry', 1)\n"
     ]
    }
   ],
   "source": [
    "thistuple = (\"apple\", \"banana\", \"cherry\")\n",
    "y = (1,)\n",
    "thistuple += y\n",
    "print(thistuple)\n",
    "#can add tuple to a tuple"
   ]
  },
  {
   "cell_type": "code",
   "execution_count": 14,
   "id": "9f934acd",
   "metadata": {},
   "outputs": [],
   "source": [
    "y = (1,2,3)\n",
    "del y\n",
    "# to delete ehole tuple"
   ]
  },
  {
   "cell_type": "code",
   "execution_count": 17,
   "id": "78189c1e",
   "metadata": {},
   "outputs": [
    {
     "name": "stdout",
     "output_type": "stream",
     "text": [
      "ap\n"
     ]
    }
   ],
   "source": [
    "t0 = (\"ap\",\"xs\",\"gh\")\n",
    "(st,we,fg) = t0   #unpacking of tuple using different variables\n",
    "print(st)         #printing without comma"
   ]
  },
  {
   "cell_type": "code",
   "execution_count": 16,
   "id": "3911628c",
   "metadata": {},
   "outputs": [
    {
     "name": "stdout",
     "output_type": "stream",
     "text": [
      "apple\n",
      "banana\n",
      "['cherry', 'strawberry', 'raspberry']\n"
     ]
    }
   ],
   "source": [
    "fruits = (\"apple\", \"banana\", \"cherry\", \"strawberry\", \"raspberry\")\n",
    "\n",
    "(green, yellow, *red) = fruits  #use of asterik will return rest item in list\n",
    "\n",
    "print(green)\n",
    "print(yellow)\n",
    "print(red)"
   ]
  },
  {
   "cell_type": "code",
   "execution_count": 2,
   "id": "4280e0c1",
   "metadata": {},
   "outputs": [
    {
     "name": "stdout",
     "output_type": "stream",
     "text": [
      "(10, 11, 12, 13, 14, 15, 16, 17, 18, 19)\n"
     ]
    }
   ],
   "source": [
    "t1 = tuple(i for i in range (10,20))\n",
    "print(t1)\n",
    "# making tuple using tuple comprehensiv"
   ]
  },
  {
   "cell_type": "code",
   "execution_count": 23,
   "id": "b893fe36",
   "metadata": {},
   "outputs": [
    {
     "name": "stdout",
     "output_type": "stream",
     "text": [
      "(10, 11, 12, 13, 14, 15, 16, 17, 18, 19, 10, 11, 12, 13, 14, 15, 16, 17, 18, 19)\n"
     ]
    }
   ],
   "source": [
    "print(t1*2)    #Multiplying tuple "
   ]
  },
  {
   "cell_type": "code",
   "execution_count": null,
   "id": "9c23c330",
   "metadata": {},
   "outputs": [],
   "source": []
  }
 ],
 "metadata": {
  "kernelspec": {
   "display_name": "Python 3 (ipykernel)",
   "language": "python",
   "name": "python3"
  },
  "language_info": {
   "codemirror_mode": {
    "name": "ipython",
    "version": 3
   },
   "file_extension": ".py",
   "mimetype": "text/x-python",
   "name": "python",
   "nbconvert_exporter": "python",
   "pygments_lexer": "ipython3",
   "version": "3.8.5"
  }
 },
 "nbformat": 4,
 "nbformat_minor": 5
}
