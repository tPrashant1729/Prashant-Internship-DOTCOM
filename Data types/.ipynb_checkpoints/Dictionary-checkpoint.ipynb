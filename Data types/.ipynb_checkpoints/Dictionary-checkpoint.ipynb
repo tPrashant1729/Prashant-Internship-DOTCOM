{
 "cells": [
  {
   "cell_type": "code",
   "execution_count": 3,
   "id": "e947b463",
   "metadata": {},
   "outputs": [
    {
     "name": "stdout",
     "output_type": "stream",
     "text": [
      "{'brand': 'Ford', 'electric': False, 'year': 1964, 'colors': ['red', 'white', 'blue']}\n"
     ]
    }
   ],
   "source": [
    "d1 = {\n",
    "  \"brand\": \"Ford\",\n",
    "  \"electric\": False,\n",
    "  \"year\": 1964,\n",
    "  \"colors\": [\"red\", \"white\", \"blue\"]\n",
    "}\n",
    "print(d1)"
   ]
  },
  {
   "cell_type": "code",
   "execution_count": 4,
   "id": "e56087c3",
   "metadata": {},
   "outputs": [
    {
     "name": "stdout",
     "output_type": "stream",
     "text": [
      "{'name': 'John', 'age': 36, 'country': 'Norway'}\n"
     ]
    }
   ],
   "source": [
    "d2 = dict(name = \"John\", age = 36, country = \"Norway\")\n",
    "print(d2)"
   ]
  },
  {
   "cell_type": "code",
   "execution_count": 5,
   "id": "dd1fda65",
   "metadata": {},
   "outputs": [
    {
     "name": "stdout",
     "output_type": "stream",
     "text": [
      "John\n"
     ]
    }
   ],
   "source": [
    "d2 = dict(name = \"John\", age = 36, country = \"Norway\")\n",
    "x= d2['name']\n",
    "print(x)"
   ]
  },
  {
   "cell_type": "code",
   "execution_count": 6,
   "id": "81d87510",
   "metadata": {},
   "outputs": [
    {
     "name": "stdout",
     "output_type": "stream",
     "text": [
      "None\n"
     ]
    }
   ],
   "source": [
    "print(d2.get(\"gsv\"))\n",
    "\n",
    "# get method will not give error if key is not available"
   ]
  },
  {
   "cell_type": "code",
   "execution_count": 7,
   "id": "72d2018a",
   "metadata": {},
   "outputs": [
    {
     "name": "stdout",
     "output_type": "stream",
     "text": [
      "dict_values(['Ford', 'Mustang', 1964]) dict_keys(['brand', 'model', 'year'])\n",
      "dict_values(['Ford', 'Mustang', 2020, 'red']) dict_keys(['brand', 'model', 'year', 'color'])\n"
     ]
    }
   ],
   "source": [
    "car = {\n",
    "\"brand\": \"Ford\",\n",
    "\"model\": \"Mustang\",\n",
    "\"year\": 1964\n",
    "}\n",
    "\n",
    "x = car.values()\n",
    "y= car.keys()\n",
    "print(x,y) #before the change\n",
    "\n",
    "car[\"year\"] = 2020\n",
    "car[\"color\"]= \"red\" # adding new key and value\n",
    "\n",
    "print(x,y) #after the change\n"
   ]
  },
  {
   "cell_type": "code",
   "execution_count": 8,
   "id": "cfc1e950",
   "metadata": {},
   "outputs": [
    {
     "name": "stdout",
     "output_type": "stream",
     "text": [
      "yes, you can see\n"
     ]
    }
   ],
   "source": [
    "if \"brand\" in car:\n",
    "    print(\"yes, you can see\")"
   ]
  },
  {
   "cell_type": "code",
   "execution_count": 9,
   "id": "14aa50c5",
   "metadata": {},
   "outputs": [
    {
     "name": "stdout",
     "output_type": "stream",
     "text": [
      "{'brand': 'Ford', 'model': 'Mustang', 'year': 2023, 'color': 'red'}\n"
     ]
    }
   ],
   "source": [
    "car.update({\"year\": 2023})\n",
    "print(car)\n",
    "# update method can also be used for add new key value pair "
   ]
  },
  {
   "cell_type": "code",
   "execution_count": 10,
   "id": "fff454cd",
   "metadata": {},
   "outputs": [
    {
     "name": "stdout",
     "output_type": "stream",
     "text": [
      "{'brand': 'Ford', 'model': 'Mustang', 'year': 1964}\n",
      "red\n",
      "{'brand': 'Ford', 'model': 'Mustang'}\n"
     ]
    }
   ],
   "source": [
    "car = {\n",
    "\"brand\": \"Ford\",\n",
    "\"model\": \"Mustang\",\n",
    "\"year\": 1964,\n",
    "\"color\": \"red\"\n",
    "}\n",
    "x=car.pop(\"color\")\n",
    "print(car)\n",
    "print(x)\n",
    "del car[\"year\"]\n",
    "print(car)"
   ]
  },
  {
   "cell_type": "code",
   "execution_count": 11,
   "id": "20de093a",
   "metadata": {},
   "outputs": [
    {
     "name": "stdout",
     "output_type": "stream",
     "text": [
      "['brand', 'model']\n"
     ]
    }
   ],
   "source": [
    "print(list(x for x in car.keys()))\n",
    "#looping in dictionary"
   ]
  },
  {
   "cell_type": "code",
   "execution_count": 12,
   "id": "019a3fdb",
   "metadata": {},
   "outputs": [
    {
     "name": "stdout",
     "output_type": "stream",
     "text": [
      "[('brand', 'Ford'), ('model', 'Mustang')]\n"
     ]
    }
   ],
   "source": [
    "print(list(x for x in car.items()))"
   ]
  },
  {
   "cell_type": "code",
   "execution_count": 13,
   "id": "4d047ebf",
   "metadata": {},
   "outputs": [
    {
     "name": "stdout",
     "output_type": "stream",
     "text": [
      "{'brand': 'Ford', 'model': 'Mustang'}\n",
      "{'brand': 'Ford', 'model': 'Mustang'}\n"
     ]
    }
   ],
   "source": [
    "racer = car.copy()\n",
    "print(racer)\n",
    "biker = dict(car)\n",
    "print(biker)\n",
    "# to copy dict"
   ]
  },
  {
   "cell_type": "code",
   "execution_count": 14,
   "id": "bba306e7",
   "metadata": {},
   "outputs": [
    {
     "name": "stdout",
     "output_type": "stream",
     "text": [
      "hello 5\n"
     ]
    }
   ],
   "source": [
    "a =5 \n",
    "print(\"hello {}\".format(a))"
   ]
  },
  {
   "cell_type": "code",
   "execution_count": 15,
   "id": "fb6783dc",
   "metadata": {},
   "outputs": [
    {
     "name": "stdout",
     "output_type": "stream",
     "text": [
      "[1, 3, 5, 7, 9, 11, 13, 15, 17, 19, 21, 23, 25, 27, 29, 31, 33, 35, 37, 39, 41, 43, 45, 47, 49, 51, 53, 55, 57, 59, 61, 63, 65, 67, 69, 71, 73, 75, 77, 79, 81, 83, 85, 87, 89, 91, 93, 95, 97, 99]\n"
     ]
    }
   ],
   "source": [
    "lst = [i for i in range(100)]\n",
    "print(lst[1:100:2])"
   ]
  },
  {
   "cell_type": "code",
   "execution_count": 16,
   "id": "5d9c713d",
   "metadata": {},
   "outputs": [
    {
     "name": "stdout",
     "output_type": "stream",
     "text": [
      "b is not greater than a\n"
     ]
    }
   ],
   "source": [
    "a = 200\n",
    "b = 33\n",
    "if b > a:\n",
    "  print(\"b is greater than a\")\n",
    "else:\n",
    "  print(\"b is not greater than a\")"
   ]
  },
  {
   "cell_type": "code",
   "execution_count": 17,
   "id": "ccd08787",
   "metadata": {},
   "outputs": [
    {
     "name": "stdout",
     "output_type": "stream",
     "text": [
      "harrier\n"
     ]
    }
   ],
   "source": [
    "car = {\n",
    "\"luxury\" : {\n",
    "             \"brand\": \"Ford\",\n",
    "             \"model\": \"Mustang\",\n",
    "             \"year\": 1964,\n",
    "             \"color\": \"red\"\n",
    "           },\n",
    "\n",
    "\"engine\" : {\n",
    "             \"electic\": \"nexon\",\n",
    "             \"petrol\": \"harrier\",\n",
    "             \"diesel\" : \"thar\"\n",
    "           }\n",
    "}\n",
    "print(car[\"engine\"][\"petrol\"])\n",
    "# to get item of dict from main dict"
   ]
  }
 ],
 "metadata": {
  "kernelspec": {
   "display_name": "Python 3 (ipykernel)",
   "language": "python",
   "name": "python3"
  },
  "language_info": {
   "codemirror_mode": {
    "name": "ipython",
    "version": 3
   },
   "file_extension": ".py",
   "mimetype": "text/x-python",
   "name": "python",
   "nbconvert_exporter": "python",
   "pygments_lexer": "ipython3",
   "version": "3.8.5"
  }
 },
 "nbformat": 4,
 "nbformat_minor": 5
}
