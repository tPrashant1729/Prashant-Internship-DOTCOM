{
 "cells": [
  {
   "cell_type": "code",
   "execution_count": 1,
   "id": "ff2f30e0",
   "metadata": {},
   "outputs": [],
   "source": [
    "import tensorflow as tf"
   ]
  },
  {
   "cell_type": "code",
   "execution_count": 2,
   "id": "3a6ba805",
   "metadata": {},
   "outputs": [],
   "source": [
    "sales_num = [21, 22, -108, 31, -1, 32, 34,31]\n",
    "tfd = tf.data.Dataset.from_tensor_slices(sales_num)"
   ]
  },
  {
   "cell_type": "code",
   "execution_count": 3,
   "id": "4e2c1e0c",
   "metadata": {},
   "outputs": [
    {
     "data": {
      "text/plain": [
       "<_TensorSliceDataset element_spec=TensorSpec(shape=(), dtype=tf.int32, name=None)>"
      ]
     },
     "execution_count": 3,
     "metadata": {},
     "output_type": "execute_result"
    }
   ],
   "source": [
    "tfd"
   ]
  },
  {
   "cell_type": "code",
   "execution_count": 4,
   "id": "ad7729c7",
   "metadata": {},
   "outputs": [
    {
     "name": "stdout",
     "output_type": "stream",
     "text": [
      "tf.Tensor(21, shape=(), dtype=int32)\n",
      "tf.Tensor(22, shape=(), dtype=int32)\n",
      "tf.Tensor(-108, shape=(), dtype=int32)\n",
      "tf.Tensor(31, shape=(), dtype=int32)\n",
      "tf.Tensor(-1, shape=(), dtype=int32)\n",
      "tf.Tensor(32, shape=(), dtype=int32)\n",
      "tf.Tensor(34, shape=(), dtype=int32)\n",
      "tf.Tensor(31, shape=(), dtype=int32)\n"
     ]
    }
   ],
   "source": [
    "for num in tfd:\n",
    "    print(num)"
   ]
  },
  {
   "cell_type": "code",
   "execution_count": 5,
   "id": "d5f7ae0f",
   "metadata": {},
   "outputs": [
    {
     "name": "stdout",
     "output_type": "stream",
     "text": [
      "21\n",
      "22\n",
      "-108\n",
      "31\n",
      "-1\n",
      "32\n",
      "34\n",
      "31\n"
     ]
    }
   ],
   "source": [
    "for num in tfd:\n",
    "    print(num.numpy())"
   ]
  },
  {
   "cell_type": "code",
   "execution_count": 6,
   "id": "9636e265",
   "metadata": {},
   "outputs": [],
   "source": [
    "tdr = tf.data.Dataset.list_files('reviews/*/*', shuffle=False)"
   ]
  },
  {
   "cell_type": "code",
   "execution_count": 7,
   "id": "83a899f3",
   "metadata": {},
   "outputs": [],
   "source": [
    "def show(data):\n",
    "    for i in tdr:\n",
    "        print(i)"
   ]
  },
  {
   "cell_type": "code",
   "execution_count": 8,
   "id": "9657ddad",
   "metadata": {},
   "outputs": [
    {
     "data": {
      "text/plain": [
       "6"
      ]
     },
     "execution_count": 8,
     "metadata": {},
     "output_type": "execute_result"
    }
   ],
   "source": [
    "import os\n",
    "len(tdr)"
   ]
  },
  {
   "cell_type": "code",
   "execution_count": 9,
   "id": "531f1eb8",
   "metadata": {},
   "outputs": [],
   "source": [
    "tdr = tdr.shuffle(5)"
   ]
  },
  {
   "cell_type": "code",
   "execution_count": 10,
   "id": "2888d5d9",
   "metadata": {},
   "outputs": [
    {
     "name": "stdout",
     "output_type": "stream",
     "text": [
      "tf.Tensor(b'reviews\\\\pos\\\\pos_1.txt', shape=(), dtype=string)\n",
      "tf.Tensor(b'reviews\\\\neg\\\\neg_2.txt', shape=(), dtype=string)\n",
      "tf.Tensor(b'reviews\\\\neg\\\\neg_3.txt', shape=(), dtype=string)\n",
      "tf.Tensor(b'reviews\\\\neg\\\\neg_1.txt', shape=(), dtype=string)\n",
      "tf.Tensor(b'reviews\\\\pos\\\\pos_2.txt', shape=(), dtype=string)\n",
      "tf.Tensor(b'reviews\\\\pos\\\\pos_3.txt', shape=(), dtype=string)\n"
     ]
    }
   ],
   "source": [
    "show(tdr)"
   ]
  },
  {
   "cell_type": "code",
   "execution_count": 11,
   "id": "a0d0b51e",
   "metadata": {},
   "outputs": [],
   "source": [
    "class_ = ['pos','neg']"
   ]
  },
  {
   "cell_type": "code",
   "execution_count": 12,
   "id": "00a41edb",
   "metadata": {},
   "outputs": [
    {
     "name": "stdout",
     "output_type": "stream",
     "text": [
      "This show was an amazing, fresh & innovative idea in the 70's when it first aired. The first 7 or 8 years were brilliant, but things dropped off after that. By 1990, the show was not really funny anymore, and it's continued its decline further to the complete waste of time it is today.<br /><br />It's truly disgraceful how far this show has fallen. The writing is painfully bad, the performances are almost as bad - if not for the mildly entertaining respite of the guest-hosts, this show probably wouldn't still be on the air. I find it so hard to believe that the same creator that hand-selected the original cast also chose the band of hacks that followed. How can one recognize such brilliance and then see fit to replace it with such mediocrity? I felt I must give 2 stars out of respect for the original cast that made this show such a huge success. As it is now, the show is just awful. I can't believe it's still on the air.\n"
     ]
    }
   ],
   "source": [
    "with open('reviews\\\\neg\\\\neg_2.txt') as f:\n",
    "    content = f.read()\n",
    "    print(content)"
   ]
  },
  {
   "cell_type": "code",
   "execution_count": 13,
   "id": "4cc99efe",
   "metadata": {},
   "outputs": [],
   "source": [
    "def get_label(file_path):\n",
    "    parts = tf.strings.split(file_path, os.path.sep)\n",
    "    return parts[1]"
   ]
  },
  {
   "cell_type": "code",
   "execution_count": 14,
   "id": "c2e1f06e",
   "metadata": {},
   "outputs": [
    {
     "data": {
      "text/plain": [
       "<tf.Tensor: shape=(), dtype=string, numpy=b'neg'>"
      ]
     },
     "execution_count": 14,
     "metadata": {},
     "output_type": "execute_result"
    }
   ],
   "source": [
    "get_label('reviews\\\\neg\\\\neg_2.txt')"
   ]
  },
  {
   "cell_type": "code",
   "execution_count": 15,
   "id": "a308595e",
   "metadata": {},
   "outputs": [],
   "source": [
    "review_text = tf.io.read_file('reviews\\\\neg\\\\neg_2.txt') # load the raw data from the file as a string\n"
   ]
  },
  {
   "cell_type": "code",
   "execution_count": 16,
   "id": "13c58aba",
   "metadata": {},
   "outputs": [
    {
     "data": {
      "text/plain": [
       "<tf.Tensor: shape=(), dtype=string, numpy=b\"This show was an amazing, fresh & innovative idea in the 70's when it first aired. The first 7 or 8 years were brilliant, but things dropped off after that. By 1990, the show was not really funny anymore, and it's continued its decline further to the complete waste of time it is today.<br /><br />It's truly disgraceful how far this show has fallen. The writing is painfully bad, the performances are almost as bad - if not for the mildly entertaining respite of the guest-hosts, this show probably wouldn't still be on the air. I find it so hard to believe that the same creator that hand-selected the original cast also chose the band of hacks that followed. How can one recognize such brilliance and then see fit to replace it with such mediocrity? I felt I must give 2 stars out of respect for the original cast that made this show such a huge success. As it is now, the show is just awful. I can't believe it's still on the air.\">"
      ]
     },
     "execution_count": 16,
     "metadata": {},
     "output_type": "execute_result"
    }
   ],
   "source": [
    "review_text"
   ]
  },
  {
   "cell_type": "code",
   "execution_count": 18,
   "id": "1047beb6",
   "metadata": {},
   "outputs": [
    {
     "data": {
      "text/plain": [
       "6"
      ]
     },
     "execution_count": 18,
     "metadata": {},
     "output_type": "execute_result"
    }
   ],
   "source": [
    "file_count = len(tdr)\n",
    "file_count"
   ]
  },
  {
   "cell_type": "code",
   "execution_count": 19,
   "id": "f8642405",
   "metadata": {},
   "outputs": [],
   "source": [
    "train_size = int(file_count*0.8)\n",
    "train_ds = tdr.take(train_size)\n",
    "test_ds = tdr.skip(train_size)"
   ]
  },
  {
   "cell_type": "code",
   "execution_count": 28,
   "id": "979cf8a2",
   "metadata": {},
   "outputs": [],
   "source": [
    "def get_data(dataset):\n",
    "    for path in dataset: \n",
    "        label = get_label(path)\n",
    "        text = tf.io.read_file(path) # load the raw data from the file as a string\n",
    "        return text, label"
   ]
  },
  {
   "cell_type": "code",
   "execution_count": 29,
   "id": "c0061b0c",
   "metadata": {},
   "outputs": [
    {
     "data": {
      "text/plain": [
       "(<tf.Tensor: shape=(), dtype=string, numpy=b''>,\n",
       " <tf.Tensor: shape=(), dtype=string, numpy=b'neg'>)"
      ]
     },
     "execution_count": 29,
     "metadata": {},
     "output_type": "execute_result"
    }
   ],
   "source": [
    "get_data(tdr)"
   ]
  }
 ],
 "metadata": {
  "kernelspec": {
   "display_name": "Python 3 (ipykernel)",
   "language": "python",
   "name": "python3"
  },
  "language_info": {
   "codemirror_mode": {
    "name": "ipython",
    "version": 3
   },
   "file_extension": ".py",
   "mimetype": "text/x-python",
   "name": "python",
   "nbconvert_exporter": "python",
   "pygments_lexer": "ipython3",
   "version": "3.9.0"
  }
 },
 "nbformat": 4,
 "nbformat_minor": 5
}
