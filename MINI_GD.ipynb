{
 "cells": [
  {
   "cell_type": "code",
   "execution_count": 1,
   "id": "599a8d7d",
   "metadata": {},
   "outputs": [],
   "source": [
    "import pandas as pd\n",
    "import numpy as np\n",
    "import matplotlib.pyplot as plt\n",
    "%matplotlib inline"
   ]
  },
  {
   "cell_type": "code",
   "execution_count": 2,
   "id": "12a10f69",
   "metadata": {},
   "outputs": [
    {
     "data": {
      "text/html": [
       "<div>\n",
       "<style scoped>\n",
       "    .dataframe tbody tr th:only-of-type {\n",
       "        vertical-align: middle;\n",
       "    }\n",
       "\n",
       "    .dataframe tbody tr th {\n",
       "        vertical-align: top;\n",
       "    }\n",
       "\n",
       "    .dataframe thead th {\n",
       "        text-align: right;\n",
       "    }\n",
       "</style>\n",
       "<table border=\"1\" class=\"dataframe\">\n",
       "  <thead>\n",
       "    <tr style=\"text-align: right;\">\n",
       "      <th></th>\n",
       "      <th>area</th>\n",
       "      <th>bedrooms</th>\n",
       "      <th>price</th>\n",
       "    </tr>\n",
       "  </thead>\n",
       "  <tbody>\n",
       "    <tr>\n",
       "      <th>0</th>\n",
       "      <td>1056</td>\n",
       "      <td>2</td>\n",
       "      <td>39.07</td>\n",
       "    </tr>\n",
       "    <tr>\n",
       "      <th>1</th>\n",
       "      <td>2600</td>\n",
       "      <td>4</td>\n",
       "      <td>120.00</td>\n",
       "    </tr>\n",
       "    <tr>\n",
       "      <th>2</th>\n",
       "      <td>1440</td>\n",
       "      <td>3</td>\n",
       "      <td>62.00</td>\n",
       "    </tr>\n",
       "    <tr>\n",
       "      <th>3</th>\n",
       "      <td>1521</td>\n",
       "      <td>3</td>\n",
       "      <td>75.00</td>\n",
       "    </tr>\n",
       "    <tr>\n",
       "      <th>4</th>\n",
       "      <td>1200</td>\n",
       "      <td>2</td>\n",
       "      <td>51.00</td>\n",
       "    </tr>\n",
       "  </tbody>\n",
       "</table>\n",
       "</div>"
      ],
      "text/plain": [
       "   area  bedrooms   price\n",
       "0  1056         2   39.07\n",
       "1  2600         4  120.00\n",
       "2  1440         3   62.00\n",
       "3  1521         3   75.00\n",
       "4  1200         2   51.00"
      ]
     },
     "execution_count": 2,
     "metadata": {},
     "output_type": "execute_result"
    }
   ],
   "source": [
    "df = pd.read_csv('homeprices_banglore.csv')\n",
    "df.head()"
   ]
  },
  {
   "cell_type": "code",
   "execution_count": 3,
   "id": "fa57edfd",
   "metadata": {},
   "outputs": [],
   "source": [
    "from sklearn import preprocessing\n",
    "dfscale = preprocessing.MinMaxScaler()\n",
    "dfs = dfscale.fit_transform(df)"
   ]
  },
  {
   "cell_type": "code",
   "execution_count": 6,
   "id": "e11a055e",
   "metadata": {},
   "outputs": [
    {
     "data": {
      "text/plain": [
       "array([[0.08827586, 0.25      , 0.05237037],\n",
       "       [0.62068966, 0.75      , 0.65185185],\n",
       "       [0.22068966, 0.5       , 0.22222222],\n",
       "       [0.24862069, 0.5       , 0.31851852],\n",
       "       [0.13793103, 0.25      , 0.14074074],\n",
       "       [0.12758621, 0.25      , 0.04444444],\n",
       "       [0.6662069 , 0.75      , 0.76296296],\n",
       "       [0.86206897, 0.75      , 0.91111111],\n",
       "       [0.17586207, 0.5       , 0.13333333],\n",
       "       [1.        , 1.        , 1.        ],\n",
       "       [0.34482759, 0.5       , 0.37037037],\n",
       "       [0.68448276, 0.75      , 0.8       ],\n",
       "       [0.06896552, 0.25      , 0.04444444],\n",
       "       [0.10344828, 0.25      , 0.05925926],\n",
       "       [0.5       , 0.5       , 0.51111111],\n",
       "       [0.12931034, 0.25      , 0.07407407],\n",
       "       [0.13103448, 0.5       , 0.11851852],\n",
       "       [0.25517241, 0.5       , 0.20740741],\n",
       "       [0.67931034, 0.5       , 0.51851852],\n",
       "       [0.        , 0.        , 0.        ]])"
      ]
     },
     "execution_count": 6,
     "metadata": {},
     "output_type": "execute_result"
    }
   ],
   "source": [
    "dfs"
   ]
  },
  {
   "cell_type": "code",
   "execution_count": 9,
   "id": "35ec9ed5",
   "metadata": {},
   "outputs": [],
   "source": [
    "scaledx = dfs[:,:2]"
   ]
  },
  {
   "cell_type": "code",
   "execution_count": 10,
   "id": "eb5fefa1",
   "metadata": {},
   "outputs": [
    {
     "data": {
      "text/plain": [
       "(20, 2)"
      ]
     },
     "execution_count": 10,
     "metadata": {},
     "output_type": "execute_result"
    }
   ],
   "source": [
    "scaledx.shape"
   ]
  },
  {
   "cell_type": "code",
   "execution_count": 11,
   "id": "5581c9bc",
   "metadata": {},
   "outputs": [],
   "source": [
    "scaledy = dfs[:,-1]"
   ]
  },
  {
   "cell_type": "code",
   "execution_count": 14,
   "id": "83b71729",
   "metadata": {},
   "outputs": [
    {
     "data": {
      "text/plain": [
       "(20,)"
      ]
     },
     "execution_count": 14,
     "metadata": {},
     "output_type": "execute_result"
    }
   ],
   "source": [
    "scaledy.shape"
   ]
  },
  {
   "cell_type": "code",
   "execution_count": 16,
   "id": "3e1d7e95",
   "metadata": {},
   "outputs": [
    {
     "data": {
      "text/plain": [
       "array([0.05237037, 0.65185185, 0.22222222, 0.31851852, 0.14074074,\n",
       "       0.04444444, 0.76296296, 0.91111111, 0.13333333, 1.        ,\n",
       "       0.37037037, 0.8       , 0.04444444, 0.05925926, 0.51111111,\n",
       "       0.07407407, 0.11851852, 0.20740741, 0.51851852, 0.        ])"
      ]
     },
     "execution_count": 16,
     "metadata": {},
     "output_type": "execute_result"
    }
   ],
   "source": [
    "scaledy"
   ]
  },
  {
   "cell_type": "code",
   "execution_count": 17,
   "id": "d388a83c",
   "metadata": {},
   "outputs": [
    {
     "data": {
      "text/plain": [
       "2"
      ]
     },
     "execution_count": 17,
     "metadata": {},
     "output_type": "execute_result"
    }
   ],
   "source": [
    "scaledx.shape[1]"
   ]
  },
  {
   "cell_type": "code",
   "execution_count": 32,
   "id": "c0adffd3",
   "metadata": {},
   "outputs": [
    {
     "data": {
      "text/plain": [
       "9"
      ]
     },
     "execution_count": 32,
     "metadata": {},
     "output_type": "execute_result"
    }
   ],
   "source": [
    "import random\n",
    "random.randint(0,scaledx.shape[0])"
   ]
  },
  {
   "cell_type": "code",
   "execution_count": 45,
   "id": "ef966080",
   "metadata": {},
   "outputs": [],
   "source": [
    "def mini_bgd(x,y,learn_rate=0.5, epochs=500, batch_size=5):\n",
    "    \n",
    "    samples=x.shape[0]\n",
    "    features = x.shape[1]\n",
    "    \n",
    "    w = np.ones(shape=(features))\n",
    "    b = 0\n",
    "    \n",
    "    no_batch = samples//batch_size\n",
    "    \n",
    "    for i in range(epochs):\n",
    "        \n",
    "        for n in range(no_batch):\n",
    "            batch_item=np.array([])\n",
    "            for item in range(batch_size):\n",
    "\n",
    "                rindex = random.randint(0,samples-1)\n",
    "                sample_x = x[rindex]\n",
    "                sample_y = y[rindex]\n",
    "                np.append(batch_item,sample_x)\n",
    "                \n",
    "\n",
    "            y_predicted = np.dot(w, batch_item.T) + b\n",
    "\n",
    "            w_grad = -(2/samples)*(batch_item.T.dot(y-y_predicted))\n",
    "            b_grad = -(2/samples)*np.sum(y-y_predicted)\n",
    "\n",
    "            w = w- learn_rate*w_grad\n",
    "            b = b- learn_rate*b_grad\n",
    "            \n",
    "            cost = np.mean(np.square(y-y_predicted))\n",
    "            \n",
    "    return w, b , cost\n"
   ]
  },
  {
   "cell_type": "code",
   "execution_count": 46,
   "id": "7434e027",
   "metadata": {},
   "outputs": [
    {
     "ename": "ValueError",
     "evalue": "shapes (2,) and (0,) not aligned: 2 (dim 0) != 0 (dim 0)",
     "output_type": "error",
     "traceback": [
      "\u001b[1;31m---------------------------------------------------------------------------\u001b[0m",
      "\u001b[1;31mValueError\u001b[0m                                Traceback (most recent call last)",
      "Cell \u001b[1;32mIn[46], line 1\u001b[0m\n\u001b[1;32m----> 1\u001b[0m w,b,cost \u001b[38;5;241m=\u001b[39m \u001b[43mmini_bgd\u001b[49m\u001b[43m(\u001b[49m\u001b[43mscaledx\u001b[49m\u001b[43m,\u001b[49m\u001b[43mscaledy\u001b[49m\u001b[43m)\u001b[49m\n",
      "Cell \u001b[1;32mIn[45], line 21\u001b[0m, in \u001b[0;36mmini_bgd\u001b[1;34m(x, y, learn_rate, epochs, batch_size)\u001b[0m\n\u001b[0;32m     19\u001b[0m     sample_y \u001b[38;5;241m=\u001b[39m y[rindex]\n\u001b[0;32m     20\u001b[0m     np\u001b[38;5;241m.\u001b[39mappend(batch_item,sample_x)\n\u001b[1;32m---> 21\u001b[0m     y_predicted \u001b[38;5;241m=\u001b[39m \u001b[43mnp\u001b[49m\u001b[38;5;241;43m.\u001b[39;49m\u001b[43mdot\u001b[49m\u001b[43m(\u001b[49m\u001b[43mw\u001b[49m\u001b[43m,\u001b[49m\u001b[43m \u001b[49m\u001b[43mbatch_item\u001b[49m\u001b[38;5;241;43m.\u001b[39;49m\u001b[43mT\u001b[49m\u001b[43m)\u001b[49m \u001b[38;5;241m+\u001b[39m b\n\u001b[0;32m     25\u001b[0m w_grad \u001b[38;5;241m=\u001b[39m \u001b[38;5;241m-\u001b[39m(\u001b[38;5;241m2\u001b[39m\u001b[38;5;241m/\u001b[39msamples)\u001b[38;5;241m*\u001b[39m(batch_item\u001b[38;5;241m.\u001b[39mT\u001b[38;5;241m.\u001b[39mdot(y\u001b[38;5;241m-\u001b[39my_predicted))\n\u001b[0;32m     26\u001b[0m b_grad \u001b[38;5;241m=\u001b[39m \u001b[38;5;241m-\u001b[39m(\u001b[38;5;241m2\u001b[39m\u001b[38;5;241m/\u001b[39msamples)\u001b[38;5;241m*\u001b[39mnp\u001b[38;5;241m.\u001b[39msum(y\u001b[38;5;241m-\u001b[39my_predicted)\n",
      "File \u001b[1;32m<__array_function__ internals>:180\u001b[0m, in \u001b[0;36mdot\u001b[1;34m(*args, **kwargs)\u001b[0m\n",
      "\u001b[1;31mValueError\u001b[0m: shapes (2,) and (0,) not aligned: 2 (dim 0) != 0 (dim 0)"
     ]
    }
   ],
   "source": [
    "w,b,cost = mini_bgd(scaledx,scaledy)"
   ]
  },
  {
   "cell_type": "code",
   "execution_count": null,
   "id": "b93aff42",
   "metadata": {},
   "outputs": [],
   "source": []
  }
 ],
 "metadata": {
  "kernelspec": {
   "display_name": "Python 3 (ipykernel)",
   "language": "python",
   "name": "python3"
  },
  "language_info": {
   "codemirror_mode": {
    "name": "ipython",
    "version": 3
   },
   "file_extension": ".py",
   "mimetype": "text/x-python",
   "name": "python",
   "nbconvert_exporter": "python",
   "pygments_lexer": "ipython3",
   "version": "3.9.0"
  }
 },
 "nbformat": 4,
 "nbformat_minor": 5
}
