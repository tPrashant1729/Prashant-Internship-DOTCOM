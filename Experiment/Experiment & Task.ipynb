{
 "cells": [
  {
   "cell_type": "code",
   "execution_count": 30,
   "id": "3cb78963",
   "metadata": {
    "scrolled": true
   },
   "outputs": [
    {
     "name": "stdout",
     "output_type": "stream",
     "text": [
      "[1, 6, 2, 7, 3, 8, 4, 9, 5, 0]\n"
     ]
    }
   ],
   "source": [
    "l1 = [1,2,3,4,5]\n",
    "l2 = [6,7,8,9,0]\n",
    "l3 = []\n",
    "for i,j in zip(l1,l2):\n",
    "\n",
    "    l3.append(i)\n",
    "    l3.append(j)\n",
    "    \n",
    "print(l3)"
   ]
  },
  {
   "cell_type": "code",
   "execution_count": null,
   "id": "b88ddfb6",
   "metadata": {},
   "outputs": [],
   "source": []
  },
  {
   "cell_type": "code",
   "execution_count": 32,
   "id": "2ba81ba3",
   "metadata": {},
   "outputs": [
    {
     "name": "stdout",
     "output_type": "stream",
     "text": [
      "[1, 6, 2, 7, 3, 8, 4, 9, 5, 0]\n"
     ]
    }
   ],
   "source": [
    "l1 = [1,2,3,4,5]\n",
    "l2 = [6,7,8,9,0]\n",
    "l5 = []\n",
    "\n",
    "for x in range(len(l1)):\n",
    "        l5.append(l1[x])\n",
    "        l5.append(l2[x])\n",
    "        \n",
    "\n",
    "print(l5)"
   ]
  },
  {
   "cell_type": "code",
   "execution_count": 41,
   "id": "001d2224",
   "metadata": {},
   "outputs": [
    {
     "name": "stdout",
     "output_type": "stream",
     "text": [
      "Prince hello\n",
      "Prince hello\n",
      "Prince hello\n",
      "Prince hello\n",
      "Prince hello\n"
     ]
    }
   ],
   "source": [
    "for i in range(5):\n",
    "    print('Prince',end=\" \")\n",
    "    print(\"hello\")"
   ]
  },
  {
   "cell_type": "code",
   "execution_count": 54,
   "id": "999cc99e",
   "metadata": {},
   "outputs": [
    {
     "name": "stdout",
     "output_type": "stream",
     "text": [
      "2\n",
      "1\n"
     ]
    }
   ],
   "source": [
    "def fun(x):\n",
    "    x=2\n",
    "    print(x)\n",
    "\n",
    "x=1\n",
    "fun(x)\n",
    "print(x)"
   ]
  },
  {
   "cell_type": "code",
   "execution_count": 57,
   "id": "6cb23e2d",
   "metadata": {},
   "outputs": [
    {
     "name": "stdout",
     "output_type": "stream",
     "text": [
      "<class 'float'>\n"
     ]
    }
   ],
   "source": [
    "s = 1\n",
    "print(type(s))"
   ]
  },
  {
   "cell_type": "code",
   "execution_count": 14,
   "id": "ae82fc96",
   "metadata": {},
   "outputs": [
    {
     "name": "stdout",
     "output_type": "stream",
     "text": [
      "The Blue has 20000 milage\n",
      "The Red has 30000 milage\n",
      "The white has 10000 milage\n"
     ]
    }
   ],
   "source": [
    "class Car:\n",
    "    \n",
    "    def __init__(self, color,milage):\n",
    "        self.color = color\n",
    "        self.milage = milage\n",
    "#         print(f\"The {self.color} has {self.milage} milage\")\n",
    "    \n",
    "b=Car(\"Blue\" , 20000)\n",
    "r=Car(\"Red\", 30000)\n",
    "w=Car(\"white\",10000)\n",
    "\n",
    "# undertand it carefully\n",
    "for Car in (b,r,w):\n",
    "       print(f\"The {Car.color} has {Car.milage} milage\")"
   ]
  },
  {
   "cell_type": "code",
   "execution_count": null,
   "id": "6618855e",
   "metadata": {},
   "outputs": [],
   "source": []
  },
  {
   "cell_type": "code",
   "execution_count": null,
   "id": "0f3718f9",
   "metadata": {},
   "outputs": [],
   "source": []
  },
  {
   "cell_type": "code",
   "execution_count": null,
   "id": "ff81059d",
   "metadata": {},
   "outputs": [],
   "source": []
  },
  {
   "cell_type": "code",
   "execution_count": null,
   "id": "53e3e511",
   "metadata": {},
   "outputs": [],
   "source": []
  },
  {
   "cell_type": "code",
   "execution_count": null,
   "id": "16f41612",
   "metadata": {},
   "outputs": [],
   "source": []
  }
 ],
 "metadata": {
  "kernelspec": {
   "display_name": "Python 3 (ipykernel)",
   "language": "python",
   "name": "python3"
  },
  "language_info": {
   "codemirror_mode": {
    "name": "ipython",
    "version": 3
   },
   "file_extension": ".py",
   "mimetype": "text/x-python",
   "name": "python",
   "nbconvert_exporter": "python",
   "pygments_lexer": "ipython3",
   "version": "3.8.5"
  }
 },
 "nbformat": 4,
 "nbformat_minor": 5
}
