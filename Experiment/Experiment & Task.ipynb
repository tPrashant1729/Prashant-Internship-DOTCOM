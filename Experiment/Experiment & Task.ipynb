{
 "cells": [
  {
   "cell_type": "code",
   "execution_count": 30,
   "id": "9f74cf43",
   "metadata": {
    "scrolled": true
   },
   "outputs": [
    {
     "name": "stdout",
     "output_type": "stream",
     "text": [
      "[1, 6, 2, 7, 3, 8, 4, 9, 5, 0]\n"
     ]
    }
   ],
   "source": [
    "l1 = [1,2,3,4,5]\n",
    "l2 = [6,7,8,9,0]\n",
    "l3 = []\n",
    "for i,j in zip(l1,l2):\n",
    "\n",
    "    l3.append(i)\n",
    "    l3.append(j)\n",
    "    \n",
    "print(l3)"
   ]
  },
  {
   "cell_type": "code",
   "execution_count": null,
   "id": "b94a57c9",
   "metadata": {},
   "outputs": [],
   "source": []
  },
  {
   "cell_type": "code",
   "execution_count": 32,
   "id": "8faf3a41",
   "metadata": {},
   "outputs": [
    {
     "name": "stdout",
     "output_type": "stream",
     "text": [
      "[1, 6, 2, 7, 3, 8, 4, 9, 5, 0]\n"
     ]
    }
   ],
   "source": [
    "l1 = [1,2,3,4,5]\n",
    "l2 = [6,7,8,9,0]\n",
    "l5 = []\n",
    "\n",
    "for x in range(len(l1)):\n",
    "        l5.append(l1[x])\n",
    "        l5.append(l2[x])\n",
    "        \n",
    "\n",
    "print(l5)"
   ]
  },
  {
   "cell_type": "code",
   "execution_count": 41,
   "id": "5580257f",
   "metadata": {},
   "outputs": [
    {
     "name": "stdout",
     "output_type": "stream",
     "text": [
      "Prince hello\n",
      "Prince hello\n",
      "Prince hello\n",
      "Prince hello\n",
      "Prince hello\n"
     ]
    }
   ],
   "source": [
    "for i in range(5):\n",
    "    print('Prince',end=\" \")\n",
    "    print(\"hello\")"
   ]
  },
  {
   "cell_type": "code",
   "execution_count": 54,
   "id": "a48d0c0e",
   "metadata": {},
   "outputs": [
    {
     "name": "stdout",
     "output_type": "stream",
     "text": [
      "2\n",
      "1\n"
     ]
    }
   ],
   "source": [
    "def fun(x):\n",
    "    x=2\n",
    "    print(x)\n",
    "\n",
    "x=1\n",
    "fun(x)\n",
    "print(x)"
   ]
  },
  {
   "cell_type": "code",
   "execution_count": 57,
   "id": "f7057776",
   "metadata": {},
   "outputs": [
    {
     "name": "stdout",
     "output_type": "stream",
     "text": [
      "<class 'float'>\n"
     ]
    }
   ],
   "source": [
    "s = 1\n",
    "print(type(s))"
   ]
  },
  {
   "cell_type": "code",
   "execution_count": 14,
   "id": "d1f32343",
   "metadata": {},
   "outputs": [
    {
     "name": "stdout",
     "output_type": "stream",
     "text": [
      "The Blue has 20000 milage\n",
      "The Red has 30000 milage\n",
      "The white has 10000 milage\n"
     ]
    }
   ],
   "source": [
    "class Car:\n",
    "    \n",
    "    def __init__(self, color,milage):\n",
    "        self.color = color\n",
    "        self.milage = milage\n",
    "#         print(f\"The {self.color} has {self.milage} milage\")\n",
    "    \n",
    "b=Car(\"Blue\" , 20000)\n",
    "r=Car(\"Red\", 30000)\n",
    "w=Car(\"white\",10000)\n",
    "\n",
    "# undertand it carefully\n",
    "for Car in (b,r,w):\n",
    "       print(f\"The {Car.color} has {Car.milage} milage\")"
   ]
  },
  {
   "cell_type": "code",
   "execution_count": 1,
   "id": "024b9780",
   "metadata": {},
   "outputs": [
    {
     "name": "stdout",
     "output_type": "stream",
     "text": [
      "[]\n"
     ]
    }
   ],
   "source": [
    "l1 = [1,2,3,4,5,6]\n",
    "l2 = l1[-1:1]\n",
    "print(l2)"
   ]
  },
  {
   "cell_type": "code",
   "execution_count": 2,
   "id": "e9725c66",
   "metadata": {},
   "outputs": [
    {
     "name": "stdout",
     "output_type": "stream",
     "text": [
      "3\n"
     ]
    }
   ],
   "source": [
    "list = [[2-i for i in range(2)] for j in range (2)]\n",
    "\n",
    "var = 0\n",
    "for i in range (2):\n",
    "    var+=list[i][i]\n",
    "print(var)\n"
   ]
  },
  {
   "cell_type": "code",
   "execution_count": 3,
   "id": "e0d2d810",
   "metadata": {},
   "outputs": [
    {
     "data": {
      "text/plain": [
       "3.5"
      ]
     },
     "execution_count": 3,
     "metadata": {},
     "output_type": "execute_result"
    }
   ],
   "source": [
    "7/2%4"
   ]
  },
  {
   "cell_type": "code",
   "execution_count": 4,
   "id": "3c2d82ac",
   "metadata": {},
   "outputs": [
    {
     "data": {
      "text/plain": [
       "2"
      ]
     },
     "execution_count": 4,
     "metadata": {},
     "output_type": "execute_result"
    }
   ],
   "source": [
    "2%4\n"
   ]
  },
  {
   "cell_type": "code",
   "execution_count": 5,
   "id": "2547910b",
   "metadata": {},
   "outputs": [
    {
     "data": {
      "text/plain": [
       "0"
      ]
     },
     "execution_count": 5,
     "metadata": {},
     "output_type": "execute_result"
    }
   ],
   "source": [
    "10%2"
   ]
  },
  {
   "cell_type": "code",
   "execution_count": 6,
   "id": "48f90a22",
   "metadata": {},
   "outputs": [
    {
     "data": {
      "text/plain": [
       "0.5"
      ]
     },
     "execution_count": 6,
     "metadata": {},
     "output_type": "execute_result"
    }
   ],
   "source": [
    "2/4\n"
   ]
  },
  {
   "cell_type": "code",
   "execution_count": 7,
   "id": "4c9f5386",
   "metadata": {},
   "outputs": [
    {
     "data": {
      "text/plain": [
       "14.0"
      ]
     },
     "execution_count": 7,
     "metadata": {},
     "output_type": "execute_result"
    }
   ],
   "source": [
    "7/2*4"
   ]
  },
  {
   "cell_type": "code",
   "execution_count": 8,
   "id": "69877069",
   "metadata": {},
   "outputs": [
    {
     "data": {
      "text/plain": [
       "12"
      ]
     },
     "execution_count": 8,
     "metadata": {},
     "output_type": "execute_result"
    }
   ],
   "source": [
    "7//2*4"
   ]
  },
  {
   "cell_type": "code",
   "execution_count": 9,
   "id": "01b1c342",
   "metadata": {},
   "outputs": [
    {
     "data": {
      "text/plain": [
       "3"
      ]
     },
     "execution_count": 9,
     "metadata": {},
     "output_type": "execute_result"
    }
   ],
   "source": [
    "7//2"
   ]
  },
  {
   "cell_type": "code",
   "execution_count": 11,
   "id": "8d6fad50",
   "metadata": {},
   "outputs": [
    {
     "name": "stdout",
     "output_type": "stream",
     "text": [
      "2\n",
      "11\n",
      "9\n",
      "-11\n",
      "40\n",
      "2\n"
     ]
    }
   ],
   "source": [
    "# Bitwise AND (&)\n",
    "a = 10    # 1010 in binary\n",
    "b = 3     # 0011 in binary\n",
    "c = a & b # 0010 in binary (decimal value: 2)\n",
    "print(c)\n",
    "\n",
    "# Bitwise OR (|)\n",
    "a = 10    # 1010 in binary\n",
    "b = 3     # 0011 in binary\n",
    "c = a | b # 1011 in binary (decimal value: 11)\n",
    "print(c)\n",
    "\n",
    "# Bitwise XOR (^)\n",
    "a = 10    # 1010 in binary\n",
    "b = 3     # 0011 in binary\n",
    "c = a ^ b # 1001 in binary (decimal value: 9)\n",
    "print(c)\n",
    "\n",
    "# Bitwise NOT (~)\n",
    "a = 10    # 1010 in binary\n",
    "b = ~a    # 0101 in binary (decimal value: -11 using 2's compliment)\n",
    "print(b)\n",
    "\n",
    "# Left Shift (<<)\n",
    "a = 10    # 1010 in binary\n",
    "b = a << 2 # 101000 in binary (decimal value: 40)\n",
    "print(b)\n",
    "\n",
    "# Right Shift (>>)\n",
    "a = 10    # 1010 in binary\n",
    "b = a >> 2 # 10 in binary (decimal value: 2)\n",
    "print(b)\n"
   ]
  },
  {
   "cell_type": "code",
   "execution_count": 15,
   "id": "fddcde93",
   "metadata": {},
   "outputs": [
    {
     "name": "stdout",
     "output_type": "stream",
     "text": [
      "b is greater than a\n"
     ]
    }
   ],
   "source": [
    "# Python program to demonstrate nested ternary operator\n",
    "a, b = 10, 20\n",
    "\n",
    "print (\"Both a and b are equal\" if a == b else \"a is greater than b\"\n",
    "\t\tif a > b else \"b is greater than a\")\n"
   ]
  },
  {
   "cell_type": "code",
   "execution_count": 16,
   "id": "87f1254a",
   "metadata": {},
   "outputs": [
    {
     "name": "stdout",
     "output_type": "stream",
     "text": [
      "True\n"
     ]
    }
   ],
   "source": [
    "x = \"121\"\n",
    "y = \"121\"\n",
    "print(x==y)"
   ]
  },
  {
   "cell_type": "code",
   "execution_count": 7,
   "id": "44d385f0",
   "metadata": {},
   "outputs": [
    {
     "ename": "TypeError",
     "evalue": "'int' object is not iterable",
     "output_type": "error",
     "traceback": [
      "\u001b[1;31m---------------------------------------------------------------------------\u001b[0m",
      "\u001b[1;31mTypeError\u001b[0m                                 Traceback (most recent call last)",
      "\u001b[1;32m~\\AppData\\Local\\Temp/ipykernel_2896/493374851.py\u001b[0m in \u001b[0;36m<module>\u001b[1;34m\u001b[0m\n\u001b[0;32m     15\u001b[0m \u001b[1;33m\u001b[0m\u001b[0m\n\u001b[0;32m     16\u001b[0m \u001b[0mp1\u001b[0m \u001b[1;33m=\u001b[0m \u001b[0mSolution\u001b[0m\u001b[1;33m(\u001b[0m\u001b[1;33m)\u001b[0m\u001b[1;33m\u001b[0m\u001b[1;33m\u001b[0m\u001b[0m\n\u001b[1;32m---> 17\u001b[1;33m \u001b[0mp1\u001b[0m\u001b[1;33m.\u001b[0m\u001b[0misPalindrome\u001b[0m\u001b[1;33m(\u001b[0m\u001b[1;36m121\u001b[0m\u001b[1;33m)\u001b[0m\u001b[1;33m\u001b[0m\u001b[1;33m\u001b[0m\u001b[0m\n\u001b[0m",
      "\u001b[1;32m~\\AppData\\Local\\Temp/ipykernel_2896/493374851.py\u001b[0m in \u001b[0;36misPalindrome\u001b[1;34m(self, x)\u001b[0m\n\u001b[0;32m      2\u001b[0m     \u001b[1;32mdef\u001b[0m \u001b[0misPalindrome\u001b[0m\u001b[1;33m(\u001b[0m\u001b[0mself\u001b[0m\u001b[1;33m,\u001b[0m \u001b[0mx\u001b[0m\u001b[1;33m:\u001b[0m \u001b[0mint\u001b[0m\u001b[1;33m)\u001b[0m \u001b[1;33m->\u001b[0m \u001b[0mbool\u001b[0m\u001b[1;33m:\u001b[0m\u001b[1;33m\u001b[0m\u001b[1;33m\u001b[0m\u001b[0m\n\u001b[0;32m      3\u001b[0m         \u001b[0my\u001b[0m \u001b[1;33m=\u001b[0m \u001b[1;34m\"\"\u001b[0m\u001b[1;33m\u001b[0m\u001b[1;33m\u001b[0m\u001b[0m\n\u001b[1;32m----> 4\u001b[1;33m         \u001b[1;32mfor\u001b[0m \u001b[0mi\u001b[0m \u001b[1;32min\u001b[0m \u001b[0mx\u001b[0m\u001b[1;33m:\u001b[0m\u001b[1;33m\u001b[0m\u001b[1;33m\u001b[0m\u001b[0m\n\u001b[0m\u001b[0;32m      5\u001b[0m             \u001b[0mx1\u001b[0m \u001b[1;33m=\u001b[0m \u001b[0mx\u001b[0m\u001b[1;33m[\u001b[0m\u001b[1;33m-\u001b[0m\u001b[0mi\u001b[0m\u001b[1;33m-\u001b[0m\u001b[1;36m1\u001b[0m\u001b[1;33m]\u001b[0m\u001b[1;33m\u001b[0m\u001b[1;33m\u001b[0m\u001b[0m\n\u001b[0;32m      6\u001b[0m             \u001b[0mprint\u001b[0m\u001b[1;33m(\u001b[0m\u001b[0mx1\u001b[0m\u001b[1;33m)\u001b[0m\u001b[1;33m\u001b[0m\u001b[1;33m\u001b[0m\u001b[0m\n",
      "\u001b[1;31mTypeError\u001b[0m: 'int' object is not iterable"
     ]
    }
   ],
   "source": [
    "class Solution:\n",
    "    def isPalindrome(self, x: int) -> bool:\n",
    "        y = \"\"\n",
    "        for i in x:\n",
    "            x1 = x[-i-1]\n",
    "            print(x1)\n",
    "        \n",
    "            y=y+x1\n",
    "        return y\n",
    "    \n",
    "        if y==x:\n",
    "            print(\"true\")\n",
    "        else:\n",
    "            print(\"false\")\n",
    "\n",
    "p1 = Solution()\n",
    "p1.isPalindrome(121)"
   ]
  },
  {
   "cell_type": "code",
   "execution_count": 3,
   "id": "b2b78997",
   "metadata": {},
   "outputs": [
    {
     "ename": "NameError",
     "evalue": "name 'i' is not defined",
     "output_type": "error",
     "traceback": [
      "\u001b[1;31m---------------------------------------------------------------------------\u001b[0m",
      "\u001b[1;31mNameError\u001b[0m                                 Traceback (most recent call last)",
      "\u001b[1;32m~\\AppData\\Local\\Temp/ipykernel_2896/3616029859.py\u001b[0m in \u001b[0;36m<module>\u001b[1;34m\u001b[0m\n\u001b[1;32m----> 1\u001b[1;33m \u001b[0mi\u001b[0m\u001b[1;33m\u001b[0m\u001b[1;33m\u001b[0m\u001b[0m\n\u001b[0m",
      "\u001b[1;31mNameError\u001b[0m: name 'i' is not defined"
     ]
    }
   ],
   "source": [
    "i"
   ]
  },
  {
   "cell_type": "code",
   "execution_count": 27,
   "id": "96ca407b",
   "metadata": {},
   "outputs": [
    {
     "name": "stdout",
     "output_type": "stream",
     "text": [
      "1\n",
      "2\n",
      "1\n",
      ".\n",
      "2\n",
      "3\n"
     ]
    }
   ],
   "source": [
    "x =121.23\n",
    "x = str(x)\n",
    "for i in x:\n",
    "    print(i)"
   ]
  },
  {
   "cell_type": "code",
   "execution_count": 4,
   "id": "d281bfe8",
   "metadata": {},
   "outputs": [
    {
     "name": "stdout",
     "output_type": "stream",
     "text": [
      "[2, 3, 4, 5, 6]\n"
     ]
    }
   ],
   "source": [
    "l = [1,2,3,4,5,6]\n",
    "l.remove(1)\n",
    "print(l)\n"
   ]
  },
  {
   "cell_type": "code",
   "execution_count": 25,
   "id": "dfe4366f",
   "metadata": {},
   "outputs": [
    {
     "data": {
      "text/plain": [
       "[0, 1]"
      ]
     },
     "execution_count": 25,
     "metadata": {},
     "output_type": "execute_result"
    }
   ],
   "source": [
    "class Solution:\n",
    "    def twoSum(self, nums, target):\n",
    "         for i in range(len(nums)):\n",
    "                for j in range(i+1,len(nums)):\n",
    "                    if target == (nums[i] + nums[j]):\n",
    "                        return [i,j]\n",
    "                    else:\n",
    "                        pass\n",
    "\n",
    "\n",
    "a = Solution()\n",
    "nums = [3,3]\n",
    "a.twoSum(nums,6)"
   ]
  },
  {
   "cell_type": "markdown",
   "id": "657fbcfd",
   "metadata": {},
   "source": [
    "# Roman to integer"
   ]
  },
  {
   "cell_type": "code",
   "execution_count": 49,
   "id": "2c911be7",
   "metadata": {},
   "outputs": [
    {
     "ename": "ValueError",
     "evalue": "invalid literal for int() with base 10: 'i'",
     "output_type": "error",
     "traceback": [
      "\u001b[1;31m---------------------------------------------------------------------------\u001b[0m",
      "\u001b[1;31mValueError\u001b[0m                                Traceback (most recent call last)",
      "\u001b[1;32m~\\AppData\\Local\\Temp/ipykernel_496/3743960079.py\u001b[0m in \u001b[0;36m<module>\u001b[1;34m\u001b[0m\n\u001b[0;32m     18\u001b[0m \u001b[1;33m\u001b[0m\u001b[0m\n\u001b[0;32m     19\u001b[0m \u001b[0ms\u001b[0m \u001b[1;33m=\u001b[0m \u001b[1;34m\"MCMXCIV\"\u001b[0m\u001b[1;33m\u001b[0m\u001b[1;33m\u001b[0m\u001b[0m\n\u001b[1;32m---> 20\u001b[1;33m \u001b[0mromanToInt\u001b[0m\u001b[1;33m(\u001b[0m\u001b[0ms\u001b[0m\u001b[1;33m)\u001b[0m\u001b[1;33m\u001b[0m\u001b[1;33m\u001b[0m\u001b[0m\n\u001b[0m",
      "\u001b[1;32m~\\AppData\\Local\\Temp/ipykernel_496/3743960079.py\u001b[0m in \u001b[0;36mromanToInt\u001b[1;34m(s)\u001b[0m\n\u001b[0;32m      3\u001b[0m     \u001b[0ml\u001b[0m \u001b[1;33m=\u001b[0m \u001b[1;33m[\u001b[0m\u001b[1;33m]\u001b[0m\u001b[1;33m\u001b[0m\u001b[1;33m\u001b[0m\u001b[0m\n\u001b[0;32m      4\u001b[0m     \u001b[1;32mfor\u001b[0m \u001b[0mi\u001b[0m \u001b[1;32min\u001b[0m \u001b[0ms\u001b[0m\u001b[1;33m:\u001b[0m\u001b[1;33m\u001b[0m\u001b[1;33m\u001b[0m\u001b[0m\n\u001b[1;32m----> 5\u001b[1;33m         \u001b[0mint\u001b[0m\u001b[1;33m(\u001b[0m\u001b[1;34m\"i\"\u001b[0m\u001b[1;33m)\u001b[0m\u001b[1;33m\u001b[0m\u001b[1;33m\u001b[0m\u001b[0m\n\u001b[0m\u001b[0;32m      6\u001b[0m         \u001b[0ml\u001b[0m\u001b[1;33m.\u001b[0m\u001b[0mappend\u001b[0m\u001b[1;33m(\u001b[0m\u001b[0mi\u001b[0m\u001b[1;33m)\u001b[0m\u001b[1;33m\u001b[0m\u001b[1;33m\u001b[0m\u001b[0m\n\u001b[0;32m      7\u001b[0m     \u001b[0mprint\u001b[0m\u001b[1;33m(\u001b[0m\u001b[0ml\u001b[0m\u001b[1;33m)\u001b[0m\u001b[1;33m\u001b[0m\u001b[1;33m\u001b[0m\u001b[0m\n",
      "\u001b[1;31mValueError\u001b[0m: invalid literal for int() with base 10: 'i'"
     ]
    }
   ],
   "source": [
    "\n",
    "\n",
    "def romanToInt(s:str):\n",
    "    \n",
    "    l = []\n",
    "    for i in s:\n",
    "        int(\"i\") \n",
    "        l.append(i)\n",
    "    print(l)\n",
    "    for j in l:\n",
    "        I,V,X,L,C,D,M = [1,5,10,50,100,500,1000]\n",
    "        print(type(j))\n",
    "    \n",
    "    \n",
    "    \n",
    "    \n",
    "    \n",
    "    \n",
    "    \n",
    "    \n",
    "s = \"MCMXCIV\"\n",
    "romanToInt(s)\n"
   ]
  },
  {
   "cell_type": "code",
   "execution_count": 45,
   "id": "c4286943",
   "metadata": {},
   "outputs": [
    {
     "name": "stdout",
     "output_type": "stream",
     "text": [
      "1\n"
     ]
    }
   ],
   "source": [
    "I,V,X,L,C,D,M = [1,5,10,50,100,500,1000]\n",
    "print(I)"
   ]
  },
  {
   "cell_type": "code",
   "execution_count": 14,
   "id": "70af8d93",
   "metadata": {},
   "outputs": [
    {
     "data": {
      "text/plain": [
       "[9, 5, 8, 4, 7, 3, 6, 2]"
      ]
     },
     "execution_count": 14,
     "metadata": {},
     "output_type": "execute_result"
    }
   ],
   "source": [
    "list = [9,8,7,6,5,4,3,2]\n",
    "n = 4\n",
    "\n",
    "\n",
    "def sufle(list , n):\n",
    "    l2 = list[:n]\n",
    "    l3 = list[n:]\n",
    "    nl = []\n",
    "    for i,j in zip(l2,l3):\n",
    "        nl.append(i)\n",
    "        nl.append(j)\n",
    "    return nl\n",
    "\n",
    "sufle(list,n)\n",
    "\n",
    "        \n",
    "    \n",
    "\n",
    "    "
   ]
  },
  {
   "cell_type": "code",
   "execution_count": 10,
   "id": "007785ed",
   "metadata": {},
   "outputs": [
    {
     "name": "stdout",
     "output_type": "stream",
     "text": [
      "[9, 8, 7, 6, 9, 8, 7, 6]\n"
     ]
    }
   ],
   "source": [
    "list = [9,8,7,6,5,4,3,2]\n",
    "nl = []\n",
    "for i in range(len(list[:4])):\n",
    "    nl.append(list[i])\n",
    "for i in range(len(list[4:])):\n",
    "    nl.append(list[i])\n",
    "print(nl)\n",
    "\n"
   ]
  },
  {
   "cell_type": "code",
   "execution_count": 17,
   "id": "f838e296",
   "metadata": {},
   "outputs": [
    {
     "name": "stdout",
     "output_type": "stream",
     "text": [
      "<class 'int'>\n",
      "<class 'int'>\n"
     ]
    },
    {
     "ename": "ValueError",
     "evalue": "invalid literal for int() with base 10: '25.65'",
     "output_type": "error",
     "traceback": [
      "\u001b[1;31m---------------------------------------------------------------------------\u001b[0m",
      "\u001b[1;31mValueError\u001b[0m                                Traceback (most recent call last)",
      "\u001b[1;32m~\\AppData\\Local\\Temp/ipykernel_4792/2712736647.py\u001b[0m in \u001b[0;36m<module>\u001b[1;34m\u001b[0m\n\u001b[0;32m      2\u001b[0m \u001b[0mprint\u001b[0m\u001b[1;33m(\u001b[0m\u001b[0mtype\u001b[0m\u001b[1;33m(\u001b[0m\u001b[0mint\u001b[0m\u001b[1;33m(\u001b[0m\u001b[1;34m'25'\u001b[0m\u001b[1;33m)\u001b[0m\u001b[1;33m)\u001b[0m\u001b[1;33m)\u001b[0m     \u001b[1;31m#int() can convert integer value in string format\u001b[0m\u001b[1;33m\u001b[0m\u001b[1;33m\u001b[0m\u001b[0m\n\u001b[0;32m      3\u001b[0m \u001b[0mprint\u001b[0m\u001b[1;33m(\u001b[0m\u001b[0mtype\u001b[0m\u001b[1;33m(\u001b[0m\u001b[0mint\u001b[0m\u001b[1;33m(\u001b[0m\u001b[1;34m'-25'\u001b[0m\u001b[1;33m)\u001b[0m\u001b[1;33m)\u001b[0m\u001b[1;33m)\u001b[0m\u001b[1;33m\u001b[0m\u001b[1;33m\u001b[0m\u001b[0m\n\u001b[1;32m----> 4\u001b[1;33m \u001b[0mprint\u001b[0m\u001b[1;33m(\u001b[0m\u001b[0mtype\u001b[0m\u001b[1;33m(\u001b[0m\u001b[0mint\u001b[0m\u001b[1;33m(\u001b[0m\u001b[1;34m'25.65'\u001b[0m\u001b[1;33m)\u001b[0m\u001b[1;33m)\u001b[0m\u001b[1;33m)\u001b[0m  \u001b[1;31m#int() can not convert float value in string format\u001b[0m\u001b[1;33m\u001b[0m\u001b[1;33m\u001b[0m\u001b[0m\n\u001b[0m\u001b[0;32m      5\u001b[0m \u001b[0mprint\u001b[0m\u001b[1;33m(\u001b[0m\u001b[0mtype\u001b[0m\u001b[1;33m(\u001b[0m\u001b[0mint\u001b[0m\u001b[1;33m(\u001b[0m\u001b[1;34m'25.0'\u001b[0m\u001b[1;33m)\u001b[0m\u001b[1;33m)\u001b[0m\u001b[1;33m)\u001b[0m\u001b[1;33m\u001b[0m\u001b[1;33m\u001b[0m\u001b[0m\n",
      "\u001b[1;31mValueError\u001b[0m: invalid literal for int() with base 10: '25.65'"
     ]
    }
   ],
   "source": [
    "print(int(25.65))\n",
    "print(type(int('25')))     #int() can convert integer value in string format\n",
    "print(type(int('-25')))    \n",
    "print(type(int('25.65')))  #int() can not convert float value in string format\n",
    "print(type(int('25.0'))) "
   ]
  },
  {
   "cell_type": "code",
   "execution_count": 20,
   "id": "6234ca16",
   "metadata": {},
   "outputs": [
    {
     "name": "stdout",
     "output_type": "stream",
     "text": [
      "Bella\n"
     ]
    }
   ],
   "source": [
    "class Pet :\n",
    "     def call_me(name):\n",
    "            print(\"Bella\")\n",
    "obj = Pet()\n",
    "Pet.call_me(\"gdfg\") #calling method of class"
   ]
  },
  {
   "cell_type": "code",
   "execution_count": 23,
   "id": "c90d3517",
   "metadata": {},
   "outputs": [
    {
     "name": "stdout",
     "output_type": "stream",
     "text": [
      "Something went wrong\n",
      "End of Code\n",
      "<class 'type'>\n"
     ]
    }
   ],
   "source": [
    "try:\n",
    "    print(Hello) \n",
    "except NameError:\n",
    "    print(\"Something went wrong\")\n",
    "except NameError:\n",
    "    print(\"Everything went wrong\")\n",
    "finally:\n",
    "    print(\"End of Code\")\n",
    "print(type(NameError))"
   ]
  },
  {
   "cell_type": "code",
   "execution_count": 27,
   "id": "357fb31c",
   "metadata": {},
   "outputs": [
    {
     "name": "stdout",
     "output_type": "stream",
     "text": [
      "{1, 2, 3, 4}\n",
      "[{1, 2, 3, 4}, 1, 2, 3, 4, 6, 8]\n"
     ]
    }
   ],
   "source": [
    "print({a+1 for a in range(4)})\n",
    "print([{a+1 for a in range(4)},1 , 2 ,3 ,4 ,6 , 8])"
   ]
  },
  {
   "cell_type": "code",
   "execution_count": 32,
   "id": "671a1866",
   "metadata": {},
   "outputs": [
    {
     "name": "stdout",
     "output_type": "stream",
     "text": [
      "False\n"
     ]
    }
   ],
   "source": [
    "tuple1 = (\"4\", 3, \"07\", 9) \n",
    "tuple2 = (\"4\", 3, \"30\", 10) \n",
    "print(tuple1 > tuple2)"
   ]
  },
  {
   "cell_type": "code",
   "execution_count": 34,
   "id": "86eb5155",
   "metadata": {},
   "outputs": [
    {
     "ename": "IndexError",
     "evalue": "list index out of range",
     "output_type": "error",
     "traceback": [
      "\u001b[1;31m---------------------------------------------------------------------------\u001b[0m",
      "\u001b[1;31mIndexError\u001b[0m                                Traceback (most recent call last)",
      "\u001b[1;32m~\\AppData\\Local\\Temp/ipykernel_4792/2475428955.py\u001b[0m in \u001b[0;36m<module>\u001b[1;34m\u001b[0m\n\u001b[0;32m      1\u001b[0m \u001b[0ml\u001b[0m \u001b[1;33m=\u001b[0m \u001b[1;33m[\u001b[0m\u001b[1;34m'abcdef'\u001b[0m\u001b[1;33m]\u001b[0m\u001b[1;33m\u001b[0m\u001b[1;33m\u001b[0m\u001b[0m\n\u001b[1;32m----> 2\u001b[1;33m \u001b[0ma\u001b[0m \u001b[1;33m,\u001b[0m \u001b[0mb\u001b[0m \u001b[1;33m,\u001b[0m \u001b[0mc\u001b[0m \u001b[1;33m,\u001b[0m \u001b[0ml\u001b[0m\u001b[1;33m[\u001b[0m\u001b[1;36m0\u001b[0m\u001b[1;33m]\u001b[0m\u001b[1;33m,\u001b[0m\u001b[0ml\u001b[0m\u001b[1;33m[\u001b[0m\u001b[1;36m1\u001b[0m\u001b[1;33m]\u001b[0m\u001b[1;33m,\u001b[0m\u001b[0ml\u001b[0m\u001b[1;33m[\u001b[0m\u001b[1;36m2\u001b[0m\u001b[1;33m]\u001b[0m \u001b[1;33m=\u001b[0m  \u001b[0ml\u001b[0m\u001b[1;33m[\u001b[0m\u001b[1;36m0\u001b[0m\u001b[1;33m]\u001b[0m\u001b[1;33m,\u001b[0m\u001b[0ml\u001b[0m\u001b[1;33m[\u001b[0m\u001b[1;36m1\u001b[0m\u001b[1;33m]\u001b[0m\u001b[1;33m,\u001b[0m\u001b[0ml\u001b[0m\u001b[1;33m[\u001b[0m\u001b[1;36m2\u001b[0m\u001b[1;33m]\u001b[0m \u001b[1;33m,\u001b[0m \u001b[0ml\u001b[0m\u001b[1;33m[\u001b[0m\u001b[1;33m-\u001b[0m\u001b[1;36m1\u001b[0m\u001b[1;33m]\u001b[0m\u001b[1;33m,\u001b[0m\u001b[0ml\u001b[0m\u001b[1;33m[\u001b[0m\u001b[1;33m-\u001b[0m\u001b[1;36m2\u001b[0m\u001b[1;33m]\u001b[0m\u001b[1;33m,\u001b[0m\u001b[0ml\u001b[0m\u001b[1;33m[\u001b[0m\u001b[1;33m-\u001b[0m\u001b[1;36m3\u001b[0m\u001b[1;33m]\u001b[0m\u001b[1;33m\u001b[0m\u001b[1;33m\u001b[0m\u001b[0m\n\u001b[0m\u001b[0;32m      3\u001b[0m \u001b[0ml\u001b[0m\u001b[1;33m[\u001b[0m\u001b[1;36m3\u001b[0m\u001b[1;33m]\u001b[0m\u001b[1;33m,\u001b[0m\u001b[0ml\u001b[0m\u001b[1;33m[\u001b[0m\u001b[1;36m4\u001b[0m\u001b[1;33m]\u001b[0m\u001b[1;33m,\u001b[0m\u001b[0ml\u001b[0m\u001b[1;33m[\u001b[0m\u001b[1;36m5\u001b[0m\u001b[1;33m]\u001b[0m \u001b[1;33m=\u001b[0m \u001b[0mc\u001b[0m \u001b[1;33m,\u001b[0m \u001b[0mb\u001b[0m\u001b[1;33m,\u001b[0m \u001b[0ma\u001b[0m\u001b[1;33m\u001b[0m\u001b[1;33m\u001b[0m\u001b[0m\n\u001b[0;32m      4\u001b[0m \u001b[0mprint\u001b[0m\u001b[1;33m(\u001b[0m\u001b[0ml\u001b[0m\u001b[1;33m)\u001b[0m\u001b[1;33m\u001b[0m\u001b[1;33m\u001b[0m\u001b[0m\n",
      "\u001b[1;31mIndexError\u001b[0m: list index out of range"
     ]
    }
   ],
   "source": [
    "l = list('abcdef')\n",
    "a , b , c , l[0],l[1],l[2] =  l[0],l[1],l[2] , l[-1],l[-2],l[-3]\n",
    "l[3],l[4],l[5] = c , b, a \n",
    "print(l)"
   ]
  },
  {
   "cell_type": "code",
   "execution_count": 35,
   "id": "5b8751ef",
   "metadata": {},
   "outputs": [
    {
     "data": {
      "text/plain": [
       "True"
      ]
     },
     "execution_count": 35,
     "metadata": {},
     "output_type": "execute_result"
    }
   ],
   "source": [
    "0.00 == 0 "
   ]
  },
  {
   "cell_type": "code",
   "execution_count": 39,
   "id": "8e693457",
   "metadata": {},
   "outputs": [
    {
     "data": {
      "text/plain": [
       "5"
      ]
     },
     "execution_count": 39,
     "metadata": {},
     "output_type": "execute_result"
    }
   ],
   "source": [
    "l = ['abcdef',5]\n",
    "l[1]"
   ]
  },
  {
   "cell_type": "code",
   "execution_count": 40,
   "id": "2ef6e200",
   "metadata": {},
   "outputs": [
    {
     "name": "stdout",
     "output_type": "stream",
     "text": [
      "3\n"
     ]
    }
   ],
   "source": [
    "import math\n",
    "math = 3\n",
    "print(3)"
   ]
  },
  {
   "cell_type": "code",
   "execution_count": 48,
   "id": "a82fc901",
   "metadata": {},
   "outputs": [
    {
     "name": "stdout",
     "output_type": "stream",
     "text": [
      "py ghfgh dbdbgb \r",
      "bbbfdb\n"
     ]
    }
   ],
   "source": [
    "print (\"py ghfgh dbdbgb \\rbbbfdb\")\n"
   ]
  },
  {
   "cell_type": "code",
   "execution_count": 49,
   "id": "5bf63ccf",
   "metadata": {},
   "outputs": [],
   "source": [
    "# immutable type has same memory location i.e. \" \" = \" \"\n",
    "# mutable type has different memory location. [] != []"
   ]
  },
  {
   "cell_type": "code",
   "execution_count": 59,
   "id": "379e26b3",
   "metadata": {},
   "outputs": [
    {
     "name": "stdout",
     "output_type": "stream",
     "text": [
      "t_n_a_h_s_a_r_P\n",
      "P_r_a_s_h_a_n_t\n"
     ]
    }
   ],
   "source": [
    "a = \"Prashant\"\n",
    "a = \"_\".join(reversed(a))\n",
    "print(a)\n",
    "print(a[::-1])"
   ]
  },
  {
   "cell_type": "code",
   "execution_count": 61,
   "id": "47c8279a",
   "metadata": {},
   "outputs": [
    {
     "name": "stdout",
     "output_type": "stream",
     "text": [
      "123\n"
     ]
    }
   ],
   "source": [
    "ll = [\"1\",\"2\",\"3\"]\n",
    "st = \"\".join(ll)\n",
    "print(st)"
   ]
  },
  {
   "cell_type": "code",
   "execution_count": 62,
   "id": "0891e6e4",
   "metadata": {},
   "outputs": [
    {
     "name": "stdout",
     "output_type": "stream",
     "text": [
      "Prahant\n"
     ]
    }
   ],
   "source": [
    "# Deletio of character in string\n",
    "st1 = \"Prashant\"\n",
    "st1 = st1[:3] + st1[4:]\n",
    "print(st1)"
   ]
  },
  {
   "cell_type": "code",
   "execution_count": 64,
   "id": "be7bf757",
   "metadata": {},
   "outputs": [
    {
     "name": "stdout",
     "output_type": "stream",
     "text": [
      "Pra\tshant\n"
     ]
    }
   ],
   "source": [
    "st1 = \"Pra\\tshant\" #\\t to add tab\n",
    "print(st1)"
   ]
  },
  {
   "cell_type": "code",
   "execution_count": null,
   "id": "592d61a7",
   "metadata": {},
   "outputs": [],
   "source": []
  },
  {
   "cell_type": "code",
   "execution_count": null,
   "id": "05c659de",
   "metadata": {},
   "outputs": [],
   "source": []
  }
 ],
 "metadata": {
  "kernelspec": {
   "display_name": "Python 3 (ipykernel)",
   "language": "python",
   "name": "python3"
  },
  "language_info": {
   "codemirror_mode": {
    "name": "ipython",
    "version": 3
   },
   "file_extension": ".py",
   "mimetype": "text/x-python",
   "name": "python",
   "nbconvert_exporter": "python",
   "pygments_lexer": "ipython3",
   "version": "3.8.5"
  }
 },
 "nbformat": 4,
 "nbformat_minor": 5
}
