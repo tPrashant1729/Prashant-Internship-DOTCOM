{
 "cells": [
  {
   "cell_type": "markdown",
   "id": "07c0ea02",
   "metadata": {},
   "source": [
    "# Fuction"
   ]
  },
  {
   "cell_type": "code",
   "execution_count": 2,
   "id": "dd94cca8",
   "metadata": {},
   "outputs": [
    {
     "name": "stdout",
     "output_type": "stream",
     "text": [
      "Hello from a function\n"
     ]
    }
   ],
   "source": [
    "def fname():\n",
    "  print(\"Hello from a function\")\n",
    "\n",
    "fname()\n"
   ]
  },
  {
   "cell_type": "code",
   "execution_count": 3,
   "id": "9e970826",
   "metadata": {},
   "outputs": [
    {
     "name": "stdout",
     "output_type": "stream",
     "text": [
      "kausik 32\n"
     ]
    }
   ],
   "source": [
    "def f1(name,age):\n",
    "    print(name,age)\n",
    "\n",
    "f1(\"kausik\", \"32\")"
   ]
  },
  {
   "cell_type": "code",
   "execution_count": 7,
   "id": "5f7d875f",
   "metadata": {},
   "outputs": [
    {
     "name": "stdout",
     "output_type": "stream",
     "text": [
      "elderest one is  trupal\n"
     ]
    }
   ],
   "source": [
    "def f2(*kids):\n",
    "    print(\"elderest one is \",kids[2])\n",
    "\n",
    "\n",
    "f2(\"ketan\", \"jay\",\"trupal\")\n",
    "\n",
    "# If you do not know how many arguments that will be passed into your function, \n",
    "# add a * before the parameter name in the function definition.\n",
    "\n",
    "# This way the function will receive a tuple of arguments,\n",
    "# and can access the items accordingly:"
   ]
  },
  {
   "cell_type": "code",
   "execution_count": null,
   "id": "6222acde",
   "metadata": {},
   "outputs": [],
   "source": [
    "def f2(c1,c2,c3):\n",
    "    print(\"elderest one is \",c2)\n",
    "\n",
    "\n",
    "f2(c1=\"ketan\",c2= \"jay\",c3=\"trupal\")\n",
    "\n",
    "# You can also send arguments with the key = value syntax.\n",
    "# This way the order of the arguments does not matter"
   ]
  },
  {
   "cell_type": "code",
   "execution_count": null,
   "id": "d8c3ab8a",
   "metadata": {},
   "outputs": [],
   "source": [
    "def f2(**kids):\n",
    "    print(\"elderest one is \",kids[\"c1\"]) # provide key name in \"\"\n",
    "\n",
    "\n",
    "f2(c1=\"ketan\",c2= \"jay\",c3=\"trupal\")"
   ]
  },
  {
   "cell_type": "code",
   "execution_count": null,
   "id": "5010971b",
   "metadata": {},
   "outputs": [],
   "source": [
    "# default parameter value function\n",
    "# if we not provide any value it will print default value\n",
    "\n",
    "def f3(gender = \"c\"):\n",
    "    print(gender)\n",
    "\n",
    "f3(\"m\")\n",
    "f3(\"f\")\n",
    "f3()\n",
    "f3(\"m\")"
   ]
  },
  {
   "cell_type": "code",
   "execution_count": null,
   "id": "a6cdc991",
   "metadata": {},
   "outputs": [],
   "source": [
    "def avg(a,s,d=5):\n",
    "    return (a+s+d)/3\n",
    "    \n",
    "print(avg(4,5))\n",
    "# use of default and neccessary argument"
   ]
  },
  {
   "cell_type": "code",
   "execution_count": null,
   "id": "3997ce3e",
   "metadata": {},
   "outputs": [],
   "source": [
    "def f5(a,s,d=5):\n",
    "    return (a-s+d)/3\n",
    "    \n",
    "print(f5(s=4,a=5))\n",
    "# we can also change position"
   ]
  },
  {
   "cell_type": "code",
   "execution_count": null,
   "id": "978c708a",
   "metadata": {},
   "outputs": [],
   "source": [
    "def avg(a,s,d=5):\n",
    "    (a+s+d)/3\n",
    "print(avg(4,5))"
   ]
  },
  {
   "cell_type": "code",
   "execution_count": null,
   "id": "e4505d59",
   "metadata": {},
   "outputs": [],
   "source": [
    "def f4(food):\n",
    "  for x in food:\n",
    "    print(x)\n",
    "\n",
    "fruits = [\"apple\", \"banana\", \"cherry\"]\n",
    "\n",
    "f4(fruits)\n",
    "# whatever the variable passed in a function, it will convert to its defined name; fruits : food"
   ]
  },
  {
   "cell_type": "code",
   "execution_count": null,
   "id": "539a1268",
   "metadata": {},
   "outputs": [],
   "source": [
    "def f5(x=2):\n",
    "    return 5*x \n",
    "print(f5(4))\n",
    "print(f5())"
   ]
  },
  {
   "cell_type": "code",
   "execution_count": null,
   "id": "27d45064",
   "metadata": {},
   "outputs": [],
   "source": [
    "def f6(n):\n",
    "    if(n>0):\n",
    "        result = n + f6(n-1)\n",
    "    else:\n",
    "        result = 0\n",
    "    return result\n",
    "\n",
    "print(f6(10))"
   ]
  },
  {
   "cell_type": "markdown",
   "id": "ed9a83aa",
   "metadata": {},
   "source": [
    "types of function"
   ]
  },
  {
   "cell_type": "code",
   "execution_count": null,
   "id": "474ed540",
   "metadata": {},
   "outputs": [],
   "source": [
    "# taking variable/parameter, return nothing\n",
    "def f7(x,y):\n",
    "    print(x+y)\n",
    "\n",
    "a=f7(2,4)\n",
    "print(a)"
   ]
  },
  {
   "cell_type": "code",
   "execution_count": null,
   "id": "9ffd3dd2",
   "metadata": {},
   "outputs": [],
   "source": [
    "# taking variable/parameter, return value\n",
    "def f7(x,y):\n",
    "    s=(x+y)\n",
    "    return s \n",
    "\n",
    "a=f7(2,4)\n",
    "print(a)"
   ]
  },
  {
   "cell_type": "code",
   "execution_count": null,
   "id": "0dfabf59",
   "metadata": {},
   "outputs": [],
   "source": [
    "# not taking variable/parameter return nothing\n",
    "def f7():\n",
    "    print(\"s=(x+y)\")\n",
    "    \n",
    "\n",
    "a=f7()\n",
    "print(a)"
   ]
  },
  {
   "cell_type": "code",
   "execution_count": null,
   "id": "463394eb",
   "metadata": {},
   "outputs": [],
   "source": [
    "# not taking variable/parameter but returning\n",
    "def f7():\n",
    "    return \"x+y\"\n",
    "    \n",
    "\n",
    "a=f7()\n",
    "print(a)"
   ]
  },
  {
   "cell_type": "markdown",
   "id": "dbc30cef",
   "metadata": {},
   "source": [
    "# Lambda Function"
   ]
  },
  {
   "cell_type": "code",
   "execution_count": null,
   "id": "031dfdce",
   "metadata": {},
   "outputs": [],
   "source": [
    "a=lambda x:x*x\n",
    "print(a(3))\n",
    "# it is a one liner anonymous function"
   ]
  },
  {
   "cell_type": "markdown",
   "id": "75fbdace",
   "metadata": {},
   "source": [
    "a= lambda x,y: x+y/2\n",
    "print(a(3,y=2))"
   ]
  },
  {
   "cell_type": "code",
   "execution_count": null,
   "id": "843d4bee",
   "metadata": {},
   "outputs": [],
   "source": [
    "def f(fx, value):\n",
    "    return (value + fx(value))/2\n",
    "\n",
    "cube= lambda x: x*x*x\n",
    "\n",
    "print(f(lambda x: x*x,4))\n",
    "\n",
    "print(f(cube,5))\n",
    "\n",
    "# passing a function to a function"
   ]
  },
  {
   "cell_type": "markdown",
   "id": "a868971a",
   "metadata": {},
   "source": [
    "# map"
   ]
  },
  {
   "cell_type": "code",
   "execution_count": null,
   "id": "031bab60",
   "metadata": {},
   "outputs": [],
   "source": [
    "a= (1,2,3,4,5,6,7,8)\n",
    "q = lambda n: n%2 ==0\n",
    "b=tuple(map(lambda n: n%2,a))\n",
    "# print(type(b))\n",
    "print(b)\n",
    "# it is a higher order function , which needs input as function: map(f(x),x)\n",
    "# x can be a whole list,tpl"
   ]
  },
  {
   "cell_type": "markdown",
   "id": "68f89b53",
   "metadata": {},
   "source": [
    "# filter"
   ]
  },
  {
   "cell_type": "code",
   "execution_count": null,
   "id": "02e17c67",
   "metadata": {},
   "outputs": [],
   "source": [
    "a = (1,2,3,4,5,6,7,8)\n",
    "b = tuple(filter(lambda x: x>4,a))\n",
    "print(b)\n",
    "# it filter out elements based on conditional function : filter(conditional f(x),x)\n",
    "# x is list or tuple"
   ]
  },
  {
   "cell_type": "code",
   "execution_count": null,
   "id": "d6165332",
   "metadata": {},
   "outputs": [],
   "source": [
    "def newtpl(a):\n",
    "    for x in a:\n",
    "        if x>2:\n",
    "            b.append(x)\n",
    "\n",
    "a=[1,2,3,4,5,6,7,8]\n",
    "b=[]\n",
    "c= newtpl(a)\n",
    "print(b)\n"
   ]
  },
  {
   "cell_type": "markdown",
   "id": "e27d5f5f",
   "metadata": {},
   "source": [
    "# reduce"
   ]
  },
  {
   "cell_type": "code",
   "execution_count": null,
   "id": "ff5ab4b7",
   "metadata": {},
   "outputs": [],
   "source": [
    "from functools import reduce\n",
    "a = [1,2,3,4,5,6,7,8]\n",
    "b = reduce(lambda x,y:x+y,a)\n",
    "print(b)\n",
    "print(len(a))\n",
    "# reduce function returns single value not list or tuple\n",
    "# first we have to import it"
   ]
  },
  {
   "cell_type": "code",
   "execution_count": null,
   "id": "d79b38ee",
   "metadata": {},
   "outputs": [],
   "source": []
  }
 ],
 "metadata": {
  "kernelspec": {
   "display_name": "Python 3 (ipykernel)",
   "language": "python",
   "name": "python3"
  },
  "language_info": {
   "codemirror_mode": {
    "name": "ipython",
    "version": 3
   },
   "file_extension": ".py",
   "mimetype": "text/x-python",
   "name": "python",
   "nbconvert_exporter": "python",
   "pygments_lexer": "ipython3",
   "version": "3.8.5"
  }
 },
 "nbformat": 4,
 "nbformat_minor": 5
}
