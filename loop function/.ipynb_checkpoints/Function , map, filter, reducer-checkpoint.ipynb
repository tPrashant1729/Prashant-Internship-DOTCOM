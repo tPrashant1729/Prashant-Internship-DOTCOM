{
 "cells": [
  {
   "cell_type": "markdown",
   "id": "59bdb5d4",
   "metadata": {},
   "source": [
    "# Fuction"
   ]
  },
  {
   "cell_type": "code",
   "execution_count": 2,
   "id": "8be0eda1",
   "metadata": {},
   "outputs": [
    {
     "name": "stdout",
     "output_type": "stream",
     "text": [
      "Hello from a function\n"
     ]
    }
   ],
   "source": [
    "def fname():\n",
    "  print(\"Hello from a function\")\n",
    "\n",
    "fname()\n"
   ]
  },
  {
   "cell_type": "code",
   "execution_count": 3,
   "id": "c59c0c97",
   "metadata": {},
   "outputs": [
    {
     "name": "stdout",
     "output_type": "stream",
     "text": [
      "kausik 32\n"
     ]
    }
   ],
   "source": [
    "def f1(name,age):\n",
    "    print(name,age)\n",
    "\n",
    "f1(\"kausik\", \"32\")"
   ]
  },
  {
   "cell_type": "code",
   "execution_count": 7,
   "id": "87945633",
   "metadata": {},
   "outputs": [
    {
     "name": "stdout",
     "output_type": "stream",
     "text": [
      "elderest one is  trupal\n"
     ]
    }
   ],
   "source": [
    "def f2(*kids):\n",
    "    print(\"elderest one is \",kids[2])\n",
    "\n",
    "\n",
    "f2(\"ketan\", \"jay\",\"trupal\")\n",
    "\n",
    "# If you do not know how many arguments that will be passed into your function, \n",
    "# add a * before the parameter name in the function definition.\n",
    "\n",
    "# This way the function will receive a tuple of arguments,\n",
    "# and can access the items accordingly:"
   ]
  },
  {
   "cell_type": "code",
   "execution_count": null,
   "id": "d7d3b16a",
   "metadata": {},
   "outputs": [],
   "source": [
    "def f2(c1,c2,c3):\n",
    "    print(\"elderest one is \",c2)\n",
    "\n",
    "\n",
    "f2(c1=\"ketan\",c2= \"jay\",c3=\"trupal\")\n",
    "\n",
    "# You can also send arguments with the key = value syntax.\n",
    "# This way the order of the arguments does not matter"
   ]
  },
  {
   "cell_type": "code",
   "execution_count": 8,
   "id": "2761b831",
   "metadata": {},
   "outputs": [
    {
     "name": "stdout",
     "output_type": "stream",
     "text": [
      "elderest one is  ketan\n"
     ]
    }
   ],
   "source": [
    "def f2(**kids):\n",
    "    print(\"elderest one is \",kids[\"c1\"]) # provide key name in \"\"\n",
    "\n",
    "\n",
    "f2(c1=\"ketan\",c2= \"jay\",c3=\"trupal\")"
   ]
  },
  {
   "cell_type": "code",
   "execution_count": 9,
   "id": "d94f6406",
   "metadata": {},
   "outputs": [
    {
     "name": "stdout",
     "output_type": "stream",
     "text": [
      "m\n",
      "f\n",
      "c\n",
      "m\n"
     ]
    }
   ],
   "source": [
    "# default parameter value function\n",
    "# if we not provide any value it will print default value\n",
    "\n",
    "def f3(gender = \"c\"):\n",
    "    print(gender)\n",
    "\n",
    "f3(\"m\")\n",
    "f3(\"f\")\n",
    "f3()\n",
    "f3(\"m\")"
   ]
  },
  {
   "cell_type": "code",
   "execution_count": 10,
   "id": "87676ed7",
   "metadata": {},
   "outputs": [
    {
     "name": "stdout",
     "output_type": "stream",
     "text": [
      "4.666666666666667\n"
     ]
    }
   ],
   "source": [
    "def avg(a,s,d=5):\n",
    "    return (a+s+d)/3\n",
    "    \n",
    "print(avg(4,5))\n",
    "# use of default and neccessary argument"
   ]
  },
  {
   "cell_type": "code",
   "execution_count": null,
   "id": "6313c907",
   "metadata": {},
   "outputs": [],
   "source": [
    "def f5(a,s,d=5):\n",
    "    return (a-s+d)/3\n",
    "    \n",
    "print(f5(s=4,a=5))\n",
    "# we can also change position"
   ]
  },
  {
   "cell_type": "code",
   "execution_count": null,
   "id": "2ad2443f",
   "metadata": {},
   "outputs": [],
   "source": [
    "def avg(a,s,d=5):\n",
    "    (a+s+d)/3\n",
    "    \n",
    "print(avg(4,5))"
   ]
  },
  {
   "cell_type": "code",
   "execution_count": 11,
   "id": "13b11303",
   "metadata": {},
   "outputs": [
    {
     "name": "stdout",
     "output_type": "stream",
     "text": [
      "apple\n",
      "banana\n",
      "cherry\n"
     ]
    }
   ],
   "source": [
    "def f4(food):\n",
    "  for x in food:\n",
    "    print(x)\n",
    "\n",
    "fruits = [\"apple\", \"banana\", \"cherry\"]\n",
    "\n",
    "f4(fruits)\n",
    "# whatever the variable passed in a function, it will convert to its defined name; fruits : food"
   ]
  },
  {
   "cell_type": "code",
   "execution_count": 13,
   "id": "a05c3950",
   "metadata": {},
   "outputs": [
    {
     "name": "stdout",
     "output_type": "stream",
     "text": [
      "20\n",
      "10\n"
     ]
    }
   ],
   "source": [
    "def f5(x=2):\n",
    "    return 5*x \n",
    "print(f5(4))\n",
    "print(f5())"
   ]
  },
  {
   "cell_type": "code",
   "execution_count": 15,
   "id": "5ae89328",
   "metadata": {},
   "outputs": [
    {
     "name": "stdout",
     "output_type": "stream",
     "text": [
      "5050\n"
     ]
    }
   ],
   "source": [
    "def f6(n):\n",
    "    if(n>0):\n",
    "        result = n + f6(n-1)\n",
    "    else:\n",
    "        result = 0\n",
    "    return result\n",
    "\n",
    "print(f6(100))"
   ]
  },
  {
   "cell_type": "markdown",
   "id": "43f7f6cd",
   "metadata": {},
   "source": [
    "types of function"
   ]
  },
  {
   "cell_type": "code",
   "execution_count": null,
   "id": "b536b473",
   "metadata": {},
   "outputs": [],
   "source": [
    "# taking variable/parameter, return nothing\n",
    "def f7(x,y):\n",
    "    print(x+y)\n",
    "\n",
    "a=f7(2,4)\n",
    "print(a)"
   ]
  },
  {
   "cell_type": "code",
   "execution_count": null,
   "id": "43ae6c9e",
   "metadata": {},
   "outputs": [],
   "source": [
    "# taking variable/parameter, return value\n",
    "def f7(x,y):\n",
    "    s=(x+y)\n",
    "    return s \n",
    "\n",
    "a=f7(2,4)\n",
    "print(a)"
   ]
  },
  {
   "cell_type": "code",
   "execution_count": 16,
   "id": "1fd760e8",
   "metadata": {},
   "outputs": [
    {
     "name": "stdout",
     "output_type": "stream",
     "text": [
      "s=(x+y)\n",
      "None\n"
     ]
    }
   ],
   "source": [
    "# not taking variable/parameter return nothing\n",
    "def f7():\n",
    "    print(\"s=(x+y)\")\n",
    "    \n",
    "\n",
    "a=f7()\n",
    "print(a)"
   ]
  },
  {
   "cell_type": "code",
   "execution_count": null,
   "id": "bfe8f8d2",
   "metadata": {},
   "outputs": [],
   "source": [
    "# not taking variable/parameter but returning\n",
    "def f7():\n",
    "    return \"x+y\"\n",
    "    \n",
    "\n",
    "a=f7()\n",
    "print(a)"
   ]
  },
  {
   "cell_type": "markdown",
   "id": "244760d2",
   "metadata": {},
   "source": [
    "# Lambda Function"
   ]
  },
  {
   "cell_type": "code",
   "execution_count": 17,
   "id": "97cd573c",
   "metadata": {},
   "outputs": [
    {
     "name": "stdout",
     "output_type": "stream",
     "text": [
      "9\n"
     ]
    }
   ],
   "source": [
    "a=lambda x:x*x\n",
    "print(a(3))\n",
    "# it is a one liner anonymous function"
   ]
  },
  {
   "cell_type": "code",
   "execution_count": 19,
   "id": "a77827e2",
   "metadata": {},
   "outputs": [
    {
     "name": "stdout",
     "output_type": "stream",
     "text": [
      "4.0\n"
     ]
    }
   ],
   "source": [
    "a= lambda x,y: x+y/2\n",
    "print(a(3,2))"
   ]
  },
  {
   "cell_type": "code",
   "execution_count": 20,
   "id": "c0f7249e",
   "metadata": {},
   "outputs": [
    {
     "name": "stdout",
     "output_type": "stream",
     "text": [
      "10.0\n",
      "65.0\n"
     ]
    }
   ],
   "source": [
    "def fun(fx, value):\n",
    "    return (value + fx(value))/2\n",
    "\n",
    "cube= lambda x: x*x*x\n",
    "\n",
    "print(fun(lambda x: x*x,4))\n",
    "\n",
    "print(fun(cube,5))\n",
    "\n",
    "# passing a function to a function"
   ]
  },
  {
   "cell_type": "markdown",
   "id": "5cf96f80",
   "metadata": {},
   "source": [
    "# map"
   ]
  },
  {
   "cell_type": "code",
   "execution_count": 25,
   "id": "5006389c",
   "metadata": {},
   "outputs": [
    {
     "name": "stdout",
     "output_type": "stream",
     "text": [
      "(1, 0, 1, 0, 1, 0, 1, 0)\n"
     ]
    }
   ],
   "source": [
    "a= (1,2,3,4,5,6,7,8)\n",
    "q = lambda n: n%2 ==0\n",
    "\n",
    "b=tuple(map(lambda n: n%2,a))\n",
    "# print(type(b))\n",
    "print(b)\n",
    "# it is a higher order function , which needs input as function: map(f(x),x)\n",
    "# x can be a whole list,tpl"
   ]
  },
  {
   "cell_type": "markdown",
   "id": "b087e44d",
   "metadata": {},
   "source": [
    "# filter"
   ]
  },
  {
   "cell_type": "code",
   "execution_count": null,
   "id": "a44dd243",
   "metadata": {},
   "outputs": [],
   "source": [
    "a = (1,2,3,4,5,6,7,8)\n",
    "b = tuple(filter(lambda x: x>4,a))\n",
    "print(b)\n",
    "# it filter out elements based on conditional function : filter(conditional f(x),x)\n",
    "# x is list or tuple"
   ]
  },
  {
   "cell_type": "code",
   "execution_count": 26,
   "id": "ef336588",
   "metadata": {},
   "outputs": [
    {
     "name": "stdout",
     "output_type": "stream",
     "text": [
      "[3, 4, 5, 6, 7, 8]\n"
     ]
    }
   ],
   "source": [
    "def newtpl(a):\n",
    "    for x in a:\n",
    "        if x>2:\n",
    "            b.append(x)\n",
    "\n",
    "a=[1,2,3,4,5,6,7,8]\n",
    "b=[]\n",
    "c= newtpl(a)\n",
    "print(b)\n"
   ]
  },
  {
   "cell_type": "markdown",
   "id": "90bb8c9e",
   "metadata": {},
   "source": [
    "# reduce"
   ]
  },
  {
   "cell_type": "code",
   "execution_count": 27,
   "id": "58231cf1",
   "metadata": {},
   "outputs": [
    {
     "name": "stdout",
     "output_type": "stream",
     "text": [
      "36\n",
      "8\n"
     ]
    }
   ],
   "source": [
    "from functools import reduce\n",
    "a = [1,2,3,4,5,6,7,8]\n",
    "b = reduce(lambda x,y:x+y,a)\n",
    "print(b)\n",
    "print(len(a))\n",
    "# reduce function returns single value not list or tuple\n",
    "# first we have to import it"
   ]
  },
  {
   "cell_type": "code",
   "execution_count": 21,
   "id": "29662a32",
   "metadata": {},
   "outputs": [
    {
     "name": "stdout",
     "output_type": "stream",
     "text": [
      "Welcome to the function\n",
      "kya baat kya baat kya baat\n",
      "je baat\n"
     ]
    },
    {
     "ename": "TypeError",
     "evalue": "'NoneType' object is not callable",
     "output_type": "error",
     "traceback": [
      "\u001b[1;31m---------------------------------------------------------------------------\u001b[0m",
      "\u001b[1;31mTypeError\u001b[0m                                 Traceback (most recent call last)",
      "\u001b[1;32m~\\AppData\\Local\\Temp/ipykernel_2596/1446685373.py\u001b[0m in \u001b[0;36m<module>\u001b[1;34m\u001b[0m\n\u001b[0;32m     14\u001b[0m     \u001b[0mprint\u001b[0m\u001b[1;33m(\u001b[0m\u001b[1;34m\"kya baat kya baat kya baat\"\u001b[0m\u001b[1;33m)\u001b[0m\u001b[1;33m\u001b[0m\u001b[1;33m\u001b[0m\u001b[0m\n\u001b[0;32m     15\u001b[0m \u001b[1;33m\u001b[0m\u001b[0m\n\u001b[1;32m---> 16\u001b[1;33m \u001b[0mfunction_d\u001b[0m\u001b[1;33m(\u001b[0m\u001b[1;33m)\u001b[0m\u001b[1;33m\u001b[0m\u001b[1;33m\u001b[0m\u001b[0m\n\u001b[0m\u001b[0;32m     17\u001b[0m \u001b[1;31m# print(a)\u001b[0m\u001b[1;33m\u001b[0m\u001b[1;33m\u001b[0m\u001b[1;33m\u001b[0m\u001b[0m\n",
      "\u001b[1;31mTypeError\u001b[0m: 'NoneType' object is not callable"
     ]
    }
   ],
   "source": [
    "def decorator(fun):\n",
    "    \n",
    "    def mfun():\n",
    "        \n",
    "        print(\"Welcome to the function\")\n",
    "        fun()\n",
    "        print(\"je baat\")\n",
    "        \n",
    "    return mfun()\n",
    "\n",
    "    \n",
    "@decorator\n",
    "def function_d():\n",
    "    print(\"kya baat kya baat kya baat\")\n",
    "    \n",
    "function_d()\n",
    "# print(a)    \n"
   ]
  },
  {
   "cell_type": "code",
   "execution_count": 7,
   "id": "4eb7bf46",
   "metadata": {},
   "outputs": [
    {
     "name": "stdout",
     "output_type": "stream",
     "text": [
      "dsads\n",
      "prashant\n",
      "svdv\n"
     ]
    }
   ],
   "source": [
    "def greet(fx):\n",
    "    \n",
    "    def mfx():\n",
    "        print(\"dsads\")\n",
    "        fx()\n",
    "        print(\"svdv\")\n",
    "    return mfx\n",
    "\n",
    "@greet\n",
    "def fun():\n",
    "    print(\"prashant\")\n",
    "\n",
    "fun()\n",
    "        "
   ]
  },
  {
   "cell_type": "code",
   "execution_count": null,
   "id": "0cdd89eb",
   "metadata": {},
   "outputs": [],
   "source": []
  }
 ],
 "metadata": {
  "kernelspec": {
   "display_name": "Python 3 (ipykernel)",
   "language": "python",
   "name": "python3"
  },
  "language_info": {
   "codemirror_mode": {
    "name": "ipython",
    "version": 3
   },
   "file_extension": ".py",
   "mimetype": "text/x-python",
   "name": "python",
   "nbconvert_exporter": "python",
   "pygments_lexer": "ipython3",
   "version": "3.8.5"
  }
 },
 "nbformat": 4,
 "nbformat_minor": 5
}
