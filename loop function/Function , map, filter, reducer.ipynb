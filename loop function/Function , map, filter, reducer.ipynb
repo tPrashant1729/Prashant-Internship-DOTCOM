{
 "cells": [
  {
   "cell_type": "markdown",
   "id": "cf433306",
   "metadata": {},
   "source": [
    "# Fuction"
   ]
  },
  {
   "cell_type": "code",
   "execution_count": 1,
   "id": "2f219a2f",
   "metadata": {},
   "outputs": [
    {
     "name": "stdout",
     "output_type": "stream",
     "text": [
      "Hello from a function\n"
     ]
    }
   ],
   "source": [
    "def fname():\n",
    "  print(\"Hello from a function\")\n",
    "\n",
    "fname()\n"
   ]
  },
  {
   "cell_type": "code",
   "execution_count": 6,
   "id": "fcb29572",
   "metadata": {},
   "outputs": [
    {
     "name": "stdout",
     "output_type": "stream",
     "text": [
      "kausik 32\n"
     ]
    }
   ],
   "source": [
    "def f1(name,age):\n",
    "    print(name,age)\n",
    "\n",
    "f1(\"kausik\", \"32\")"
   ]
  },
  {
   "cell_type": "code",
   "execution_count": 23,
   "id": "eea76829",
   "metadata": {},
   "outputs": [
    {
     "name": "stdout",
     "output_type": "stream",
     "text": [
      "elderest one is  trupal\n"
     ]
    }
   ],
   "source": [
    "def f2(*kids):\n",
    "    print(\"elderest one is \",kids[2])\n",
    "\n",
    "\n",
    "f2(\"ketan\", \"jay\",\"trupal\")\n",
    "\n",
    "# If you do not know how many arguments that will be passed into your function, \n",
    "# add a * before the parameter name in the function definition.\n",
    "\n",
    "# This way the function will receive a tuple of arguments,\n",
    "# and can access the items accordingly:"
   ]
  },
  {
   "cell_type": "code",
   "execution_count": 26,
   "id": "0e23bd56",
   "metadata": {},
   "outputs": [
    {
     "name": "stdout",
     "output_type": "stream",
     "text": [
      "elderest one is  jay\n"
     ]
    }
   ],
   "source": [
    "def f2(c1,c2,c3):\n",
    "    print(\"elderest one is \",c2)\n",
    "\n",
    "\n",
    "f2(c1=\"ketan\",c2= \"jay\",c3=\"trupal\")\n",
    "\n",
    "# You can also send arguments with the key = value syntax.\n",
    "# This way the order of the arguments does not matter"
   ]
  },
  {
   "cell_type": "code",
   "execution_count": 29,
   "id": "392ce2aa",
   "metadata": {},
   "outputs": [
    {
     "name": "stdout",
     "output_type": "stream",
     "text": [
      "elderest one is  ketan\n"
     ]
    }
   ],
   "source": [
    "def f2(**kids):\n",
    "    print(\"elderest one is \",kids[\"c1\"]) # provide key name in \"\"\n",
    "\n",
    "\n",
    "f2(c1=\"ketan\",c2= \"jay\",c3=\"trupal\")"
   ]
  },
  {
   "cell_type": "code",
   "execution_count": 40,
   "id": "5584b595",
   "metadata": {},
   "outputs": [
    {
     "name": "stdout",
     "output_type": "stream",
     "text": [
      "m\n",
      "f\n",
      "c\n",
      "m\n"
     ]
    }
   ],
   "source": [
    "# default parameter value function\n",
    "# if we not provide any value it will print default value\n",
    "\n",
    "def f3(gender = \"c\"):\n",
    "    print(gender)\n",
    "\n",
    "f3(\"m\")\n",
    "f3(\"f\")\n",
    "f3()\n",
    "f3(\"m\")"
   ]
  },
  {
   "cell_type": "code",
   "execution_count": 43,
   "id": "aa9c920c",
   "metadata": {},
   "outputs": [
    {
     "name": "stdout",
     "output_type": "stream",
     "text": [
      "4.666666666666667\n"
     ]
    }
   ],
   "source": [
    "def avg(a,s,d=5):\n",
    "    return (a+s+d)/3\n",
    "    \n",
    "print(avg(4,5))\n",
    "# use of default and neccessary argument"
   ]
  },
  {
   "cell_type": "code",
   "execution_count": 45,
   "id": "ea14b482",
   "metadata": {},
   "outputs": [
    {
     "name": "stdout",
     "output_type": "stream",
     "text": [
      "2.0\n"
     ]
    }
   ],
   "source": [
    "def f5(a,s,d=5):\n",
    "    return (a-s+d)/3\n",
    "    \n",
    "print(f5(s=4,a=5))\n",
    "# we can also change position"
   ]
  },
  {
   "cell_type": "code",
   "execution_count": 41,
   "id": "ce71ace4",
   "metadata": {},
   "outputs": [
    {
     "name": "stdout",
     "output_type": "stream",
     "text": [
      "None\n"
     ]
    }
   ],
   "source": [
    "def avg(a,s,d=5):\n",
    "    (a+s+d)/3\n",
    "print(avg(4,5))"
   ]
  },
  {
   "cell_type": "code",
   "execution_count": 36,
   "id": "7e3e338d",
   "metadata": {},
   "outputs": [
    {
     "name": "stdout",
     "output_type": "stream",
     "text": [
      "apple\n",
      "banana\n",
      "cherry\n"
     ]
    }
   ],
   "source": [
    "def f4(food):\n",
    "  for x in food:\n",
    "    print(x)\n",
    "\n",
    "fruits = [\"apple\", \"banana\", \"cherry\"]\n",
    "\n",
    "f4(fruits)\n",
    "# whatever the variable passed in a function, it will convert to its defined name; fruits : food"
   ]
  },
  {
   "cell_type": "code",
   "execution_count": 38,
   "id": "4a0f204d",
   "metadata": {},
   "outputs": [
    {
     "name": "stdout",
     "output_type": "stream",
     "text": [
      "20\n",
      "10\n"
     ]
    }
   ],
   "source": [
    "def f5(x=2):\n",
    "    return 5*x \n",
    "print(f5(4))\n",
    "print(f5())"
   ]
  },
  {
   "cell_type": "code",
   "execution_count": 39,
   "id": "63afc907",
   "metadata": {},
   "outputs": [
    {
     "name": "stdout",
     "output_type": "stream",
     "text": [
      "55\n"
     ]
    }
   ],
   "source": [
    "def f6(n):\n",
    "    if(n>0):\n",
    "        result = n + f6(n-1)\n",
    "    else:\n",
    "        result = 0\n",
    "    return result\n",
    "\n",
    "print(f6(10))"
   ]
  },
  {
   "cell_type": "markdown",
   "id": "720e8882",
   "metadata": {},
   "source": [
    "types of function"
   ]
  },
  {
   "cell_type": "code",
   "execution_count": 47,
   "id": "f4eb13e9",
   "metadata": {},
   "outputs": [
    {
     "name": "stdout",
     "output_type": "stream",
     "text": [
      "6\n",
      "None\n"
     ]
    }
   ],
   "source": [
    "# taking variable/parameter, return nothing\n",
    "def f7(x,y):\n",
    "    print(x+y)\n",
    "\n",
    "a=f7(2,4)\n",
    "print(a)"
   ]
  },
  {
   "cell_type": "code",
   "execution_count": 49,
   "id": "71aeae97",
   "metadata": {},
   "outputs": [
    {
     "name": "stdout",
     "output_type": "stream",
     "text": [
      "6\n"
     ]
    }
   ],
   "source": [
    "# taking variable/parameter, return value\n",
    "def f7(x,y):\n",
    "    s=(x+y)\n",
    "    return s \n",
    "\n",
    "a=f7(2,4)\n",
    "print(a)"
   ]
  },
  {
   "cell_type": "code",
   "execution_count": 52,
   "id": "d3fb5148",
   "metadata": {},
   "outputs": [
    {
     "name": "stdout",
     "output_type": "stream",
     "text": [
      "s=(x+y)\n",
      "None\n"
     ]
    }
   ],
   "source": [
    "# not taking variable/parameter return nothing\n",
    "def f7():\n",
    "    print(\"s=(x+y)\")\n",
    "    \n",
    "\n",
    "a=f7()\n",
    "print(a)"
   ]
  },
  {
   "cell_type": "code",
   "execution_count": 54,
   "id": "9ae02bfc",
   "metadata": {},
   "outputs": [
    {
     "name": "stdout",
     "output_type": "stream",
     "text": [
      "x+y\n"
     ]
    }
   ],
   "source": [
    "# not taking variable/parameter but returning\n",
    "def f7():\n",
    "    return \"x+y\"\n",
    "    \n",
    "\n",
    "a=f7()\n",
    "print(a)"
   ]
  },
  {
   "cell_type": "markdown",
   "id": "94af8047",
   "metadata": {},
   "source": [
    "# Lambda Function"
   ]
  },
  {
   "cell_type": "code",
   "execution_count": 58,
   "id": "cee88153",
   "metadata": {},
   "outputs": [
    {
     "name": "stdout",
     "output_type": "stream",
     "text": [
      "9\n"
     ]
    }
   ],
   "source": [
    "a=lambda x:x*x\n",
    "print(a(3))\n",
    "# it is a one liner anonymous function"
   ]
  },
  {
   "cell_type": "markdown",
   "id": "aadb787b",
   "metadata": {},
   "source": [
    "a= lambda x,y: x+y/2\n",
    "print(a(3,y=2))"
   ]
  },
  {
   "cell_type": "code",
   "execution_count": 68,
   "id": "577536ef",
   "metadata": {},
   "outputs": [
    {
     "name": "stdout",
     "output_type": "stream",
     "text": [
      "10.0\n",
      "65.0\n"
     ]
    }
   ],
   "source": [
    "def f(fx, value):\n",
    "    return (value + fx(value))/2\n",
    "\n",
    "cube= lambda x: x*x*x\n",
    "\n",
    "print(f(lambda x: x*x,4))\n",
    "\n",
    "print(f(cube,5))\n",
    "\n",
    "# passing a function to a function"
   ]
  },
  {
   "cell_type": "markdown",
   "id": "4b672512",
   "metadata": {},
   "source": [
    "# map"
   ]
  },
  {
   "cell_type": "code",
   "execution_count": 97,
   "id": "58fa3912",
   "metadata": {},
   "outputs": [
    {
     "name": "stdout",
     "output_type": "stream",
     "text": [
      "(1, 0, 1, 0, 1, 0, 1, 0)\n"
     ]
    }
   ],
   "source": [
    "a= (1,2,3,4,5,6,7,8)\n",
    "q = lambda n: n%2 ==0\n",
    "b=tuple(map(lambda n: n%2,a))\n",
    "# print(type(b))\n",
    "print(b)\n",
    "# it is a higher order function , which needs input as function: map(f(x),x)\n",
    "# x can be a whole list,tpl"
   ]
  },
  {
   "cell_type": "markdown",
   "id": "19759503",
   "metadata": {},
   "source": [
    "# filter"
   ]
  },
  {
   "cell_type": "code",
   "execution_count": 99,
   "id": "90a400be",
   "metadata": {},
   "outputs": [
    {
     "name": "stdout",
     "output_type": "stream",
     "text": [
      "(5, 6, 7, 8)\n"
     ]
    }
   ],
   "source": [
    "a = (1,2,3,4,5,6,7,8)\n",
    "b = tuple(filter(lambda x: x>4,a))\n",
    "print(b)\n",
    "# it filter out elements based on conditional function : filter(conditional f(x),x)\n",
    "# x is list or tuple"
   ]
  },
  {
   "cell_type": "code",
   "execution_count": 118,
   "id": "202d1e45",
   "metadata": {},
   "outputs": [
    {
     "name": "stdout",
     "output_type": "stream",
     "text": [
      "[3, 4, 5, 6, 7, 8]\n"
     ]
    }
   ],
   "source": [
    "def newtpl(a):\n",
    "    for x in a:\n",
    "        if x>2:\n",
    "            b.append(x)\n",
    "\n",
    "a=[1,2,3,4,5,6,7,8]\n",
    "b=[]\n",
    "c= newtpl(a)\n",
    "print(b)\n"
   ]
  },
  {
   "cell_type": "markdown",
   "id": "9e9a1a58",
   "metadata": {},
   "source": [
    "# reduce"
   ]
  },
  {
   "cell_type": "code",
   "execution_count": 108,
   "id": "3e2dfe4e",
   "metadata": {},
   "outputs": [
    {
     "name": "stdout",
     "output_type": "stream",
     "text": [
      "36\n",
      "8\n"
     ]
    }
   ],
   "source": [
    "from functools import reduce\n",
    "a = [1,2,3,4,5,6,7,8]\n",
    "b = reduce(lambda x,y:x+y,a)\n",
    "print(b)\n",
    "print(len(a))\n",
    "# reduce function returns single value not list or tuple\n",
    "# first we have to import it"
   ]
  },
  {
   "cell_type": "code",
   "execution_count": null,
   "id": "f8b2b8b2",
   "metadata": {},
   "outputs": [],
   "source": []
  }
 ],
 "metadata": {
  "kernelspec": {
   "display_name": "Python 3 (ipykernel)",
   "language": "python",
   "name": "python3"
  },
  "language_info": {
   "codemirror_mode": {
    "name": "ipython",
    "version": 3
   },
   "file_extension": ".py",
   "mimetype": "text/x-python",
   "name": "python",
   "nbconvert_exporter": "python",
   "pygments_lexer": "ipython3",
   "version": "3.8.5"
  }
 },
 "nbformat": 4,
 "nbformat_minor": 5
}
