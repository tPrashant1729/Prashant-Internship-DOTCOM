{
 "cells": [
  {
   "cell_type": "code",
   "execution_count": 1,
   "id": "ad80f68a",
   "metadata": {},
   "outputs": [],
   "source": [
    "import numpy as np\n",
    "y_t = [1,2,3,4,5]\n",
    "y_p = [0,9,8,7,6]"
   ]
  },
  {
   "cell_type": "code",
   "execution_count": 2,
   "id": "ae3787da",
   "metadata": {},
   "outputs": [
    {
     "data": {
      "text/plain": [
       "17.0"
      ]
     },
     "execution_count": 2,
     "metadata": {},
     "output_type": "execute_result"
    }
   ],
   "source": [
    "total = 0\n",
    "for yt, yp in zip(y_t,y_p):\n",
    "    error = (yt-yp)**2\n",
    "    total+= error\n",
    "mse = total/len(y_t)\n",
    "mse\n",
    "    "
   ]
  },
  {
   "cell_type": "code",
   "execution_count": 5,
   "id": "9bb8bf5d",
   "metadata": {},
   "outputs": [],
   "source": [
    "y_t = np.array(y_t)\n",
    "y_p = np.array(y_p)"
   ]
  },
  {
   "cell_type": "code",
   "execution_count": 9,
   "id": "ea661707",
   "metadata": {},
   "outputs": [
    {
     "data": {
      "text/plain": [
       "17.0"
      ]
     },
     "execution_count": 9,
     "metadata": {},
     "output_type": "execute_result"
    }
   ],
   "source": [
    "np.mean(np.square(y_t - y_p))"
   ]
  },
  {
   "cell_type": "code",
   "execution_count": null,
   "id": "830372b6",
   "metadata": {},
   "outputs": [],
   "source": []
  }
 ],
 "metadata": {
  "kernelspec": {
   "display_name": "Python 3 (ipykernel)",
   "language": "python",
   "name": "python3"
  },
  "language_info": {
   "codemirror_mode": {
    "name": "ipython",
    "version": 3
   },
   "file_extension": ".py",
   "mimetype": "text/x-python",
   "name": "python",
   "nbconvert_exporter": "python",
   "pygments_lexer": "ipython3",
   "version": "3.9.0"
  }
 },
 "nbformat": 4,
 "nbformat_minor": 5
}
