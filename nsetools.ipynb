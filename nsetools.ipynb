{
 "cells": [
  {
   "cell_type": "code",
   "execution_count": 1,
   "id": "ea67900b",
   "metadata": {},
   "outputs": [],
   "source": [
    "from nsetools import Nse"
   ]
  },
  {
   "cell_type": "code",
   "execution_count": 2,
   "id": "1b57fc7e",
   "metadata": {},
   "outputs": [],
   "source": [
    "import pandas as pd\n",
    "import numpy as np"
   ]
  },
  {
   "cell_type": "code",
   "execution_count": 3,
   "id": "e65171d0",
   "metadata": {},
   "outputs": [],
   "source": [
    "import requests\n",
    "import json"
   ]
  },
  {
   "cell_type": "code",
   "execution_count": 4,
   "id": "e3a800de",
   "metadata": {},
   "outputs": [],
   "source": [
    "import matplotlib.pyplot as plt"
   ]
  },
  {
   "cell_type": "code",
   "execution_count": 5,
   "id": "0bcf514b",
   "metadata": {},
   "outputs": [],
   "source": [
    "nse = Nse()"
   ]
  },
  {
   "cell_type": "code",
   "execution_count": 6,
   "id": "4970eb64",
   "metadata": {},
   "outputs": [
    {
     "name": "stdout",
     "output_type": "stream",
     "text": [
      "Driver Class for National Stock Exchange (NSE)\n"
     ]
    }
   ],
   "source": [
    "print(nse)"
   ]
  },
  {
   "cell_type": "code",
   "execution_count": 7,
   "id": "4b888816",
   "metadata": {},
   "outputs": [],
   "source": [
    "q = nse.get_quote('infy')"
   ]
  },
  {
   "cell_type": "code",
   "execution_count": 8,
   "id": "4d497470",
   "metadata": {},
   "outputs": [
    {
     "data": {
      "text/plain": [
       "pricebandupper            1529.75\n",
       "symbol                       INFY\n",
       "applicableMargin             13.4\n",
       "bcEndDate                    None\n",
       "totalSellQuantity            None\n",
       "                         ...     \n",
       "buyQuantity5                 None\n",
       "closePrice                      0\n",
       "open                         1403\n",
       "isinCode             INE009A01021\n",
       "lastPrice                  1390.7\n",
       "Length: 68, dtype: object"
      ]
     },
     "execution_count": 8,
     "metadata": {},
     "output_type": "execute_result"
    }
   ],
   "source": [
    "pd.Series(q)"
   ]
  },
  {
   "cell_type": "code",
   "execution_count": 9,
   "id": "eed0ea31",
   "metadata": {},
   "outputs": [
    {
     "data": {
      "text/plain": [
       "SYMBOL                                 NAME OF COMPANY\n",
       "20MICRONS                           20 Microns Limited\n",
       "21STCENMGM    21st Century Management Services Limited\n",
       "360ONE                             360 ONE WAM LIMITED\n",
       "3IINFOLTD                          3i Infotech Limited\n",
       "                                ...                   \n",
       "ZOTA                          Zota Health Care LImited\n",
       "ZUARI                     Zuari Agro Chemicals Limited\n",
       "ZUARIIND                      ZUARI INDUSTRIES LIMITED\n",
       "ZYDUSLIFE                   Zydus Lifesciences Limited\n",
       "ZYDUSWELL                       Zydus Wellness Limited\n",
       "Length: 1868, dtype: object"
      ]
     },
     "execution_count": 9,
     "metadata": {},
     "output_type": "execute_result"
    }
   ],
   "source": [
    "pd.Series(nse.get_stock_codes())"
   ]
  },
  {
   "cell_type": "code",
   "execution_count": 10,
   "id": "2b54c5b7",
   "metadata": {},
   "outputs": [
    {
     "data": {
      "text/html": [
       "<div>\n",
       "<style scoped>\n",
       "    .dataframe tbody tr th:only-of-type {\n",
       "        vertical-align: middle;\n",
       "    }\n",
       "\n",
       "    .dataframe tbody tr th {\n",
       "        vertical-align: top;\n",
       "    }\n",
       "\n",
       "    .dataframe thead th {\n",
       "        text-align: right;\n",
       "    }\n",
       "</style>\n",
       "<table border=\"1\" class=\"dataframe\">\n",
       "  <thead>\n",
       "    <tr style=\"text-align: right;\">\n",
       "      <th></th>\n",
       "      <th>indice</th>\n",
       "      <th>advances</th>\n",
       "      <th>declines</th>\n",
       "      <th>unchanged</th>\n",
       "    </tr>\n",
       "  </thead>\n",
       "  <tbody>\n",
       "    <tr>\n",
       "      <th>0</th>\n",
       "      <td>NIFTY 50</td>\n",
       "      <td>33.0</td>\n",
       "      <td>16.0</td>\n",
       "      <td>1.0</td>\n",
       "    </tr>\n",
       "    <tr>\n",
       "      <th>1</th>\n",
       "      <td>NIFTY NEXT 50</td>\n",
       "      <td>36.0</td>\n",
       "      <td>13.0</td>\n",
       "      <td>1.0</td>\n",
       "    </tr>\n",
       "    <tr>\n",
       "      <th>2</th>\n",
       "      <td>NIFTY IT</td>\n",
       "      <td>6.0</td>\n",
       "      <td>3.0</td>\n",
       "      <td>1.0</td>\n",
       "    </tr>\n",
       "    <tr>\n",
       "      <th>3</th>\n",
       "      <td>NIFTY BANK</td>\n",
       "      <td>8.0</td>\n",
       "      <td>4.0</td>\n",
       "      <td>0.0</td>\n",
       "    </tr>\n",
       "    <tr>\n",
       "      <th>4</th>\n",
       "      <td>NIFTY MIDCAP 50</td>\n",
       "      <td>31.0</td>\n",
       "      <td>17.0</td>\n",
       "      <td>2.0</td>\n",
       "    </tr>\n",
       "    <tr>\n",
       "      <th>...</th>\n",
       "      <td>...</td>\n",
       "      <td>...</td>\n",
       "      <td>...</td>\n",
       "      <td>...</td>\n",
       "    </tr>\n",
       "    <tr>\n",
       "      <th>72</th>\n",
       "      <td>NIFTY MICROCAP250</td>\n",
       "      <td>148.0</td>\n",
       "      <td>93.0</td>\n",
       "      <td>9.0</td>\n",
       "    </tr>\n",
       "    <tr>\n",
       "      <th>73</th>\n",
       "      <td>NIFTY IND DIGITAL</td>\n",
       "      <td>16.0</td>\n",
       "      <td>13.0</td>\n",
       "      <td>1.0</td>\n",
       "    </tr>\n",
       "    <tr>\n",
       "      <th>74</th>\n",
       "      <td>NIFTY100 ESG</td>\n",
       "      <td>63.0</td>\n",
       "      <td>24.0</td>\n",
       "      <td>2.0</td>\n",
       "    </tr>\n",
       "    <tr>\n",
       "      <th>75</th>\n",
       "      <td>NIFTY M150 QLTY50</td>\n",
       "      <td>28.0</td>\n",
       "      <td>22.0</td>\n",
       "      <td>0.0</td>\n",
       "    </tr>\n",
       "    <tr>\n",
       "      <th>76</th>\n",
       "      <td>CNX NIFTY Pre Open</td>\n",
       "      <td>42.0</td>\n",
       "      <td>4.0</td>\n",
       "      <td>4.0</td>\n",
       "    </tr>\n",
       "  </tbody>\n",
       "</table>\n",
       "<p>77 rows × 4 columns</p>\n",
       "</div>"
      ],
      "text/plain": [
       "                indice  advances  declines  unchanged\n",
       "0             NIFTY 50      33.0      16.0        1.0\n",
       "1        NIFTY NEXT 50      36.0      13.0        1.0\n",
       "2             NIFTY IT       6.0       3.0        1.0\n",
       "3           NIFTY BANK       8.0       4.0        0.0\n",
       "4      NIFTY MIDCAP 50      31.0      17.0        2.0\n",
       "..                 ...       ...       ...        ...\n",
       "72   NIFTY MICROCAP250     148.0      93.0        9.0\n",
       "73   NIFTY IND DIGITAL      16.0      13.0        1.0\n",
       "74        NIFTY100 ESG      63.0      24.0        2.0\n",
       "75   NIFTY M150 QLTY50      28.0      22.0        0.0\n",
       "76  CNX NIFTY Pre Open      42.0       4.0        4.0\n",
       "\n",
       "[77 rows x 4 columns]"
      ]
     },
     "execution_count": 10,
     "metadata": {},
     "output_type": "execute_result"
    }
   ],
   "source": [
    "pd.DataFrame(nse.get_advances_declines())"
   ]
  },
  {
   "cell_type": "code",
   "execution_count": 11,
   "id": "6d30bbd9",
   "metadata": {},
   "outputs": [],
   "source": [
    "top_gainers = pd.DataFrame(nse.get_top_gainers())"
   ]
  },
  {
   "cell_type": "code",
   "execution_count": 12,
   "id": "c2497874",
   "metadata": {},
   "outputs": [
    {
     "data": {
      "text/plain": [
       "<AxesSubplot:>"
      ]
     },
     "execution_count": 12,
     "metadata": {},
     "output_type": "execute_result"
    },
    {
     "data": {
      "image/png": "[encoded data removed]",
      "text/plain": [
       "<Figure size 640x480 with 1 Axes>"
      ]
     },
     "metadata": {},
     "output_type": "display_data"
    }
   ],
   "source": [
    "top_gainers[\"openPrice\"].plot()"
   ]
  },
  {
   "cell_type": "code",
   "execution_count": 13,
   "id": "1b194f01",
   "metadata": {},
   "outputs": [
    {
     "name": "stdout",
     "output_type": "stream",
     "text": [
      "Requirement already satisfied: matplotlib in d:\\prashant\\env\\lib\\site-packages (3.5.3)\n",
      "Requirement already satisfied: cycler>=0.10 in d:\\prashant\\env\\lib\\site-packages (from matplotlib) (0.11.0)\n",
      "Requirement already satisfied: kiwisolver>=1.0.1 in d:\\prashant\\env\\lib\\site-packages (from matplotlib) (1.4.4)\n",
      "Requirement already satisfied: pyparsing>=2.2.1 in d:\\prashant\\env\\lib\\site-packages (from matplotlib) (3.0.9)\n",
      "Requirement already satisfied: packaging>=20.0 in d:\\prashant\\env\\lib\\site-packages (from matplotlib) (23.0)\n",
      "Requirement already satisfied: numpy>=1.17 in d:\\prashant\\env\\lib\\site-packages (from matplotlib) (1.21.6)\n",
      "Requirement already satisfied: fonttools>=4.22.0 in d:\\prashant\\env\\lib\\site-packages (from matplotlib) (4.38.0)\n",
      "Requirement already satisfied: python-dateutil>=2.7 in d:\\prashant\\env\\lib\\site-packages (from matplotlib) (2.8.2)\n",
      "Requirement already satisfied: pillow>=6.2.0 in d:\\prashant\\env\\lib\\site-packages (from matplotlib) (9.4.0)\n",
      "Requirement already satisfied: typing-extensions in d:\\prashant\\env\\lib\\site-packages (from kiwisolver>=1.0.1->matplotlib) (4.5.0)\n",
      "Requirement already satisfied: six>=1.5 in d:\\prashant\\env\\lib\\site-packages (from python-dateutil>=2.7->matplotlib) (1.16.0)\n"
     ]
    }
   ],
   "source": [
    "!pip install matplotlib"
   ]
  },
  {
   "cell_type": "code",
   "execution_count": 14,
   "id": "483eedf0",
   "metadata": {},
   "outputs": [
    {
     "name": "stdout",
     "output_type": "stream",
     "text": [
      "Requirement already satisfied: requests in d:\\prashant\\env\\lib\\site-packages (2.28.2)\n",
      "Requirement already satisfied: charset-normalizer<4,>=2 in d:\\prashant\\env\\lib\\site-packages (from requests) (3.1.0)\n",
      "Requirement already satisfied: certifi>=2017.4.17 in d:\\prashant\\env\\lib\\site-packages (from requests) (2022.12.7)\n",
      "Requirement already satisfied: urllib3<1.27,>=1.21.1 in d:\\prashant\\env\\lib\\site-packages (from requests) (1.26.15)\n",
      "Requirement already satisfied: idna<4,>=2.5 in d:\\prashant\\env\\lib\\site-packages (from requests) (3.4)\n"
     ]
    }
   ],
   "source": [
    "!pip install requests"
   ]
  },
  {
   "cell_type": "code",
   "execution_count": 15,
   "id": "10f0650b",
   "metadata": {},
   "outputs": [
    {
     "data": {
      "text/plain": [
       "{'customer_satellites': [{'id': 'DLR-TUBSAT',\n",
       "   'country': 'Germany',\n",
       "   'launch_date': '26-05-1999',\n",
       "   'mass': '45',\n",
       "   'launcher': 'PSLV-C2'},\n",
       "  {'id': 'KITSAT-3',\n",
       "   'country': 'REPUBLIC OF KOREA',\n",
       "   'launch_date': '26-05-1999',\n",
       "   'mass': '110',\n",
       "   'launcher': 'PSLV-C2'},\n",
       "  {'id': 'BIRD',\n",
       "   'country': 'GERMANY',\n",
       "   'launch_date': '22-10-2001',\n",
       "   'mass': '92',\n",
       "   'launcher': 'PSLV-C3'},\n",
       "  {'id': 'PROBA',\n",
       "   'country': 'BELGIUM',\n",
       "   'launch_date': '22-10-2001',\n",
       "   'mass': '94',\n",
       "   'launcher': 'PSLV-C3'},\n",
       "  {'id': 'LAPAN-TUBSAT',\n",
       "   'country': 'INDONESIA',\n",
       "   'launch_date': '10-07-2007',\n",
       "   'mass': '56',\n",
       "   'launcher': 'PSLV-C7'},\n",
       "  {'id': 'PEHUENSAT-1',\n",
       "   'country': 'ARGENTINA',\n",
       "   'launch_date': '10-07-2007',\n",
       "   'mass': '6',\n",
       "   'launcher': 'PSLV-C7'},\n",
       "  {'id': 'AGILE',\n",
       "   'country': 'ITALY',\n",
       "   'launch_date': '23-04-2007',\n",
       "   'mass': '350',\n",
       "   'launcher': 'PSLV-C8'},\n",
       "  {'id': 'TESCAR',\n",
       "   'country': 'ISRAEL',\n",
       "   'launch_date': '21-01-2008',\n",
       "   'mass': '300',\n",
       "   'launcher': 'PSLV-C10'},\n",
       "  {'id': 'CAN-X2',\n",
       "   'country': 'CANADA',\n",
       "   'launch_date': '28-04-2008',\n",
       "   'mass': '7',\n",
       "   'launcher': 'PSLV-C9'},\n",
       "  {'id': 'CUTE-1.7',\n",
       "   'country': 'JAPAN',\n",
       "   'launch_date': '28-04-2008',\n",
       "   'mass': '5',\n",
       "   'launcher': 'PSLV-C9'},\n",
       "  {'id': 'DELFI-C3',\n",
       "   'country': 'THE NETHERLANDS',\n",
       "   'launch_date': '28-04-2008',\n",
       "   'mass': '6.5',\n",
       "   'launcher': 'PSLV-C9'},\n",
       "  {'id': 'AAUSAT-II',\n",
       "   'country': 'DENMARK',\n",
       "   'launch_date': '28-04-2008',\n",
       "   'mass': '3',\n",
       "   'launcher': 'PSLV-C9'},\n",
       "  {'id': 'COMPASS-I',\n",
       "   'country': 'GERMANY',\n",
       "   'launch_date': '28-04-2008',\n",
       "   'mass': '3',\n",
       "   'launcher': 'PSLV-C9'},\n",
       "  {'id': 'SEEDS',\n",
       "   'country': 'JAPAN',\n",
       "   'launch_date': '28-04-2008',\n",
       "   'mass': '3',\n",
       "   'launcher': 'PSLV-C9'},\n",
       "  {'id': 'NLSS',\n",
       "   'country': 'CANADA',\n",
       "   'launch_date': '28-04-2008',\n",
       "   'mass': '16',\n",
       "   'launcher': 'PSLV-C9'},\n",
       "  {'id': 'RUBIN-8',\n",
       "   'country': 'GERMANY',\n",
       "   'launch_date': '28-04-2008',\n",
       "   'mass': '8',\n",
       "   'launcher': 'PSLV-C9'},\n",
       "  {'id': 'CUBESAT-1',\n",
       "   'country': 'GERMANY',\n",
       "   'launch_date': '23-09-2009',\n",
       "   'mass': '1',\n",
       "   'launcher': 'PSLV-C14'},\n",
       "  {'id': 'CUBESAT-2',\n",
       "   'country': 'GERMANY',\n",
       "   'launch_date': '23-09-2009',\n",
       "   'mass': '1',\n",
       "   'launcher': 'PSLV-C14'},\n",
       "  {'id': 'CUBESAT-3',\n",
       "   'country': 'TURKEY',\n",
       "   'launch_date': '23-09-2009',\n",
       "   'mass': '1',\n",
       "   'launcher': 'PSLV-C14'},\n",
       "  {'id': 'CUBESAT-4',\n",
       "   'country': 'SWITZERLAND',\n",
       "   'launch_date': '23-09-2009',\n",
       "   'mass': '1',\n",
       "   'launcher': 'PSLV-C14'},\n",
       "  {'id': 'RUBIN-9.1',\n",
       "   'country': 'GERMANY',\n",
       "   'launch_date': '23-09-2009',\n",
       "   'mass': '1',\n",
       "   'launcher': 'PSLV-C14'},\n",
       "  {'id': 'RUBIN-9.2',\n",
       "   'country': 'GERMANY',\n",
       "   'launch_date': '23-09-2009',\n",
       "   'mass': '1',\n",
       "   'launcher': 'PSLV-C14'},\n",
       "  {'id': 'ALSAT-2A',\n",
       "   'country': 'ALGERIA',\n",
       "   'launch_date': '12-07-2010',\n",
       "   'mass': '116',\n",
       "   'launcher': 'PSLV-C15'},\n",
       "  {'id': 'NLS6.1 AISSAT-1',\n",
       "   'country': 'NORWAY',\n",
       "   'launch_date': '12-07-2010',\n",
       "   'mass': '6.5',\n",
       "   'launcher': 'PSLV-C15'},\n",
       "  {'id': 'NLS6.2 TISAT-1',\n",
       "   'country': 'SWITZERLAND',\n",
       "   'launch_date': '12-07-2010',\n",
       "   'mass': '1',\n",
       "   'launcher': 'PSLV-C15'},\n",
       "  {'id': 'X-SAT',\n",
       "   'country': 'SINGAPORE',\n",
       "   'launch_date': '20-04-2011',\n",
       "   'mass': '106',\n",
       "   'launcher': 'PSLV-C16'},\n",
       "  {'id': 'VesselSat-1',\n",
       "   'country': 'LUXEMBOURG',\n",
       "   'launch_date': '12-10-2011',\n",
       "   'mass': '28.7',\n",
       "   'launcher': 'PSLV-C18'},\n",
       "  {'id': 'SPOT-6',\n",
       "   'country': 'FRANCE',\n",
       "   'launch_date': '09-09-2012',\n",
       "   'mass': '712',\n",
       "   'launcher': 'PSLV-C21'},\n",
       "  {'id': 'PROITERES',\n",
       "   'country': 'JAPAN',\n",
       "   'launch_date': '09-09-2012',\n",
       "   'mass': '15',\n",
       "   'launcher': 'PSLV-C21'},\n",
       "  {'id': 'SAPPHIRE',\n",
       "   'country': 'CANADA',\n",
       "   'launch_date': '25-02-2013',\n",
       "   'mass': '148',\n",
       "   'launcher': 'PSLV-C20'},\n",
       "  {'id': 'SPOT-7',\n",
       "   'country': 'FRANCE',\n",
       "   'launch_date': '30-06-2014',\n",
       "   'mass': '714',\n",
       "   'launcher': 'PSLV-C23'},\n",
       "  {'id': 'AISAT',\n",
       "   'country': 'GERMANY',\n",
       "   'launch_date': '30-06-2014',\n",
       "   'mass': '14',\n",
       "   'launcher': 'PSLV-C23'},\n",
       "  {'id': 'NLS7.1(CAN-X4)',\n",
       "   'country': 'CANADA',\n",
       "   'launch_date': '30-06-2014',\n",
       "   'mass': '15',\n",
       "   'launcher': 'PSLV-C23'},\n",
       "  {'id': 'NLS7.2(CAN-X5)',\n",
       "   'country': 'CANADA',\n",
       "   'launch_date': '30-06-2014',\n",
       "   'mass': '15',\n",
       "   'launcher': 'PSLV-C23'},\n",
       "  {'id': 'VELOX-1',\n",
       "   'country': 'SINGAPORE',\n",
       "   'launch_date': '30-06-2014',\n",
       "   'mass': '7',\n",
       "   'launcher': 'PSLV-C23'},\n",
       "  {'id': 'AMAZONIA-1',\n",
       "   'country': 'BRAZIL',\n",
       "   'launch_date': '28-02-2021',\n",
       "   'mass': '637',\n",
       "   'launcher': 'PSLV-C51'},\n",
       "  {'id': 'DMC3-1',\n",
       "   'country': 'UK',\n",
       "   'launch_date': '10-07-2015',\n",
       "   'mass': '447',\n",
       "   'launcher': 'PSLV-C28'},\n",
       "  {'id': 'DMC3-2',\n",
       "   'country': 'UK',\n",
       "   'launch_date': '10-07-2015',\n",
       "   'mass': '447',\n",
       "   'launcher': 'PSLV-C28'},\n",
       "  {'id': 'DMC3-3',\n",
       "   'country': 'UK',\n",
       "   'launch_date': '10-07-2015',\n",
       "   'mass': '447',\n",
       "   'launcher': 'PSLV-C28'},\n",
       "  {'id': 'CBNT-1',\n",
       "   'country': 'UK',\n",
       "   'launch_date': '10-07-2015',\n",
       "   'mass': '91',\n",
       "   'launcher': 'PSLV-C28'},\n",
       "  {'id': 'De-OrbitSail',\n",
       "   'country': 'UK',\n",
       "   'launch_date': '10-07-2015',\n",
       "   'mass': '7',\n",
       "   'launcher': 'PSLV-C28'},\n",
       "  {'id': 'LAPAN-A2',\n",
       "   'country': 'INDONESIA',\n",
       "   'launch_date': '28-09-2015',\n",
       "   'mass': '76',\n",
       "   'launcher': 'PSLV-C30'},\n",
       "  {'id': 'NLS-14(Ev9)',\n",
       "   'country': 'CANADA',\n",
       "   'launch_date': '28-09-2015',\n",
       "   'mass': '14',\n",
       "   'launcher': 'PSLV-C30'},\n",
       "  {'id': 'LEMUR-1',\n",
       "   'country': 'USA',\n",
       "   'launch_date': '28-09-2015',\n",
       "   'mass': '7',\n",
       "   'launcher': 'PSLV-C30'},\n",
       "  {'id': 'LEMUR-2',\n",
       "   'country': 'USA',\n",
       "   'launch_date': '28-09-2015',\n",
       "   'mass': '7',\n",
       "   'launcher': 'PSLV-C30'},\n",
       "  {'id': 'LEMUR-3',\n",
       "   'country': 'USA',\n",
       "   'launch_date': '28-09-2015',\n",
       "   'mass': '7',\n",
       "   'launcher': 'PSLV-C30'},\n",
       "  {'id': 'LEMUR-4',\n",
       "   'country': 'USA',\n",
       "   'launch_date': '28-09-2015',\n",
       "   'mass': '7',\n",
       "   'launcher': 'PSLV-C30'},\n",
       "  {'id': 'TeLEOS',\n",
       "   'country': 'SINGAPORE',\n",
       "   'launch_date': '16-12-2015',\n",
       "   'mass': '400',\n",
       "   'launcher': 'PSLV-C29'},\n",
       "  {'id': 'Kent Ridge-I',\n",
       "   'country': 'SINGAPORE',\n",
       "   'launch_date': '16-12-2015',\n",
       "   'mass': '78',\n",
       "   'launcher': 'PSLV-C29'},\n",
       "  {'id': 'VELOX-C1',\n",
       "   'country': 'SINGAPORE',\n",
       "   'launch_date': '16-12-2015',\n",
       "   'mass': '123',\n",
       "   'launcher': 'PSLV-C29'},\n",
       "  {'id': 'VELOX-II',\n",
       "   'country': 'SINGAPORE',\n",
       "   'launch_date': '16-12-2015',\n",
       "   'mass': '13',\n",
       "   'launcher': 'PSLV-C29'},\n",
       "  {'id': 'Galassia',\n",
       "   'country': 'SINGAPORE',\n",
       "   'launch_date': '16-12-2015',\n",
       "   'mass': '3.4',\n",
       "   'launcher': 'PSLV-C29'},\n",
       "  {'id': 'Athenoxat-I',\n",
       "   'country': 'SINGAPORE',\n",
       "   'launch_date': '16-12-2015',\n",
       "   'mass': '',\n",
       "   'launcher': 'PSLV-C29'}]}"
      ]
     },
     "execution_count": 15,
     "metadata": {},
     "output_type": "execute_result"
    }
   ],
   "source": [
    "r = requests.get(\"https://isro.vercel.app/api/customer_satellites\")\n",
    "r.json()"
   ]
  },
  {
   "cell_type": "code",
   "execution_count": 16,
   "id": "1007c8ac",
   "metadata": {},
   "outputs": [],
   "source": [
    "df=pd.Series(r.json())\n"
   ]
  },
  {
   "cell_type": "code",
   "execution_count": 17,
   "id": "e0665692",
   "metadata": {},
   "outputs": [
    {
     "data": {
      "text/html": [
       "<div>\n",
       "<style scoped>\n",
       "    .dataframe tbody tr th:only-of-type {\n",
       "        vertical-align: middle;\n",
       "    }\n",
       "\n",
       "    .dataframe tbody tr th {\n",
       "        vertical-align: top;\n",
       "    }\n",
       "\n",
       "    .dataframe thead th {\n",
       "        text-align: right;\n",
       "    }\n",
       "</style>\n",
       "<table border=\"1\" class=\"dataframe\">\n",
       "  <thead>\n",
       "    <tr style=\"text-align: right;\">\n",
       "      <th></th>\n",
       "      <th>id</th>\n",
       "      <th>country</th>\n",
       "      <th>launch_date</th>\n",
       "      <th>mass</th>\n",
       "      <th>launcher</th>\n",
       "    </tr>\n",
       "  </thead>\n",
       "  <tbody>\n",
       "    <tr>\n",
       "      <th>0</th>\n",
       "      <td>DLR-TUBSAT</td>\n",
       "      <td>Germany</td>\n",
       "      <td>26-05-1999</td>\n",
       "      <td>45</td>\n",
       "      <td>PSLV-C2</td>\n",
       "    </tr>\n",
       "    <tr>\n",
       "      <th>1</th>\n",
       "      <td>KITSAT-3</td>\n",
       "      <td>REPUBLIC OF KOREA</td>\n",
       "      <td>26-05-1999</td>\n",
       "      <td>110</td>\n",
       "      <td>PSLV-C2</td>\n",
       "    </tr>\n",
       "    <tr>\n",
       "      <th>2</th>\n",
       "      <td>BIRD</td>\n",
       "      <td>GERMANY</td>\n",
       "      <td>22-10-2001</td>\n",
       "      <td>92</td>\n",
       "      <td>PSLV-C3</td>\n",
       "    </tr>\n",
       "    <tr>\n",
       "      <th>3</th>\n",
       "      <td>PROBA</td>\n",
       "      <td>BELGIUM</td>\n",
       "      <td>22-10-2001</td>\n",
       "      <td>94</td>\n",
       "      <td>PSLV-C3</td>\n",
       "    </tr>\n",
       "    <tr>\n",
       "      <th>4</th>\n",
       "      <td>LAPAN-TUBSAT</td>\n",
       "      <td>INDONESIA</td>\n",
       "      <td>10-07-2007</td>\n",
       "      <td>56</td>\n",
       "      <td>PSLV-C7</td>\n",
       "    </tr>\n",
       "  </tbody>\n",
       "</table>\n",
       "</div>"
      ],
      "text/plain": [
       "             id            country launch_date mass launcher\n",
       "0    DLR-TUBSAT            Germany  26-05-1999   45  PSLV-C2\n",
       "1      KITSAT-3  REPUBLIC OF KOREA  26-05-1999  110  PSLV-C2\n",
       "2          BIRD            GERMANY  22-10-2001   92  PSLV-C3\n",
       "3         PROBA            BELGIUM  22-10-2001   94  PSLV-C3\n",
       "4  LAPAN-TUBSAT          INDONESIA  10-07-2007   56  PSLV-C7"
      ]
     },
     "execution_count": 17,
     "metadata": {},
     "output_type": "execute_result"
    }
   ],
   "source": [
    "df=pd.DataFrame(df[\"customer_satellites\"])\n",
    "df.head()"
   ]
  },
  {
   "cell_type": "code",
   "execution_count": 18,
   "id": "52ef2443",
   "metadata": {},
   "outputs": [
    {
     "data": {
      "text/plain": [
       "<AxesSubplot:ylabel='country'>"
      ]
     },
     "execution_count": 18,
     "metadata": {},
     "output_type": "execute_result"
    },
    {
     "data": {
      "image/png": "[encoded data removed]",
      "text/plain": [
       "<Figure size 640x480 with 1 Axes>"
      ]
     },
     "metadata": {},
     "output_type": "display_data"
    }
   ],
   "source": [
    "c=df.groupby(\"country\").count().plot(kind='barh')\n",
    "c"
   ]
  },
  {
   "cell_type": "code",
   "execution_count": 19,
   "id": "ae39be51",
   "metadata": {},
   "outputs": [],
   "source": [
    "df = pd.Series(requests.get(\"https://isro.vercel.app/api/centres\").json())"
   ]
  },
  {
   "cell_type": "code",
   "execution_count": 20,
   "id": "e50db4df",
   "metadata": {},
   "outputs": [],
   "source": [
    "df=pd.DataFrame(df['centres'])\n"
   ]
  },
  {
   "cell_type": "code",
   "execution_count": null,
   "id": "f747d472",
   "metadata": {},
   "outputs": [],
   "source": []
  },
  {
   "cell_type": "code",
   "execution_count": 21,
   "id": "26bcb0ca",
   "metadata": {},
   "outputs": [
    {
     "data": {
      "text/html": [
       "<div>\n",
       "<style scoped>\n",
       "    .dataframe tbody tr th:only-of-type {\n",
       "        vertical-align: middle;\n",
       "    }\n",
       "\n",
       "    .dataframe tbody tr th {\n",
       "        vertical-align: top;\n",
       "    }\n",
       "\n",
       "    .dataframe thead th {\n",
       "        text-align: right;\n",
       "    }\n",
       "</style>\n",
       "<table border=\"1\" class=\"dataframe\">\n",
       "  <thead>\n",
       "    <tr style=\"text-align: right;\">\n",
       "      <th></th>\n",
       "      <th>id</th>\n",
       "      <th>name</th>\n",
       "      <th>Place</th>\n",
       "      <th>State</th>\n",
       "    </tr>\n",
       "  </thead>\n",
       "  <tbody>\n",
       "    <tr>\n",
       "      <th>0</th>\n",
       "      <td>1</td>\n",
       "      <td>Semi-Conductor Laboratory (SCL)</td>\n",
       "      <td>Chandigarh</td>\n",
       "      <td>Punjab/Haryana</td>\n",
       "    </tr>\n",
       "    <tr>\n",
       "      <th>1</th>\n",
       "      <td>2</td>\n",
       "      <td>Western RRSC</td>\n",
       "      <td>Jodhpur</td>\n",
       "      <td>Rajasthan</td>\n",
       "    </tr>\n",
       "    <tr>\n",
       "      <th>2</th>\n",
       "      <td>3</td>\n",
       "      <td>Solar Observatory</td>\n",
       "      <td>Udaipur</td>\n",
       "      <td>Rajasthan</td>\n",
       "    </tr>\n",
       "    <tr>\n",
       "      <th>3</th>\n",
       "      <td>4</td>\n",
       "      <td>Space Applications Centre (SAC)</td>\n",
       "      <td>Ahmedabad</td>\n",
       "      <td>Gujarat</td>\n",
       "    </tr>\n",
       "    <tr>\n",
       "      <th>4</th>\n",
       "      <td>5</td>\n",
       "      <td>Physical Research Laboratory (PRL)</td>\n",
       "      <td>Ahmedabad</td>\n",
       "      <td>Gujarat</td>\n",
       "    </tr>\n",
       "  </tbody>\n",
       "</table>\n",
       "</div>"
      ],
      "text/plain": [
       "   id                                name       Place           State\n",
       "0   1     Semi-Conductor Laboratory (SCL)  Chandigarh  Punjab/Haryana\n",
       "1   2                        Western RRSC     Jodhpur       Rajasthan\n",
       "2   3                   Solar Observatory     Udaipur       Rajasthan\n",
       "3   4     Space Applications Centre (SAC)   Ahmedabad         Gujarat\n",
       "4   5  Physical Research Laboratory (PRL)   Ahmedabad         Gujarat"
      ]
     },
     "execution_count": 21,
     "metadata": {},
     "output_type": "execute_result"
    }
   ],
   "source": [
    "df.head()"
   ]
  },
  {
   "cell_type": "code",
   "execution_count": 22,
   "id": "46e23a9f",
   "metadata": {},
   "outputs": [],
   "source": [
    "df.set_index('id',inplace=True)"
   ]
  },
  {
   "cell_type": "code",
   "execution_count": 23,
   "id": "c2d62785",
   "metadata": {},
   "outputs": [
    {
     "data": {
      "text/html": [
       "<div>\n",
       "<style scoped>\n",
       "    .dataframe tbody tr th:only-of-type {\n",
       "        vertical-align: middle;\n",
       "    }\n",
       "\n",
       "    .dataframe tbody tr th {\n",
       "        vertical-align: top;\n",
       "    }\n",
       "\n",
       "    .dataframe thead th {\n",
       "        text-align: right;\n",
       "    }\n",
       "</style>\n",
       "<table border=\"1\" class=\"dataframe\">\n",
       "  <thead>\n",
       "    <tr style=\"text-align: right;\">\n",
       "      <th></th>\n",
       "      <th>name</th>\n",
       "      <th>Place</th>\n",
       "      <th>State</th>\n",
       "    </tr>\n",
       "    <tr>\n",
       "      <th>id</th>\n",
       "      <th></th>\n",
       "      <th></th>\n",
       "      <th></th>\n",
       "    </tr>\n",
       "  </thead>\n",
       "  <tbody>\n",
       "    <tr>\n",
       "      <th>1</th>\n",
       "      <td>Semi-Conductor Laboratory (SCL)</td>\n",
       "      <td>Chandigarh</td>\n",
       "      <td>Punjab/Haryana</td>\n",
       "    </tr>\n",
       "    <tr>\n",
       "      <th>2</th>\n",
       "      <td>Western RRSC</td>\n",
       "      <td>Jodhpur</td>\n",
       "      <td>Rajasthan</td>\n",
       "    </tr>\n",
       "    <tr>\n",
       "      <th>3</th>\n",
       "      <td>Solar Observatory</td>\n",
       "      <td>Udaipur</td>\n",
       "      <td>Rajasthan</td>\n",
       "    </tr>\n",
       "    <tr>\n",
       "      <th>4</th>\n",
       "      <td>Space Applications Centre (SAC)</td>\n",
       "      <td>Ahmedabad</td>\n",
       "      <td>Gujarat</td>\n",
       "    </tr>\n",
       "    <tr>\n",
       "      <th>5</th>\n",
       "      <td>Physical Research Laboratory (PRL)</td>\n",
       "      <td>Ahmedabad</td>\n",
       "      <td>Gujarat</td>\n",
       "    </tr>\n",
       "  </tbody>\n",
       "</table>\n",
       "</div>"
      ],
      "text/plain": [
       "                                  name       Place           State\n",
       "id                                                                \n",
       "1      Semi-Conductor Laboratory (SCL)  Chandigarh  Punjab/Haryana\n",
       "2                         Western RRSC     Jodhpur       Rajasthan\n",
       "3                    Solar Observatory     Udaipur       Rajasthan\n",
       "4      Space Applications Centre (SAC)   Ahmedabad         Gujarat\n",
       "5   Physical Research Laboratory (PRL)   Ahmedabad         Gujarat"
      ]
     },
     "execution_count": 23,
     "metadata": {},
     "output_type": "execute_result"
    }
   ],
   "source": [
    "df.head()"
   ]
  },
  {
   "cell_type": "code",
   "execution_count": 24,
   "id": "b6393733",
   "metadata": {},
   "outputs": [
    {
     "data": {
      "text/plain": [
       "<AxesSubplot:ylabel='State'>"
      ]
     },
     "execution_count": 24,
     "metadata": {},
     "output_type": "execute_result"
    },
    {
     "data": {
      "image/png": "[encoded data removed]",
      "text/plain": [
       "<Figure size 640x480 with 1 Axes>"
      ]
     },
     "metadata": {},
     "output_type": "display_data"
    }
   ],
   "source": [
    "df.groupby(\"State\").count().plot(kind=\"barh\")\n",
    "# plot(x=\"State\",y=\"Place\",kind = \"bar\")"
   ]
  },
  {
   "cell_type": "code",
   "execution_count": 25,
   "id": "7280aa58",
   "metadata": {},
   "outputs": [
    {
     "name": "stdout",
     "output_type": "stream",
     "text": [
      "1\n",
      "500\n",
      "3\n",
      "4\n"
     ]
    }
   ],
   "source": [
    "d = {\n",
    "    'a':1,'b':500,'c':3,'d':4\n",
    "}\n",
    "for values in d.values():\n",
    "    print(values)"
   ]
  },
  {
   "cell_type": "code",
   "execution_count": 26,
   "id": "3caa94ef",
   "metadata": {},
   "outputs": [
    {
     "name": "stdout",
     "output_type": "stream",
     "text": [
      "3\n",
      "5\n",
      "5\n"
     ]
    }
   ],
   "source": [
    "class b:\n",
    "     \n",
    "    def __init__(self,var):\n",
    "        self.a = var\n",
    "        print(self.a)\n",
    "        \n",
    "    def fun(self,data):\n",
    "        self.a = data\n",
    "        print(self.a)\n",
    "    def fun2(self):\n",
    "        print(self.a)\n",
    "\n",
    "a = b(3)\n",
    "a.fun(5)\n",
    "a.fun2()\n"
   ]
  },
  {
   "cell_type": "code",
   "execution_count": 78,
   "id": "c508199c",
   "metadata": {},
   "outputs": [
    {
     "data": {
      "text/html": [
       "<div>\n",
       "<style scoped>\n",
       "    .dataframe tbody tr th:only-of-type {\n",
       "        vertical-align: middle;\n",
       "    }\n",
       "\n",
       "    .dataframe tbody tr th {\n",
       "        vertical-align: top;\n",
       "    }\n",
       "\n",
       "    .dataframe thead th {\n",
       "        text-align: right;\n",
       "    }\n",
       "</style>\n",
       "<table border=\"1\" class=\"dataframe\">\n",
       "  <thead>\n",
       "    <tr style=\"text-align: right;\">\n",
       "      <th></th>\n",
       "      <th>r</th>\n",
       "      <th>w</th>\n",
       "      <th>o</th>\n",
       "      <th>inning</th>\n",
       "    </tr>\n",
       "  </thead>\n",
       "  <tbody>\n",
       "    <tr>\n",
       "      <th>0</th>\n",
       "      <td>228</td>\n",
       "      <td>7</td>\n",
       "      <td>42.5</td>\n",
       "      <td>Australia Inning 1</td>\n",
       "    </tr>\n",
       "  </tbody>\n",
       "</table>\n",
       "</div>"
      ],
      "text/plain": [
       "     r  w     o              inning\n",
       "0  228  7  42.5  Australia Inning 1"
      ]
     },
     "execution_count": 78,
     "metadata": {},
     "output_type": "execute_result"
    }
   ],
   "source": [
    "r = requests.get(\"https://api.cricapi.com/v1/currentMatches?apikey=00516f96-3882-46bf-8748-9d536a779e1d&offset=0\")\n",
    "# 00516f96-3882-46bf-8748-9d536a779e1d\n",
    "live=r.json()['data'][4]['score']\n",
    "pd.DataFrame(live)"
   ]
  },
  {
   "cell_type": "code",
   "execution_count": 79,
   "id": "4f805f29",
   "metadata": {},
   "outputs": [],
   "source": [
    "import time\n",
    "    "
   ]
  },
  {
   "cell_type": "code",
   "execution_count": 86,
   "id": "b96f6e9b",
   "metadata": {},
   "outputs": [
    {
     "name": "stdout",
     "output_type": "stream",
     "text": [
      "     r  w     o              inning\n",
      "0  255  9  47.1  Australia Inning 1\n",
      "     r  w     o              inning\n",
      "0  255  9  47.1  Australia Inning 1\n",
      "     r  w     o              inning\n",
      "0  255  9  47.1  Australia Inning 1\n",
      "     r  w     o              inning\n",
      "0  255  9  47.1  Australia Inning 1\n",
      "     r  w     o              inning\n",
      "0  255  9  47.1  Australia Inning 1\n"
     ]
    }
   ],
   "source": [
    "# live score every at 5 seconds :) \n",
    "\n",
    "i=1\n",
    "while i<=5:\n",
    "    time.sleep(5)\n",
    "    r = requests.get(\"https://api.cricapi.com/v1/currentMatches?apikey=00516f96-3882-46bf-8748-9d536a779e1d&offset=0\")\n",
    "    live=r.json()['data'][4]['score']\n",
    "    df=pd.DataFrame(live)\n",
    "    print(df)\n",
    "    i+=1"
   ]
  },
  {
   "cell_type": "code",
   "execution_count": null,
   "id": "f31d5705",
   "metadata": {},
   "outputs": [],
   "source": []
  }
 ],
 "metadata": {
  "kernelspec": {
   "display_name": "Python 3 (ipykernel)",
   "language": "python",
   "name": "python3"
  },
  "language_info": {
   "codemirror_mode": {
    "name": "ipython",
    "version": 3
   },
   "file_extension": ".py",
   "mimetype": "text/x-python",
   "name": "python",
   "nbconvert_exporter": "python",
   "pygments_lexer": "ipython3",
   "version": "3.7.0"
  }
 },
 "nbformat": 4,
 "nbformat_minor": 5
}
